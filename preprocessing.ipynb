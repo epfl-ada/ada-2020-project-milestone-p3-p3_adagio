{
 "cells": [
  {
   "cell_type": "code",
   "execution_count": 29,
   "metadata": {},
   "outputs": [],
   "source": [
    "import pandas as pd\n",
    "import matplotlib.pyplot as plt\n",
    "import seaborn as sns\n",
    "import numpy as np"
   ]
  },
  {
   "cell_type": "code",
   "execution_count": 30,
   "metadata": {},
   "outputs": [
    {
     "data": {
      "text/html": [
       "<div>\n",
       "<style scoped>\n",
       "    .dataframe tbody tr th:only-of-type {\n",
       "        vertical-align: middle;\n",
       "    }\n",
       "\n",
       "    .dataframe tbody tr th {\n",
       "        vertical-align: top;\n",
       "    }\n",
       "\n",
       "    .dataframe thead th {\n",
       "        text-align: right;\n",
       "    }\n",
       "</style>\n",
       "<table border=\"1\" class=\"dataframe\">\n",
       "  <thead>\n",
       "    <tr style=\"text-align: right;\">\n",
       "      <th></th>\n",
       "      <th>object_id</th>\n",
       "      <th>member_id</th>\n",
       "      <th>rating</th>\n",
       "      <th>status</th>\n",
       "      <th>type</th>\n",
       "    </tr>\n",
       "  </thead>\n",
       "  <tbody>\n",
       "    <tr>\n",
       "      <td>0</td>\n",
       "      <td>139431556</td>\n",
       "      <td>591156</td>\n",
       "      <td>5</td>\n",
       "      <td>0</td>\n",
       "      <td>1</td>\n",
       "    </tr>\n",
       "    <tr>\n",
       "      <td>1</td>\n",
       "      <td>139431556</td>\n",
       "      <td>1312460676</td>\n",
       "      <td>5</td>\n",
       "      <td>0</td>\n",
       "      <td>1</td>\n",
       "    </tr>\n",
       "    <tr>\n",
       "      <td>2</td>\n",
       "      <td>139431556</td>\n",
       "      <td>204358</td>\n",
       "      <td>5</td>\n",
       "      <td>0</td>\n",
       "      <td>1</td>\n",
       "    </tr>\n",
       "    <tr>\n",
       "      <td>3</td>\n",
       "      <td>139431556</td>\n",
       "      <td>368725</td>\n",
       "      <td>5</td>\n",
       "      <td>0</td>\n",
       "      <td>1</td>\n",
       "    </tr>\n",
       "    <tr>\n",
       "      <td>4</td>\n",
       "      <td>139431556</td>\n",
       "      <td>277629</td>\n",
       "      <td>5</td>\n",
       "      <td>0</td>\n",
       "      <td>1</td>\n",
       "    </tr>\n",
       "  </tbody>\n",
       "</table>\n",
       "</div>"
      ],
      "text/plain": [
       "   object_id   member_id  rating  status  type\n",
       "0  139431556      591156       5       0     1\n",
       "1  139431556  1312460676       5       0     1\n",
       "2  139431556      204358       5       0     1\n",
       "3  139431556      368725       5       0     1\n",
       "4  139431556      277629       5       0     1"
      ]
     },
     "execution_count": 30,
     "metadata": {},
     "output_type": "execute_result"
    }
   ],
   "source": [
    "ratings = pd.read_csv('data/rating.txt', delimiter='\\t',header=None)\n",
    "ratings = ratings.rename(columns = {0:'object_id', 1:'member_id',2:'rating',3:'status',4:'creation',5:'last_modified',6:'type',7:'vertical_id'})\n",
    "ratings = ratings[['object_id','member_id','rating','status','type']]\n",
    "ratings.head()\n",
    "\n",
    "# OBJECT_ID The object ID is the object that is being rated. The only valid objects at the present time are the content_id of the member_content table. This means that at present this table only stores the ratings on reviews and essays\n",
    "# MEMBER_ID Stores the id of the member who is rating the object\n",
    "# RATING Stores the 1-5 (1- Not helpful , 2 - Somewhat Helpful, 3 - Helpful 4 - Very Helpful 5- Most Helpful) rating of the object by member [There are some 6s, treat them as 5]\n",
    "# STATUS The display status of the rating. 1 :- means the member has chosen not to show his rating of the object and 0 meaning the member does not mind showing his name beside the rating.\n",
    "# CREATION The date on which the member first rated this object\n",
    "# LAST_MODIFIED The latest date on which the member modified his rating of the object\n",
    "# TYPE If and when we allow more than just content rating to be stored in this table, then this column would store the type of the object being rated.\n",
    "# VERTICAL_ID Vertical_id of the review."
   ]
  },
  {
   "cell_type": "code",
   "execution_count": null,
   "metadata": {},
   "outputs": [],
   "source": []
  },
  {
   "cell_type": "code",
   "execution_count": 31,
   "metadata": {},
   "outputs": [
    {
     "data": {
      "text/html": [
       "<div>\n",
       "<style scoped>\n",
       "    .dataframe tbody tr th:only-of-type {\n",
       "        vertical-align: middle;\n",
       "    }\n",
       "\n",
       "    .dataframe tbody tr th {\n",
       "        vertical-align: top;\n",
       "    }\n",
       "\n",
       "    .dataframe thead th {\n",
       "        text-align: right;\n",
       "    }\n",
       "</style>\n",
       "<table border=\"1\" class=\"dataframe\">\n",
       "  <thead>\n",
       "    <tr style=\"text-align: right;\">\n",
       "      <th></th>\n",
       "      <th>content_id</th>\n",
       "      <th>author_id</th>\n",
       "      <th>subject_id</th>\n",
       "    </tr>\n",
       "  </thead>\n",
       "  <tbody>\n",
       "    <tr>\n",
       "      <td>0</td>\n",
       "      <td>1445594</td>\n",
       "      <td>718357</td>\n",
       "      <td>1.490024e+11</td>\n",
       "    </tr>\n",
       "    <tr>\n",
       "      <td>1</td>\n",
       "      <td>1445595</td>\n",
       "      <td>220568</td>\n",
       "      <td>1.490036e+11</td>\n",
       "    </tr>\n",
       "    <tr>\n",
       "      <td>2</td>\n",
       "      <td>1445596</td>\n",
       "      <td>717325</td>\n",
       "      <td>5.303145e+09</td>\n",
       "    </tr>\n",
       "    <tr>\n",
       "      <td>3</td>\n",
       "      <td>1445597</td>\n",
       "      <td>360156</td>\n",
       "      <td>1.926209e+11</td>\n",
       "    </tr>\n",
       "    <tr>\n",
       "      <td>4</td>\n",
       "      <td>1445598</td>\n",
       "      <td>718857</td>\n",
       "      <td>1.490022e+11</td>\n",
       "    </tr>\n",
       "  </tbody>\n",
       "</table>\n",
       "</div>"
      ],
      "text/plain": [
       "   content_id  author_id    subject_id\n",
       "0     1445594     718357  1.490024e+11\n",
       "1     1445595     220568  1.490036e+11\n",
       "2     1445596     717325  5.303145e+09\n",
       "3     1445597     360156  1.926209e+11\n",
       "4     1445598     718857  1.490022e+11"
      ]
     },
     "execution_count": 31,
     "metadata": {},
     "output_type": "execute_result"
    }
   ],
   "source": [
    "mc = pd.read_csv('data/mc.txt.gz', delimiter='|',header=None)\n",
    "mc = mc.rename(columns = {0:'content_id', 1:'author_id',2:'subject_id'})\n",
    "mc.head()\n"
   ]
  },
  {
   "cell_type": "code",
   "execution_count": 32,
   "metadata": {},
   "outputs": [
    {
     "data": {
      "text/html": [
       "<div>\n",
       "<style scoped>\n",
       "    .dataframe tbody tr th:only-of-type {\n",
       "        vertical-align: middle;\n",
       "    }\n",
       "\n",
       "    .dataframe tbody tr th {\n",
       "        vertical-align: top;\n",
       "    }\n",
       "\n",
       "    .dataframe thead th {\n",
       "        text-align: right;\n",
       "    }\n",
       "</style>\n",
       "<table border=\"1\" class=\"dataframe\">\n",
       "  <thead>\n",
       "    <tr style=\"text-align: right;\">\n",
       "      <th></th>\n",
       "      <th>FromId</th>\n",
       "      <th>ToId</th>\n",
       "      <th>sign</th>\n",
       "      <th>creation</th>\n",
       "    </tr>\n",
       "  </thead>\n",
       "  <tbody>\n",
       "    <tr>\n",
       "      <td>0</td>\n",
       "      <td>3287060356</td>\n",
       "      <td>232085</td>\n",
       "      <td>-1</td>\n",
       "      <td>2001/01/10</td>\n",
       "    </tr>\n",
       "    <tr>\n",
       "      <td>1</td>\n",
       "      <td>3288305540</td>\n",
       "      <td>709420</td>\n",
       "      <td>1</td>\n",
       "      <td>2001/01/10</td>\n",
       "    </tr>\n",
       "    <tr>\n",
       "      <td>2</td>\n",
       "      <td>3290337156</td>\n",
       "      <td>204418</td>\n",
       "      <td>-1</td>\n",
       "      <td>2001/01/10</td>\n",
       "    </tr>\n",
       "    <tr>\n",
       "      <td>3</td>\n",
       "      <td>3294138244</td>\n",
       "      <td>269243</td>\n",
       "      <td>-1</td>\n",
       "      <td>2001/01/10</td>\n",
       "    </tr>\n",
       "    <tr>\n",
       "      <td>4</td>\n",
       "      <td>3294138244</td>\n",
       "      <td>170692484</td>\n",
       "      <td>-1</td>\n",
       "      <td>2001/01/10</td>\n",
       "    </tr>\n",
       "  </tbody>\n",
       "</table>\n",
       "</div>"
      ],
      "text/plain": [
       "       FromId       ToId  sign    creation\n",
       "0  3287060356     232085    -1  2001/01/10\n",
       "1  3288305540     709420     1  2001/01/10\n",
       "2  3290337156     204418    -1  2001/01/10\n",
       "3  3294138244     269243    -1  2001/01/10\n",
       "4  3294138244  170692484    -1  2001/01/10"
      ]
     },
     "execution_count": 32,
     "metadata": {},
     "output_type": "execute_result"
    }
   ],
   "source": [
    "user_ratings = pd.read_csv('data/user_rating.txt.gz', delimiter='\\t', header=None)\n",
    "user_ratings = user_ratings.rename(columns={0:'FromId',1:'ToId',2:'sign',3:'creation'})\n",
    "user_ratings.head()"
   ]
  },
  {
   "cell_type": "code",
   "execution_count": 33,
   "metadata": {},
   "outputs": [
    {
     "data": {
      "text/html": [
       "<div>\n",
       "<style scoped>\n",
       "    .dataframe tbody tr th:only-of-type {\n",
       "        vertical-align: middle;\n",
       "    }\n",
       "\n",
       "    .dataframe tbody tr th {\n",
       "        vertical-align: top;\n",
       "    }\n",
       "\n",
       "    .dataframe thead th {\n",
       "        text-align: right;\n",
       "    }\n",
       "</style>\n",
       "<table border=\"1\" class=\"dataframe\">\n",
       "  <thead>\n",
       "    <tr style=\"text-align: right;\">\n",
       "      <th></th>\n",
       "      <th>FromNodeId</th>\n",
       "      <th>ToNodeId</th>\n",
       "      <th>Sign</th>\n",
       "    </tr>\n",
       "  </thead>\n",
       "  <tbody>\n",
       "    <tr>\n",
       "      <td>0</td>\n",
       "      <td>0</td>\n",
       "      <td>1</td>\n",
       "      <td>-1</td>\n",
       "    </tr>\n",
       "    <tr>\n",
       "      <td>1</td>\n",
       "      <td>1</td>\n",
       "      <td>128552</td>\n",
       "      <td>-1</td>\n",
       "    </tr>\n",
       "    <tr>\n",
       "      <td>2</td>\n",
       "      <td>2</td>\n",
       "      <td>3</td>\n",
       "      <td>1</td>\n",
       "    </tr>\n",
       "    <tr>\n",
       "      <td>3</td>\n",
       "      <td>4</td>\n",
       "      <td>5</td>\n",
       "      <td>-1</td>\n",
       "    </tr>\n",
       "    <tr>\n",
       "      <td>4</td>\n",
       "      <td>4</td>\n",
       "      <td>155</td>\n",
       "      <td>-1</td>\n",
       "    </tr>\n",
       "  </tbody>\n",
       "</table>\n",
       "</div>"
      ],
      "text/plain": [
       "   FromNodeId  ToNodeId  Sign\n",
       "0           0         1    -1\n",
       "1           1    128552    -1\n",
       "2           2         3     1\n",
       "3           4         5    -1\n",
       "4           4       155    -1"
      ]
     },
     "execution_count": 33,
     "metadata": {},
     "output_type": "execute_result"
    }
   ],
   "source": [
    "epinions_given = pd.read_csv('data/soc-sign-epinions.txt', delimiter='\\t', header=3)\n",
    "epinions_given = epinions_given.rename(columns={'# FromNodeId':'FromNodeId'})\n",
    "epinions_given.head()"
   ]
  },
  {
   "cell_type": "code",
   "execution_count": null,
   "metadata": {},
   "outputs": [],
   "source": []
  },
  {
   "cell_type": "code",
   "execution_count": 35,
   "metadata": {},
   "outputs": [
    {
     "name": "stdout",
     "output_type": "stream",
     "text": [
      "min\tmax\tnum\n",
      "0 131827 95318\n",
      "1 131826 84601\n",
      "199781 84015157124 95318\n",
      "199781 83988156292 84601\n",
      "199775 46381502340 120492\n",
      "199775 88274210691 326983\n"
     ]
    }
   ],
   "source": [
    "# check the user Ids\n",
    "print(\"min\\tmax\\tnum\")\n",
    "print(epinions_given.FromNodeId.min(),epinions_given.FromNodeId.max(), len(epinions_given.FromNodeId.unique()))\n",
    "print(epinions_given.ToNodeId.min(), epinions_given.ToNodeId.max(),len(epinions_given.ToNodeId.unique()))\n",
    "print(user_ratings.FromId.min(),user_ratings.FromId.max(), len(user_ratings.FromId.unique()))\n",
    "print(user_ratings.ToId.min(),user_ratings.ToId.max(), len(user_ratings.ToId.unique()))\n",
    "print(ratings.member_id.min(),ratings.member_id.max(), len(ratings.member_id.unique()))\n",
    "print(mc.author_id.min(),mc.author_id.max(), len(mc.author_id.unique()))"
   ]
  },
  {
   "cell_type": "code",
   "execution_count": 43,
   "metadata": {},
   "outputs": [],
   "source": [
    "posting_freq = ratings['member_id'].value_counts().sort_index()\n",
    "status_freq = ratings[['member_id','status']].groupby('member_id').sum().squeeze()\n",
    "mean_rating = ratings[['member_id','rating']].groupby('member_id').mean().squeeze()\n",
    "articles_freq = mc['author_id'].value_counts().sort_index()\n",
    "anonymity_norm = status_freq/posting_freq"
   ]
  },
  {
   "cell_type": "code",
   "execution_count": 38,
   "metadata": {},
   "outputs": [],
   "source": [
    "# convert the user ids in to simpler numbers\n",
    "# the computation took so much time. ignore for now.\n",
    "\n",
    "id_list = list(pd.concat([user_ratings['FromId'], user_ratings['ToId']]).unique())\n",
    "\n",
    "def convert_id(ind):\n",
    "    if ind in id_list:\n",
    "        return id_list.index(ind)\n",
    "    else:\n",
    "        return np.nan"
   ]
  },
  {
   "cell_type": "code",
   "execution_count": 39,
   "metadata": {},
   "outputs": [],
   "source": [
    "# mapping module\n",
    "def add_col(s, ind):\n",
    "    try:\n",
    "        return s.loc[ind]\n",
    "    except:\n",
    "        return np.nan"
   ]
  },
  {
   "cell_type": "code",
   "execution_count": 40,
   "metadata": {},
   "outputs": [],
   "source": [
    "# add new columns for each edge\n",
    "\n",
    "user_ratings['FromId_posting_freq'] = user_ratings['FromId'].apply(lambda x: add_col(posting_freq, x))\n",
    "user_ratings['FromId_status_freq'] = user_ratings['FromId'].apply(lambda x: add_col(status_freq, x))\n",
    "user_ratings['FromId_mean_rating'] = user_ratings['FromId'].apply(lambda x: add_col(mean_rating, x))\n",
    "user_ratings['FromId_articles_freq'] = user_ratings['FromId'].apply(lambda x: add_col(articles_freq, x))\n",
    "user_ratings['FromId_anonymity_norm'] = user_ratings['FromId'].apply(lambda x: add_col(anonymity_norm, x))\n",
    "\n",
    "\n",
    "user_ratings['ToId_posting_freq'] = user_ratings['ToId'].apply(lambda x: add_col(posting_freq, x))\n",
    "user_ratings['ToId_posting_freq'] = user_ratings['ToId'].apply(lambda x: add_col(status_freq, x))\n",
    "user_ratings['ToId_posting_freq'] = user_ratings['ToId'].apply(lambda x: add_col(mean_rating, x))\n",
    "user_ratings['ToId_posting_freq'] = user_ratings['ToId'].apply(lambda x: add_col(articles_freq, x))\n",
    "user_ratings['ToId_anonymity_norm'] = user_ratings['ToId'].apply(lambda x: add_col(anonymity_norm, x))\n",
    "\n",
    "user_ratings = user_ratings.dropna()\n",
    "user_ratings.shape"
   ]
  },
  {
   "cell_type": "code",
   "execution_count": null,
   "metadata": {},
   "outputs": [],
   "source": [
    "\n",
    "\n",
    "\n"
   ]
  },
  {
   "cell_type": "code",
   "execution_count": null,
   "metadata": {},
   "outputs": [],
   "source": []
  },
  {
   "cell_type": "code",
   "execution_count": 51,
   "metadata": {},
   "outputs": [],
   "source": [
    "user_ratings.to_pickle('data/preprocessed.pkl')"
   ]
  },
  {
   "cell_type": "code",
   "execution_count": null,
   "metadata": {},
   "outputs": [],
   "source": []
  },
  {
   "cell_type": "code",
   "execution_count": null,
   "metadata": {},
   "outputs": [],
   "source": []
  },
  {
   "cell_type": "code",
   "execution_count": null,
   "metadata": {},
   "outputs": [],
   "source": []
  },
  {
   "cell_type": "code",
   "execution_count": null,
   "metadata": {},
   "outputs": [],
   "source": []
  }
 ],
 "metadata": {
  "kernelspec": {
   "display_name": "Python 3",
   "language": "python",
   "name": "python3"
  },
  "language_info": {
   "codemirror_mode": {
    "name": "ipython",
    "version": 3
   },
   "file_extension": ".py",
   "mimetype": "text/x-python",
   "name": "python",
   "nbconvert_exporter": "python",
   "pygments_lexer": "ipython3",
   "version": "3.7.4"
  }
 },
 "nbformat": 4,
 "nbformat_minor": 4
}
