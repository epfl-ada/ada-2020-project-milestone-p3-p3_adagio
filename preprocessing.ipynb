{
 "cells": [
  {
   "cell_type": "markdown",
   "metadata": {},
   "source": [
    "# ADA milestone P4: creative extension of 'Signed Network in Social Media'\n",
    "\n",
    "### **Outline**:\n",
    "* 1. Data Wrangling\n",
    "    * 1.1 Reading the datasets\n",
    "    * 1.2 Recreating the paper's settings\n",
    "        * 1.2.1 Epinions and user_rating\n",
    "        * 1.2.2 Selecting the same edges than in the paper\n",
    "    * 1.3 Combining the datasets\n",
    "        * 1.3.1 Computing user-centered features\n",
    "        * 1.3.2 Merging the member's features with the edges' dataframe (status_dataset)\n",
    "* 2. Data Analysis\n",
    "    * 2.1 Users statistics"
   ]
  },
  {
   "cell_type": "code",
   "execution_count": 24,
   "metadata": {},
   "outputs": [],
   "source": [
    "import pandas as pd\n",
    "import matplotlib.pyplot as plt\n",
    "import seaborn as sns\n",
    "import numpy as np\n",
    "import statistics \n",
    "import math\n",
    "import scipy\n",
    "from sklearn.utils import resample\n",
    "from sklearn.model_selection import train_test_split\n",
    "from sklearn.ensemble import GradientBoostingRegressor\n",
    "from sklearn.model_selection import KFold \n",
    "from sklearn.metrics import r2_score\n",
    "from sklearn.linear_model import LinearRegression"
   ]
  },
  {
   "cell_type": "markdown",
   "metadata": {},
   "source": [
    "## 1. Data Wrangling\n",
    "\n",
    "We wish to combine the informations from three datasets to extract meaningful features for our model"
   ]
  },
  {
   "cell_type": "markdown",
   "metadata": {},
   "source": [
    "### 1.1 Reading the datasets\n",
    "\n",
    "#### **Ratings**\n",
    "\n",
    "Ratings are quantified statements made by users regarding the quality of a content in the site. Ratings is the basis on which the contents are sorted and filtered.\n",
    "\n",
    "Column Details:\n",
    "\n",
    "* OBJECT_ID The object ID is the object that is being rated. The only valid objects at the present time are the content_id of the member_content table. This means that at present this table only stores the ratings on reviews and essays\n",
    "* MEMBER_ID Stores the id of the member who is rating the object\n",
    "* RATING Stores the 1-5 (1- Not helpful , 2 - Somewhat Helpful, 3 - Helpful 4 - Very Helpful 5- Most Helpful) rating of the object by member [There are some 6s, treat them as 5]\n",
    "* STATUS The display status of the rating. 1 :- means the member has chosen not to show his rating of the object and 0 meaning the member does not mind showing his name beside the rating. **We renamed this feature 'anonymity' to avoid confusion with the notion of status in triads theory**\n",
    "* CREATION The date on which the member first rated this object\n",
    "* LAST_MODIFIED The latest date on which the member modified his rating of the object\n",
    "* TYPE If and when we allow more than just content rating to be stored in this table, then this column would store the type of the object being rated.\n",
    "* VERTICAL_ID Vertical_id of the review."
   ]
  },
  {
   "cell_type": "code",
   "execution_count": 2,
   "metadata": {},
   "outputs": [
    {
     "data": {
      "text/html": [
       "<div>\n",
       "<style scoped>\n",
       "    .dataframe tbody tr th:only-of-type {\n",
       "        vertical-align: middle;\n",
       "    }\n",
       "\n",
       "    .dataframe tbody tr th {\n",
       "        vertical-align: top;\n",
       "    }\n",
       "\n",
       "    .dataframe thead th {\n",
       "        text-align: right;\n",
       "    }\n",
       "</style>\n",
       "<table border=\"1\" class=\"dataframe\">\n",
       "  <thead>\n",
       "    <tr style=\"text-align: right;\">\n",
       "      <th></th>\n",
       "      <th>object_id</th>\n",
       "      <th>member_id</th>\n",
       "      <th>rating</th>\n",
       "      <th>anonymity</th>\n",
       "      <th>type</th>\n",
       "    </tr>\n",
       "  </thead>\n",
       "  <tbody>\n",
       "    <tr>\n",
       "      <th>0</th>\n",
       "      <td>139431556</td>\n",
       "      <td>591156</td>\n",
       "      <td>5</td>\n",
       "      <td>0</td>\n",
       "      <td>1</td>\n",
       "    </tr>\n",
       "    <tr>\n",
       "      <th>1</th>\n",
       "      <td>139431556</td>\n",
       "      <td>1312460676</td>\n",
       "      <td>5</td>\n",
       "      <td>0</td>\n",
       "      <td>1</td>\n",
       "    </tr>\n",
       "    <tr>\n",
       "      <th>2</th>\n",
       "      <td>139431556</td>\n",
       "      <td>204358</td>\n",
       "      <td>5</td>\n",
       "      <td>0</td>\n",
       "      <td>1</td>\n",
       "    </tr>\n",
       "    <tr>\n",
       "      <th>3</th>\n",
       "      <td>139431556</td>\n",
       "      <td>368725</td>\n",
       "      <td>5</td>\n",
       "      <td>0</td>\n",
       "      <td>1</td>\n",
       "    </tr>\n",
       "    <tr>\n",
       "      <th>4</th>\n",
       "      <td>139431556</td>\n",
       "      <td>277629</td>\n",
       "      <td>5</td>\n",
       "      <td>0</td>\n",
       "      <td>1</td>\n",
       "    </tr>\n",
       "  </tbody>\n",
       "</table>\n",
       "</div>"
      ],
      "text/plain": [
       "   object_id   member_id  rating  anonymity  type\n",
       "0  139431556      591156       5          0     1\n",
       "1  139431556  1312460676       5          0     1\n",
       "2  139431556      204358       5          0     1\n",
       "3  139431556      368725       5          0     1\n",
       "4  139431556      277629       5          0     1"
      ]
     },
     "execution_count": 2,
     "metadata": {},
     "output_type": "execute_result"
    }
   ],
   "source": [
    "ratings = pd.read_csv('data/rating.txt', delimiter='\\t',header=None)\n",
    "ratings = ratings.rename(columns = {0:'object_id', 1:'member_id',2:'rating',3:'anonymity',4:'creation',5:'last_modified',6:'type',7:'vertical_id'})\n",
    "\n",
    "# We only select the features that are of interest for our analysis\n",
    "\n",
    "# TODO: rename status for anonymity so we don't get confused !!\n",
    "ratings = ratings[['object_id','member_id','rating','anonymity','type']]\n",
    "\n",
    "ratings[\"rating\"] = ratings[\"rating\"].apply(lambda x: (x-1) if x == 6 else x)\n",
    "ratings.head()"
   ]
  },
  {
   "cell_type": "markdown",
   "metadata": {},
   "source": [
    "#### **mc**\n",
    "\n",
    "Each article is written by a user.\n",
    "\n",
    "Column Details:\n",
    "\n",
    "* CONTENT_ID The object ID of the article.\n",
    "* AUTHOR_ID The ID of the user who wrote the article\n",
    "* SUBJECT_ID The ID of the subject that the article is supposed to be about"
   ]
  },
  {
   "cell_type": "code",
   "execution_count": 3,
   "metadata": {},
   "outputs": [
    {
     "data": {
      "text/html": [
       "<div>\n",
       "<style scoped>\n",
       "    .dataframe tbody tr th:only-of-type {\n",
       "        vertical-align: middle;\n",
       "    }\n",
       "\n",
       "    .dataframe tbody tr th {\n",
       "        vertical-align: top;\n",
       "    }\n",
       "\n",
       "    .dataframe thead th {\n",
       "        text-align: right;\n",
       "    }\n",
       "</style>\n",
       "<table border=\"1\" class=\"dataframe\">\n",
       "  <thead>\n",
       "    <tr style=\"text-align: right;\">\n",
       "      <th></th>\n",
       "      <th>content_id</th>\n",
       "      <th>author_id</th>\n",
       "      <th>subject_id</th>\n",
       "    </tr>\n",
       "  </thead>\n",
       "  <tbody>\n",
       "    <tr>\n",
       "      <th>0</th>\n",
       "      <td>1445594</td>\n",
       "      <td>718357</td>\n",
       "      <td>1.490024e+11</td>\n",
       "    </tr>\n",
       "    <tr>\n",
       "      <th>1</th>\n",
       "      <td>1445595</td>\n",
       "      <td>220568</td>\n",
       "      <td>1.490036e+11</td>\n",
       "    </tr>\n",
       "    <tr>\n",
       "      <th>2</th>\n",
       "      <td>1445596</td>\n",
       "      <td>717325</td>\n",
       "      <td>5.303145e+09</td>\n",
       "    </tr>\n",
       "    <tr>\n",
       "      <th>3</th>\n",
       "      <td>1445597</td>\n",
       "      <td>360156</td>\n",
       "      <td>1.926209e+11</td>\n",
       "    </tr>\n",
       "    <tr>\n",
       "      <th>4</th>\n",
       "      <td>1445598</td>\n",
       "      <td>718857</td>\n",
       "      <td>1.490022e+11</td>\n",
       "    </tr>\n",
       "  </tbody>\n",
       "</table>\n",
       "</div>"
      ],
      "text/plain": [
       "   content_id  author_id    subject_id\n",
       "0     1445594     718357  1.490024e+11\n",
       "1     1445595     220568  1.490036e+11\n",
       "2     1445596     717325  5.303145e+09\n",
       "3     1445597     360156  1.926209e+11\n",
       "4     1445598     718857  1.490022e+11"
      ]
     },
     "execution_count": 3,
     "metadata": {},
     "output_type": "execute_result"
    }
   ],
   "source": [
    "mc = pd.read_csv('data/mc.txt.gz', delimiter='|',header=None)\n",
    "mc = mc.rename(columns = {0:'content_id', 1:'author_id',2:'subject_id'})\n",
    "mc.head()"
   ]
  },
  {
   "cell_type": "markdown",
   "metadata": {},
   "source": [
    "#### **User ratings**\n",
    "\n",
    "Trust is the mechanism by which the user makes a statement that they like the content or the behavior of particular user and would like to see more of what the users does in the site. Distrust is the opposite of the trust in which the user says that they do want to see lesser of the operations performed by that user.\n",
    "\n",
    "Column Details:\n",
    "\n",
    "* MY_ID This stores Id of the member who is making the trust/distrust statement\n",
    "* OTHER_ID The other ID is the ID of the member being trusted/distrusted\n",
    "* VALUE Value = 1 for trust and -1 for distrust\n",
    "* CREATION It is the date on which the trust was made"
   ]
  },
  {
   "cell_type": "code",
   "execution_count": 4,
   "metadata": {},
   "outputs": [
    {
     "data": {
      "text/html": [
       "<div>\n",
       "<style scoped>\n",
       "    .dataframe tbody tr th:only-of-type {\n",
       "        vertical-align: middle;\n",
       "    }\n",
       "\n",
       "    .dataframe tbody tr th {\n",
       "        vertical-align: top;\n",
       "    }\n",
       "\n",
       "    .dataframe thead th {\n",
       "        text-align: right;\n",
       "    }\n",
       "</style>\n",
       "<table border=\"1\" class=\"dataframe\">\n",
       "  <thead>\n",
       "    <tr style=\"text-align: right;\">\n",
       "      <th></th>\n",
       "      <th>FromNodeId</th>\n",
       "      <th>ToNodeId</th>\n",
       "      <th>Sign</th>\n",
       "      <th>Creation</th>\n",
       "    </tr>\n",
       "  </thead>\n",
       "  <tbody>\n",
       "    <tr>\n",
       "      <th>0</th>\n",
       "      <td>3287060356</td>\n",
       "      <td>232085</td>\n",
       "      <td>-1</td>\n",
       "      <td>2001/01/10</td>\n",
       "    </tr>\n",
       "    <tr>\n",
       "      <th>1</th>\n",
       "      <td>3288305540</td>\n",
       "      <td>709420</td>\n",
       "      <td>1</td>\n",
       "      <td>2001/01/10</td>\n",
       "    </tr>\n",
       "    <tr>\n",
       "      <th>2</th>\n",
       "      <td>3290337156</td>\n",
       "      <td>204418</td>\n",
       "      <td>-1</td>\n",
       "      <td>2001/01/10</td>\n",
       "    </tr>\n",
       "    <tr>\n",
       "      <th>3</th>\n",
       "      <td>3294138244</td>\n",
       "      <td>269243</td>\n",
       "      <td>-1</td>\n",
       "      <td>2001/01/10</td>\n",
       "    </tr>\n",
       "    <tr>\n",
       "      <th>4</th>\n",
       "      <td>3294138244</td>\n",
       "      <td>170692484</td>\n",
       "      <td>-1</td>\n",
       "      <td>2001/01/10</td>\n",
       "    </tr>\n",
       "  </tbody>\n",
       "</table>\n",
       "</div>"
      ],
      "text/plain": [
       "   FromNodeId   ToNodeId  Sign    Creation\n",
       "0  3287060356     232085    -1  2001/01/10\n",
       "1  3288305540     709420     1  2001/01/10\n",
       "2  3290337156     204418    -1  2001/01/10\n",
       "3  3294138244     269243    -1  2001/01/10\n",
       "4  3294138244  170692484    -1  2001/01/10"
      ]
     },
     "execution_count": 4,
     "metadata": {},
     "output_type": "execute_result"
    }
   ],
   "source": [
    "user_ratings = pd.read_csv('data/user_rating.txt', delimiter='\\t', header=None)\n",
    "user_ratings = user_ratings.rename(columns={0:'FromNodeId',1:'ToNodeId',2:'Sign',3:'Creation'})\n",
    "user_ratings.head()"
   ]
  },
  {
   "cell_type": "markdown",
   "metadata": {},
   "source": [
    "#### **Epinions**\n",
    "\n",
    "This dataset was the one given for the replication in milestone 2. The replication showed that it has the same statistics than the one used by the paper's author.\n",
    "\n",
    "It has the same columns than the *user_ratings* dataset, minus the creation data, which is a feature that we will want to use. \n",
    "\n",
    "In the next step, we will see if *user_ratings* contains the same network as in *epinions* dataset and can be used as substitution while keeping the same data than in the paper."
   ]
  },
  {
   "cell_type": "code",
   "execution_count": 5,
   "metadata": {},
   "outputs": [
    {
     "data": {
      "text/html": [
       "<div>\n",
       "<style scoped>\n",
       "    .dataframe tbody tr th:only-of-type {\n",
       "        vertical-align: middle;\n",
       "    }\n",
       "\n",
       "    .dataframe tbody tr th {\n",
       "        vertical-align: top;\n",
       "    }\n",
       "\n",
       "    .dataframe thead th {\n",
       "        text-align: right;\n",
       "    }\n",
       "</style>\n",
       "<table border=\"1\" class=\"dataframe\">\n",
       "  <thead>\n",
       "    <tr style=\"text-align: right;\">\n",
       "      <th></th>\n",
       "      <th>FromNodeId</th>\n",
       "      <th>ToNodeId</th>\n",
       "      <th>Sign</th>\n",
       "    </tr>\n",
       "  </thead>\n",
       "  <tbody>\n",
       "    <tr>\n",
       "      <th>0</th>\n",
       "      <td>0</td>\n",
       "      <td>1</td>\n",
       "      <td>-1</td>\n",
       "    </tr>\n",
       "    <tr>\n",
       "      <th>1</th>\n",
       "      <td>1</td>\n",
       "      <td>128552</td>\n",
       "      <td>-1</td>\n",
       "    </tr>\n",
       "    <tr>\n",
       "      <th>2</th>\n",
       "      <td>2</td>\n",
       "      <td>3</td>\n",
       "      <td>1</td>\n",
       "    </tr>\n",
       "    <tr>\n",
       "      <th>3</th>\n",
       "      <td>4</td>\n",
       "      <td>5</td>\n",
       "      <td>-1</td>\n",
       "    </tr>\n",
       "    <tr>\n",
       "      <th>4</th>\n",
       "      <td>4</td>\n",
       "      <td>155</td>\n",
       "      <td>-1</td>\n",
       "    </tr>\n",
       "  </tbody>\n",
       "</table>\n",
       "</div>"
      ],
      "text/plain": [
       "   FromNodeId  ToNodeId  Sign\n",
       "0           0         1    -1\n",
       "1           1    128552    -1\n",
       "2           2         3     1\n",
       "3           4         5    -1\n",
       "4           4       155    -1"
      ]
     },
     "execution_count": 5,
     "metadata": {},
     "output_type": "execute_result"
    }
   ],
   "source": [
    "epinions_given = pd.read_csv('data/soc-sign-epinions.txt', delimiter='\\t', header=3)\n",
    "epinions_given = epinions_given.rename(columns={'# FromNodeId':'FromNodeId'})\n",
    "epinions_given.head()"
   ]
  },
  {
   "cell_type": "markdown",
   "metadata": {},
   "source": [
    "### 1.2 Recreating the paper's settings"
   ]
  },
  {
   "cell_type": "markdown",
   "metadata": {},
   "source": [
    "#### 1.2.1 epinions & user_ratings\n",
    "\n",
    "Our first task is to determine if *epinions* and *user_ratings* can be used interchangeably."
   ]
  },
  {
   "cell_type": "code",
   "execution_count": 6,
   "metadata": {},
   "outputs": [
    {
     "name": "stdout",
     "output_type": "stream",
     "text": [
      "RangeIndex(start=0, stop=841372, step=1)\n",
      "RangeIndex(start=0, stop=841372, step=1)\n"
     ]
    }
   ],
   "source": [
    "print(epinions_given.index)\n",
    "print(user_ratings.index)"
   ]
  },
  {
   "cell_type": "markdown",
   "metadata": {},
   "source": [
    "We first notice that they have the same size, good news! \n",
    "Do they have the same set of nodes and edges?"
   ]
  },
  {
   "cell_type": "code",
   "execution_count": 7,
   "metadata": {},
   "outputs": [
    {
     "name": "stdout",
     "output_type": "stream",
     "text": [
      "The range of node Ids in the given Epinions data set is [0, 131827]\n",
      "The range of node Ids in the user ratings data set is [199781, 84015157124]\n"
     ]
    }
   ],
   "source": [
    "ep_range = [min(epinions_given['FromNodeId'].min(), epinions_given['ToNodeId'].min()), \n",
    "            max(epinions_given['FromNodeId'].max(), epinions_given['ToNodeId'].max())]\n",
    "ur_range = [min(user_ratings['FromNodeId'].min(), user_ratings['ToNodeId'].min()), \n",
    "            max(user_ratings['FromNodeId'].max(), user_ratings['ToNodeId'].max())]\n",
    "\n",
    "print(f\"The range of node Ids in the given Epinions data set is {ep_range}\")\n",
    "print(f\"The range of node Ids in the user ratings data set is {ur_range}\")"
   ]
  },
  {
   "cell_type": "markdown",
   "metadata": {},
   "source": [
    "The two graphs don't use the same range of node Ids so we can't find a straightforward mapping between the two. We use the vf2 algorithm with the igraph library to determine if one is an isomorphism of the other."
   ]
  },
  {
   "cell_type": "code",
   "execution_count": 23,
   "metadata": {},
   "outputs": [
    {
     "data": {
      "text/plain": [
       "True"
      ]
     },
     "execution_count": 23,
     "metadata": {},
     "output_type": "execute_result"
    }
   ],
   "source": [
    "import igraph as ig\n",
    "\n",
    "ur_graph = ig.Graph.TupleList(user_ratings.itertuples(index=False), edge_attrs = 'Creation', \n",
    "                              directed=True)\n",
    "ep_graph = ig.Graph.TupleList(epinions_given.itertuples(index=False), \n",
    "                              directed=True)\n",
    "ur_graph.isomorphic_vf2(ep_graph, edge_color1 = user_ratings['Sign'], edge_color2 = epinions_given['Sign'])"
   ]
  },
  {
   "cell_type": "markdown",
   "metadata": {},
   "source": [
    "Great! From now on, we will only use the user_ratings dataset, with the knowledge that it holds the same properties and distribution as in the original paper."
   ]
  },
  {
   "cell_type": "markdown",
   "metadata": {},
   "source": [
    "#### 1.2.2 Selecting the same edges as in the paper"
   ]
  },
  {
   "attachments": {
    "3937593e-204d-4327-a99b-13dc6e1d5eb1.png": {
     "image/png": "[encoded data removed]"
    }
   },
   "cell_type": "markdown",
   "metadata": {},
   "source": [
    "One of the findings of the paper is that in the setting of contextualized links, most triadic types are consistent with status theory. As we are interested in the notion of status, we will reproduce the conditions in which status theory is dominant, and in which we can interpret a positive link from A to B as B having a higher status than A.\n",
    "\n",
    "A contextualized link (A,B:X) is a link forms between A and B *after* both A and B have formed a link with X. These are the red edges in the figure below, and they are the only one we will keep in our analysis.\n",
    "![image.png](attachment:3937593e-204d-4327-a99b-13dc6e1d5eb1.png)"
   ]
  },
  {
   "cell_type": "markdown",
   "metadata": {},
   "source": [
    "**TODO: insert here the code for selecting the edges**"
   ]
  },
  {
   "cell_type": "code",
   "execution_count": 9,
   "metadata": {},
   "outputs": [],
   "source": [
    "status_dataset = user_ratings.copy()"
   ]
  },
  {
   "cell_type": "markdown",
   "metadata": {},
   "source": [
    "### 1.3 Combining the datasets"
   ]
  },
  {
   "cell_type": "markdown",
   "metadata": {},
   "source": [
    "#### 1.3.1 Computing user-centered features\n",
    "\n",
    "We want to extract from the other datasets user-centric features.\n",
    "We first use the **ratings** data set to compute the average rating, the anonymity frequency, sensionalism and the number of reviews written by the users. We will also use the **mc** dataset to compute the number of articles written by each users"
   ]
  },
  {
   "cell_type": "code",
   "execution_count": 10,
   "metadata": {},
   "outputs": [],
   "source": [
    "members = pd.DataFrame(index = ratings['member_id'].unique())\n",
    "\n",
    "# average ratings\n",
    "members['avg_ratings'] = ratings[['member_id', 'rating']].groupby('member_id').mean(['rating'])\n",
    "\n",
    "# anonymity frequency\n",
    "members['anonymity_freq'] = ratings[['member_id', 'anonymity']].groupby('member_id').mean(['anonymity'])\n",
    "\n",
    "# sensionalism: average of how much the review differs from the mean rating of the object\n",
    "mean_rating = ratings[['object_id', 'rating']].groupby('object_id').mean('rating')\n",
    "mean_rating = mean_rating.rename(columns = {'rating': 'mean_rating'})\n",
    "ratings = pd.merge(ratings, mean_rating.reset_index(), on = 'object_id')\n",
    "ratings['diff_from_mean'] = np.absolute(ratings['rating'] - ratings['mean_rating'])\n",
    "members['sensationalism'] = ratings[['member_id', 'diff_from_mean']].groupby('member_id').mean('diff_from_mean')\n",
    "\n",
    "# number of reviews made\n",
    "members['nbr_reviews'] = ratings.groupby('member_id').size()\n",
    "\n",
    "# number of articles written. If a user is not in this list, it means that they haven't written any articles. \n",
    "# In this case, we set nbr_articles = 0 \n",
    "members['nbr_articles'] = mc.groupby('author_id').size()\n",
    "members = members.fillna(0)"
   ]
  },
  {
   "cell_type": "code",
   "execution_count": 11,
   "metadata": {},
   "outputs": [
    {
     "data": {
      "text/html": [
       "<div>\n",
       "<style scoped>\n",
       "    .dataframe tbody tr th:only-of-type {\n",
       "        vertical-align: middle;\n",
       "    }\n",
       "\n",
       "    .dataframe tbody tr th {\n",
       "        vertical-align: top;\n",
       "    }\n",
       "\n",
       "    .dataframe thead th {\n",
       "        text-align: right;\n",
       "    }\n",
       "</style>\n",
       "<table border=\"1\" class=\"dataframe\">\n",
       "  <thead>\n",
       "    <tr style=\"text-align: right;\">\n",
       "      <th></th>\n",
       "      <th>avg_ratings</th>\n",
       "      <th>anonymity_freq</th>\n",
       "      <th>sensationalism</th>\n",
       "      <th>nbr_reviews</th>\n",
       "      <th>nbr_articles</th>\n",
       "    </tr>\n",
       "  </thead>\n",
       "  <tbody>\n",
       "    <tr>\n",
       "      <th>591156</th>\n",
       "      <td>4.847283</td>\n",
       "      <td>0.033774</td>\n",
       "      <td>0.250845</td>\n",
       "      <td>681</td>\n",
       "      <td>36.0</td>\n",
       "    </tr>\n",
       "    <tr>\n",
       "      <th>1312460676</th>\n",
       "      <td>4.631902</td>\n",
       "      <td>0.007362</td>\n",
       "      <td>0.227751</td>\n",
       "      <td>815</td>\n",
       "      <td>17.0</td>\n",
       "    </tr>\n",
       "    <tr>\n",
       "      <th>204358</th>\n",
       "      <td>4.718543</td>\n",
       "      <td>0.012712</td>\n",
       "      <td>0.208986</td>\n",
       "      <td>11643</td>\n",
       "      <td>115.0</td>\n",
       "    </tr>\n",
       "    <tr>\n",
       "      <th>368725</th>\n",
       "      <td>4.374117</td>\n",
       "      <td>0.005527</td>\n",
       "      <td>0.222522</td>\n",
       "      <td>6514</td>\n",
       "      <td>104.0</td>\n",
       "    </tr>\n",
       "    <tr>\n",
       "      <th>277629</th>\n",
       "      <td>4.427660</td>\n",
       "      <td>0.001984</td>\n",
       "      <td>0.273555</td>\n",
       "      <td>7057</td>\n",
       "      <td>142.0</td>\n",
       "    </tr>\n",
       "    <tr>\n",
       "      <th>...</th>\n",
       "      <td>...</td>\n",
       "      <td>...</td>\n",
       "      <td>...</td>\n",
       "      <td>...</td>\n",
       "      <td>...</td>\n",
       "    </tr>\n",
       "    <tr>\n",
       "      <th>331302</th>\n",
       "      <td>5.000000</td>\n",
       "      <td>0.000000</td>\n",
       "      <td>0.129032</td>\n",
       "      <td>1</td>\n",
       "      <td>1.0</td>\n",
       "    </tr>\n",
       "    <tr>\n",
       "      <th>223182</th>\n",
       "      <td>4.000000</td>\n",
       "      <td>0.000000</td>\n",
       "      <td>0.928571</td>\n",
       "      <td>1</td>\n",
       "      <td>0.0</td>\n",
       "    </tr>\n",
       "    <tr>\n",
       "      <th>316272</th>\n",
       "      <td>5.000000</td>\n",
       "      <td>0.000000</td>\n",
       "      <td>0.000000</td>\n",
       "      <td>1</td>\n",
       "      <td>1.0</td>\n",
       "    </tr>\n",
       "    <tr>\n",
       "      <th>309002</th>\n",
       "      <td>2.000000</td>\n",
       "      <td>0.000000</td>\n",
       "      <td>2.903226</td>\n",
       "      <td>1</td>\n",
       "      <td>0.0</td>\n",
       "    </tr>\n",
       "    <tr>\n",
       "      <th>343339</th>\n",
       "      <td>5.000000</td>\n",
       "      <td>0.000000</td>\n",
       "      <td>0.397260</td>\n",
       "      <td>1</td>\n",
       "      <td>20.0</td>\n",
       "    </tr>\n",
       "  </tbody>\n",
       "</table>\n",
       "<p>120492 rows × 5 columns</p>\n",
       "</div>"
      ],
      "text/plain": [
       "            avg_ratings  anonymity_freq  sensationalism  nbr_reviews  \\\n",
       "591156         4.847283        0.033774        0.250845          681   \n",
       "1312460676     4.631902        0.007362        0.227751          815   \n",
       "204358         4.718543        0.012712        0.208986        11643   \n",
       "368725         4.374117        0.005527        0.222522         6514   \n",
       "277629         4.427660        0.001984        0.273555         7057   \n",
       "...                 ...             ...             ...          ...   \n",
       "331302         5.000000        0.000000        0.129032            1   \n",
       "223182         4.000000        0.000000        0.928571            1   \n",
       "316272         5.000000        0.000000        0.000000            1   \n",
       "309002         2.000000        0.000000        2.903226            1   \n",
       "343339         5.000000        0.000000        0.397260            1   \n",
       "\n",
       "            nbr_articles  \n",
       "591156              36.0  \n",
       "1312460676          17.0  \n",
       "204358             115.0  \n",
       "368725             104.0  \n",
       "277629             142.0  \n",
       "...                  ...  \n",
       "331302               1.0  \n",
       "223182               0.0  \n",
       "316272               1.0  \n",
       "309002               0.0  \n",
       "343339              20.0  \n",
       "\n",
       "[120492 rows x 5 columns]"
      ]
     },
     "execution_count": 11,
     "metadata": {},
     "output_type": "execute_result"
    }
   ],
   "source": [
    "members"
   ]
  },
  {
   "cell_type": "markdown",
   "metadata": {},
   "source": [
    "#### 1.3.2 merging the member's features with the edges' dataframe (status_dataset)"
   ]
  },
  {
   "cell_type": "markdown",
   "metadata": {},
   "source": [
    "We rename the nodes of each edge as node1 (source) and node2 (target) and all their features as {feature}{number} for simplicity. For example, the average rate of the source vertex becomes avg_rate1"
   ]
  },
  {
   "cell_type": "code",
   "execution_count": 21,
   "metadata": {},
   "outputs": [],
   "source": [
    "status_dataset = status_dataset.rename(columns = {'FromNodeId': 'node1', 'ToNodeId': 'node2'})\n",
    "\n",
    "# merge for the source node (node1)\n",
    "status_dataset = pd.merge(status_dataset, members, left_on = 'node1', right_index = True)\n",
    "status_dataset = status_dataset.rename(columns = {'avg_ratings': 'avg_ratings1', \n",
    "                                                  'anonymity_freq': 'anonymity_freq1',\n",
    "                                                  'nbr_reviews': 'nbr_reviews1',\n",
    "                                                  'nbr_articles': 'nbr_articles1',\n",
    "                                                  'sensationalism': 'sensationalism1'})\n",
    "\n",
    "# merge for the target node (node2)\n",
    "status_dataset = pd.merge(status_dataset, members, left_on = 'node2', right_index = True)\n",
    "status_dataset = status_dataset.rename(columns = {'avg_ratings': 'avg_ratings2', \n",
    "                                                  'anonymity_freq': 'anonymity_freq2',\n",
    "                                                  'nbr_reviews': 'nbr_reviews2',\n",
    "                                                  'nbr_articles': 'nbr_articles2',\n",
    "                                                  'sensationalism': 'sensationalism1'})\n",
    "\n",
    "status_dataset.reset_index(drop = True, inplace = True)"
   ]
  },
  {
   "cell_type": "code",
   "execution_count": 22,
   "metadata": {},
   "outputs": [
    {
     "data": {
      "text/html": [
       "<div>\n",
       "<style scoped>\n",
       "    .dataframe tbody tr th:only-of-type {\n",
       "        vertical-align: middle;\n",
       "    }\n",
       "\n",
       "    .dataframe tbody tr th {\n",
       "        vertical-align: top;\n",
       "    }\n",
       "\n",
       "    .dataframe thead th {\n",
       "        text-align: right;\n",
       "    }\n",
       "</style>\n",
       "<table border=\"1\" class=\"dataframe\">\n",
       "  <thead>\n",
       "    <tr style=\"text-align: right;\">\n",
       "      <th></th>\n",
       "      <th>node1</th>\n",
       "      <th>node2</th>\n",
       "      <th>Sign</th>\n",
       "      <th>Creation</th>\n",
       "      <th>avg_ratings1</th>\n",
       "      <th>anonymity_freq1</th>\n",
       "      <th>sensationalism_x</th>\n",
       "      <th>nbr_reviews1</th>\n",
       "      <th>nbr_articles1</th>\n",
       "      <th>avg_ratings2</th>\n",
       "      <th>...</th>\n",
       "      <th>avg_ratings1</th>\n",
       "      <th>anonymity_freq1</th>\n",
       "      <th>sensationalism1</th>\n",
       "      <th>nbr_reviews1</th>\n",
       "      <th>nbr_articles1</th>\n",
       "      <th>avg_ratings2</th>\n",
       "      <th>anonymity_freq2</th>\n",
       "      <th>sensationalism1</th>\n",
       "      <th>nbr_reviews2</th>\n",
       "      <th>nbr_articles2</th>\n",
       "    </tr>\n",
       "  </thead>\n",
       "  <tbody>\n",
       "    <tr>\n",
       "      <th>0</th>\n",
       "      <td>3288305540</td>\n",
       "      <td>709420</td>\n",
       "      <td>1</td>\n",
       "      <td>2001/01/10</td>\n",
       "      <td>5.000000</td>\n",
       "      <td>0.000000</td>\n",
       "      <td>0.666667</td>\n",
       "      <td>1</td>\n",
       "      <td>0.0</td>\n",
       "      <td>4.000000</td>\n",
       "      <td>...</td>\n",
       "      <td>5.000000</td>\n",
       "      <td>0.000000</td>\n",
       "      <td>0.666667</td>\n",
       "      <td>1</td>\n",
       "      <td>0.0</td>\n",
       "      <td>4.000000</td>\n",
       "      <td>0.50000</td>\n",
       "      <td>1.114625</td>\n",
       "      <td>2</td>\n",
       "      <td>8.0</td>\n",
       "    </tr>\n",
       "    <tr>\n",
       "      <th>1</th>\n",
       "      <td>248921</td>\n",
       "      <td>709420</td>\n",
       "      <td>1</td>\n",
       "      <td>2001/05/02</td>\n",
       "      <td>4.929825</td>\n",
       "      <td>0.000000</td>\n",
       "      <td>0.456906</td>\n",
       "      <td>57</td>\n",
       "      <td>41.0</td>\n",
       "      <td>4.000000</td>\n",
       "      <td>...</td>\n",
       "      <td>4.929825</td>\n",
       "      <td>0.000000</td>\n",
       "      <td>0.456906</td>\n",
       "      <td>57</td>\n",
       "      <td>41.0</td>\n",
       "      <td>4.000000</td>\n",
       "      <td>0.50000</td>\n",
       "      <td>1.114625</td>\n",
       "      <td>2</td>\n",
       "      <td>8.0</td>\n",
       "    </tr>\n",
       "    <tr>\n",
       "      <th>2</th>\n",
       "      <td>311641</td>\n",
       "      <td>709420</td>\n",
       "      <td>1</td>\n",
       "      <td>2001/05/01</td>\n",
       "      <td>4.972840</td>\n",
       "      <td>0.003756</td>\n",
       "      <td>0.111742</td>\n",
       "      <td>6922</td>\n",
       "      <td>50.0</td>\n",
       "      <td>4.000000</td>\n",
       "      <td>...</td>\n",
       "      <td>4.972840</td>\n",
       "      <td>0.003756</td>\n",
       "      <td>0.111742</td>\n",
       "      <td>6922</td>\n",
       "      <td>50.0</td>\n",
       "      <td>4.000000</td>\n",
       "      <td>0.50000</td>\n",
       "      <td>1.114625</td>\n",
       "      <td>2</td>\n",
       "      <td>8.0</td>\n",
       "    </tr>\n",
       "    <tr>\n",
       "      <th>3</th>\n",
       "      <td>248921</td>\n",
       "      <td>722964356</td>\n",
       "      <td>1</td>\n",
       "      <td>2001/03/27</td>\n",
       "      <td>4.929825</td>\n",
       "      <td>0.000000</td>\n",
       "      <td>0.456906</td>\n",
       "      <td>57</td>\n",
       "      <td>41.0</td>\n",
       "      <td>3.933535</td>\n",
       "      <td>...</td>\n",
       "      <td>4.929825</td>\n",
       "      <td>0.000000</td>\n",
       "      <td>0.456906</td>\n",
       "      <td>57</td>\n",
       "      <td>41.0</td>\n",
       "      <td>3.933535</td>\n",
       "      <td>0.01994</td>\n",
       "      <td>0.634727</td>\n",
       "      <td>4965</td>\n",
       "      <td>235.0</td>\n",
       "    </tr>\n",
       "    <tr>\n",
       "      <th>4</th>\n",
       "      <td>3290337156</td>\n",
       "      <td>722964356</td>\n",
       "      <td>-1</td>\n",
       "      <td>2001/05/29</td>\n",
       "      <td>3.714286</td>\n",
       "      <td>0.000000</td>\n",
       "      <td>0.795869</td>\n",
       "      <td>21</td>\n",
       "      <td>0.0</td>\n",
       "      <td>3.933535</td>\n",
       "      <td>...</td>\n",
       "      <td>3.714286</td>\n",
       "      <td>0.000000</td>\n",
       "      <td>0.795869</td>\n",
       "      <td>21</td>\n",
       "      <td>0.0</td>\n",
       "      <td>3.933535</td>\n",
       "      <td>0.01994</td>\n",
       "      <td>0.634727</td>\n",
       "      <td>4965</td>\n",
       "      <td>235.0</td>\n",
       "    </tr>\n",
       "  </tbody>\n",
       "</table>\n",
       "<p>5 rows × 34 columns</p>\n",
       "</div>"
      ],
      "text/plain": [
       "        node1      node2  Sign    Creation  avg_ratings1  anonymity_freq1  \\\n",
       "0  3288305540     709420     1  2001/01/10      5.000000         0.000000   \n",
       "1      248921     709420     1  2001/05/02      4.929825         0.000000   \n",
       "2      311641     709420     1  2001/05/01      4.972840         0.003756   \n",
       "3      248921  722964356     1  2001/03/27      4.929825         0.000000   \n",
       "4  3290337156  722964356    -1  2001/05/29      3.714286         0.000000   \n",
       "\n",
       "   sensationalism_x  nbr_reviews1  nbr_articles1  avg_ratings2  ...  \\\n",
       "0          0.666667             1            0.0      4.000000  ...   \n",
       "1          0.456906            57           41.0      4.000000  ...   \n",
       "2          0.111742          6922           50.0      4.000000  ...   \n",
       "3          0.456906            57           41.0      3.933535  ...   \n",
       "4          0.795869            21            0.0      3.933535  ...   \n",
       "\n",
       "   avg_ratings1  anonymity_freq1  sensationalism1  nbr_reviews1  \\\n",
       "0      5.000000         0.000000         0.666667             1   \n",
       "1      4.929825         0.000000         0.456906            57   \n",
       "2      4.972840         0.003756         0.111742          6922   \n",
       "3      4.929825         0.000000         0.456906            57   \n",
       "4      3.714286         0.000000         0.795869            21   \n",
       "\n",
       "   nbr_articles1  avg_ratings2  anonymity_freq2  sensationalism1  \\\n",
       "0            0.0      4.000000          0.50000         1.114625   \n",
       "1           41.0      4.000000          0.50000         1.114625   \n",
       "2           50.0      4.000000          0.50000         1.114625   \n",
       "3           41.0      3.933535          0.01994         0.634727   \n",
       "4            0.0      3.933535          0.01994         0.634727   \n",
       "\n",
       "   nbr_reviews2  nbr_articles2  \n",
       "0             2            8.0  \n",
       "1             2            8.0  \n",
       "2             2            8.0  \n",
       "3          4965          235.0  \n",
       "4          4965          235.0  \n",
       "\n",
       "[5 rows x 34 columns]"
      ]
     },
     "execution_count": 22,
     "metadata": {},
     "output_type": "execute_result"
    }
   ],
   "source": [
    "status_dataset.head()"
   ]
  },
  {
   "cell_type": "markdown",
   "metadata": {},
   "source": [
    "## 2. Data Analysis"
   ]
  },
  {
   "cell_type": "code",
   "execution_count": 41,
   "metadata": {},
   "outputs": [
    {
     "data": {
      "image/png": "[encoded data removed]",
      "text/plain": [
       "<Figure size 432x288 with 1 Axes>"
      ]
     },
     "metadata": {
      "needs_background": "light"
     },
     "output_type": "display_data"
    }
   ],
   "source": [
    "ax = sns.distplot(members['nbr_reviews'], bins=40, kde=False);\n",
    "ax.set_yscale('log')\n",
    "ax.set(title='Distribution of the number of reviews by users', xlabel='number of reviews', ylabel='number of users')\n",
    "plt.show()"
   ]
  },
  {
   "cell_type": "code",
   "execution_count": 42,
   "metadata": {},
   "outputs": [
    {
     "data": {
      "image/png": "[encoded data removed]",
      "text/plain": [
       "<Figure size 432x288 with 1 Axes>"
      ]
     },
     "metadata": {
      "needs_background": "light"
     },
     "output_type": "display_data"
    }
   ],
   "source": [
    "ax = sns.distplot(members['nbr_articles'], bins=40, kde=False);\n",
    "ax.set_yscale('log')\n",
    "ax.set(title='Distribution of the number of articles by users', xlabel='number of articles', ylabel='number of users')\n",
    "plt.show()"
   ]
  },
  {
   "cell_type": "code",
   "execution_count": 56,
   "metadata": {},
   "outputs": [
    {
     "data": {
      "image/png": "[encoded data removed]",
      "text/plain": [
       "<Figure size 432x288 with 1 Axes>"
      ]
     },
     "metadata": {
      "needs_background": "light"
     },
     "output_type": "display_data"
    }
   ],
   "source": [
    "ax = sns.distplot(members['avg_ratings'], bins=40, kde=False);\n",
    "ax.set(title='Distribution of mean rating', xlabel='mean rating', ylabel='number of users')\n",
    "plt.show()"
   ]
  },
  {
   "cell_type": "code",
   "execution_count": 55,
   "metadata": {},
   "outputs": [
    {
     "data": {
      "image/png": "[encoded data removed]",
      "text/plain": [
       "<Figure size 432x288 with 1 Axes>"
      ]
     },
     "metadata": {
      "needs_background": "light"
     },
     "output_type": "display_data"
    }
   ],
   "source": [
    "ax = sns.distplot(members['anonymity_freq'], bins=40, kde=False);\n",
    "ax.set_yscale('log')\n",
    "ax.set(title='Distribution of anonymity frequency', xlabel='anonymity frequency', ylabel='number of users')\n",
    "plt.show()"
   ]
  },
  {
   "cell_type": "code",
   "execution_count": 59,
   "metadata": {},
   "outputs": [
    {
     "data": {
      "image/png": "[encoded data removed]",
      "text/plain": [
       "<Figure size 432x288 with 1 Axes>"
      ]
     },
     "metadata": {
      "needs_background": "light"
     },
     "output_type": "display_data"
    }
   ],
   "source": [
    "ax = sns.distplot(members['sensationalism'], bins=20, kde=False);\n",
    "ax.set(title='Distribution of sensationalism', xlabel='sensationalism', ylabel='number of users')\n",
    "plt.show()"
   ]
  },
  {
   "cell_type": "markdown",
   "metadata": {},
   "source": [
    "**I'm not sure I understand what is happening below**"
   ]
  },
  {
   "cell_type": "code",
   "execution_count": null,
   "metadata": {},
   "outputs": [],
   "source": [
    "features = user_ratings.copy(deep=True)"
   ]
  },
  {
   "cell_type": "code",
   "execution_count": null,
   "metadata": {},
   "outputs": [],
   "source": [
    "### log scale and normalize\n",
    "\n",
    "features['FromId_posting_freq'] = features['FromId_posting_freq'].apply(lambda x: np.log(x) if x > 0 else 0)\n",
    "features['FromId_articles_freq'] = features['FromId_articles_freq'].apply(lambda x: np.log(x) if x > 0 else 0)\n",
    "\n",
    "features['ToId_posting_freq'] = features['ToId_posting_freq'].apply(lambda x: np.log(x) if x > 0 else 0)\n",
    "features['ToId_articles_freq'] = features['ToId_articles_freq'].apply(lambda x: np.log(x) if x > 0 else 0)\n",
    "\n",
    "features['FromId_posting_freq'] /= unique_nodes['Posting_freq'].max()\n",
    "features['FromId_articles_freq'] /= unique_nodes['Articles_freq'].max()\n",
    "\n",
    "features['ToId_posting_freq'] /= unique_nodes['Posting_freq'].max()\n",
    "features['ToId_articles_freq'] /= unique_nodes['Articles_freq'].max()"
   ]
  },
  {
   "cell_type": "code",
   "execution_count": null,
   "metadata": {},
   "outputs": [],
   "source": [
    "features['FromId_mean_rating'] /= unique_nodes['Mean_rating'].max()\n",
    "features['FromId_sense_factor'] /= unique_nodes['Sensationalism'].max()\n",
    "\n",
    "features['ToId_mean_rating'] /= unique_nodes['Mean_rating'].max()\n",
    "features['ToId_sense_factor'] /= unique_nodes['Sensationalism'].max()"
   ]
  },
  {
   "cell_type": "code",
   "execution_count": null,
   "metadata": {},
   "outputs": [],
   "source": [
    "features.drop(columns=[\"FromId_status_freq\", \"ToId_status_freq\"], inplace=True)\n",
    "features.head(5)"
   ]
  },
  {
   "cell_type": "code",
   "execution_count": null,
   "metadata": {},
   "outputs": [],
   "source": [
    "features[\"posting\"] = features[['FromId_posting_freq', 'ToId_posting_freq']].apply(lambda x: x[0] - x[1], axis = 1)\n",
    "features[\"articles\"] = features[['FromId_articles_freq', 'ToId_articles_freq']].apply(lambda x: x[0] - x[1], axis = 1)\n",
    "features[\"mean_rating\"] = features[['FromId_mean_rating', 'ToId_mean_rating']].apply(lambda x: x[0] - x[1], axis = 1)\n",
    "features[\"sensationalism\"] = features[['FromId_sense_factor', 'ToId_sense_factor']].apply(lambda x: x[0] - x[1], axis = 1)\n",
    "features[\"anonymity\"] = features[['FromId_anonymity_norm', 'ToId_anonymity_norm']].apply(lambda x: x[0] - x[1], axis = 1)"
   ]
  },
  {
   "cell_type": "code",
   "execution_count": null,
   "metadata": {},
   "outputs": [],
   "source": [
    "features.drop(columns=['FromId_posting_freq', 'ToId_posting_freq'], inplace=True)\n",
    "features.drop(columns=['FromId_articles_freq', 'ToId_articles_freq'], inplace=True)\n",
    "features.drop(columns=['FromId_mean_rating', 'ToId_mean_rating'], inplace=True)\n",
    "features.drop(columns=['FromId_sense_factor', 'ToId_sense_factor'], inplace=True)\n",
    "features.drop(columns=['FromId_anonymity_norm', 'ToId_anonymity_norm'], inplace=True)"
   ]
  },
  {
   "cell_type": "code",
   "execution_count": null,
   "metadata": {},
   "outputs": [],
   "source": [
    "### try another feature: activity dates ?\n",
    "\n",
    "features[\"labels\"] = features[\"sign\"].apply(lambda x: 0 if x==-1 else x)\n",
    "features.drop(inplace=True, columns=[\"sign\", \"FromId\", \"ToId\"])\n",
    "features.head(5)"
   ]
  },
  {
   "cell_type": "code",
   "execution_count": null,
   "metadata": {},
   "outputs": [],
   "source": [
    "features.drop(inplace=True, columns=[\"creation\"])\n",
    "features.head(5)"
   ]
  },
  {
   "cell_type": "code",
   "execution_count": null,
   "metadata": {},
   "outputs": [],
   "source": [
    "### normalize unique_nodes\n",
    "\n",
    "#unique_nodes['Posting_freq'] = unique_nodes['Posting_freq']/(unique_nodes['Posting_freq'].max())\n",
    "#unique_nodes['Status_freq'] = unique_nodes['Status_freq']/(unique_nodes['Status_freq'].max())\n",
    "#unique_nodes['Mean_rating'] = unique_nodes['Mean_rating']/(unique_nodes['Mean_rating'].max())\n",
    "#unique_nodes['Articles_freq'] = unique_nodes['Articles_freq']/(unique_nodes['Articles_freq'].max())\n",
    "#unique_nodes['Sensationalism'] = unique_nodes['Sensationalism']/(unique_nodes['Sensationalism'].max())\n",
    "#unique_nodes['Anonymity_norm'] = unique_nodes['Anonymity_norm']"
   ]
  },
  {
   "cell_type": "markdown",
   "metadata": {},
   "source": [
    "### Statistical Tests"
   ]
  },
  {
   "cell_type": "code",
   "execution_count": null,
   "metadata": {},
   "outputs": [],
   "source": [
    "import warnings\n",
    "\n",
    "warnings.filterwarnings(\"ignore\")"
   ]
  },
  {
   "cell_type": "code",
   "execution_count": null,
   "metadata": {},
   "outputs": [],
   "source": [
    "# Plot the distributions of postings, according to higher/lower_status\n",
    "\n",
    "higher_status = features.loc[(features['labels'] == 1)]\n",
    "lower_status = features.loc[(features['labels'] == 0)]\n",
    "\n",
    "ax_accept = sns.distplot(higher_status['posting'], hist=True, label = '+ve edge');\n",
    "ax_accept.set(title='Distribution of postings', ylabel='pdf')\n",
    "ax_reject = sns.distplot(lower_status['posting'], hist=True, color = 'y', label = '-ve edge');\n",
    "plt.legend()\n",
    "plt.show()"
   ]
  },
  {
   "cell_type": "code",
   "execution_count": null,
   "metadata": {},
   "outputs": [],
   "source": [
    "# Compare the sample variance of the two groups\n",
    "\n",
    "F = np.var(higher_status['posting'])/np.var(lower_status['posting'])\n",
    "print(f'variance(higher_status_edge)/variance(lower_status_edge) = {F}')"
   ]
  },
  {
   "cell_type": "code",
   "execution_count": null,
   "metadata": {},
   "outputs": [],
   "source": [
    "scipy.stats.ttest_ind(higher_status['posting'], lower_status['posting'], equal_var = False)"
   ]
  },
  {
   "cell_type": "code",
   "execution_count": null,
   "metadata": {},
   "outputs": [],
   "source": [
    "# Plot the distributions of articles, according to higher/lower_status\n",
    "\n",
    "#higher_status = features.loc[(features['labels'] == 1)]\n",
    "#lower_status = features.loc[(features['labels'] == 0)]\n",
    "\n",
    "ax_accept = sns.distplot(higher_status['articles'], hist=True, label = '+ve edge');\n",
    "ax_accept.set(title='Distribution of articles', ylabel='pdf')\n",
    "ax_reject = sns.distplot(lower_status['articles'], hist=True, color = 'y', label = '-ve edge');\n",
    "plt.legend()\n",
    "plt.show()"
   ]
  },
  {
   "cell_type": "code",
   "execution_count": null,
   "metadata": {},
   "outputs": [],
   "source": [
    "# Compare the sample variance of the two groups\n",
    "\n",
    "F = np.var(higher_status['articles'])/np.var(lower_status['articles'])\n",
    "print(f'variance(higher_status_edge)/variance(lower_status_edge) = {F}')"
   ]
  },
  {
   "cell_type": "code",
   "execution_count": null,
   "metadata": {},
   "outputs": [],
   "source": [
    "scipy.stats.ttest_ind(higher_status['articles'], lower_status['articles'], equal_var = False)"
   ]
  },
  {
   "cell_type": "code",
   "execution_count": null,
   "metadata": {},
   "outputs": [],
   "source": [
    "# Plot the distributions of Mean_rating, according to higher/lower_status\n",
    "\n",
    "#higher_status = features.loc[(features['labels'] == 1)]\n",
    "#lower_status = features.loc[(features['labels'] == 0)]\n",
    "\n",
    "ax_accept = sns.distplot(higher_status['mean_rating'], hist=True, label = '+ve edge');\n",
    "ax_accept.set(title='Distribution of mean ratings', ylabel='pdf')\n",
    "ax_reject = sns.distplot(lower_status['mean_rating'], hist=True, color = 'y', label = '-ve edge');\n",
    "plt.legend()\n",
    "plt.show()"
   ]
  },
  {
   "cell_type": "code",
   "execution_count": null,
   "metadata": {},
   "outputs": [],
   "source": [
    "# Compare the sample variance of the two groups\n",
    "\n",
    "F = np.var(higher_status['mean_rating'])/np.var(lower_status['mean_rating'])\n",
    "print(f'variance(higher_status_edge)/variance(lower_status_edge) = {F}')"
   ]
  },
  {
   "cell_type": "code",
   "execution_count": null,
   "metadata": {},
   "outputs": [],
   "source": [
    "scipy.stats.ttest_ind(higher_status['mean_rating'], lower_status['mean_rating'], equal_var = False)"
   ]
  },
  {
   "cell_type": "code",
   "execution_count": null,
   "metadata": {},
   "outputs": [],
   "source": [
    "# Plot the distributions of sensationalism, according to higher/lower_status\n",
    "\n",
    "#higher_status = features.loc[(features['labels'] == 1)]\n",
    "#lower_status = features.loc[(features['labels'] == 0)]\n",
    "\n",
    "ax_accept = sns.distplot(higher_status['sensationalism'], hist=True, label = '+ve edge');\n",
    "ax_accept.set(title='Distribution of sensationalism', ylabel='pdf')\n",
    "ax_reject = sns.distplot(lower_status['sensationalism'], hist=True, color = 'y', label = '-ve edge');\n",
    "plt.legend()\n",
    "plt.show()"
   ]
  },
  {
   "cell_type": "code",
   "execution_count": null,
   "metadata": {},
   "outputs": [],
   "source": [
    "# Compare the sample variance of the two groups\n",
    "\n",
    "F = np.var(higher_status['sensationalism'])/np.var(lower_status['sensationalism'])\n",
    "print(f'variance(higher_status_edge)/variance(lower_status_edge) = {F}')"
   ]
  },
  {
   "cell_type": "code",
   "execution_count": null,
   "metadata": {},
   "outputs": [],
   "source": [
    "scipy.stats.ttest_ind(higher_status['sensationalism'], lower_status['sensationalism'], equal_var = False)"
   ]
  },
  {
   "cell_type": "code",
   "execution_count": null,
   "metadata": {},
   "outputs": [],
   "source": [
    "# Plot the distributions of anonymity, according to higher/lower_status\n",
    "\n",
    "#higher_status = features.loc[(features['labels'] == 1)]\n",
    "#lower_status = features.loc[(features['labels'] == 0)]\n",
    "\n",
    "ax_accept = sns.distplot(higher_status['anonymity'], hist=True, label = '+ve edge');\n",
    "ax_accept.set(title='Distribution of anonymity', ylabel='pdf')\n",
    "ax_reject = sns.distplot(lower_status['anonymity'], hist=True, color = 'y', label = '-ve edge');\n",
    "plt.legend()\n",
    "plt.show()"
   ]
  },
  {
   "cell_type": "code",
   "execution_count": null,
   "metadata": {},
   "outputs": [],
   "source": [
    "F = np.var(higher_status['anonymity'])/np.var(lower_status['anonymity'])\n",
    "print(f'variance(higher_status_edge)/variance(lower_status_edge) = {F}')"
   ]
  },
  {
   "cell_type": "code",
   "execution_count": null,
   "metadata": {},
   "outputs": [],
   "source": [
    "scipy.stats.ttest_ind(higher_status['anonymity'], lower_status['anonymity'], equal_var = True)"
   ]
  },
  {
   "cell_type": "code",
   "execution_count": null,
   "metadata": {},
   "outputs": [],
   "source": []
  }
 ],
 "metadata": {
  "kernelspec": {
   "display_name": "Python 3",
   "language": "python",
   "name": "python3"
  },
  "language_info": {
   "codemirror_mode": {
    "name": "ipython",
    "version": 3
   },
   "file_extension": ".py",
   "mimetype": "text/x-python",
   "name": "python",
   "nbconvert_exporter": "python",
   "pygments_lexer": "ipython3",
   "version": "3.8.5"
  }
 },
 "nbformat": 4,
 "nbformat_minor": 4
}
