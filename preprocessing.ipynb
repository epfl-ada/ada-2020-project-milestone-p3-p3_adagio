{
 "cells": [
  {
   "cell_type": "markdown",
   "metadata": {},
   "source": [
    "# ADA milestone P4: creative extension of 'Signed Network in Social Media'\n",
    "\n",
    "### **Outline**:\n",
    "* 1. Data Wrangling\n",
    "    * 1.1 Reading the datasets\n",
    "    * 1.2 Recreating the paper's settings\n",
    "        * 1.2.1 Epinions and user_rating\n",
    "        * 1.2.2 Selecting the same edges than in the paper\n",
    "    * 1.3 Combining the datasets\n",
    "        * 1.3.1 Computing user-centered features\n",
    "        * 1.3.2 Merging the member's features with the edges' dataframe (status_dataset)\n",
    "* 2. Data Analysis\n",
    "    * 2.1 Users statistics"
   ]
  },
  {
   "cell_type": "code",
   "execution_count": 1,
   "metadata": {},
   "outputs": [],
   "source": [
    "import pandas as pd\n",
    "import matplotlib.pyplot as plt\n",
    "import seaborn as sns\n",
    "import numpy as np\n",
    "import statistics \n",
    "import math\n",
    "import scipy\n",
    "from sklearn.utils import resample\n",
    "from sklearn.model_selection import train_test_split\n",
    "from sklearn.ensemble import GradientBoostingRegressor\n",
    "from sklearn.model_selection import KFold \n",
    "from sklearn.metrics import r2_score\n",
    "from sklearn.linear_model import LinearRegression"
   ]
  },
  {
   "cell_type": "markdown",
   "metadata": {},
   "source": [
    " ----------------------------------------------------\n",
    "## 1. Data Wrangling\n",
    "\n",
    "We wish to combine the informations from three datasets to extract meaningful features for our model"
   ]
  },
  {
   "cell_type": "markdown",
   "metadata": {},
   "source": [
    "### 1.1 Reading the datasets\n",
    "\n",
    "#### **Ratings**\n",
    "\n",
    "Ratings are quantified statements made by users regarding the quality of a content in the site. Ratings is the basis on which the contents are sorted and filtered.\n",
    "\n",
    "Column Details:\n",
    "\n",
    "* OBJECT_ID The object ID is the object that is being rated. The only valid objects at the present time are the content_id of the member_content table. This means that at present this table only stores the ratings on reviews and essays\n",
    "* MEMBER_ID Stores the id of the member who is rating the object\n",
    "* RATING Stores the 1-5 (1- Not helpful , 2 - Somewhat Helpful, 3 - Helpful 4 - Very Helpful 5- Most Helpful) rating of the object by member [There are some 6s, treat them as 5]\n",
    "* STATUS The display status of the rating. 1 :- means the member has chosen not to show his rating of the object and 0 meaning the member does not mind showing his name beside the rating. **We renamed this feature 'anonymity' to avoid confusion with the notion of status in triads theory**\n",
    "* CREATION The date on which the member first rated this object\n",
    "* LAST_MODIFIED The latest date on which the member modified his rating of the object\n",
    "* TYPE If and when we allow more than just content rating to be stored in this table, then this column would store the type of the object being rated.\n",
    "* VERTICAL_ID Vertical_id of the review."
   ]
  },
  {
   "cell_type": "code",
   "execution_count": 2,
   "metadata": {},
   "outputs": [
    {
     "data": {
      "text/html": [
       "<div>\n",
       "<style scoped>\n",
       "    .dataframe tbody tr th:only-of-type {\n",
       "        vertical-align: middle;\n",
       "    }\n",
       "\n",
       "    .dataframe tbody tr th {\n",
       "        vertical-align: top;\n",
       "    }\n",
       "\n",
       "    .dataframe thead th {\n",
       "        text-align: right;\n",
       "    }\n",
       "</style>\n",
       "<table border=\"1\" class=\"dataframe\">\n",
       "  <thead>\n",
       "    <tr style=\"text-align: right;\">\n",
       "      <th></th>\n",
       "      <th>object_id</th>\n",
       "      <th>member_id</th>\n",
       "      <th>rating</th>\n",
       "      <th>anonymity</th>\n",
       "      <th>type</th>\n",
       "    </tr>\n",
       "  </thead>\n",
       "  <tbody>\n",
       "    <tr>\n",
       "      <td>0</td>\n",
       "      <td>139431556</td>\n",
       "      <td>591156</td>\n",
       "      <td>5</td>\n",
       "      <td>0</td>\n",
       "      <td>1</td>\n",
       "    </tr>\n",
       "    <tr>\n",
       "      <td>1</td>\n",
       "      <td>139431556</td>\n",
       "      <td>1312460676</td>\n",
       "      <td>5</td>\n",
       "      <td>0</td>\n",
       "      <td>1</td>\n",
       "    </tr>\n",
       "    <tr>\n",
       "      <td>2</td>\n",
       "      <td>139431556</td>\n",
       "      <td>204358</td>\n",
       "      <td>5</td>\n",
       "      <td>0</td>\n",
       "      <td>1</td>\n",
       "    </tr>\n",
       "    <tr>\n",
       "      <td>3</td>\n",
       "      <td>139431556</td>\n",
       "      <td>368725</td>\n",
       "      <td>5</td>\n",
       "      <td>0</td>\n",
       "      <td>1</td>\n",
       "    </tr>\n",
       "    <tr>\n",
       "      <td>4</td>\n",
       "      <td>139431556</td>\n",
       "      <td>277629</td>\n",
       "      <td>5</td>\n",
       "      <td>0</td>\n",
       "      <td>1</td>\n",
       "    </tr>\n",
       "  </tbody>\n",
       "</table>\n",
       "</div>"
      ],
      "text/plain": [
       "   object_id   member_id  rating  anonymity  type\n",
       "0  139431556      591156       5          0     1\n",
       "1  139431556  1312460676       5          0     1\n",
       "2  139431556      204358       5          0     1\n",
       "3  139431556      368725       5          0     1\n",
       "4  139431556      277629       5          0     1"
      ]
     },
     "execution_count": 2,
     "metadata": {},
     "output_type": "execute_result"
    }
   ],
   "source": [
    "ratings = pd.read_csv('data/rating.txt', delimiter='\\t',header=None)\n",
    "ratings = ratings.rename(columns = {0:'object_id', 1:'member_id',2:'rating',3:'anonymity',4:'creation',5:'last_modified',6:'type',7:'vertical_id'})\n",
    "\n",
    "# We only select the features that are of interest for our analysis\n",
    "\n",
    "# TODO: rename status for anonymity so we don't get confused !!\n",
    "ratings = ratings[['object_id','member_id','rating','anonymity','type']]\n",
    "\n",
    "ratings[\"rating\"] = ratings[\"rating\"].apply(lambda x: (x-1) if x == 6 else x)\n",
    "ratings.head()"
   ]
  },
  {
   "cell_type": "markdown",
   "metadata": {},
   "source": [
    "#### **mc**\n",
    "\n",
    "Each article is written by a user.\n",
    "\n",
    "Column Details:\n",
    "\n",
    "* CONTENT_ID The object ID of the article.\n",
    "* AUTHOR_ID The ID of the user who wrote the article\n",
    "* SUBJECT_ID The ID of the subject that the article is supposed to be about"
   ]
  },
  {
   "cell_type": "code",
   "execution_count": 3,
   "metadata": {},
   "outputs": [
    {
     "data": {
      "text/html": [
       "<div>\n",
       "<style scoped>\n",
       "    .dataframe tbody tr th:only-of-type {\n",
       "        vertical-align: middle;\n",
       "    }\n",
       "\n",
       "    .dataframe tbody tr th {\n",
       "        vertical-align: top;\n",
       "    }\n",
       "\n",
       "    .dataframe thead th {\n",
       "        text-align: right;\n",
       "    }\n",
       "</style>\n",
       "<table border=\"1\" class=\"dataframe\">\n",
       "  <thead>\n",
       "    <tr style=\"text-align: right;\">\n",
       "      <th></th>\n",
       "      <th>content_id</th>\n",
       "      <th>author_id</th>\n",
       "      <th>subject_id</th>\n",
       "    </tr>\n",
       "  </thead>\n",
       "  <tbody>\n",
       "    <tr>\n",
       "      <td>0</td>\n",
       "      <td>1445594</td>\n",
       "      <td>718357</td>\n",
       "      <td>1.490024e+11</td>\n",
       "    </tr>\n",
       "    <tr>\n",
       "      <td>1</td>\n",
       "      <td>1445595</td>\n",
       "      <td>220568</td>\n",
       "      <td>1.490036e+11</td>\n",
       "    </tr>\n",
       "    <tr>\n",
       "      <td>2</td>\n",
       "      <td>1445596</td>\n",
       "      <td>717325</td>\n",
       "      <td>5.303145e+09</td>\n",
       "    </tr>\n",
       "    <tr>\n",
       "      <td>3</td>\n",
       "      <td>1445597</td>\n",
       "      <td>360156</td>\n",
       "      <td>1.926209e+11</td>\n",
       "    </tr>\n",
       "    <tr>\n",
       "      <td>4</td>\n",
       "      <td>1445598</td>\n",
       "      <td>718857</td>\n",
       "      <td>1.490022e+11</td>\n",
       "    </tr>\n",
       "  </tbody>\n",
       "</table>\n",
       "</div>"
      ],
      "text/plain": [
       "   content_id  author_id    subject_id\n",
       "0     1445594     718357  1.490024e+11\n",
       "1     1445595     220568  1.490036e+11\n",
       "2     1445596     717325  5.303145e+09\n",
       "3     1445597     360156  1.926209e+11\n",
       "4     1445598     718857  1.490022e+11"
      ]
     },
     "execution_count": 3,
     "metadata": {},
     "output_type": "execute_result"
    }
   ],
   "source": [
    "mc = pd.read_csv('data/mc.txt.gz', delimiter='|',header=None)\n",
    "mc = mc.rename(columns = {0:'content_id', 1:'author_id',2:'subject_id'})\n",
    "mc.head()"
   ]
  },
  {
   "cell_type": "markdown",
   "metadata": {},
   "source": [
    "#### **User ratings**\n",
    "\n",
    "Trust is the mechanism by which the user makes a statement that they like the content or the behavior of particular user and would like to see more of what the users does in the site. Distrust is the opposite of the trust in which the user says that they do want to see lesser of the operations performed by that user.\n",
    "\n",
    "Column Details:\n",
    "\n",
    "* MY_ID This stores Id of the member who is making the trust/distrust statement\n",
    "* OTHER_ID The other ID is the ID of the member being trusted/distrusted\n",
    "* VALUE Value = 1 for trust and -1 for distrust\n",
    "* CREATION It is the date on which the trust was made"
   ]
  },
  {
   "cell_type": "code",
   "execution_count": 4,
   "metadata": {},
   "outputs": [
    {
     "data": {
      "text/html": [
       "<div>\n",
       "<style scoped>\n",
       "    .dataframe tbody tr th:only-of-type {\n",
       "        vertical-align: middle;\n",
       "    }\n",
       "\n",
       "    .dataframe tbody tr th {\n",
       "        vertical-align: top;\n",
       "    }\n",
       "\n",
       "    .dataframe thead th {\n",
       "        text-align: right;\n",
       "    }\n",
       "</style>\n",
       "<table border=\"1\" class=\"dataframe\">\n",
       "  <thead>\n",
       "    <tr style=\"text-align: right;\">\n",
       "      <th></th>\n",
       "      <th>FromNodeId</th>\n",
       "      <th>ToNodeId</th>\n",
       "      <th>Sign</th>\n",
       "      <th>Creation</th>\n",
       "    </tr>\n",
       "  </thead>\n",
       "  <tbody>\n",
       "    <tr>\n",
       "      <td>0</td>\n",
       "      <td>3287060356</td>\n",
       "      <td>232085</td>\n",
       "      <td>-1</td>\n",
       "      <td>2001/01/10</td>\n",
       "    </tr>\n",
       "    <tr>\n",
       "      <td>1</td>\n",
       "      <td>3288305540</td>\n",
       "      <td>709420</td>\n",
       "      <td>1</td>\n",
       "      <td>2001/01/10</td>\n",
       "    </tr>\n",
       "    <tr>\n",
       "      <td>2</td>\n",
       "      <td>3290337156</td>\n",
       "      <td>204418</td>\n",
       "      <td>-1</td>\n",
       "      <td>2001/01/10</td>\n",
       "    </tr>\n",
       "    <tr>\n",
       "      <td>3</td>\n",
       "      <td>3294138244</td>\n",
       "      <td>269243</td>\n",
       "      <td>-1</td>\n",
       "      <td>2001/01/10</td>\n",
       "    </tr>\n",
       "    <tr>\n",
       "      <td>4</td>\n",
       "      <td>3294138244</td>\n",
       "      <td>170692484</td>\n",
       "      <td>-1</td>\n",
       "      <td>2001/01/10</td>\n",
       "    </tr>\n",
       "  </tbody>\n",
       "</table>\n",
       "</div>"
      ],
      "text/plain": [
       "   FromNodeId   ToNodeId  Sign    Creation\n",
       "0  3287060356     232085    -1  2001/01/10\n",
       "1  3288305540     709420     1  2001/01/10\n",
       "2  3290337156     204418    -1  2001/01/10\n",
       "3  3294138244     269243    -1  2001/01/10\n",
       "4  3294138244  170692484    -1  2001/01/10"
      ]
     },
     "execution_count": 4,
     "metadata": {},
     "output_type": "execute_result"
    }
   ],
   "source": [
    "user_ratings = pd.read_csv('data/user_rating.txt.gz', delimiter='\\t', header=None)\n",
    "user_ratings = user_ratings.rename(columns={0:'FromNodeId',1:'ToNodeId',2:'Sign',3:'Creation'})\n",
    "user_ratings.head()"
   ]
  },
  {
   "cell_type": "markdown",
   "metadata": {},
   "source": [
    "#### **Epinions**\n",
    "\n",
    "This dataset was the one given for the replication in milestone 2. The replication showed that it has the same statistics than the one used by the paper's author.\n",
    "\n",
    "It has the same columns than the *user_ratings* dataset, minus the creation data, which is a feature that we will want to use. \n",
    "\n",
    "In the next step, we will see if *user_ratings* contains the same network as in *epinions* dataset and can be used as substitution while keeping the same data than in the paper."
   ]
  },
  {
   "cell_type": "code",
   "execution_count": 5,
   "metadata": {},
   "outputs": [
    {
     "data": {
      "text/html": [
       "<div>\n",
       "<style scoped>\n",
       "    .dataframe tbody tr th:only-of-type {\n",
       "        vertical-align: middle;\n",
       "    }\n",
       "\n",
       "    .dataframe tbody tr th {\n",
       "        vertical-align: top;\n",
       "    }\n",
       "\n",
       "    .dataframe thead th {\n",
       "        text-align: right;\n",
       "    }\n",
       "</style>\n",
       "<table border=\"1\" class=\"dataframe\">\n",
       "  <thead>\n",
       "    <tr style=\"text-align: right;\">\n",
       "      <th></th>\n",
       "      <th>FromNodeId</th>\n",
       "      <th>ToNodeId</th>\n",
       "      <th>Sign</th>\n",
       "    </tr>\n",
       "  </thead>\n",
       "  <tbody>\n",
       "    <tr>\n",
       "      <td>0</td>\n",
       "      <td>0</td>\n",
       "      <td>1</td>\n",
       "      <td>-1</td>\n",
       "    </tr>\n",
       "    <tr>\n",
       "      <td>1</td>\n",
       "      <td>1</td>\n",
       "      <td>128552</td>\n",
       "      <td>-1</td>\n",
       "    </tr>\n",
       "    <tr>\n",
       "      <td>2</td>\n",
       "      <td>2</td>\n",
       "      <td>3</td>\n",
       "      <td>1</td>\n",
       "    </tr>\n",
       "    <tr>\n",
       "      <td>3</td>\n",
       "      <td>4</td>\n",
       "      <td>5</td>\n",
       "      <td>-1</td>\n",
       "    </tr>\n",
       "    <tr>\n",
       "      <td>4</td>\n",
       "      <td>4</td>\n",
       "      <td>155</td>\n",
       "      <td>-1</td>\n",
       "    </tr>\n",
       "  </tbody>\n",
       "</table>\n",
       "</div>"
      ],
      "text/plain": [
       "   FromNodeId  ToNodeId  Sign\n",
       "0           0         1    -1\n",
       "1           1    128552    -1\n",
       "2           2         3     1\n",
       "3           4         5    -1\n",
       "4           4       155    -1"
      ]
     },
     "execution_count": 5,
     "metadata": {},
     "output_type": "execute_result"
    }
   ],
   "source": [
    "epinions_given = pd.read_csv('data/soc-sign-epinions.txt', delimiter='\\t', header=3)\n",
    "epinions_given = epinions_given.rename(columns={'# FromNodeId':'FromNodeId'})\n",
    "epinions_given.head()"
   ]
  },
  {
   "cell_type": "markdown",
   "metadata": {},
   "source": [
    "### 1.2 Recreating the paper's settings"
   ]
  },
  {
   "cell_type": "markdown",
   "metadata": {},
   "source": [
    "#### 1.2.1 epinions & user_ratings\n",
    "\n",
    "Our first task is to determine if *epinions* and *user_ratings* can be used interchangeably."
   ]
  },
  {
   "cell_type": "code",
   "execution_count": 6,
   "metadata": {},
   "outputs": [
    {
     "name": "stdout",
     "output_type": "stream",
     "text": [
      "RangeIndex(start=0, stop=841372, step=1)\n",
      "RangeIndex(start=0, stop=841372, step=1)\n"
     ]
    }
   ],
   "source": [
    "print(epinions_given.index)\n",
    "print(user_ratings.index)"
   ]
  },
  {
   "cell_type": "markdown",
   "metadata": {},
   "source": [
    "We first notice that they have the same size, good news! \n",
    "Do they have the same set of nodes and edges?"
   ]
  },
  {
   "cell_type": "code",
   "execution_count": 7,
   "metadata": {},
   "outputs": [
    {
     "name": "stdout",
     "output_type": "stream",
     "text": [
      "The range of node Ids in the given Epinions data set is [0, 131827]\n",
      "The range of node Ids in the user ratings data set is [199781, 84015157124]\n"
     ]
    }
   ],
   "source": [
    "ep_range = [min(epinions_given['FromNodeId'].min(), epinions_given['ToNodeId'].min()), \n",
    "            max(epinions_given['FromNodeId'].max(), epinions_given['ToNodeId'].max())]\n",
    "ur_range = [min(user_ratings['FromNodeId'].min(), user_ratings['ToNodeId'].min()), \n",
    "            max(user_ratings['FromNodeId'].max(), user_ratings['ToNodeId'].max())]\n",
    "\n",
    "print(f\"The range of node Ids in the given Epinions data set is {ep_range}\")\n",
    "print(f\"The range of node Ids in the user ratings data set is {ur_range}\")"
   ]
  },
  {
   "cell_type": "markdown",
   "metadata": {},
   "source": [
    "The two graphs don't use the same range of node Ids so we can't find a straightforward mapping between the two. We use the vf2 algorithm with the igraph library to determine if one is an isomorphism of the other."
   ]
  },
  {
   "cell_type": "code",
   "execution_count": 8,
   "metadata": {},
   "outputs": [
    {
     "data": {
      "text/plain": [
       "True"
      ]
     },
     "execution_count": 8,
     "metadata": {},
     "output_type": "execute_result"
    }
   ],
   "source": [
    "import igraph as ig\n",
    "\n",
    "ur_graph = ig.Graph.TupleList(user_ratings.itertuples(index=False), edge_attrs = 'Creation', \n",
    "                              directed=True)\n",
    "ep_graph = ig.Graph.TupleList(epinions_given.itertuples(index=False), \n",
    "                              directed=True)\n",
    "ur_graph.isomorphic_vf2(ep_graph, edge_color1 = user_ratings['Sign'], edge_color2 = epinions_given['Sign'])"
   ]
  },
  {
   "cell_type": "markdown",
   "metadata": {},
   "source": [
    "Great! From now on, we will only use the user_ratings dataset, with the knowledge that it holds the same properties and distribution as in the original paper."
   ]
  },
  {
   "cell_type": "markdown",
   "metadata": {},
   "source": [
    "#### 1.2.2 Selecting the same edges as in the paper"
   ]
  },
  {
   "attachments": {
    "3937593e-204d-4327-a99b-13dc6e1d5eb1.png": {
     "image/png": "[encoded data removed]"
    }
   },
   "cell_type": "markdown",
   "metadata": {},
   "source": [
    "One of the findings of the paper is that in the setting of contextualized links, most triadic types are consistent with status theory. As we are interested in the notion of status, we will reproduce the conditions in which status theory is dominant, and in which we can interpret a positive link from A to B as B having a higher status than A.\n",
    "\n",
    "A contextualized link (A,B:X) is a link forms between A and B *after* both A and B have formed a link with X. These are the red edges in the figure below, and they are the only one we will keep in our analysis. \n",
    "\n",
    "![image.png](attachment:3937593e-204d-4327-a99b-13dc6e1d5eb1.png)"
   ]
  },
  {
   "cell_type": "markdown",
   "metadata": {},
   "source": [
    "**TODO** put the code here for selecting the edges. Reference to the function etc"
   ]
  },
  {
   "cell_type": "code",
   "execution_count": 9,
   "metadata": {},
   "outputs": [
    {
     "name": "stdout",
     "output_type": "stream",
     "text": [
      "(526410, 5)\n"
     ]
    }
   ],
   "source": [
    "status_dataset = user_ratings.copy()\n",
    "edge_types_counter = pd.read_pickle('data/edge_types.pkl')\n",
    "edge_types_counter = edge_types_counter.rename(columns={'NodeA':'FromNodeId','NodeB':'ToNodeId'})\n",
    "status_dataset = status_dataset.merge(edge_types_counter)\n",
    "print(status_dataset.shape)"
   ]
  },
  {
   "cell_type": "markdown",
   "metadata": {},
   "source": [
    "**TODO** remove this if we end up not using it."
   ]
  },
  {
   "cell_type": "code",
   "execution_count": 10,
   "metadata": {},
   "outputs": [
    {
     "data": {
      "text/html": [
       "<div>\n",
       "<style scoped>\n",
       "    .dataframe tbody tr th:only-of-type {\n",
       "        vertical-align: middle;\n",
       "    }\n",
       "\n",
       "    .dataframe tbody tr th {\n",
       "        vertical-align: top;\n",
       "    }\n",
       "\n",
       "    .dataframe thead th {\n",
       "        text-align: right;\n",
       "    }\n",
       "</style>\n",
       "<table border=\"1\" class=\"dataframe\">\n",
       "  <thead>\n",
       "    <tr style=\"text-align: right;\">\n",
       "      <th></th>\n",
       "      <th>FromNodeId</th>\n",
       "      <th>ToNodeId</th>\n",
       "      <th>type</th>\n",
       "    </tr>\n",
       "  </thead>\n",
       "  <tbody>\n",
       "    <tr>\n",
       "      <td>0</td>\n",
       "      <td>199781</td>\n",
       "      <td>206437</td>\n",
       "      <td>[6]</td>\n",
       "    </tr>\n",
       "    <tr>\n",
       "      <td>3</td>\n",
       "      <td>199781</td>\n",
       "      <td>241374</td>\n",
       "      <td>[4]</td>\n",
       "    </tr>\n",
       "    <tr>\n",
       "      <td>9</td>\n",
       "      <td>199781</td>\n",
       "      <td>515078</td>\n",
       "      <td>[4, 4]</td>\n",
       "    </tr>\n",
       "    <tr>\n",
       "      <td>10</td>\n",
       "      <td>199781</td>\n",
       "      <td>719295</td>\n",
       "      <td>[8]</td>\n",
       "    </tr>\n",
       "    <tr>\n",
       "      <td>15</td>\n",
       "      <td>199828</td>\n",
       "      <td>288761</td>\n",
       "      <td>[9]</td>\n",
       "    </tr>\n",
       "    <tr>\n",
       "      <td>...</td>\n",
       "      <td>...</td>\n",
       "      <td>...</td>\n",
       "      <td>...</td>\n",
       "    </tr>\n",
       "    <tr>\n",
       "      <td>526399</td>\n",
       "      <td>83529273220</td>\n",
       "      <td>52553944964</td>\n",
       "      <td>[9]</td>\n",
       "    </tr>\n",
       "    <tr>\n",
       "      <td>526402</td>\n",
       "      <td>83592843140</td>\n",
       "      <td>82425515908</td>\n",
       "      <td>[9]</td>\n",
       "    </tr>\n",
       "    <tr>\n",
       "      <td>526404</td>\n",
       "      <td>83594809220</td>\n",
       "      <td>304270</td>\n",
       "      <td>[4]</td>\n",
       "    </tr>\n",
       "    <tr>\n",
       "      <td>526405</td>\n",
       "      <td>83869405060</td>\n",
       "      <td>1008766852</td>\n",
       "      <td>[9]</td>\n",
       "    </tr>\n",
       "    <tr>\n",
       "      <td>526408</td>\n",
       "      <td>83873992580</td>\n",
       "      <td>59681640324</td>\n",
       "      <td>[7]</td>\n",
       "    </tr>\n",
       "  </tbody>\n",
       "</table>\n",
       "<p>177416 rows × 3 columns</p>\n",
       "</div>"
      ],
      "text/plain": [
       "         FromNodeId     ToNodeId    type\n",
       "0            199781       206437     [6]\n",
       "3            199781       241374     [4]\n",
       "9            199781       515078  [4, 4]\n",
       "10           199781       719295     [8]\n",
       "15           199828       288761     [9]\n",
       "...             ...          ...     ...\n",
       "526399  83529273220  52553944964     [9]\n",
       "526402  83592843140  82425515908     [9]\n",
       "526404  83594809220       304270     [4]\n",
       "526405  83869405060   1008766852     [9]\n",
       "526408  83873992580  59681640324     [7]\n",
       "\n",
       "[177416 rows x 3 columns]"
      ]
     },
     "execution_count": 10,
     "metadata": {},
     "output_type": "execute_result"
    }
   ],
   "source": [
    "type_inconsistent_status = [2, 3, 14, 15, 16]\n",
    "is_inconsistent = lambda l: len([e for e in l if e in type_inconsistent_status ]) > 0\n",
    "edge_types_counter[edge_types_counter.apply(lambda l: len([e for e in l['type'] if e in type_inconsistent_status ]) == 0, axis=1)]"
   ]
  },
  {
   "cell_type": "markdown",
   "metadata": {},
   "source": [
    "### 1.3 Combining the datasets"
   ]
  },
  {
   "cell_type": "markdown",
   "metadata": {},
   "source": [
    "#### 1.3.1 Computing user-centered features\n",
    "\n",
    "We want to extract from the other datasets user-centric features.\n",
    "We first use the ``ratings`` dataset to compute the average rating, the anonymity frequency, sensionalism and the number of reviews written by the users. We will also use the ``mc`` dataset to compute the number of articles written by each users.\n",
    "\n",
    "The anonymity feature is a bit tricky. As we are considering the ratings from a node 1 to a node 2, we will keep all the features that are **known to A**. This means that we will use its number of ratings, average ratings etc as is without looking if the reviews were made anonymously or not. We will also have an 'anonymity score' that represents the frequency at which A rated anonymously as we expect users who use the anonymity feature to have a different behaviour as the one who don't. These informations will be gathered in the ``members`` dataframe.\n",
    "Concerning node 2's feature, we will only keep the ratings that were done non-anonymously, because these are the ones node 1 will have access to and will be able to use in its decision. These information will be gathered in the ``members2`` dataframe."
   ]
  },
  {
   "cell_type": "code",
   "execution_count": 11,
   "metadata": {},
   "outputs": [],
   "source": [
    "members = pd.DataFrame(index = ratings['member_id'].unique())\n",
    "ratings_not_anonym = ratings[ratings['anonymity'] == 0]\n",
    "members2 = pd.DataFrame(index = ratings_not_anonym['member_id'].unique())\n",
    "dfs = [(members, ratings), (members2, ratings_not_anonym)]\n",
    "\n",
    "for m, r in dfs:\n",
    "    # number of articles written. If a user is not in this list, it means that they haven't written any articles. \n",
    "    # In this case, we set nbr_articles = 0 \n",
    "    m['nbr_articles'] = mc[['author_id', 'content_id']].set_index('author_id').groupby('author_id').count()\n",
    "    m.fillna(0, inplace = True)\n",
    "    \n",
    "    # average ratings\n",
    "    m['avg_ratings'] = r[['member_id', 'rating']].groupby('member_id').mean()\n",
    "\n",
    "    # anonymity frequency (we only need this for members dataset)\n",
    "    members['anonymity_freq'] = ratings[['member_id', 'anonymity']].groupby('member_id').mean()\n",
    "\n",
    "    # sensionalism: average of how much the review differs from the mean rating of the object\n",
    "    mean_rating = r[['object_id', 'rating']].groupby('object_id').mean()\n",
    "    mean_rating = mean_rating.rename(columns = {'rating': 'mean_rating'})\n",
    "    rates = pd.merge(r, mean_rating.reset_index(), on = 'object_id')\n",
    "    rates['diff_from_mean'] = np.absolute(rates['rating'] - rates['mean_rating'])\n",
    "    m['sensationalism'] = rates[['member_id', 'diff_from_mean']].groupby('member_id').mean()\n",
    "\n",
    "    # number of reviews made\n",
    "    m['nbr_reviews'] = r.groupby('member_id').size()"
   ]
  },
  {
   "cell_type": "markdown",
   "metadata": {},
   "source": [
    "#### 1.3.2 merging the member's features with the edges' dataframe (status_dataset)"
   ]
  },
  {
   "cell_type": "markdown",
   "metadata": {},
   "source": [
    "We rename the nodes of each edge as node1 (source) and node2 (target) and all their features as {feature}{number} for simplicity. For example, the average rate of the source vertex becomes avg_rate1"
   ]
  },
  {
   "cell_type": "code",
   "execution_count": 12,
   "metadata": {},
   "outputs": [],
   "source": [
    "status_dataset = status_dataset.rename(columns = {'FromNodeId': 'node1', 'ToNodeId': 'node2'})\n",
    "\n",
    "# merge for the source node (node1)\n",
    "status_dataset = pd.merge(status_dataset, members, left_on = 'node1', right_index = True)\n",
    "status_dataset = status_dataset.rename(columns = {'avg_ratings': 'avg_ratings1', \n",
    "                                                  'anonymity_freq': 'anonymity_freq1',\n",
    "                                                  'nbr_reviews': 'nbr_reviews1',\n",
    "                                                  'nbr_articles': 'nbr_articles1',\n",
    "                                                  'sensationalism': 'sensationalism1'})\n",
    "\n",
    "# merge for the target node (node2)\n",
    "status_dataset = pd.merge(status_dataset, members2, left_on = 'node2', right_index = True)\n",
    "status_dataset = status_dataset.rename(columns = {'avg_ratings': 'avg_ratings2', \n",
    "                                                  'nbr_reviews': 'nbr_reviews2',\n",
    "                                                  'nbr_articles': 'nbr_articles2',\n",
    "                                                  'sensationalism': 'sensationalism2'})\n",
    "\n",
    "status_dataset.reset_index(drop = True, inplace = True)"
   ]
  },
  {
   "cell_type": "code",
   "execution_count": 13,
   "metadata": {},
   "outputs": [
    {
     "name": "stdout",
     "output_type": "stream",
     "text": [
      "(461536, 14)\n"
     ]
    },
    {
     "data": {
      "text/html": [
       "<div>\n",
       "<style scoped>\n",
       "    .dataframe tbody tr th:only-of-type {\n",
       "        vertical-align: middle;\n",
       "    }\n",
       "\n",
       "    .dataframe tbody tr th {\n",
       "        vertical-align: top;\n",
       "    }\n",
       "\n",
       "    .dataframe thead th {\n",
       "        text-align: right;\n",
       "    }\n",
       "</style>\n",
       "<table border=\"1\" class=\"dataframe\">\n",
       "  <thead>\n",
       "    <tr style=\"text-align: right;\">\n",
       "      <th></th>\n",
       "      <th>node1</th>\n",
       "      <th>node2</th>\n",
       "      <th>Sign</th>\n",
       "      <th>Creation</th>\n",
       "      <th>type</th>\n",
       "      <th>nbr_articles1</th>\n",
       "      <th>avg_ratings1</th>\n",
       "      <th>anonymity_freq1</th>\n",
       "      <th>sensationalism1</th>\n",
       "      <th>nbr_reviews1</th>\n",
       "      <th>nbr_articles2</th>\n",
       "      <th>avg_ratings2</th>\n",
       "      <th>sensationalism2</th>\n",
       "      <th>nbr_reviews2</th>\n",
       "    </tr>\n",
       "  </thead>\n",
       "  <tbody>\n",
       "    <tr>\n",
       "      <td>0</td>\n",
       "      <td>209227652</td>\n",
       "      <td>482665</td>\n",
       "      <td>1</td>\n",
       "      <td>2001/01/10</td>\n",
       "      <td>[3, 1, 11, 9]</td>\n",
       "      <td>3.0</td>\n",
       "      <td>5.000000</td>\n",
       "      <td>0.000000</td>\n",
       "      <td>0.191199</td>\n",
       "      <td>16</td>\n",
       "      <td>34.0</td>\n",
       "      <td>4.449219</td>\n",
       "      <td>0.324221</td>\n",
       "      <td>256</td>\n",
       "    </tr>\n",
       "    <tr>\n",
       "      <td>1</td>\n",
       "      <td>209424260</td>\n",
       "      <td>482665</td>\n",
       "      <td>1</td>\n",
       "      <td>2001/01/10</td>\n",
       "      <td>[9, 11, 11, 3, 9, 1]</td>\n",
       "      <td>3.0</td>\n",
       "      <td>4.250000</td>\n",
       "      <td>0.000000</td>\n",
       "      <td>0.570238</td>\n",
       "      <td>4</td>\n",
       "      <td>34.0</td>\n",
       "      <td>4.449219</td>\n",
       "      <td>0.324221</td>\n",
       "      <td>256</td>\n",
       "    </tr>\n",
       "    <tr>\n",
       "      <td>2</td>\n",
       "      <td>511995</td>\n",
       "      <td>482665</td>\n",
       "      <td>1</td>\n",
       "      <td>2001/01/10</td>\n",
       "      <td>[10, 3]</td>\n",
       "      <td>63.0</td>\n",
       "      <td>4.000000</td>\n",
       "      <td>0.375000</td>\n",
       "      <td>1.124566</td>\n",
       "      <td>16</td>\n",
       "      <td>34.0</td>\n",
       "      <td>4.449219</td>\n",
       "      <td>0.324221</td>\n",
       "      <td>256</td>\n",
       "    </tr>\n",
       "    <tr>\n",
       "      <td>3</td>\n",
       "      <td>533639</td>\n",
       "      <td>482665</td>\n",
       "      <td>1</td>\n",
       "      <td>2001/01/10</td>\n",
       "      <td>[3, 9]</td>\n",
       "      <td>59.0</td>\n",
       "      <td>4.941574</td>\n",
       "      <td>0.000000</td>\n",
       "      <td>0.112702</td>\n",
       "      <td>3851</td>\n",
       "      <td>34.0</td>\n",
       "      <td>4.449219</td>\n",
       "      <td>0.324221</td>\n",
       "      <td>256</td>\n",
       "    </tr>\n",
       "    <tr>\n",
       "      <td>4</td>\n",
       "      <td>508183</td>\n",
       "      <td>482665</td>\n",
       "      <td>1</td>\n",
       "      <td>2001/01/10</td>\n",
       "      <td>[3, 15, 3, 11, 3, 9, 1]</td>\n",
       "      <td>35.0</td>\n",
       "      <td>4.854749</td>\n",
       "      <td>0.106145</td>\n",
       "      <td>0.821581</td>\n",
       "      <td>179</td>\n",
       "      <td>34.0</td>\n",
       "      <td>4.449219</td>\n",
       "      <td>0.324221</td>\n",
       "      <td>256</td>\n",
       "    </tr>\n",
       "  </tbody>\n",
       "</table>\n",
       "</div>"
      ],
      "text/plain": [
       "       node1   node2  Sign    Creation                     type  \\\n",
       "0  209227652  482665     1  2001/01/10            [3, 1, 11, 9]   \n",
       "1  209424260  482665     1  2001/01/10     [9, 11, 11, 3, 9, 1]   \n",
       "2     511995  482665     1  2001/01/10                  [10, 3]   \n",
       "3     533639  482665     1  2001/01/10                   [3, 9]   \n",
       "4     508183  482665     1  2001/01/10  [3, 15, 3, 11, 3, 9, 1]   \n",
       "\n",
       "   nbr_articles1  avg_ratings1  anonymity_freq1  sensationalism1  \\\n",
       "0            3.0      5.000000         0.000000         0.191199   \n",
       "1            3.0      4.250000         0.000000         0.570238   \n",
       "2           63.0      4.000000         0.375000         1.124566   \n",
       "3           59.0      4.941574         0.000000         0.112702   \n",
       "4           35.0      4.854749         0.106145         0.821581   \n",
       "\n",
       "   nbr_reviews1  nbr_articles2  avg_ratings2  sensationalism2  nbr_reviews2  \n",
       "0            16           34.0      4.449219         0.324221           256  \n",
       "1             4           34.0      4.449219         0.324221           256  \n",
       "2            16           34.0      4.449219         0.324221           256  \n",
       "3          3851           34.0      4.449219         0.324221           256  \n",
       "4           179           34.0      4.449219         0.324221           256  "
      ]
     },
     "execution_count": 13,
     "metadata": {},
     "output_type": "execute_result"
    }
   ],
   "source": [
    "print(status_dataset.shape)\n",
    "status_dataset.head()"
   ]
  },
  {
   "cell_type": "markdown",
   "metadata": {},
   "source": [
    "**TODO: comment on the percentage of the original dataset this makes us use**"
   ]
  },
  {
   "cell_type": "markdown",
   "metadata": {},
   "source": [
    "------------------------\n",
    "## 2. Data Analysis"
   ]
  },
  {
   "cell_type": "code",
   "execution_count": 14,
   "metadata": {},
   "outputs": [
    {
     "data": {
      "image/png": "[encoded data removed]",
      "text/plain": [
       "<Figure size 432x288 with 1 Axes>"
      ]
     },
     "metadata": {
      "needs_background": "light"
     },
     "output_type": "display_data"
    }
   ],
   "source": [
    "ax = sns.distplot(members['nbr_reviews'], bins=40, kde=False);\n",
    "ax.set_yscale('log')\n",
    "ax.set(title='Distribution of the number of reviews by users (log scale)', xlabel='number of reviews', ylabel='number of users')\n",
    "plt.show()"
   ]
  },
  {
   "cell_type": "code",
   "execution_count": 15,
   "metadata": {},
   "outputs": [
    {
     "data": {
      "image/png": "[encoded data removed]",
      "text/plain": [
       "<Figure size 432x288 with 1 Axes>"
      ]
     },
     "metadata": {
      "needs_background": "light"
     },
     "output_type": "display_data"
    }
   ],
   "source": [
    "ax = sns.distplot(members['nbr_articles'], bins=40, kde=False);\n",
    "ax.set_yscale('log')\n",
    "ax.set(title='Distribution of the number of articles by users (log scale)', xlabel='number of articles', ylabel='number of users')\n",
    "plt.show()"
   ]
  },
  {
   "cell_type": "code",
   "execution_count": 16,
   "metadata": {},
   "outputs": [
    {
     "data": {
      "image/png": "[encoded data removed]",
      "text/plain": [
       "<Figure size 432x288 with 1 Axes>"
      ]
     },
     "metadata": {
      "needs_background": "light"
     },
     "output_type": "display_data"
    }
   ],
   "source": [
    "ax = sns.distplot(members['avg_ratings'], bins=40, kde=False);\n",
    "ax.set(title='Distribution of mean rating', xlabel='mean rating', ylabel='number of users')\n",
    "plt.show()"
   ]
  },
  {
   "cell_type": "code",
   "execution_count": 17,
   "metadata": {},
   "outputs": [
    {
     "data": {
      "image/png": "[encoded data removed]",
      "text/plain": [
       "<Figure size 432x288 with 1 Axes>"
      ]
     },
     "metadata": {
      "needs_background": "light"
     },
     "output_type": "display_data"
    }
   ],
   "source": [
    "ax = sns.distplot(members['anonymity_freq'], bins=40, kde=False);\n",
    "ax.set_yscale('log')\n",
    "ax.set(title='Distribution of anonymity frequency (log scale)', xlabel='anonymity frequency', ylabel='number of users')\n",
    "plt.show()"
   ]
  },
  {
   "cell_type": "code",
   "execution_count": 18,
   "metadata": {},
   "outputs": [
    {
     "data": {
      "image/png": "[encoded data removed]",
      "text/plain": [
       "<Figure size 432x288 with 1 Axes>"
      ]
     },
     "metadata": {
      "needs_background": "light"
     },
     "output_type": "display_data"
    }
   ],
   "source": [
    "ax = sns.distplot(members['sensationalism'], bins=20, kde=False);\n",
    "ax.set(title='Distribution of sensationalism', xlabel='sensationalism', ylabel='number of users')\n",
    "plt.show()"
   ]
  },
  {
   "cell_type": "code",
   "execution_count": null,
   "metadata": {},
   "outputs": [],
   "source": []
  },
  {
   "cell_type": "code",
   "execution_count": 19,
   "metadata": {},
   "outputs": [],
   "source": [
    "\n",
    "\n",
    "\n"
   ]
  },
  {
   "cell_type": "markdown",
   "metadata": {},
   "source": [
    "### 2.1 Logistic regression modelling and sign prediction"
   ]
  },
  {
   "cell_type": "code",
   "execution_count": 22,
   "metadata": {},
   "outputs": [],
   "source": [
    "status_dataset.head()\n",
    "\n",
    "# turn into categorical value\n",
    "# categorize into two cases - never rated a content anonymously vs. rated a content anonymously at least once\n",
    "#  anonymity NodeB    NodeA\n",
    "#    3       once+    never\n",
    "#    2       once+    once+\n",
    "#    1       never    never\n",
    "#    0       never    once+\n",
    "status_dataset['anonymity1'] = status_dataset['anonymity_freq1'].apply(lambda x: 0 if x == 0 else 1)\n",
    "#status_dataset['anonymity2'] = status_dataset['anonymity_freq2'].apply(lambda x: 1 if x == 0 else 3)"
   ]
  },
  {
   "cell_type": "code",
   "execution_count": 23,
   "metadata": {},
   "outputs": [],
   "source": [
    "from statsmodels.stats import diagnostic\n",
    "import statsmodels.formula.api as smf\n",
    "from sklearn import preprocessing\n",
    "from sklearn.preprocessing import PowerTransformer\n",
    "from sklearn.model_selection import train_test_split\n",
    "from sklearn.metrics import (confusion_matrix,  \n",
    "                           accuracy_score) "
   ]
  },
  {
   "cell_type": "markdown",
   "metadata": {},
   "source": [
    "Trying with log"
   ]
  },
  {
   "cell_type": "code",
   "execution_count": 80,
   "metadata": {},
   "outputs": [],
   "source": [
    "features = ['nbr_articles1', 'nbr_articles2', 'nbr_reviews1', 'nbr_reviews2', 'avg_ratings1', 'avg_ratings2', 'sensationalism1', 'sensationalism2', 'anonymity_freq1']\n",
    "status_dataset_norm = status_dataset.copy()\n",
    "for f in features:\n",
    "    status_dataset_norm[f] = np.log(status_dataset_norm[f] + 1)\n",
    "status_dataset_norm['Sign'] = (status_dataset['Sign'] + 1)/2"
   ]
  },
  {
   "cell_type": "markdown",
   "metadata": {},
   "source": [
    "Trying with power transform"
   ]
  },
  {
   "cell_type": "code",
   "execution_count": 49,
   "metadata": {},
   "outputs": [
    {
     "data": {
      "text/html": [
       "<div>\n",
       "<style scoped>\n",
       "    .dataframe tbody tr th:only-of-type {\n",
       "        vertical-align: middle;\n",
       "    }\n",
       "\n",
       "    .dataframe tbody tr th {\n",
       "        vertical-align: top;\n",
       "    }\n",
       "\n",
       "    .dataframe thead th {\n",
       "        text-align: right;\n",
       "    }\n",
       "</style>\n",
       "<table border=\"1\" class=\"dataframe\">\n",
       "  <thead>\n",
       "    <tr style=\"text-align: right;\">\n",
       "      <th></th>\n",
       "      <th>node1</th>\n",
       "      <th>node2</th>\n",
       "      <th>Sign</th>\n",
       "      <th>Creation</th>\n",
       "      <th>type</th>\n",
       "      <th>nbr_articles1</th>\n",
       "      <th>avg_ratings1</th>\n",
       "      <th>anonymity_freq1</th>\n",
       "      <th>sensationalism1</th>\n",
       "      <th>nbr_reviews1</th>\n",
       "      <th>nbr_articles2</th>\n",
       "      <th>avg_ratings2</th>\n",
       "      <th>sensationalism2</th>\n",
       "      <th>nbr_reviews2</th>\n",
       "      <th>anonymity1</th>\n",
       "    </tr>\n",
       "  </thead>\n",
       "  <tbody>\n",
       "    <tr>\n",
       "      <td>0</td>\n",
       "      <td>209227652</td>\n",
       "      <td>482665</td>\n",
       "      <td>1.0</td>\n",
       "      <td>2001/01/10</td>\n",
       "      <td>[3, 1, 11, 9]</td>\n",
       "      <td>-1.756298</td>\n",
       "      <td>1.566720</td>\n",
       "      <td>-0.622638</td>\n",
       "      <td>-0.605756</td>\n",
       "      <td>-1.479802</td>\n",
       "      <td>-0.695834</td>\n",
       "      <td>-0.964077</td>\n",
       "      <td>0.534975</td>\n",
       "      <td>-0.777860</td>\n",
       "      <td>0</td>\n",
       "    </tr>\n",
       "    <tr>\n",
       "      <td>1</td>\n",
       "      <td>209424260</td>\n",
       "      <td>482665</td>\n",
       "      <td>1.0</td>\n",
       "      <td>2001/01/10</td>\n",
       "      <td>[9, 11, 11, 3, 9, 1]</td>\n",
       "      <td>-1.756298</td>\n",
       "      <td>-1.402752</td>\n",
       "      <td>-0.622638</td>\n",
       "      <td>1.193178</td>\n",
       "      <td>-1.863088</td>\n",
       "      <td>-0.695834</td>\n",
       "      <td>-0.964077</td>\n",
       "      <td>0.534975</td>\n",
       "      <td>-0.777860</td>\n",
       "      <td>0</td>\n",
       "    </tr>\n",
       "    <tr>\n",
       "      <td>2</td>\n",
       "      <td>511995</td>\n",
       "      <td>482665</td>\n",
       "      <td>1.0</td>\n",
       "      <td>2001/01/10</td>\n",
       "      <td>[10, 3]</td>\n",
       "      <td>0.114698</td>\n",
       "      <td>-1.806663</td>\n",
       "      <td>2.637786</td>\n",
       "      <td>2.060855</td>\n",
       "      <td>-1.479802</td>\n",
       "      <td>-0.695834</td>\n",
       "      <td>-0.964077</td>\n",
       "      <td>0.534975</td>\n",
       "      <td>-0.777860</td>\n",
       "      <td>1</td>\n",
       "    </tr>\n",
       "    <tr>\n",
       "      <td>3</td>\n",
       "      <td>533639</td>\n",
       "      <td>482665</td>\n",
       "      <td>1.0</td>\n",
       "      <td>2001/01/10</td>\n",
       "      <td>[3, 9]</td>\n",
       "      <td>0.065844</td>\n",
       "      <td>1.188813</td>\n",
       "      <td>-0.622638</td>\n",
       "      <td>-1.313577</td>\n",
       "      <td>0.817920</td>\n",
       "      <td>-0.695834</td>\n",
       "      <td>-0.964077</td>\n",
       "      <td>0.534975</td>\n",
       "      <td>-0.777860</td>\n",
       "      <td>0</td>\n",
       "    </tr>\n",
       "    <tr>\n",
       "      <td>4</td>\n",
       "      <td>508183</td>\n",
       "      <td>482665</td>\n",
       "      <td>1.0</td>\n",
       "      <td>2001/01/10</td>\n",
       "      <td>[3, 15, 3, 11, 3, 9, 1]</td>\n",
       "      <td>-0.311355</td>\n",
       "      <td>0.686387</td>\n",
       "      <td>2.279836</td>\n",
       "      <td>1.711514</td>\n",
       "      <td>-0.613055</td>\n",
       "      <td>-0.695834</td>\n",
       "      <td>-0.964077</td>\n",
       "      <td>0.534975</td>\n",
       "      <td>-0.777860</td>\n",
       "      <td>1</td>\n",
       "    </tr>\n",
       "    <tr>\n",
       "      <td>...</td>\n",
       "      <td>...</td>\n",
       "      <td>...</td>\n",
       "      <td>...</td>\n",
       "      <td>...</td>\n",
       "      <td>...</td>\n",
       "      <td>...</td>\n",
       "      <td>...</td>\n",
       "      <td>...</td>\n",
       "      <td>...</td>\n",
       "      <td>...</td>\n",
       "      <td>...</td>\n",
       "      <td>...</td>\n",
       "      <td>...</td>\n",
       "      <td>...</td>\n",
       "      <td>...</td>\n",
       "    </tr>\n",
       "    <tr>\n",
       "      <td>461531</td>\n",
       "      <td>17580396420</td>\n",
       "      <td>19905351556</td>\n",
       "      <td>1.0</td>\n",
       "      <td>2002/11/12</td>\n",
       "      <td>[1, 3]</td>\n",
       "      <td>-1.329799</td>\n",
       "      <td>1.566720</td>\n",
       "      <td>-0.622638</td>\n",
       "      <td>-0.807444</td>\n",
       "      <td>-2.124169</td>\n",
       "      <td>-1.954407</td>\n",
       "      <td>-0.452582</td>\n",
       "      <td>0.196442</td>\n",
       "      <td>-1.598134</td>\n",
       "      <td>0</td>\n",
       "    </tr>\n",
       "    <tr>\n",
       "      <td>461532</td>\n",
       "      <td>396289</td>\n",
       "      <td>40773455748</td>\n",
       "      <td>1.0</td>\n",
       "      <td>2002/12/10</td>\n",
       "      <td>[1, 3, 9, 11]</td>\n",
       "      <td>-0.659538</td>\n",
       "      <td>-1.806663</td>\n",
       "      <td>2.579855</td>\n",
       "      <td>1.800707</td>\n",
       "      <td>-1.808575</td>\n",
       "      <td>-0.971171</td>\n",
       "      <td>-2.086746</td>\n",
       "      <td>0.548148</td>\n",
       "      <td>-1.647464</td>\n",
       "      <td>1</td>\n",
       "    </tr>\n",
       "    <tr>\n",
       "      <td>461533</td>\n",
       "      <td>40773455748</td>\n",
       "      <td>396289</td>\n",
       "      <td>1.0</td>\n",
       "      <td>2002/12/10</td>\n",
       "      <td>[11, 3, 9, 1]</td>\n",
       "      <td>-0.628717</td>\n",
       "      <td>-1.990336</td>\n",
       "      <td>-0.622638</td>\n",
       "      <td>0.212294</td>\n",
       "      <td>-1.567398</td>\n",
       "      <td>-0.999357</td>\n",
       "      <td>-0.806002</td>\n",
       "      <td>1.301506</td>\n",
       "      <td>-1.856654</td>\n",
       "      <td>0</td>\n",
       "    </tr>\n",
       "    <tr>\n",
       "      <td>461534</td>\n",
       "      <td>10609332100</td>\n",
       "      <td>10307014532</td>\n",
       "      <td>1.0</td>\n",
       "      <td>2003/02/14</td>\n",
       "      <td>[3]</td>\n",
       "      <td>-2.157941</td>\n",
       "      <td>1.566720</td>\n",
       "      <td>-0.622638</td>\n",
       "      <td>1.277204</td>\n",
       "      <td>-2.011237</td>\n",
       "      <td>-1.954407</td>\n",
       "      <td>1.699975</td>\n",
       "      <td>-0.984021</td>\n",
       "      <td>-1.957392</td>\n",
       "      <td>0</td>\n",
       "    </tr>\n",
       "    <tr>\n",
       "      <td>461535</td>\n",
       "      <td>348106</td>\n",
       "      <td>38439194500</td>\n",
       "      <td>1.0</td>\n",
       "      <td>2003/07/16</td>\n",
       "      <td>[3, 3]</td>\n",
       "      <td>-0.418649</td>\n",
       "      <td>-1.586086</td>\n",
       "      <td>1.515561</td>\n",
       "      <td>1.200576</td>\n",
       "      <td>-1.409329</td>\n",
       "      <td>-1.666430</td>\n",
       "      <td>-1.095201</td>\n",
       "      <td>0.528517</td>\n",
       "      <td>-1.257491</td>\n",
       "      <td>1</td>\n",
       "    </tr>\n",
       "  </tbody>\n",
       "</table>\n",
       "<p>461536 rows × 15 columns</p>\n",
       "</div>"
      ],
      "text/plain": [
       "              node1        node2  Sign    Creation                     type  \\\n",
       "0         209227652       482665   1.0  2001/01/10            [3, 1, 11, 9]   \n",
       "1         209424260       482665   1.0  2001/01/10     [9, 11, 11, 3, 9, 1]   \n",
       "2            511995       482665   1.0  2001/01/10                  [10, 3]   \n",
       "3            533639       482665   1.0  2001/01/10                   [3, 9]   \n",
       "4            508183       482665   1.0  2001/01/10  [3, 15, 3, 11, 3, 9, 1]   \n",
       "...             ...          ...   ...         ...                      ...   \n",
       "461531  17580396420  19905351556   1.0  2002/11/12                   [1, 3]   \n",
       "461532       396289  40773455748   1.0  2002/12/10            [1, 3, 9, 11]   \n",
       "461533  40773455748       396289   1.0  2002/12/10            [11, 3, 9, 1]   \n",
       "461534  10609332100  10307014532   1.0  2003/02/14                      [3]   \n",
       "461535       348106  38439194500   1.0  2003/07/16                   [3, 3]   \n",
       "\n",
       "        nbr_articles1  avg_ratings1  anonymity_freq1  sensationalism1  \\\n",
       "0           -1.756298      1.566720        -0.622638        -0.605756   \n",
       "1           -1.756298     -1.402752        -0.622638         1.193178   \n",
       "2            0.114698     -1.806663         2.637786         2.060855   \n",
       "3            0.065844      1.188813        -0.622638        -1.313577   \n",
       "4           -0.311355      0.686387         2.279836         1.711514   \n",
       "...               ...           ...              ...              ...   \n",
       "461531      -1.329799      1.566720        -0.622638        -0.807444   \n",
       "461532      -0.659538     -1.806663         2.579855         1.800707   \n",
       "461533      -0.628717     -1.990336        -0.622638         0.212294   \n",
       "461534      -2.157941      1.566720        -0.622638         1.277204   \n",
       "461535      -0.418649     -1.586086         1.515561         1.200576   \n",
       "\n",
       "        nbr_reviews1  nbr_articles2  avg_ratings2  sensationalism2  \\\n",
       "0          -1.479802      -0.695834     -0.964077         0.534975   \n",
       "1          -1.863088      -0.695834     -0.964077         0.534975   \n",
       "2          -1.479802      -0.695834     -0.964077         0.534975   \n",
       "3           0.817920      -0.695834     -0.964077         0.534975   \n",
       "4          -0.613055      -0.695834     -0.964077         0.534975   \n",
       "...              ...            ...           ...              ...   \n",
       "461531     -2.124169      -1.954407     -0.452582         0.196442   \n",
       "461532     -1.808575      -0.971171     -2.086746         0.548148   \n",
       "461533     -1.567398      -0.999357     -0.806002         1.301506   \n",
       "461534     -2.011237      -1.954407      1.699975        -0.984021   \n",
       "461535     -1.409329      -1.666430     -1.095201         0.528517   \n",
       "\n",
       "        nbr_reviews2  anonymity1  \n",
       "0          -0.777860           0  \n",
       "1          -0.777860           0  \n",
       "2          -0.777860           1  \n",
       "3          -0.777860           0  \n",
       "4          -0.777860           1  \n",
       "...              ...         ...  \n",
       "461531     -1.598134           0  \n",
       "461532     -1.647464           1  \n",
       "461533     -1.856654           0  \n",
       "461534     -1.957392           0  \n",
       "461535     -1.257491           1  \n",
       "\n",
       "[461536 rows x 15 columns]"
      ]
     },
     "execution_count": 49,
     "metadata": {},
     "output_type": "execute_result"
    }
   ],
   "source": [
    "features = ['nbr_articles1', 'nbr_articles2', 'nbr_reviews1', 'nbr_reviews2', 'avg_ratings1', 'avg_ratings2', 'sensationalism1', 'sensationalism2', 'anonymity_freq1']\n",
    "status_dataset_yj = status_dataset.copy()\n",
    "yj = PowerTransformer(method='yeo-johnson', standardize = True)\n",
    "yj_df = yj.fit_transform(status_dataset[features])\n",
    "status_dataset_yj[features] =  pd.DataFrame(yj_df, columns=features)\n",
    "status_dataset_yj['Sign'] = (status_dataset['Sign'] + 1)/2\n",
    "status_dataset_yj"
   ]
  },
  {
   "cell_type": "code",
   "execution_count": 83,
   "metadata": {},
   "outputs": [],
   "source": [
    "scaler = preprocessing.StandardScaler()\n",
    "scaled_df = scaler.fit_transform(status_dataset_norm[features])\n",
    "status_dataset_norm[features] = pd.DataFrame(scaled_df, columns=features)"
   ]
  },
  {
   "cell_type": "code",
   "execution_count": 84,
   "metadata": {},
   "outputs": [],
   "source": []
  },
  {
   "cell_type": "code",
   "execution_count": null,
   "metadata": {},
   "outputs": [],
   "source": []
  },
  {
   "cell_type": "code",
   "execution_count": 87,
   "metadata": {},
   "outputs": [
    {
     "data": {
      "image/png": "[encoded data removed]",
      "text/plain": [
       "<Figure size 1080x720 with 9 Axes>"
      ]
     },
     "metadata": {},
     "output_type": "display_data"
    },
    {
     "name": "stdout",
     "output_type": "stream",
     "text": [
      "===========\n",
      "nbr_articles1\n",
      "Ttest_indResult(statistic=-154.74395268598946, pvalue=0.0)\n",
      "variance ratio = 1.0927873041820486\n",
      "===========\n",
      "nbr_articles2\n",
      "Ttest_indResult(statistic=43.749287773121615, pvalue=0.0)\n",
      "variance ratio = 0.6814543864859337\n",
      "===========\n",
      "nbr_reviews1\n",
      "Ttest_indResult(statistic=-207.24083470484553, pvalue=0.0)\n",
      "variance ratio = 1.6145603405595803\n",
      "===========\n",
      "nbr_reviews2\n",
      "Ttest_indResult(statistic=103.34647928793719, pvalue=0.0)\n",
      "variance ratio = 0.6646954731412184\n",
      "===========\n",
      "avg_ratings1\n",
      "Ttest_indResult(statistic=63.26467094738027, pvalue=0.0)\n",
      "variance ratio = 0.7477089296388336\n",
      "===========\n",
      "avg_ratings2\n",
      "Ttest_indResult(statistic=56.174044273854534, pvalue=0.0)\n",
      "variance ratio = 0.14239922925300186\n",
      "===========\n",
      "sensationalism1\n",
      "Ttest_indResult(statistic=69.60149827666639, pvalue=0.0)\n",
      "variance ratio = 1.2060973804880468\n",
      "===========\n",
      "sensationalism2\n",
      "Ttest_indResult(statistic=-91.66113849877631, pvalue=0.0)\n",
      "variance ratio = 0.1989938394299887\n",
      "===========\n",
      "anonymity_freq1\n",
      "Ttest_indResult(statistic=15.28236019755727, pvalue=1.3887539041765415e-52)\n",
      "variance ratio = 1.690884971563017\n"
     ]
    }
   ],
   "source": [
    "# get the distribution and statistical testing mean value on each normalized feature, for different signs of edges\n",
    "\n",
    "pos_edge = status_dataset_norm[status_dataset_norm['Sign']==1]\n",
    "neg_edge = status_dataset_norm[status_dataset_norm['Sign']==0]\n",
    "\n",
    "fig, axs = plt.subplots(3,3, figsize=(15, 10), facecolor='w', edgecolor='k')\n",
    "plt.suptitle('Distribution of features - standard normalized')\n",
    "for i,ax in zip(range(9), axs.flat):\n",
    "    sns.distplot(pos_edge[features[i]], hist=False,label = 'positive', ax=ax)\n",
    "    sns.distplot(neg_edge[features[i]], hist=False,label = 'negative', ax=ax)\n",
    "\n",
    "plt.show()\n",
    "\n",
    "for f in features:\n",
    "    F = np.var(pos_edge[f])/np.var(neg_edge[f])\n",
    "    e_var = True if np.absolute(F-1) < 0.2 else False\n",
    "    print('===========')\n",
    "    print(f)\n",
    "    print(scipy.stats.ttest_ind(pos_edge[f], neg_edge[f], equal_var = e_var))\n",
    "    print(f'variance ratio = {F}')"
   ]
  },
  {
   "cell_type": "code",
   "execution_count": null,
   "metadata": {},
   "outputs": [],
   "source": []
  },
  {
   "cell_type": "code",
   "execution_count": null,
   "metadata": {},
   "outputs": [],
   "source": [
    "# feature selection before logistic regression analysis?"
   ]
  },
  {
   "cell_type": "code",
   "execution_count": 27,
   "metadata": {},
   "outputs": [
    {
     "name": "stdout",
     "output_type": "stream",
     "text": [
      "Optimization terminated successfully.\n",
      "         Current function value: 0.164814\n",
      "         Iterations 8\n",
      "                           Logit Regression Results                           \n",
      "==============================================================================\n",
      "Dep. Variable:                   Sign   No. Observations:               323075\n",
      "Model:                          Logit   Df Residuals:                   323065\n",
      "Method:                           MLE   Df Model:                            9\n",
      "Date:                Fri, 18 Dec 2020   Pseudo R-squ.:                  0.3593\n",
      "Time:                        14:21:15   Log-Likelihood:                -53247.\n",
      "converged:                       True   LL-Null:                       -83113.\n",
      "Covariance Type:            nonrobust   LLR p-value:                     0.000\n",
      "===================================================================================\n",
      "                      coef    std err          z      P>|z|      [0.025      0.975]\n",
      "-----------------------------------------------------------------------------------\n",
      "Intercept           3.8612      0.015    261.543      0.000       3.832       3.890\n",
      "avg_ratings1        1.2881      0.012    103.543      0.000       1.264       1.313\n",
      "avg_ratings2       -0.1724      0.009    -18.688      0.000      -0.190      -0.154\n",
      "nbr_reviews1       -1.1416      0.016    -72.124      0.000      -1.173      -1.111\n",
      "nbr_reviews2        0.5147      0.011     45.397      0.000       0.492       0.537\n",
      "nbr_articles1      -0.2711      0.013    -20.404      0.000      -0.297      -0.245\n",
      "nbr_articles2      -0.0106      0.011     -0.938      0.348      -0.033       0.012\n",
      "sensationalism1     1.3511      0.018     74.499      0.000       1.316       1.387\n",
      "sensationalism2    -0.8155      0.012    -67.668      0.000      -0.839      -0.792\n",
      "anonymity_freq1    -0.5247      0.064     -8.155      0.000      -0.651      -0.399\n",
      "===================================================================================\n"
     ]
    }
   ],
   "source": [
    "# run logistic regression modelling\n",
    "random_train, random_test = train_test_split(status_dataset_norm, test_size=0.3, random_state=10)\n",
    "\n",
    "mod = smf.logit(formula='Sign ~ avg_ratings1 + avg_ratings2 + nbr_reviews1 + nbr_reviews2 + nbr_articles1 + nbr_articles2 + sensationalism1 + sensationalism2 + anonymity_freq1', data=random_train)\n",
    "res=mod.fit()\n",
    "print(res.summary())"
   ]
  },
  {
   "cell_type": "code",
   "execution_count": 28,
   "metadata": {},
   "outputs": [],
   "source": [
    "# add cross validation"
   ]
  },
  {
   "cell_type": "code",
   "execution_count": 28,
   "metadata": {},
   "outputs": [
    {
     "name": "stdout",
     "output_type": "stream",
     "text": [
      "Confusion Matrix : \n",
      " [[  3700   6192]\n",
      " [   697 127872]]\n",
      "Test accuracy =  0.950245917623013\n"
     ]
    }
   ],
   "source": [
    "yhat = res.predict(random_test) \n",
    "prediction = list(map(round, yhat)) \n",
    "cm = confusion_matrix(random_test['Sign'], prediction)  \n",
    "print (\"Confusion Matrix : \\n\", cm)  \n",
    "print('Test accuracy = ', accuracy_score(random_test['Sign'], prediction))"
   ]
  },
  {
   "cell_type": "code",
   "execution_count": 29,
   "metadata": {},
   "outputs": [
    {
     "ename": "ModuleNotFoundError",
     "evalue": "No module named 'triadic_census_modified'",
     "output_type": "error",
     "traceback": [
      "\u001b[0;31m---------------------------------------------------------------------------\u001b[0m",
      "\u001b[0;31mModuleNotFoundError\u001b[0m                       Traceback (most recent call last)",
      "\u001b[0;32m<ipython-input-29-378b4a416c7d>\u001b[0m in \u001b[0;36m<module>\u001b[0;34m\u001b[0m\n\u001b[0;32m----> 1\u001b[0;31m \u001b[0;32mfrom\u001b[0m \u001b[0mtriadic_census_modified\u001b[0m \u001b[0;32mimport\u001b[0m \u001b[0mnodes_AB\u001b[0m\u001b[0;34m\u001b[0m\u001b[0;34m\u001b[0m\u001b[0m\n\u001b[0m\u001b[1;32m      2\u001b[0m \u001b[0mnodes_AB\u001b[0m\u001b[0;34m(\u001b[0m\u001b[0;36m3\u001b[0m\u001b[0;34m)\u001b[0m\u001b[0;34m\u001b[0m\u001b[0;34m\u001b[0m\u001b[0m\n",
      "\u001b[0;31mModuleNotFoundError\u001b[0m: No module named 'triadic_census_modified'"
     ]
    }
   ],
   "source": [
    "from triadic_census_modified import nodes_AB\n",
    "nodes_AB(3)"
   ]
  },
  {
   "cell_type": "markdown",
   "metadata": {},
   "source": [
    "**TODO** for each triad type, computing the accuracy. (+ bootstrapping thing) -> how to deal with duplicates? "
   ]
  }
 ],
 "metadata": {
  "kernelspec": {
   "display_name": "Python 3",
   "language": "python",
   "name": "python3"
  },
  "language_info": {
   "codemirror_mode": {
    "name": "ipython",
    "version": 3
   },
   "file_extension": ".py",
   "mimetype": "text/x-python",
   "name": "python",
   "nbconvert_exporter": "python",
   "pygments_lexer": "ipython3",
   "version": "3.7.4"
  }
 },
 "nbformat": 4,
 "nbformat_minor": 4
}
