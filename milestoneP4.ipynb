{
 "cells": [
  {
   "cell_type": "markdown",
   "metadata": {},
   "source": [
    "# ADA milestone P4: creative extension of 'Signed Network in Social Media'\n",
    "\n",
    "### **Outline**:\n",
    "1. Data Wrangling\n",
    "    * 1.1 Reading the datasets\n",
    "    * 1.2 Recreating the paper's settings\n",
    "        * 1.2.1 Epinions and user_rating\n",
    "        * 1.2.2 Selecting the same edges than in the paper\n",
    "    * 1.3 Combining the datasets\n",
    "        * 1.3.1 Computing user-centered features\n",
    "        * 1.3.2 Merging the member's features with the edges' dataframe (status_dataset)\n",
    "2. Data Analysis\n",
    "    * 2.1 Users statistics\n"
    "    * 2.2 Statistical analysis\n"
    "3. Building the model\n"
   ]
  },
  {
   "cell_type": "code",
   "execution_count": 2,
   "metadata": {},
   "outputs": [],
   "source": [
    "import pandas as pd\n",
    "import matplotlib.pyplot as plt\n",
    "import seaborn as sns\n",
    "import numpy as np\n",
    "import statistics \n",
    "import math\n",
    "import scipy\n",
    "from sklearn.utils import resample\n",
    "from sklearn.model_selection import train_test_split\n",
    "from sklearn.ensemble import GradientBoostingRegressor\n",
    "from sklearn.model_selection import KFold \n",
    "from sklearn.metrics import r2_score\n",
    "from sklearn.linear_model import LinearRegression"
   ]
  },
  {
   "cell_type": "markdown",
   "metadata": {},
   "source": [
    " ----------------------------------------------------\n",
    "## 1. Data Wrangling\n",
    "\n",
    "We wish to combine the informations from three datasets to extract meaningful features for our model"
   ]
  },
  {
   "cell_type": "markdown",
   "metadata": {},
   "source": [
    "### 1.1 Reading the datasets\n",
    "\n",
    "#### **Ratings**\n",
    "\n",
    "Ratings are quantified statements made by users regarding the quality of a content in the site. Ratings is the basis on which the contents are sorted and filtered.\n",
    "\n",
    "Column Details:\n",
    "\n",
    "* OBJECT_ID The object ID is the object that is being rated. The only valid objects at the present time are the content_id of the member_content table. This means that at present this table only stores the ratings on reviews and essays\n",
    "* MEMBER_ID Stores the id of the member who is rating the object\n",
    "* RATING Stores the 1-5 (1- Not helpful , 2 - Somewhat Helpful, 3 - Helpful 4 - Very Helpful 5- Most Helpful) rating of the object by member [There are some 6s, treat them as 5]\n",
    "* STATUS The display status of the rating. 1 :- means the member has chosen not to show his rating of the object and 0 meaning the member does not mind showing his name beside the rating. **We renamed this feature 'anonymity' to avoid confusion with the notion of status in triads theory**\n",
    "* CREATION The date on which the member first rated this object\n",
    "* LAST_MODIFIED The latest date on which the member modified his rating of the object\n",
    "* TYPE If and when we allow more than just content rating to be stored in this table, then this column would store the type of the object being rated.\n",
    "* VERTICAL_ID Vertical_id of the review."
   ]
  },
  {
   "cell_type": "code",
   "execution_count": 3,
   "metadata": {},
   "outputs": [
    {
     "data": {
      "text/html": [
       "<div>\n",
       "<style scoped>\n",
       "    .dataframe tbody tr th:only-of-type {\n",
       "        vertical-align: middle;\n",
       "    }\n",
       "\n",
       "    .dataframe tbody tr th {\n",
       "        vertical-align: top;\n",
       "    }\n",
       "\n",
       "    .dataframe thead th {\n",
       "        text-align: right;\n",
       "    }\n",
       "</style>\n",
       "<table border=\"1\" class=\"dataframe\">\n",
       "  <thead>\n",
       "    <tr style=\"text-align: right;\">\n",
       "      <th></th>\n",
       "      <th>object_id</th>\n",
       "      <th>member_id</th>\n",
       "      <th>rating</th>\n",
       "      <th>anonymity</th>\n",
       "      <th>type</th>\n",
       "    </tr>\n",
       "  </thead>\n",
       "  <tbody>\n",
       "    <tr>\n",
       "      <th>0</th>\n",
       "      <td>139431556</td>\n",
       "      <td>591156</td>\n",
       "      <td>5</td>\n",
       "      <td>0</td>\n",
       "      <td>1</td>\n",
       "    </tr>\n",
       "    <tr>\n",
       "      <th>1</th>\n",
       "      <td>139431556</td>\n",
       "      <td>1312460676</td>\n",
       "      <td>5</td>\n",
       "      <td>0</td>\n",
       "      <td>1</td>\n",
       "    </tr>\n",
       "    <tr>\n",
       "      <th>2</th>\n",
       "      <td>139431556</td>\n",
       "      <td>204358</td>\n",
       "      <td>5</td>\n",
       "      <td>0</td>\n",
       "      <td>1</td>\n",
       "    </tr>\n",
       "    <tr>\n",
       "      <th>3</th>\n",
       "      <td>139431556</td>\n",
       "      <td>368725</td>\n",
       "      <td>5</td>\n",
       "      <td>0</td>\n",
       "      <td>1</td>\n",
       "    </tr>\n",
       "    <tr>\n",
       "      <th>4</th>\n",
       "      <td>139431556</td>\n",
       "      <td>277629</td>\n",
       "      <td>5</td>\n",
       "      <td>0</td>\n",
       "      <td>1</td>\n",
       "    </tr>\n",
       "  </tbody>\n",
       "</table>\n",
       "</div>"
      ],
      "text/plain": [
       "   object_id   member_id  rating  anonymity  type\n",
       "0  139431556      591156       5          0     1\n",
       "1  139431556  1312460676       5          0     1\n",
       "2  139431556      204358       5          0     1\n",
       "3  139431556      368725       5          0     1\n",
       "4  139431556      277629       5          0     1"
      ]
     },
     "execution_count": 3,
     "metadata": {},
     "output_type": "execute_result"
    }
   ],
   "source": [
    "ratings = pd.read_csv('data/rating.txt', delimiter='\\t',header=None)\n",
    "ratings = ratings.rename(columns = {0:'object_id', 1:'member_id',2:'rating',3:'anonymity',4:'creation',5:'last_modified',6:'type',7:'vertical_id'})\n",
    "\n",
    "# We only select the features that are of interest for our analysis\n",
    "\n",
    "# TODO: rename status for anonymity so we don't get confused !!\n",
    "ratings = ratings[['object_id','member_id','rating','anonymity','type']]\n",
    "\n",
    "ratings[\"rating\"] = ratings[\"rating\"].apply(lambda x: (x-1) if x == 6 else x)\n",
    "ratings.head()"
   ]
  },
  {
   "cell_type": "markdown",
   "metadata": {},
   "source": [
    "#### **mc**\n",
    "\n",
    "Each article is written by a user.\n",
    "\n",
    "Column Details:\n",
    "\n",
    "* CONTENT_ID The object ID of the article.\n",
    "* AUTHOR_ID The ID of the user who wrote the article\n",
    "* SUBJECT_ID The ID of the subject that the article is supposed to be about"
   ]
  },
  {
   "cell_type": "code",
   "execution_count": 4,
   "metadata": {},
   "outputs": [
    {
     "data": {
      "text/html": [
       "<div>\n",
       "<style scoped>\n",
       "    .dataframe tbody tr th:only-of-type {\n",
       "        vertical-align: middle;\n",
       "    }\n",
       "\n",
       "    .dataframe tbody tr th {\n",
       "        vertical-align: top;\n",
       "    }\n",
       "\n",
       "    .dataframe thead th {\n",
       "        text-align: right;\n",
       "    }\n",
       "</style>\n",
       "<table border=\"1\" class=\"dataframe\">\n",
       "  <thead>\n",
       "    <tr style=\"text-align: right;\">\n",
       "      <th></th>\n",
       "      <th>content_id</th>\n",
       "      <th>author_id</th>\n",
       "      <th>subject_id</th>\n",
       "    </tr>\n",
       "  </thead>\n",
       "  <tbody>\n",
       "    <tr>\n",
       "      <th>0</th>\n",
       "      <td>1445594</td>\n",
       "      <td>718357</td>\n",
       "      <td>1.490024e+11</td>\n",
       "    </tr>\n",
       "    <tr>\n",
       "      <th>1</th>\n",
       "      <td>1445595</td>\n",
       "      <td>220568</td>\n",
       "      <td>1.490036e+11</td>\n",
       "    </tr>\n",
       "    <tr>\n",
       "      <th>2</th>\n",
       "      <td>1445596</td>\n",
       "      <td>717325</td>\n",
       "      <td>5.303145e+09</td>\n",
       "    </tr>\n",
       "    <tr>\n",
       "      <th>3</th>\n",
       "      <td>1445597</td>\n",
       "      <td>360156</td>\n",
       "      <td>1.926209e+11</td>\n",
       "    </tr>\n",
       "    <tr>\n",
       "      <th>4</th>\n",
       "      <td>1445598</td>\n",
       "      <td>718857</td>\n",
       "      <td>1.490022e+11</td>\n",
       "    </tr>\n",
       "  </tbody>\n",
       "</table>\n",
       "</div>"
      ],
      "text/plain": [
       "   content_id  author_id    subject_id\n",
       "0     1445594     718357  1.490024e+11\n",
       "1     1445595     220568  1.490036e+11\n",
       "2     1445596     717325  5.303145e+09\n",
       "3     1445597     360156  1.926209e+11\n",
       "4     1445598     718857  1.490022e+11"
      ]
     },
     "execution_count": 4,
     "metadata": {},
     "output_type": "execute_result"
    }
   ],
   "source": [
    "mc = pd.read_csv('data/mc.txt.gz', delimiter='|',header=None)\n",
    "mc = mc.rename(columns = {0:'content_id', 1:'author_id',2:'subject_id'})\n",
    "mc.head()"
   ]
  },
  {
   "cell_type": "markdown",
   "metadata": {},
   "source": [
    "#### **User ratings**\n",
    "\n",
    "Trust is the mechanism by which the user makes a statement that they like the content or the behavior of particular user and would like to see more of what the users does in the site. Distrust is the opposite of the trust in which the user says that they do want to see lesser of the operations performed by that user.\n",
    "\n",
    "Column Details:\n",
    "\n",
    "* MY_ID This stores Id of the member who is making the trust/distrust statement\n",
    "* OTHER_ID The other ID is the ID of the member being trusted/distrusted\n",
    "* VALUE Value = 1 for trust and -1 for distrust\n",
    "* CREATION It is the date on which the trust was made"
   ]
  },
  {
   "cell_type": "code",
   "execution_count": 5,
   "metadata": {},
   "outputs": [
    {
     "data": {
      "text/html": [
       "<div>\n",
       "<style scoped>\n",
       "    .dataframe tbody tr th:only-of-type {\n",
       "        vertical-align: middle;\n",
       "    }\n",
       "\n",
       "    .dataframe tbody tr th {\n",
       "        vertical-align: top;\n",
       "    }\n",
       "\n",
       "    .dataframe thead th {\n",
       "        text-align: right;\n",
       "    }\n",
       "</style>\n",
       "<table border=\"1\" class=\"dataframe\">\n",
       "  <thead>\n",
       "    <tr style=\"text-align: right;\">\n",
       "      <th></th>\n",
       "      <th>FromNodeId</th>\n",
       "      <th>ToNodeId</th>\n",
       "      <th>Sign</th>\n",
       "      <th>Creation</th>\n",
       "    </tr>\n",
       "  </thead>\n",
       "  <tbody>\n",
       "    <tr>\n",
       "      <th>0</th>\n",
       "      <td>3287060356</td>\n",
       "      <td>232085</td>\n",
       "      <td>-1</td>\n",
       "      <td>2001/01/10</td>\n",
       "    </tr>\n",
       "    <tr>\n",
       "      <th>1</th>\n",
       "      <td>3288305540</td>\n",
       "      <td>709420</td>\n",
       "      <td>1</td>\n",
       "      <td>2001/01/10</td>\n",
       "    </tr>\n",
       "    <tr>\n",
       "      <th>2</th>\n",
       "      <td>3290337156</td>\n",
       "      <td>204418</td>\n",
       "      <td>-1</td>\n",
       "      <td>2001/01/10</td>\n",
       "    </tr>\n",
       "    <tr>\n",
       "      <th>3</th>\n",
       "      <td>3294138244</td>\n",
       "      <td>269243</td>\n",
       "      <td>-1</td>\n",
       "      <td>2001/01/10</td>\n",
       "    </tr>\n",
       "    <tr>\n",
       "      <th>4</th>\n",
       "      <td>3294138244</td>\n",
       "      <td>170692484</td>\n",
       "      <td>-1</td>\n",
       "      <td>2001/01/10</td>\n",
       "    </tr>\n",
       "  </tbody>\n",
       "</table>\n",
       "</div>"
      ],
      "text/plain": [
       "   FromNodeId   ToNodeId  Sign    Creation\n",
       "0  3287060356     232085    -1  2001/01/10\n",
       "1  3288305540     709420     1  2001/01/10\n",
       "2  3290337156     204418    -1  2001/01/10\n",
       "3  3294138244     269243    -1  2001/01/10\n",
       "4  3294138244  170692484    -1  2001/01/10"
      ]
     },
     "execution_count": 5,
     "metadata": {},
     "output_type": "execute_result"
    }
   ],
   "source": [
    "user_ratings = pd.read_csv('data/user_rating.txt.gz', delimiter='\\t', header=None)\n",
    "user_ratings = user_ratings.rename(columns={0:'FromNodeId',1:'ToNodeId',2:'Sign',3:'Creation'})\n",
    "user_ratings.head()"
   ]
  },
  {
   "cell_type": "markdown",
   "metadata": {},
   "source": [
    "#### **Epinions**\n",
    "\n",
    "This dataset was the one given for the replication in milestone 2. The replication showed that it has the same statistics than the one used by the paper's author.\n",
    "\n",
    "It has the same columns than the *user_ratings* dataset, minus the creation data, which is a feature that we will want to use. \n",
    "\n",
    "In the next step, we will see if *user_ratings* contains the same network as in *epinions* dataset and can be used as substitution while keeping the same data than in the paper."
   ]
  },
  {
   "cell_type": "code",
   "execution_count": 6,
   "metadata": {},
   "outputs": [
    {
     "data": {
      "text/html": [
       "<div>\n",
       "<style scoped>\n",
       "    .dataframe tbody tr th:only-of-type {\n",
       "        vertical-align: middle;\n",
       "    }\n",
       "\n",
       "    .dataframe tbody tr th {\n",
       "        vertical-align: top;\n",
       "    }\n",
       "\n",
       "    .dataframe thead th {\n",
       "        text-align: right;\n",
       "    }\n",
       "</style>\n",
       "<table border=\"1\" class=\"dataframe\">\n",
       "  <thead>\n",
       "    <tr style=\"text-align: right;\">\n",
       "      <th></th>\n",
       "      <th>FromNodeId</th>\n",
       "      <th>ToNodeId</th>\n",
       "      <th>Sign</th>\n",
       "    </tr>\n",
       "  </thead>\n",
       "  <tbody>\n",
       "    <tr>\n",
       "      <th>0</th>\n",
       "      <td>0</td>\n",
       "      <td>1</td>\n",
       "      <td>-1</td>\n",
       "    </tr>\n",
       "    <tr>\n",
       "      <th>1</th>\n",
       "      <td>1</td>\n",
       "      <td>128552</td>\n",
       "      <td>-1</td>\n",
       "    </tr>\n",
       "    <tr>\n",
       "      <th>2</th>\n",
       "      <td>2</td>\n",
       "      <td>3</td>\n",
       "      <td>1</td>\n",
       "    </tr>\n",
       "    <tr>\n",
       "      <th>3</th>\n",
       "      <td>4</td>\n",
       "      <td>5</td>\n",
       "      <td>-1</td>\n",
       "    </tr>\n",
       "    <tr>\n",
       "      <th>4</th>\n",
       "      <td>4</td>\n",
       "      <td>155</td>\n",
       "      <td>-1</td>\n",
       "    </tr>\n",
       "  </tbody>\n",
       "</table>\n",
       "</div>"
      ],
      "text/plain": [
       "   FromNodeId  ToNodeId  Sign\n",
       "0           0         1    -1\n",
       "1           1    128552    -1\n",
       "2           2         3     1\n",
       "3           4         5    -1\n",
       "4           4       155    -1"
      ]
     },
     "execution_count": 6,
     "metadata": {},
     "output_type": "execute_result"
    }
   ],
   "source": [
    "epinions_given = pd.read_csv('data/soc-sign-epinions.txt', delimiter='\\t', header=3)\n",
    "epinions_given = epinions_given.rename(columns={'# FromNodeId':'FromNodeId'})\n",
    "epinions_given.head()"
   ]
  },
  {
   "cell_type": "markdown",
   "metadata": {},
   "source": [
    "### 1.2 Recreating the paper's settings"
   ]
  },
  {
   "cell_type": "markdown",
   "metadata": {},
   "source": [
    "#### 1.2.1 epinions & user_ratings\n",
    "\n",
    "Our first task is to determine if *epinions* and *user_ratings* can be used interchangeably."
   ]
  },
  {
   "cell_type": "code",
   "execution_count": 8,
   "metadata": {},
   "outputs": [
    {
     "name": "stdout",
     "output_type": "stream",
     "text": [
      "RangeIndex(start=0, stop=841372, step=1)\n",
      "RangeIndex(start=0, stop=841372, step=1)\n"
     ]
    }
   ],
   "source": [
    "print(epinions_given.index)\n",
    "print(user_ratings.index)"
   ]
  },
  {
   "cell_type": "markdown",
   "metadata": {},
   "source": [
    "We first notice that they have the same size, good news! \n",
    "Do they have the same set of nodes and edges?"
   ]
  },
  {
   "cell_type": "code",
   "execution_count": 7,
   "metadata": {},
   "outputs": [
    {
     "name": "stdout",
     "output_type": "stream",
     "text": [
      "The range of node Ids in the given Epinions data set is [0, 131827]\n",
      "The range of node Ids in the user ratings data set is [199781, 84015157124]\n"
     ]
    }
   ],
   "source": [
    "ep_range = [min(epinions_given['FromNodeId'].min(), epinions_given['ToNodeId'].min()), \n",
    "            max(epinions_given['FromNodeId'].max(), epinions_given['ToNodeId'].max())]\n",
    "ur_range = [min(user_ratings['FromNodeId'].min(), user_ratings['ToNodeId'].min()), \n",
    "            max(user_ratings['FromNodeId'].max(), user_ratings['ToNodeId'].max())]\n",
    "\n",
    "print(f\"The range of node Ids in the given Epinions data set is {ep_range}\")\n",
    "print(f\"The range of node Ids in the user ratings data set is {ur_range}\")"
   ]
  },
  {
   "cell_type": "markdown",
   "metadata": {},
   "source": [
    "The two graphs don't use the same range of node Ids so we can't find a straightforward mapping between the two. We use the vf2 algorithm with the igraph library to determine if one is an isomorphism of the other."
   ]
  },
  {
   "cell_type": "code",
   "execution_count": 9,
   "metadata": {},
   "outputs": [
    {
     "data": {
      "text/plain": [
       "True"
      ]
     },
     "execution_count": 9,
     "metadata": {},
     "output_type": "execute_result"
    }
   ],
   "source": [
    "import igraph as ig\n",
    "\n",
    "ur_graph = ig.Graph.TupleList(user_ratings.itertuples(index=False), edge_attrs = 'Creation', \n",
    "                              directed=True)\n",
    "ep_graph = ig.Graph.TupleList(epinions_given.itertuples(index=False), \n",
    "                              directed=True)\n",
    "ur_graph.isomorphic_vf2(ep_graph, edge_color1 = user_ratings['Sign'], edge_color2 = epinions_given['Sign'])"
   ]
  },
  {
   "cell_type": "markdown",
   "metadata": {},
   "source": [
    "Great! From now on, we will only use the user_ratings dataset, with the knowledge that it holds the same properties and distribution as in the original paper."
   ]
  },
  {
   "cell_type": "markdown",
   "metadata": {},
   "source": [
    "#### 1.2.2 Selecting the same edges as in the paper"
   ]
  },
  {
   "attachments": {
    "3937593e-204d-4327-a99b-13dc6e1d5eb1.png": {
     "image/png": "iVBORw0KGgoAAAANSUhEUgAAAgMAAAILCAIAAAD66ghtAAAgAElEQVR4AexdB1TUWBceBKVKGZo0QakCCgsi2BDlx7LYsGMHFXTtHVQU2yqrgqwdBctadlXUVSysFbB3BEUUQRGwIaJ0mJn3nzEax5kkk8kkQ9CXs2dN7rv3vvu+L+RmXl7hAHhABCACEAGIwM+NAOfnbj5sPUQAIgARgAgAmAngTQARgAhABH52BGAm+NnvANh+iABEACIAMwG8ByACEAGIwM+OQMPIBHV1dZWVlT87V6xpP6SDNVQIA4F0QDrkR6BhZIIZU6eFjp8gf2uhB1oQgHTQAiNdTiAddCFJi58GSkcDyAQ1NTWtbO3WRP1BC0/QiZwIQDrkBJBec0gHvXjK6a3h0tEAMsHNGzesLa3SUtPkJAma04IApIMWGOlyAumgC0la/DRcOhpAJtj45wZ7axv4nYCWO1V+J5AO+TGk0QOkg0Yw5XfVcOlgbya4dvXqhODgCcHB7T3atXZ0RM5v3bwlP1vQAwUEIB0UQGPOBNLBHLYUPP8AdLA3EyB81NTUONrZr1uzlgI90IR2BCAdtEMqj0NIhzzo0W7boOlgeya4fu2ataXV5bTLmLRdvXKlsLAQswgKmUAAj44PHz4cO3p0+7a482fP8ep4TFQNfUoigEdHaWlp4uHD27fFnTyRBLtVJXFjSIJHB1rd87zn/x47hl6y6oTtmWB9dLTkR4IXz5+vWrkyatUq2xYtL5w/zypAf+xgMOlIv5++cvmKB+kPcnJyFoUv6NalS0FBwY+NA0tah0lHZkZG2Nx5RUVF1dXVe/fsae/RLjc3lyUB/9hhYNKBNrm2trbPr/7h8+ejEladsD0TDBs8ZMjAQWKQ1dXV1dTUAADsrK1hJhADh9FLTDpGjxiR/+IFUq9AIOjzq3/wmLGMhgGdIwhg0hG5eHG3Ll1QiFycnJcvXYpewhPmEMCkA61u04YNIwOHw0yAAiLDSXV1dStbu+i1uB8JYCaQAU25VfHo6Ny+g+izJmLBQncXV7lrgw6kIIBHR15uXlpqKmJcXl5u26Lljrg4Kb5gsdwI4NGBOE5LTTt96tS82XNgJqCCNNLvduXyl48E2Y+zebzv+qBhJqACK1UbPDrevH5dXV2Neh09YsSAvv3QS3jCEAJ4dKDVCQSCpUuWDBs8GH4qQDFh7oSAjvfv38esWwcAgJmAIv5bNm1CPxLweLz5c+aKOYKZQAwQRi+l0gEASL+f7mhnf/XKFUYjgc4BAMR0HDmcOGvGjP59+sCPBIq5Wwjo+H3FSiQZw0xAkYvotWu7dOqMGCfExz9IfyDmCGYCMUAYvZRKx/v373v8zy/l0iVGw4DOEQSk0gEAyH6c/UvrNmdOn4agMY0AHh0H9u1/mJmJ1A4zAUUWnuc97+DpdfJE0vroaMznC8wEFJGlZEZMR3Fx8dhRo9Pvp1PyDY1kRgCPDoFAIOrrt9CJ7i6ufD5fVAjPaUcAk46nT578vmLls6/HpJDQyZMmPXv2rKysjPYA5HTI9rFD5eXlD9IflJeXY7YTZgJMWJgT4tHx9u3bObNmvXnzBql6y6ZNzMUAPaMISNJRWVnZzs19V8JOVCds3nwbqxYsfPSgEf4wJ5J05OTk7N+3D/2vezffIQMH7d+3Ly83j22tZnsmIMCLz+fbtmh59r//CHRgkQIQePPmzbDBgw/+/XfSiRMnjh9PPHx48sRJCqgXViGJAK+O18mr/Z3bt5EigUDg36PnqOEjJDWhRPEIDB86bN7sOYqvl0yNDTITvH379vcVK2dMnebi5Dxk4KCVy1fAlUrJkM2QTvduvtaWVqL/LQpfwFBd0K1UBC6nXZ49c+aZ06dv37q1KHzBmJGj3r17J9UKKjCKwM0bN5ZFRnq19fDp7L1i6bLsx9mMVkfBeYPMBBTaCU0gAj8PArw6XmZGRlpq2suXL3+eVsOWyoMAzATyoAdtIQIQAYjAj4AAzAQ/AouwDRABiABEQB4EYCaQBz1oCxGACEAEfgQEYCb4EViEbYAIQAQgAvIgADOBPOhBW4gARAAi8CMgADPBj8AibANEACIAEZAHAZgJ5EEP2kIEIAIQgR8BgYaRCXJyctauXTt69OgePXp4eXn169dvypQphw8fxluF4kdghsVtuHPnTmRk5IgRI3x8fDp27Dho0KDZs2efPXu2traWxVH/mKHxeLyLFy/OmzdvyJAhnTp18vb2Hj58+KJFi27evCm2ANGP2X6WtYrP51+7dm3BggXDhw/39vbu3Lnz0KFD58+fn5qaKraiPssCB2zPBOfPn/fy8tLT0xs5cuTGjRuPHTv233///fXXXytWrOjUqZOmpubkyZPR5W7YBu4PFg+fz9+3b5+NjY25uflvv/0WFxd34sSJ06dP79q1Kzw8vE2bNlwud8WKFTA9K4b3qqqqtWvXGhoatmrVau7cuTt37jx16lRSUtKOHTumTp1qZWVlaWkZHx/P8geQYrBSQC11dXXbtm2zsLBo2bLl9OnT4+Pjk5KSTp06tXPnztmzZ9vb2xsbG69fvx7ZbFEB8chaBXszQVlZ2eDBgy0sLBISEurq6jAbVlBQMGHCBF1d3b1792IqQCFdCLx8+dLT09PFxeXUqVN4L5sPHjzo3bu3qanp5a+bC9FVO/QjhsDt27etrKy6d+9+++sSQ2IKAIBz5855eHi4uLg8e/ZMshRKaEQgOzvbycmpffv2KSkpeG6vX7/etWtXGxub9HQ2rtfL0kxQUFDg4uISGBhIZrulmzdvmpubL1q0CI8DKJcTgdu3b5uami5evJjM4saHDx/mcrl//fWXnJVCczwEEhMTSSIsEAhWr15tZGQEczMemPLLL1y4YGBgsH79ejKutm/fzuVyk5KSyCgrUoeNmaCiosLNzW3evHl4756SABUVFdnb28fGxkoWQYmcCLx48cLExGT37t3k/dy7d8/AwOA/uEwsechIa16+fJnL5V6RZVe4I0eOGBoaPnnyhHQlUJEsAg8fPtTX15fpyX7p0iUul3vr1i2ydShEj42ZYNSoUYMGDSKfBhCgsrOzDQwM0tLSFILbz1IJj8dzd3dfunSprA0+c+aMgYEBXAFNVtyI9d++fdusWbPExERiNcnS6OhoR0dH1nZSSwbcICQVFRXW1tZbtmyRNdp9+/aZm5t/+PBBVkPm9FmXCW7cuGFkZPTx40cKbY6Pj/fw8JA1hVCo6OcxiY+Pb9euHTVIp0+fHhwc/PNgpYCWygNp165dSfZgKKAhP0YVq1at8vf3p9aWwMDAsLAwarZMWLEuE/Ts2VPyfr19+/bpz8eZM2dSUlLw1lvn8XhOTk7Hjh1jAqmf0CePx7OwsLhw4YJY20nS8e7dOz09PdgpIYYe5cvCwkIdHR3Jn1kk6bh165ahoWFVVRXlAKChKAJlZWVcLvfBA/HN1UnS8ezZMx0dnbdv34r6rMdzdmWC4uJiTU1NyR8EAoGgV69eAwYMePTo0cWLF7t27Tpz5kxM1NavXx8YGIhZBIWyIpCSkmJraytpRZ6O4ODg33//XdIDlFBAYMOGDYMHD5Y0JE9H27ZtZerRlqwLSlAEDh061LlzZ/QSPSFPR+/evXfs2IEa1u8JuzLBnj17evbsiYlIaGjo5MmTkaKioiIOh3Pv3j1Jzby8PF1dXbxRp5L6UEKAwNzPB6YCSTr+/fff9u3bY3qAQlkR6NGjB96ILJJ0LF++PDQ0VNZ6oT4mAmPGjFmzZg1mEUk6tm/f3q9fP0wPiheyKxOEh4fjDQYVBffu3btKSkrZ2dg7wOnr67948ULxUP54Nfr7+//zzz+Y7SJJR2Fhoa6uLqYHKJQVAQsLi6ysLEwrknScPn3a29sb0wMUyoqAh4fHxYsXMa1I0nHv3j07OztMD4oXsisTjB07dtOmTZgohIaGtm3bNjo6ev78+RYWFlu3bsVUAwC0adPm2rVreKVQTh4BNzc3vLFYJOng8XgqKipw1jF5zPE0BQJBkyZNJDtOEX2SdKSnp9vY2OBVAeUyIWBubo73MkqSjjdv3mhqaspUKXPK7MoEgYGBeB1naJr9+PHjypUr9fX17969i4lLu3btJD9yYmpCITECTk5ON2/exNQhT4e6unpxcTGmEygkj0BtbW2jRo2qq6sxTUjS8eTJEzMzM0wPUCgrAoaGhs+fP8e0IknHp0+fGjduTG1gHma98gjZlQlmzpy5fPlyzPag4CKlzs7OeD2eZmZmeLka0zMU4iHg6+v777//YpaSpOP9+/dqamosudcxG9KAhIaGhnl5eZgBk6Tj4sWLHh4emB6gUFYEWrdujdf3QJKOrKwsCwsLWetlSJ9dmSAmJmbMmDGYTQ0JCUG/GJeVlRkZGf3xxx+SmmVlZaqqqmVlZZJFUCIrAkFBQevWrcO0IknHjRs3MEcfYfqEQmIE3N3dz549i6lDko7t27cPHDgQ0wMUyoqAv78/3gd8knScOHGiY8eOstbLkD67MkFmZqaRkZHk6ol37txxdnZu06bNsmXLVqxY4efnN2PGDMwBQocOHYLfxOi6V/bv39+tWzdJb+TpiIiImDJliqQHKKGAQHh4+IwZMyQNydPRr1+/bdu2SXqAEgoIrF+/ftiwYZKG5OkIDQ2lMHtfskZaJOzKBAAAW1tbvBcfMg0eOHAg3mssGXOoI4pAaWmppqZmQUGBqJD8OZ/Pd3BwkIdN8nX9DJo3btywsLCgvGJEcXFx06ZNi4qKfgasFNDGvLw8HR2d0tJSanVVVVU1a9aMPeuSsi4TxMXFUV7e4N69e/r6+iUlJdS4gVaSCEydOnXChAmScjKSnTt3urq6klm+lIw3qAMA6Nat259//kkNipkzZ44dO5aaLbTCRGDo0KELFy7ELJIqjIqKwps7JdWWCQXWZYK6urpWrVrFxcXJ2trq6movL6+YmBhZDaE+AQJv3rzR09OjsKbx69evzczMzp8/T+AcFsmKwPXr142MjPLz82U1vHPnjq6uLgVDWSv6qfSfPn2qq6ubmZkpa6tzcnL09fXv378vqyFz+qzLBACA9PR0LpebmpoqU7ODg4N79eol+Y1BJidQWRKBxMTEZs2a4Q2Yk9QHAFRXV3fo0GHu3LmYpVAoDwJLly795ZdfZJqi8erVq+bNm+/Zs0eeeqEtJgLbtm1r2bIl3kpomCYfP350cnLCHPCCqa8YIRszAQDg2LFjXC736NGjZFCoqqoaOXKki4sL5T47MrX8zDqrV6+2sLC4c+cOGRDevHnTqVOn/v37w6xMBi5ZdQQCwYgRI9zd3SWXosN0lZmZaW1tjTd1H9MECmVCYNasWfb29o8fPyZjlZeX5+LiMn78eDLKitRhaSYAAKSmphobG0+ePJl4ub4LFy64uLj07dv306dPigTuZ6trz549XC535cqVFRUVeG0XCATIwuuzZs2CaQAPJfnlAoEgIiLCxMQkISGBAOfq6uq1a9dyuVyCCfnyBwM9AABiY2MNDAxiY2MJvucjGx0bGRmtWLGChTNs2JsJAADFhw/fbtFCX08vJCTk1KlT6MYOPB4vNzd38+bNPj4+5ubmhoaGkZGRLAT3B/sjKVy27EjLlqampnPnzk1LS0NTQk1NTWZm5qpVq9q0adOqVSsul4u3WtEPBkh9NkcgyB86dKWVVatWrZYvX56eno5OP66srLx+/Xp4eHjz5s09PT1dXV0JskV9NuHHqvvllCnbWwiPhQsX3rx5E912t6qq6u7du5GRkXZ2dr/88outrS1axCoAWJwJDhwAyspAV/fJkyfLli1zd3dv0qSJhoaGiYmJsrKynp7ewIED9+zZU1lZ2bx5c2Vl5YCAAHZCzCq+qQezaBHgcECHDjdu3JgzZ469vb2ysrKOjo6xsTGHwzE1NQ0ODj5+/HhFRYWysrKKikp4eDjMzdTRJrasqQEBAYDDEcycefr06ZCQkObNm3M4HENDQz09vUaNGtnY2MyYMSMtLY3P53t6euKt5UVcCSwliwCfDyZOFP51DBx46dKlqVOntmzZslGjRlwu18DAgMPhWFpaTpw48b///hMIBL17946IiCDrWYF6bM0E0dFATU0IrpeXKBpv3rzJzc1F30aRouHDh3M4HHV1dTs7O7gKqShc9JzzeCAoCGhoACUlIDKzicfjFRYWvnjxAn0bRaqzs7PjcDgaGhrdunXDWzGNnsB+Ti9lZcDbW0iHpiYQ2Vy6pqYmPz+/oKBAbMbl7du39fT04DQCpm6W6mrQt6+QjsaNQVQUWktdXV1BQcHLly9ra2tRIQAgJydHR0eH5EcFUUOmz9mXCQQC4eNGXV2YBpSUwLRpUiHYsmWLpqYmh8NRUVHR09O7fv26VBOoQBaB8nLwv/8Jb3QOBzRtCnbtkmo4YcIEJSUlJDfb2NjgLZUj1Q9UwECgqAjY2X15SdLSAjiLMIoZTpw4EW8RFzFNeCkbAiUloG3bL3Roa4NTp8iYR0ZG+vn5kdFUpA7LMkF1Nejf/8tzh8MBWlogIUEqHHfu3EEyAYfDUVJSUlNTSyBhJdUtVADFxcDV9UtWRui4fVsqLDt37mzatCnn86GiotK0aVO4NKxU0EgpPHwIDA2BioowK3M4wr7TykoyhiUlJUZGRniL6ZPxAHUwECgoADY2X9IAhwNUVQG5eR7V1dV2dnaHDx/G8Fl/IjZlgg8fQLt239IA8hKKsyqyKGK1tbWNGzdGHj3I/9XV1SdOnAg/lImiJPN5bi4wNwdNmnx57nA4oFEjUF4u1c+jR4/U1NRE6VBTU4uNjZVqCBWIELh6FWhrCylA0gCHA0xNifS/L0tISHBychLrqfheBV7JgkBGBtDX/5aVORzhC5NAQNJFcnKyhYUFqxbKZE0mKCwEtrbfEiz61kPi0QMAcHZ2Fn30IP3UPj4+sJ+a5K0prnbzJtDR+e5G53CAiYm4GtY1n88XywRIT1FoaKhYFzaWNZRhIZCYKP6nweGAHj2wVLFlAoGgS5cu0dHR2MVQKhMC588LX1iVlL5lZQ4HtG4tk48BAwbMmzdPJhNGldmRCWpqxBMskgmMjUk2fsqUKY0aNRJLBkpKSvAXMUkAv1PLyRH+FBC70Tkc4Ov7nRr+hYeHhxgXjRo1UlZWfv36Nb4RLMFB4PRpYUcQ+lMAOVFRATIOQcnIyOByuZTXE8QJ7ucT37qFQQeHA0aPlgmL/Px8XV1duAKdBGijRgnfetA+UOR279pVQg9bsH//frRvGvlBYGZmdubMGWxtKCVGoKQEdO0q/tajrAwWLCC2Q0vnz5+voqKCJgNNTU03N7cHDx6gCvBEBgQePwYODsKRQqLJQFsbHDwog5PPqjNmzBg6dKisVlD/OwQKCoC7u/ATpigdGhpA9pUBV69e3blzZ5YMtmbHbwIE6UePhMNU1NW/vI0qK4Pw8O84wL/IyclRVVVFhg+pqqr6+fmJDW3EN4UlOAicOwesrb99ttHWBn//jaMqLj5y5Ii2tjaHw1FTU9PQ0AgODmbJ7S4eaEO5FgiEz31Dw290aGiAR49kDf/Tp09mZmanT5+W1RDqiyNw9iywsPhGh7Y2uHBBXEfadU1NTatWrfbu3StNURHlbMoEAICQEDBokPABpKUl/Imwfz9JDAQCgZaWlqqqavfu3dPT0+FICZK4EakJBKBDBzB+vLDjTkNDSAfpNRcLCwuVlZVVVVXHjx9/7do1PT092ClBBDWZsrIyYGwMfvvtCxcqKqCujoydmM7+/fttbW3he5IYLDJf1tYKh/NOmiT8jK+hIezMePtWZicApKSkNGvWDF09gYIHukzYlAkePQK6uuDVK8Djge3bgZsbwNkwGrPx//zzT1JSElK0c+dOOFICEyUZhP/8A+ztQW0tqKgAkZGgfXvhOekjNjYWXbFu5syZQ4YMIW0KFbEQWLRIOK8YAPDmDQgOBoGBWEqkZN26dfv9999JqUIlPAT+/FM46VUgAKWlYNYsIMf8gMDAwGkkZk3hBUKXnE2ZoFcvsGIFLQ1DRkrAzcuog1lTIxwrjbOdvaxukU6JU+Tm3cjq/KfQLygQviRlZ9PS2OzsbD09vdzcXFq8/YxOPn0S/j67fJmWtr969UpfX/8uuUmCtNSI6YQ1meD8eWBmJnz9pOnIyMiAnRLUsVy3DnTpQt1cwvLAgQOwU0ICFdKCMWPITLYn7Q6EhYX179+fvD7U/A6BefMArR/e169f7+HhUb+7+7EjE/D5wr4gkUVUvsOd6gUcKUERuZISYGAAbt2iaI5j1rNnz5UrV+IUQjE+AvfvAy4XvHuHryFzSUVFhZWV1YkTJ2S2hAYvXwqn2jx9SiMSPB7P1dU1Pj6eRp+yumJHJoiPBy4ugM+XNXpifThSghgf3NKZM8GoUbilVAuePHmiq6sLOyVkxs/PD/zxh8xW0gyOHDliaWkptpijNCNYDsDw4WDOHNqBuHLlioGBgUx7n9EbAwsyQWWlcDzW2bP0NgzxBkdKyIzqs2fCVx5ZvtWTryI8PLxfv37k9aEmSEoCVlagqooJKPz9/RcvXsyE5x/W5927wqF0798z0cCgoKCQkBAmPJPxyYJMsHQp6N2bTKzUdHx9feFICRmgGzSI/DQOGdx+Vq2srGzRogXslCCLG48HnJzAgQNk9WXUY+0KyTK2Q4Hq3bqBmBiG6isuLjY0NLx27RpD/ond1ncmePMG6OmRH6hO3BjM0idPnsCREpjIYAivXQNGRsKBcYwdR48ehZ0SZNHdskW4JiPpdc3IuhXRW7JkSffu3UUE8BQfgSNHQMuWoLoaX0Peki1btri5udXL0pn1nQkmTBDOzmD4gCMlSAEsEICOHcGmTaSU5VDq3bs37JSQjl9ZmXDJv9RU6ZpyaCArJCcmJsrh4+cwrasDrVoBhpeS5vP5Xl5e9bLHXL1mAnQqGcP3EhwpQQrgv//+MpWMlDZ1JdgpQQq7hQvBgAGkNOVTYuEKyfI1iBlrdCoZM+5Rr/W1x1y9ZoKePYGihhXCkRLorYZ9gkwlO34cu5RuKTu3baK7lXL4Q6aSPXkihwts09zc3PPnz4uVBQQEzJ8/X0wIL78h8OGDcFw1TVPJvrnFOZs0aZLi95irv0xA91QyHFS/ieFIiW9YSJ6tXUvvVDLJGkQl7Ny2STTCej4fPRpMn85EDPfu3du5c6eYZ2SFZLhYrBgs3y7nzQPDhn27ZPisXvaYq6dMwMxUMoQgzLceNu8lzfB9RcI9M1PJiCuGnRK4+DAwlQytCzMTAABWrVrFnhWS0WhZcZKXJ1xmLidHkcEofuW0esoEO3YIN8ileyoZQhXevQ4AgCMlsO/mGTNk3WcD24+M0oCAAFZt2yRj+Iyp/+9/YM0aer0XFhY+/XwcP348KioKOX/27BlaC7JC8r59+1AJPPmCQGAgE1PJiOFV/Mpp9ZEJmJxKBgAgyARwpATG/YdMJXvxAqOIYRHslMAA+MQJ4VQyuocqJiYmxnw+5syZExgYiJyLjVFhzwrJGLDUl+jGDeFSH8xMJSNuk4JXTquPTBAZCfr0IUaBQqnUtx7E55kzZ9i2lzSFxtJpMnAg+c3I6Kz3sy/YKfEdpMhUMtI7An1nS+6C4D0JADBs2LDpzHyfIBcd+7Q6dwbr19MY1qFDh1y+HleuXBG7FKtIkSunKTwTvH7N0FQyMm89CNBwpMS3Gw6ZSvbx4zcJHWei9/fMmTO/3vkuV65cEXMPOyW+A2TzZqankhFnAmSF5Hv37n0X1U97kZhI+1SygoKCs1+P4uJisUsxpBW5cprCM8H48cJ9l5g8iO91AEB+fr6ent4j2Tf/YzLq+vCNTCXbvJn2ukXv7/T09K93/tni4mLJumCnxBdMPn0CzZqBtDRJiGiUSP3riImJadeuXf2ukExje6m7QnYlq+85dwpbzl2xmeDhwy+7klHnR7ql1HsdGSnh7e39s2+ue+CAcKt0WXYik44+JY3AwEDYKSHsoxs4kBJ+dBqxYYVkOttD2VdsrHCfPiaX+iAZmq+vrwKWc1dsJujRAzC/bR6ZTIB0SuwnvU8ySc4aklpNjXC/aHasUA87JQBjU8ko3JOXL1+u3xWSKcRMswkylUyiM5PmWsi5U8xy7grMBAqfSkaMM9IpUcrkamvEAdRz6Zo1wMennmMQqf5n75QYNQrMmCGCRz2fjh07NjQ0tJ6DqMfq586VZ6do2gMPCwtjejl3RWUCPh/88gvYs4d2jORxOGzYsBls+vOTpy2y2SJTyW7fls2KSe2fulPi3j3hUEWsjyhMQk7kW3KF5FoW9CISRUxjWX1MJSMOX3LltJqaGmITWUsVlQmYnEoma5tR/VevXnG53J9xpMT06WDMGBQHlpz8vJ0S//sfWLuWJSygYWzevNnd3Z3H4z169MjT09PIyOhn+a42bBiYOxfFgSUn6Mppz58/9/Pz09LSKisrozE2hWSCykpgbs7QrmRyYhEdHd2hQ4ef5RZHwKq/qWRSyfoZOyWOHwctWtA+lUwq1FIV+Hy+u7v7gAED1NTUVFRU1NTUHj9+LNWqwSvcuMHcrmRygtOzZ8+AgAB1dfUmTZpoaWldunRJToei5grJBEuWgL59RWtlz3ldXZ2Li0tCQgJ7QmI8kgEDwKJFjNdCqQLJTglKbhqOETKV7J9/WBjx8ePHDQ0NNTQ0OJ+Ppk2b7mFZ7y4joHXuDGJjGfEsn9OLFy82b95cU1MToUNVVTUqKko+l99ZM58JGJtK9l075Lj4uTolrl4V7kpG91QyOeAXN0U7JcQLfsjrTZuApycbhiqKoltaWurt7Y3mAOTRo6SkVI+77IqGx+A5MpWM7i54OQOura3t27evurq6kpISwgXy/19//VVOz6LmzGeCceOYnkom2h5q52PGjJk4cSI124ZkJRCADh3A1q1sjpnP53t6em5mYL4b61qtkKlkFFqdn5+vrq7eqFEj0ecOh8NxcHCg4K3BmNTWAltbcOQI2zBvZZIAACAASURBVAL++PGjjo6OioqKGB0GBgY0hspwJkCmkr1+TWPETLhCOiWuX7/OhHMW+dy/XziVrK6ORSFhhXL79m0DA4M3b95gFf5AsvBwMHgwO9vz5MmT5s2bq6mpiT59VFRUquleGo9FzV+/niVTySQxKSgocHR0VFdXF6WjcePGRUVFksrUJAxnAoVMJaPWcjGrTZs2ISMlxOQ/ziUylSwpqUG0aOLEiWPHjm0QoVIMkk1TyTCbUFJS0rFjR9E+Ii0trRs3bmAqN3ghm6aSYYJZVVU1YMAAUTq0tbWP07fJIJOZ4PRp4ZChigrMhrFNiHRKbNmyhW2B0RbPH3+Arl1p88awI2TbJnpHRzAcsozuR44EM2fKaKNodR6PN3PmTPRVVENDY8OGDYoOQjH1zZnDqqlkmI0WCAQrVqxAf6ipqKgsXLgQU5OCkLFMwOOB1q3BX39RiInYBG9LMmIrMqU/cqdESYlwbBwDU8mYoyMhIcHZ2fnHnNB0756QDgamkjFBR1xcHJoMBg0aROZPqYHpMDaVjAk6Tpw4oampiXw97tChA11QM5YJtm9naFcyMssKUUYnNDQ0KCgIMX///v3evXsjIiKCgoJGjBgxa9as2NjYrKwsys7r03DqVMBMZwtzdCDbNsXExCC4vXz5ctu2bfPnzx/9+QgLC4uLiysoKKhPVCnX7esL1q2jbE1gyBAdqampOjo6ysrK5ubmSO0PHz6MjY2dOXPmiBEjgoODIyIi9u3bV1JSQhAbe4uGDgXz5jERHkN03Lt3z8jIqHHjxpqamshcqGfPnm3cuHHOnDkjR44cO3bswoULd+7c+fbtW/KNkisTvHnz5ubNm8ePHz958mR6evq3NXzKyoCJCTh3jnwc5DUZAhcJAOmU2LZt26+//qqhodG9e/fw8PDY2Ni4uLilS5eOHj3a0NDQwcFhx44dPB6PfMyK0czPz79y5crRo0fPnj2bmZlZWVn5pd6cHKCjA5jZlYxROjIyMrhc7q5duzw9PZs2bTpgwIDFixdv3rx506ZNixcvDggIaNq0qZeX18mTJxWDMPla+Hz+06dPU1NTDx8+nJKSkpWV9e2GOXaMualkzNGRl5dnY2OjpKS0fv16Ozs7IyOjMWPGLF26NC4uLjY2NiwszM/PT0NDw9/f/86dO+SBUphmbm7u5cuXExMTL1y48OjRo2+rNTA5lYw5Ot68eePu7s7hcGJiYtq0aaOnpxcYGLhkyZJt27Zt2LBh4cKF/v7+mpqaXbt2TUlJIQMylUzw/v37FStWuLu7a2pqOjo6duvWrXPnznZ2durq6r6+vlu2bOEtWgT69SNTPXkdkluSkXeIqVlRUdGjRw99ff2YmJhviU1ElcfjnTlzxsPDw8nJ6cGDByIl9Xaam5s7d+5cW1tbXV3d1q1b+/n5dejQwdLSUktLKyAg4ODBgyAgAERE0BufYugoKipq3bp1y5Yt9+/fX1VVJdmEqqqqvXv3tmjRwtfX99WrV5IKipfcunUrJCTExMTEyMjI3d29e/fu7dq1MzEx0dfXHzNmTMr588DRERw8SG9giqHj6tWrpqamnp6e//3337fEJtKSDx8+rF271sDAICgo6NuLiIiC4k8fPnw4bdo0S0tLfX19FxeX7t27t2/f3sLCQltbe+jQocJ3iE6dwJ9/0huYYujIysqysrJydnY+duxYHdaAwPLy8q1bt5qamgYEBHz48IG4jbJlAh6PFxUVxeVyhw8ffvLkSbE/ztLS0gMHDvj6+k42MDhJ949f8luSETeYoLSgoMDNzW3QoEEfpU28EggEW7Zs4XK5J+p1VedPnz5Nnz5dR0dn2rRpaWlpYn+cRUVFW7dubdO69Tpz8ytnzhA0nEKRAui4c+eOubl5WFiY1E8FNTU1c+bMad68+f379ym0hS6T/Pz8IUOGGBoaRkZGpqeni7nNzs6OioqyNTXd7uDwmO4+RgXQcfToUS6Xu337dqlLs3z48KF///4eHh40jnEUA5PM5bt378aNG6enpzd//vybN2+Khf38+fPY2FgHa+tNLVrcpXtAlALouHTpkqGhYVRUlNQ9hSoqKoKDgx0cHHJycghwkyETlJaW9urVq0OHDlLfhZOTk1u0aDFt2jTMTEUQDZkihn5wlZWVtWnTZu7cuWJ3DEFIKSkpXC738uXLBDrMFeXm5rZu3XrIkCEvX74kqIXP5+/cuVNfX3/jxo0EapSLGKIjNzfX2Nh4165d5AOLj483MTHJz88nb0Kj5tWrV01MTObOnUv8GlFZWbl8+XJ9ff3Tp0/TWDvqiiE6Ll26xOVy00jvp8bn82fNmuXm5lZRT0MHMzIyWrZsOWHCBOK+8tra2j///FNPT4+hrUoYoiM9PZ3L5co0hDQqKsra2hpz00Dk5iGbCcrLy93c3MaOHUtyasm7d++8vb0DAwPJP1jRu5n4hCFwBw4cSCHaxMTEZs2aKb5f4vnz5yYmJr///jtJeB89emRjY/M7A9sEMUFHdXV169atKUS7dOlSNzc3qb8hiG8wCqVpaWl6enqHDh0iaXvu3DlDQ8Njx46R1CevxgQdL1++NDIykum5AwAQCASDBg0aPnw4+eDp0szIyNDX199Kei79zZs3zczMtm/fTlcAqB8m6Pjw4YOVldWOHTvQWkieTJ482dfXF++JQSoTCASCAQMGDBkyBM8LZijl5eWurq7Lly/HLKUsZALcc+fONW/enFrP5m+//abg9VjKyspcXFxkBfb58+fNmjU7evQoZeQxDZmgIzo62tfXF7M6YqFAIOjcuTNDv37wqs7LyzM2NpYV2NTUVH19fak/r/EqxZMzQcfYsWOpbeNRVlZmamqampqKFy0T8nfv3rVo0WLbtm0yOUeSB8mPq+Q9M0FHWFjYsGHDyMeAatbV1Tk6Ogo/HGIdpDLB/v37nZycKDwonz9/rqen9/DhQ6yqWSRr167dzp07xQK6devW6c9HcnJybW3tx48fk5OTT58+fffuXVHN169f6+npPX36VFTI6HlYWFj//v1lyspIPBcvXjQyMiLuvmA0cjLOy8vLDQ0Nb0tMfSBJx7Vr14yNjSncq2Riw9Tx9/ePoPRBfsOGDR4eHhR4xAyDIWFWVhaXy5XsVSBJx7Zt2zp27MhQbJhug4ODJ0yYgFlELDx48KC1tfW3MUXE2vVU+vr1ax0dnWfPnonVT5KOf//919bWFvPTgvRMUFtba21tTXmg3vLly/vW65LUDx8+vHDhgtjXVFEcnzx5wuVyJT9p1NbWrl69msPh7Nu3D9H/448/IiIiJO+VCRMmyPqGLhqATOeFhYW6urrEH38IHA4ePHhRvS5JnZaWRjzK8PDhw506dZJsAnk6PD09//33X0kPTEhSUlJMTU2p9YbzeDxnZ+d/6nVJ6hMnThDfS0uWLPntt98koSNJR01Nja6ubl5enqQHJiRZWVm6urqUV6zq1q3bn3SPI5Kpmcj4bwKTzZs3DxgwQFKBJB0AgJYtW167dk3Sg/RM8O+//7Zt21bSUlRC8LddXl6ura39gpnB7KIx4J27u7s3adJEW1t77NixZ8+elXzir1mzZtSoUXjmEydObNu2LY/Hy8/PX7BgAaZaUlKSh4cHZhHtwuXLl6Nz3/CcE9CRmZlpYGBAkBfxfNIl19LSUlVVNTY2njVr1s2bNyXdjho1as2aNZJyREKGjt9//z04OBjPA73ywYMHo3PfMD0TcAEAOHDggLe3N6ahAoQFBQVKSkqqqqo2NjbLly/Pzs6WrNTV1TU5OVlSjkjI0BEYGLh+/Xo8D/TKp06dOn/+fAKfxHRcuHDB3t6ewJzRorq6Og6Ho6qqamFhsWDBAsyew549e+7evRsvDDJ0zJgxIywsTNKD9EwQFBS0evVqSUtUUlxcbGRkRLCV2pAhQ+ox03p4eCAL+CkpKWlpaWloaAwePPj48ePoq/2oUaMIlhuqqKiws7ND3ozwvpaXlJSoqqoq5me+u7v7qVOnUPAlT6TS4eDgUI/r+TRt2hShQ0VFRUNDQ19ff9KkSWlpaSh6Li4uBMOxyNBx6dIlqe8ukrhRkFRXV2traxOMVpLKRVlZmaamJvH4FgqBkTR59epVkyZNEDrUPh8WFhYRERFody6fz1dRUfn06ROeQzJ0/PnnnwpLzFZWVpL9imjwUung8/nGxsaPHj1CTRR8gu5AoKqqqq6ubmxsPHnyZNG/DhMTkydPnuBFRYaOgwcPYm5sID0TWFtbEyfSqKgoKysrggXld+zYUY/LlXTo0EF0KVcOh9OoUSNtbW0NDY1BgwYdP368a9euxJ0J169fb9SoEXH/mKam5rt37/AYokteVlbWuHFjsWkcYs6l0jF9+vSlS5eKWSnsUldXV4wOFRUVTU1NLpc7ceLEtLQ0Q0ND4s4EqXQ8ffrU1NRUAS26evWqo6MjQUVSuQAAdOvW7Ug9rYn/7t07yVXv0ZSwaNGi5ORkbW1tggYCAKTSkZiY2LNnT2IntJTm5ubq6+ujrxSSPsnQERgYSPBeKOmTXonknhDIvqEGBgaTJk1KSUlRVlYuLy8nqFQqHVeuXHF1dZX0ID0TqKurv3//XtISkfB4vClTpmzbts3JyQlP59y5c15eXoWFhc++Hvfv37/99Tj79Th16tTBr8fu3bu3fT3Wrl27+usx/+sxe/bskK/H6NGjB389evXq9b+vR9u2bd3d3R0dHcUePWKXlpaWFy5cwAseALBv376ePXu6uroSDE80NjbOzc0lcEJLUXZ2tpmZGYErMnRER0ePGzcuPz//KxvP7ty5g7Bx/fr1r2ycPXHixFc2DiYkJHxlY1tUVBTCxsqVK7+yMX/GjBlf2QgZMWLEVzYGd+/eHWGjW7du7p8PyUyA0oG8EKmqqkp+nxRtslQ6Xr9+raWlJWrC0PmhQ4d69eqF55wMFwCAoKCgtWvX5uXlIXQ8ffr061/G7StXrqB0HDt2DKVj+/btCB1btmz5+pexetmyZSgdU6dORekYNmwYQsegQYO+/mX8r0uXLu7u7q6urpKPHjE6mjVrhtdARC6VjrNnz9K4UBpBMGlpab/88gueAkk6wj4fz58/R+jIyclB6bh27RpKx/Hjx1E64uPj0b8OlI4VK1agdEyfPh2lY/jw4ehfB0qHj48P8tchmZjF6FBWViZIdWQeVshMC0mUpGSCT58+qaioENR96NCh8+fPV1RU6Orq4vU5ZGRkGBsb630+jI2NW349nJ2dkfa7u7t37doVwcXPzw9Favjw4SiC06dPR5FdsWIFijjKQXx8PMrN8ePHUc46deqEoomeILtCe3p67t6929/fn2BeyZ07d2JjYysrK21tbfGGiNTV1SkrKytgvMrly5cJ7nUAABk69u3b5+joiNBhamr6lY2WLi4uKB3oPdqzZ0+UjlGjRqF0zJo1C6Vj1apVCB1r1qxB6di1axdKx8mTJ1E6jIyMUBbQEy0trSZNmvz666/Hjx+3srLKzMyUvFMRCRk67t27Z2tri+eBRvnmzZvHjBmD55AMFwCAsLCw1q1bI3RYWFigdLi5uSF0tGvXDqXD398fpWPs2LEoHXPnzkXoCA8PR/80oqOjUTr++usvlI4zZ84gdCQlJaEUiJ4gnaijR49OTk5WUVHBHGpCno7du3cPHDgQDyUa5UeOHOnRoweeQ5J0xMTEoHSYmZmhdLi6uiJ0tG3bFqWjV69eKB2jR49G6Zg9ezZCR1hYGErHunXrUDr27NmD0nH69Gn0r0NVVVWUCORcU1NTTU1t8ODBZ8+eJe5LJPPXkZycjDmaS0omQDoKCb4BDB069Nrno1+/foNxNmBKTU11c3PDY4hpea9evVBwkb5ppDP0+fPnSNWTJk3Cm8T0+vXrqVOnImqXL19u3Lgx5mf3Z8+ecblcphsCAMDL52jVZOjYuHFjPW4CY2pqitKhqqqqpqZmb2+/fv169HdAx44dk3C20yFJx9GjR318fFBMmDvZt29f//798fyT4QIAMHHixLVr1+I5YVReU1ODcsHhcDQ0NJo0adKhQ4fdu3ejrzUEH0JI0rF06dJp06Yx2hDE+fnz5728vPAqIknHkiVL5jGzLileYKJy0Y1oEDpcXV23bduGPoFtbW0xx1kAAEjSsW3btiFDhohWipxLyQQAADMzs8ePH0taAgDu378fGRmZ9vk4fPgw3m5qf//9t7+/P6YHBQj79u2L3OVNmzadNGmS5DePgwcPYo7fOHToUMuWLSMjI5GfRPfv39fV1TUxMZFca2jjxo14WZDeBhYXF6upqeH9RCNJx4IFC8LDw+kNjLy35s2bKykpIV/DIiIiJEdGR0RETJkyRdIheTpCQkKWLVsm6YF2yYULF/DGjJHkAgDQp08fgp+ktMcs6pDP53M4HBUVFVVVVVtb2/Xr10t+u+7Xr19cXJyoFXJOng4vLy8mZlNLhvTo0SMLCwtJOfknFQBg/PjxxIPBMP3TJWzatKmysrKampq5ufnvv/8uueh6aGgo5r1Nno7+/ftjzr6Wngl69+6NN7N52rRp6LsDAMDHxwdzrPqUKVPw+lXoQpDAz44dO3r16vXvv//i9fJ/+vRJU1OzsLCQwAlxkY+Pz18M7MmDWamlpSXeSwFJOry9vcmvi4AZgzzCWbNmjRo1KjU1FS+f3b5929zcHI8sqVXX1NQ0a9ZMcgE4qYYUFIqLizU0NDBn6pHkgsfjGRgY4L1pUQhJVpP+/fvPmDEjIyMDzzAhIcHPzw+vVKr8xYsXWlpa1OZbSHUuplBTU6Ojo4P+1hctJUkHAMDBwYH2mcaikRCfBwUFhYSE4P2BAwBOnTrVpk0bvL8dYucAgNLSUi0tLcxnnfRMsH379j59+kjW8ddff1lZWaETbl+/fv2///1PS0vr77//FlUWCAQWFhYEQ7tElevrfNLng1rtly5dMjMzU8y9DgCYNm0a5pZ1JOl4+/atpqYmwbhAaiDQa+Xj40MwFI24rpiYmC5duhDr0Fjq4+MjOTWMJBcAgJSUFAcHBxrjod1VZWWlubn5xYsXqXkOCgqitlIFteqGDRsWGxsrZkuejqysrPqdbSMWueQlj8dzcnI6fPiwZBEZSXh4ON5KFdIzQXFxsZ6eHuW9uv755x9nZ2fKSYxM8+TXefXqla6urmTHkVTPVVVVrq6uCQkJUjXpUrh586axsTHlR/nChQsDAwPpCoYhP1euXGnWrNnr169l9V9YWGhoaHjr1i1ZDSnrx8fHe3p6Ur69+/btu3LlSsq1K8Zw69atHh4eeJNpCGK4fv06l8tVwOhqNIaTJ0/a2NhQ/kE5YcKE6dOno97YeXLs2DEbGxvMX6LEAWdnZxMsTyA9EwAAli5dSm3FiKqqKhsbG8mOdeKI66V0z549pqamkh1zxMEEBwf369ePYHAFsTm10oEDB2L2wkn19vLlS11dXUUukSQ1JDyFOXPmtG/fXqanT1VVlaenJzVk8MKQKq+rq2vVqhXeql7E5pcuXTI1NSUeHk7sQTGlfD6/d+/eo0ePlqm6oqIic3NzxX8C8fb2pjaPNTMzU09Pj/JKFTKBI6fy+PHje/ToIdNKAR8/fnR0dJT8wYRGQioTlJWVOTg4UPiQMnr06H50b16Ghk77SVhYmIODA8EUPtEaq6urg4KC2rRpQ/n1XNSbTOfPnj0zMDAgWAMA01tVVZWXl5eCH5SYkZAR8ni8Pn36+Pr6EsxlEfXz7t07Hx+fgIAABWdlAACyxDTJ2waNGXlQSvYsoQqsOiktLXV2dh4/fjw6M584vKysLDs7u3r5Onj37l0ul0vQ1Y4ZeWlpaatWrailEEyHjAqrq6s7deo0cOBAkq8RL1++dHd3J16Yj1QmAABkZ2cbGBjs3buXZAsFAkF4eLijoyOFXzEkq2BCLTo62tDQMCEhgTjf3rp1y9PTs1evXpg7XDIRmJjP5ORkAwODK1euiMnxLisrKwcOHNi7d2/FPyjxQpIqr62tnTRpkrW1tdRNXU6cOGFlZTVlyhTJRaWk1kKLQkxMjJ2dHfmpha9fv27bti3m8i+0xMOEk5KSku7du3fo0AH9NIhZC4/Hi4uL09fXr8en6v79+01NTTHX7cGMubS01NfXtx6HVmNGRSysrKwcOnRomzZtiLcPEggEBw4cMDExWbx4MXEfJtlMAABA9nMICwuT+pv9/fv3AwYMcHNzI95Oi7ip9VWalpbm4eHh7Oy8fv16sWUPysrKDh06NHDgQAMDg5iYGOJswXT8hw8f5nK5cXFxxAQDAJ49e9a2bdv+/fujo5KZjo1G/3///XeLFi18fHwSEhLEepzfvn0bHx/v7e1tbW1NrX+GxjhXrVplZGRE5ofa1atXLSws5syZ04CyMgIUj8dbt26dgYHB4MGDDx8+LPZCmpubGxMT4+jo2K5dO4KVo2jEnMDV9u3buVwumZ9cGRkZDg4OY8eOJflzh6BSBRcJBIK4uDgTE5Nff/11//79YjsVFxQUbN682d3d3dnZ+QyJzWtlyAQAgMLCQj8/Pysrq507d2I+Vt6+fbt69Woulztu3DiFDaehnQCBQHDs2LFhw4bp6OgYGBi0bt3ay8vLzMxMVVW1c+fO69atq6+fAmItvXfvXuvWrd3d3U+cOIH5lSw3N3fGjBk6OjrLli1rcM8dtLE1NTU7duz49ddf1dXVTUxM3D4fzZo1U1dX9/f3T0hIYMnf8IkTJ8zMzPz9/a9evYqZnu/evTt06FBDQ0OFjTlGMaTxBNm2vlOnTqqqqubm5l5eXs7Ozvr6+rq6uoGBgf/++y9m22kMgKSrtLQ0Gxsbb2/vc+fOYb60ZWVljR8/Xk9Pj6D3nGRd9ahWXl6+ceNGX19fVVVVU1PTdu3aubi4GBkZaWpqDhw48MCBA5htlwxYtkyA2J85c6ZLly6ampq9evWaPn36mjVrVq5cOWXKlI4dO2pqagYEBNTvxuKSjaQsqa2tzc/Pv3r16qVLl7KyssRegii7pdEQ2abYxcVFV1d34MCBc+bMiY6OjoyMDAkJadOmja6u7oQJEwgWy6QxEgW4qqqqysnJQWYy5uTkEK/Ep4B4JKuorKxctWpVixYtTE1NR44cuWDBgujo6IiIiDFjxlhZWZmami5cuJAlrxGSwcsqKSsre/To0aVLl65evZqfn19fXXMEYdfW1m7YsMHBwcHAwGDYsGHz58+Pjo5esmTJuHHj7O3tDQwMpk+f3iA+ERO0ES2qrKzMzs5OSUm5fPlyXl6erK9HVDIBUvfbt2/37du3fPnyKVOmTJ8+PSoq6ujRoyx8VqJI/dgnubm5O3bsWLJkyaRJk2bPnh0TE3P27FnMHwo/Ng4sad39+/c3bdq0aNGikJCQ8PDwP//888aNGyx5WWYJRIoM4/Hjx1u3bl28eHFoaOi8efPWr1+fkpJC8mVZkXHWY13UM0E9Bg2rhghABCACEAEaEYCZgEYwoSuIAEQAItAgEYCZoEHSBoOGCEAEIAI0IgAzAY1gQlcQAYgARKBBIgAzQYOkDQYNEYAIQARoRABmAhrBhK4gAhABiECDRABmggZJGwwaIgARgAjQiADMBDSCCV1BBCACEIEGiQDMBA2SNhg0RAAiABGgEQGYCWgEE7qCCEAEIAINEgGYCRokbTBoiABEACJAIwIwE9AIJnQFEYAIQAQaJAIwEzRI2mDQEAGIAESARgRgJqARTOgKIgARgAg0SARgJmiQtMGgIQIQAYgAjQg0jExQV1dXWVlJY7OhK3kQgHTIgx7ttpAO2iGVx2EDpaNhZIIZU6eFjp8gDz3QlkYEIB00gim/K0iH/BjS6KGB0tEAMkFNTU0rW7s1UX/QyBZ0RRkBSAdl6JgwhHQwgSplnw2XjgaQCW7euGFtaZWWmkaZHmhIIwKQDhrBlN8VpEN+DGn00HDpaACZYOOfG+ytbeB3AhrvV3lcQTrkQY92W0gH7ZDK47Dh0sHeTHDt6tUJwcETgoPbe7Rr7eiInN+6eUsenqAtZQQgHZShY8IQ0sEEqpR9/gB0sDcTIKzU1NQ42tmvW7OWMknQkEYEIB00gim/K0iH/BjS6KFB08H2THD92jVrS6vLaZdFCautrT125GhRUVFdXd2bN2/Onz33+tUrUQV4zhACmHQgdVVWVqampCTs2HHxwgWGaoduxRDApCMtNXVnfMLtW7ceZmY++noUFRWJ2cJL2hHApAMAwKvjJZ85syMuLunEiaqqKtrrpcUh2zPB+uhoyY8EBQUF1pZWyH/21jarVq7k8Xi0wAGdECOASQcAIOPBg6DRY27euMGr48XGxOyIiyP2A0tpQQCTjqhVq9C/DvTk4D//0FIjdEKAACYdpaWlyyIj79+7x6vjZWZkjBk56uXLlwRO6quI7Zlg2OAhQwYOEkOnoKAgcvHipBMnLpw///btW7FSeMkcAph0FBcXe7X1QN86p02e8sfq1czFAD2jCGDSMXvmzPT76Tk5Oc8+H+f+O7sgLAw1gSfMIYBJR2xMjGiXxvlz56NWrWIuBsqeWZ0JqqurW9naRa8V/0hQUFAA3zopU07ZEI+O8PnzfwudSNktNKSGAB4dRw4nog4ryivmzJpVXV2NSuAJQwjg0RG5eHHI+PHo0Me/9x/Y+OcGhmKQxy2rMwHS73bl8pePBNmPs5FeoIKCgi2bNx87cnRHXNzunbs+lJTIAwG0JYkAHh2dvNpv27L1VNLJ+O3bN23Y8OzZM5IOoZo8CODRIepzxdJlBQUFohJ4zhACeHRkPHjQytaug6fX0cQj165eXRgeXllRwVAM8rhldSbYsmkT+pGAx+PNnzMXaeqroleBQ4Yi3W2PHj7s3s33ZX6+PChAWzIIYNLx6dMna0ur8UHB2Y+zAQAl70t6de9+4/p1Mg6hjjwIYNIh6vDG9eubNrDx9VM0yB/mnICO+/fvuzq3tra0au/RUs3ywwAAIABJREFU7mFmJjubzOpMEL12bZdOnRHgEuLjH6Q/wARxxtRpkydNwiyCQhoRwKTjVdEra0urxQsXoRXFxqzv6dcdvYQnDCGASYdoXf379Hme91xUAs+ZQwCPjmfPnk0KCb154+ahgwe92no42tmfP3eeuTAoe2Z1Jnie97yDp9fJE0nro6NTLl1CG3n92rX379+jl1GrVnn84oZewhOGEMCko6qqyrZFy/jt29FK9+3da21p9enTJ1QCT5hAAJMOtKKsrCxX59boJTxhGgE8Ovr86p//4gVSe3l5+azpM7w7dGQ6GAr+WZ0JAADl5eUP0h+Ul5eLts3FyXnr5i2oZOmSJT3+54dewhPmEMCko3+fPrExMWile3btdnZoBcf1ooAwd4JJB1Ld5o0b/bp2Y65q6FkSAUk6St6X/M+nq6hmZWWli5NzWVmZqJAN52zPBJgYzZ45E/1NwOfzfX18RN9JMU2gkDkEzpw+PXTQt5G+s6bPCJs3n7nqoGcyCEydPLl/nz5kNKEOowj8z6drYWEhWsWHDx9GBg5HL9lz0iAzQWFh4cLw8COHE9NSUydPmrRuzVqBQMAeTH/CSNasjlq8cNH1a9f+XB87bfIUsd9wPyEg9d7kCePGjRgWWO9hwACysrImBAcf/Oefu3fuHDtydPHCRa+K2LggQoPMBMIJ3Dzeo0ePrl+79uHDB3i3sQGBV0Wvrly+DMcssoELZBDXu3fvWBLMTx6GQCB4nPU4LTU1LzePtVA01EzAWkBhYBABiABEoMEhADNBg6MMBgwRgAhABGhGAGYCmgGF7iACEAGIQINDAGaCBkcZDBgiABGACNCMAMwENAMK3UEEIAIQgQaHAMwEDY4yGDBEACIAEaAZAZgJaAYUuoMIQAQgAg0OgQaQCXg8Xmpq6uzZs/38/JycnKysrDw9PQMCAjZs2PDi64IeDQ73hhtwVVVVUlLSxIkTu3Tp4uDg0LJly44dOw4fPnz37t3FxcUNt10NNPIPHz7s379/1KhRnTp1sra2tre39/b2njBhwtGjRytYufpxA8WZZNjl5eWJiYnjxo3r3Lmzvb29jY1Np06dRo8e/ffff3/8+JGkk3pRY3Um4PP5e/futbKysre3nzdv3tGjR69du5aVlXXx4sX4+PghQ4Zoa2sPGDAgKyurXrD72Sqtqqpas2aNvr6+h4fHihUrTpw4cffu3czMzOTk5I0bN/bo0UNTU/O33357/fr1z4ZMvbS3uLh41qxZWlpavr6+sbGxp0+fzsjIuH//flJS0urVq9u3b6+rq7t8+XI431sx7JSVlS1ZskRHR6dTp05//PHHyZMn09PTHzx4cOrUqZiYmK5du2ppac2bN6+ErZupsDcTvHnzpnPnzq6urmfOnMHjEkFfV1d3zZo1eDpQTgsCmZmZNjY2PXr0uHfvHp7DoqKikJAQPT29o0eP4ulAOS0IJCcnGxgYjB07luBncWZmZt++fS0sLO7cuUNLpdAJHgLXr183MzMbOHDg48eP8XRyc3OHDx9uZGR04cIFPJ16lLM0E2RnZ1taWs6aNYvMkpY5OTmOjo7BwcF8Pr8eofyBqz537py+vv7WrVvJtDE1NdXY2HjdunVklKEOBQS2bdtmYGDw33//kbHds2cPl8s9fvw4GWWoQwGBw4cPc7ncf/75h4xtUlKSvr7+zp07ySgrUoeNmeD9+/e2trYxIgsdS0Xk48ePHh4eixZ92y9FqglUIInAw4cP9fX1CX6ZSfrJy8szNTUl+bchaQ4lBAgkJSUZGRnJ1COamprK5XLhLwMCVCkXXb16lcvlXpdlk74HDx4YGBicPXuWcqVMGLIxE/Tp02fiRJl3SC8oKDAzMzt58iQTMP20Pqurq+3s7DZv3iwrAtevX+dyuU+ePJHVEOoTIJCfn6+vr3/x4kUCHcyiPXv2NG/eHH4zwASHsrC0tNTExOTQoUOyejhz5oyhoSGrvqixLhNcunTJzMyM2rCHQ4cO2dvb19XVyUoM1MdDIDo6ukuXLnilxPKIiIhBIvsWECvDUjIIBAUFzZw5k4ympE6/fv2WLVsmKYcSygiEh4cHBlJc+js0NPS3336jXDXthqzLBN7e3vHx8WLtvH379unPx5kzZ1JSUvCW2xUIBO3atdu3b5+YObykhkBtba2hoeHNmzfFzEnS8fHjR0NDwwcPsHefFvMJL6UikJubq6enJ3nzk6Tj0aNHurq68GeBVJxJKnz48EFHRycnJ0dMnyQdRUVFOjo67FnFnV2Z4PXr11paWpI/CAQCQa9evQYMGPDo0aOLFy927doV781o69atAQEBYtzAS2oI/Pfffy4uLpK25On47bfflixZIukBSiggsHbt2lGjRkkakqejU6dOiYmJkh6ghAICe/fu9fPD2DSXPB2DBg3atGkThaqZMGFXJtixY0e/fv0w2xkaGjp58mSkqKioiMPhYA5nLCws1NLSqqmpwXQChTIhMG3atIiICEwTknScOXPG3d0d0wMUyopA165dDx48iGlFko41a9aMHTsW0wMUyopAYGDghg0bMK1I0vHXX3/16tUL04PihezKBPPmzVu8eDEmCqLg3r17V0lJKTs7G1PT0NAwNzcXswgKZUKgZ8+eeF/DSNLx6tUrLS0tmSqFyngImJqa4t3zJOlITk7u2LEjnn8olwkBNze3lJQUTBOSdKSnp1tbW2N6ULyQXZlg1KhRW7ZswUQhNDS0bdu20dHR8+fPt7CwIBjb7urqevnyZUwnUCgTAi4uLleuXME0IUkHn89v3Ljxp0+fMJ1AIXkE+Hy+iopKWVkZpglJOjIzM1u0aIHpAQplRcDExOTp06eYViTpKC4uVldXx/SgeCG7MsHw4cPj4uIwUUDT7MePH1euXKmvr3/37l1MzbZt2166dAmzCAplQqB169Z4A6VJ0iEQCFRVVVk7w14mNOpXua6uTllZubKyEjMMknQ8fvzYwsIC0wMUyoqAsbExXt8DSTpKS0ubNGkiEAhkrZoJfXZlgjlz5kRGRmK2EwUXKXV2dg4NDcXUJMjVmPpQiIdA9+7djxw5gllKko63b9+y560HsyENSNisWTPJkSpI/CTpOHfunJeXVwNqMptDJeh7IElHZmamlZUVS9rIrkywceNGvPG5ISEh6BfjsrIyIyOjP/74QxLEkpISNTU1vFcnSX0oIUAgJCRk1apVmAok6UhLS3N0dMT0AIWyIuDl5YU3cZIkHZs2bRo2bJis9UJ9TAT69+8vOd4d0SRJR2Jioo+PD6ZzxQvZlQny8vJ0dXVra2vFgLhz546zs3ObNm2WLVu2YsUKPz+/GTNmYM4g++uvv7p37y5mDi+pIXDkyJEOHTpI2pKnY+7cuXPmzJH0ACUUEIiMjMSce0+ejh49euzevZtC1dBEEoGtW7f2799fUk6ejjFjxkRFRUl6qBcJuzIBAMDFxUWelSx79uxJYWmEeoGe/ZVWVFQ0bdoU77OY1PhramosLS3h13upQJFUePDggbGxseRsG5LmBQUFWlpacA8JknBJVSsqKmratOmbN2+kamIqfPz4UV9fH28wGKYJo0LWZYK///7bwcEB831fKhApKSmUV6qQ6vznVFi4cOHQoUOptT02NpbyShXUavzhrfr06bNixQpqzRw3btz06dOp2UIrTAQmTJgwdepUzCKpQnn+sqQ6p6DAukyArBiB1z1N0MJPnz45OTklJCQQ6MAiWREoLS01NjY+ceKErIbPnj0zMDCQXKlCVj9QXxSBzMxMLpf78OFDUSGZ8wsXLujr6799+5aMMtQhiUBhYaGenh7eSGsCJ/fu3dPT06P8a5vAM+Ui1mUCAEBubq6RkdGxY8fIt6qurq5v374jR44kbwI1SSJw8eJFfX19mZYPKi0tdXZ2xvykT7JSqIaHwObNm62trWV6pj99+tTIyAjvazNeRVBOBoHExMRmzZrl5eWRUUZ0Xr16ZWlpuWvXLvImCtBkYyYAAKSmpurr6+PNMhPDpaSkxM/Pr2vXrlVVVWJF8JIWBBISEgwMDJKTk8l4e/r0qaOjI94YXzIeoA4xAnPmzLG2ts7MzCRWQ0qRjYPw1kUg4wHqECOwZs0aExOTa9euEashpffv37e0tMRbxIWMB4Z0WJoJAACZmZnW1tYBAQEEG8IhGx1bWFiEhIRIjjhiCLKf0y2yXeLkyZMJPpEhGx1zudy1a9f+nCgprNVbtmzhcrkrVqwg+ID8/v37WbNm6enpyfTzWmFN+JEqOnjwIJfLnT9//ocPH/DahW61y84ebPZmAgBA1a5d+RYWXF3d3r17b9++/eHDh6WlpTwer7Cw8PLlywsXLnRwcGjTpo22tvaECROofWTGow3KJREomzXruq2trq7uiBEjDh48mJ2dXVFRUVNT8+LFi+Tk5KlTp5qamnbu3FlNTU2m/eYkK4IS6QjU1JT27LmrVStjY+NJkyadOnUqLy+vurq6srLy6dOnR44cGTNmjJ6enr+/v42NDVyQUTqecmrw+R9HjDjp4MDlcoODg48dO5aTk1NVVVVdXZ2bm5uUlBQSEmJoaNijRw8TE5PS0lI5a2PCnMWZYO1a0KgR0NcvLi7esWNH3759mzdv3qRJEw6Ho6Oj4+zsPHXq1HPnzvH5fBsbG2VlZS8vr/fv3zOBEfQJeDwwZgxQUgJdujx//jw6Orpr166mpqbKysocDsfQ0NDd3X3hwoW3b9+ura1VUVFp3LjxyJEj4QOIqTvn40fQoYOQjrCw9PT0yMjIdu3aGRsbczicRo0amZiYeHt7R0VFIR8kfX19f//9d6YigX6Fb6xVoHdvIR3Dh2dnZ69atapjx47NmjVr1KgRh8MxNjb28vJatmwZ0ps3fPjwadOmsRA2VmYCgQCEhwN1dcDhgM6dxVCT/DkcFBSkpKTUpEkTExMTkp2nYj7hJRECFRXAzw9oaAgT87x5opo8Hq+6ulpUAgBwcnLicDgaGhqurq6s2p9PLM6GellUBOztgZoa0NIC+/eLtqKmpkbyl/GTJ0/09PTwVsgRNYfnVBAoKQFt2wrpUFUF0dGiHurq6iS7rF+/fk2wZpqouYLP2ZcJampAQMCXNNCoESAxQzU+Pl5LSwt5IdLQ0IC9onTeQ+/fg19++UJH06Zg716pzidPnoy8DTVp0kRfX//27dtSTaACWQQePQJGRqBJE+FLkqYmILcfXFhYGN62H2TrhXqYCBQWAltbYRrgcIC2NvjvP0wtMeH69es9PDz4fL6YvH4vWZYJPn0CnToJXz85HOF/TZuCPXukApSRkaGurs75eqipqS1cuJAlK/xJDZ7VCrm5wMLiy3MHefTcvy814H379jVt2hRhQ0lJSUNDA2+TA6muoMJ3CFy7JnzcKCt/+etQVgbkdmSqqKiwsrKiMCnku9rhhRgCGRnAwACoqHyho0kTUFQkpoJ5yePxXF1dd+zYgVlaX0I2ZYLCQmBn9yXBIplASwvgLD0tihefz1dTU/uaCIT/amho9O/fH65DJ4qSzOe3bgFd3W83OocjfAZJ9AVJun369KmqqqooHWpqarNnz2bbS5Bk5KyWHD365ZcZ8qfB4YDmzckHfOTIEUtLS8meVfIeoOZ3CFy4IPxNpqT0JQ0g70nfaRBd3Lhxw8DAQHJLaiIbhstYkwkyM4Gh4XfPHeTRg7Mguxgsbm5uoo8eDoejpqbm5OREMORRzAO8/A6Bs2fFb3QOB5ibf6eDcyEQCDQ1NcXoUFdX9/f3l/yogOMDir9HIDb2uzckJBn4+3+vJOXK398fb0NAKZawWAyBQ4fEszKHI+xEleUICgoKCQmRxYJZXXZkgpoaYY+QaIJF7nVTU5Ktnz17NjKOBX0ANfp8kJzuQbKWn0Xt8WPhx2H03RM9Ib3naseOHVEikJPGjRurqanB5c+o3EKJiRh0NG4Mli6VyVtOTo6Ojg7B7ByZvP28ypcvYzyplJTAhAkyYVJcXGxkZMSeBxQ7MgEAYMGCL9/f0ecOhwN69CAJ7uHDh7W1tdGnj6am5i+//JKenk7SHKp9h0BZGRg1SkgH2gfK4QjPcTYR+s7280VERETjxo1ROtTV1X19fV+8eCGpCSXSEcjPB127ir8qaWsDnE2ECBxGRkbCNdsJ8CFV9O4d6NtX+Nch+rakqQk2byZlLqK0detWNzc3Ho8nIqu3U9ZkAgBAYSEYPFj4fRL5JqaiAnB2t5dEKz8/H5lqoKqqqq6u3q1bN9grLYmSbJJHj4CPj/BXMPJbTVsbJCaS9JCUlIQkZg0NDQMDA8xV9Um6gmpfEDh/HlhZfRtMoa4OcDbRJUCsurrazs7u8OHDBDqwiBQCN28CZ2dhDyry5qqtDdLSSBmKKPH5fC8vr40bN4rI6u2UTZkAADB0KBg3DnTsKLzjVVXBoUPkgdHV1W3cuHFwcHBRUVGLFi3gSAny0GFr8nigdWsQFgZsbIRD11VVwePH2JoS0rdv3zZq1EhNTW3p0qVPnz7V09ODnRISIMkoKC4GXC5Yvlw4XkVDQ/jCRGkYYnJysoWFRVlZmYzVQ/XvEaisFA6rW7IEmJkJ84GyMigp+V6D1NXt27f19PSKyA06IuWRqhKbMsH168KPxshU7FOnQJ8+4NUr8u1KSUlBh64fPXoUjpQgDx22Zlyc8CMYny+cYLxjBxg0SHhC+khMTHz+/DmivnTpUj8/P9KmUBELgalTwdixwoKKCmE33YwZWEqkZAEBAfO+nyFIygwqiSKwfDlAPpvV1AgnlCHUiCqQPp80adLo0aNJqzOlyKZM0KkT2LCBrob27t0bjpSgDmZZGTAxAefOUfcgYlldXW1vbw9nFYhAIuNpTg7Q0QH5+TKaYavn5+fr6urKtMw4tqOfVvrmDdDTAxkZtABQWlpqYmJy8eJFWrxRdsKaTHDokHAygcQOxpQbBkdKUIZOaLh4MejXTy4P3xsnJyebm5vDTonvUSF91b8/iIggrS1dcdWqVZ07d4azL6UjhakxcSKgdQDozp07nZycJJemwKycISE7MkFNjXDS9tGj9DYyMjISdkpQgbSwUPgGKvvGWMR1DRgwYO7cucQ6sBQDgatXgbEx+PgRo4iqqKamplWrVvv27aPq4Ce2y8oSzriktWdfIBD4+PisW7euHmFlRyaIjgbe3rSjAEdKUIQ0OBhMmULRFt8M6ZSAQ3vxEcIqEQhA+/Zg2zasMrlkKSkpzZo1I1hPXy7vP7Cxvz9Ytoz29iH7khYUFNDumaRDFmSCDx+EwyFu3iQZsUxqcKSETHAJldPTha88r1/LbEjCYPXq1bBTggROIir79oFWrUBdnYiIttPAwEC4x71saF68CExNQXm5bFbktGfOnDl06FByuvRrsSATzJoFRoygv2VfPcKREl+RIPdv9+5g9WpyqjJr1dXVtW7dei+JBU1ldv1DGtTUgJYtwalTDDXu1atX7FwhmaH2yuuWzwfu7iAhQV4/OPafPn0yMzM7xRjdONV+Edd3JsjNFXZJfx1uSBwrtVI4UkIG3E6dEi4uVFEhg4mMqrBTQgbAVq8Wzi5m8oiJiWHhCslMtlgO3zt3AhcXmcZSy1rZgQMHbG1t62V5rvrOBEOGCOcuMXzAkRKkAEamkjH/ws7abZtIoaQwpXfvhEMV79xhtEJkheT4+HhGa/kRnFdWChd/JbcDgTzt9fX1XblypTweqNnWayYQnUpGLXxyVnCkBCmctm37MpWMlDZ1JdZu20S9SUxYTpkCgoKYcCzm8/Lly2xbIVksQlZcLl8Ofv1VAZE8efJEV1dX8XvM1Wsm6NgRKGrNDdgpIeUmRqaSnT8vRY2mYnZu20RT4+hwk50t3JSGpqlkogHl5uael2A5KCgoNDRUVA2ef4cArVPJvvOMdREeHq74PebqLxMcPCjcjpW+qWQopJj3OgAAjpRAIcI4WbwY9O+PIWdGBDslpODavz/55ReluPq++N69ezt37vxeBoqLiw0NDdmzQrJYePV/GRoKFJgpKysrFb9yWj1lAmQq2bFjTHCMea8DAOBICVy0mZlKhlvd54IrV67ATglsiFJSaJ9KhlaE99exZcsWd3d3lqyQjEbLihMGppJJbZfiV06rp0zAzFQyBF+8ex0AAEdKYN+CQUFg6lTsIialbNu2icm2kvYtEAAPDxAXR9qAlGJhYeHTz8fx48ejoqKQ82fPnqHGfD7f09Nz06ZNqASefEHg11+ZmEomFV4Fr5xWH5mgpISJqWRS73UAAOyUwLj/mJxKhlGdiAh2SoiA8fV0714mppIlJibGfD7mzJkTGBiInIs999mzQvJXLFjw74ULwnWnmZlKRtw8Ba+cVh+ZYNYsMHIkMQoUSsnc6wAAOFJCHNvu3UFUlLhQUddbtmxhz7ZNimo0fj1VVcDSEpw+ja8hbwnBL2YAwMSJE8eMGSNvHT+MPTKVTOKzijztO3TokMvX48qVK2KXYp4VuXKawjMB81PJiO91AMDYsWPhSIkv99zJk8KpZJWVYregnJei9/fMmTO/3vkuV65cEfMMOyW+A2TVKtCt23cSui+I/zpKSkqMjIzqfYVkuhtN1R8ylYzSjkB4VRYUFJz9ehQXF4tdilkpcuU0hWeCwYOZnkpGfK8DAEdKfL3feDzhDnwMLEgpen+np6d/vfPPYu5oDzslvvChkKlkUv86EhIS6n2F5K83aL3+i+xKxvxUMuJGKmzlNMVmguvXgZHRl13JiAGQo1TqvQ4A2Lx5MxwpIVzhEtmVTA60aTGFnRJCGCdPBsHBtOApjxOBQNClS5fo6Gh5nPwItsuWAX9/NjRkwIABCthjTrGZQIFTyYgpRDolNm/eTKz2I5cqdioZMZKwU0K4RzQzU8mIkccszcjI4HK59bhCMmZUChUqdioZcdMUs3KaAjMBY1PJiHHEK719+7aBgcGbN2/wFH5weUQECAhgTxvZsG1TfaLRr59we3TWHDNmzBg2bBhrwlF4ICEhipxKJrV5CljOXVGZoOb/7F0HWNPOGy4ge7aFsregiCg4cSNLcaK4FREH7gEquMW9t6I4AQcKqCxBVBQVFAQHoiAK4mIoQxHZpfd/MH/yq22apqUjSvL4yOXuu+++e980X3K5+64etG8PoqK49lmUAvPmzZvRiq2oRWmqgNv68qV5E4LcXAGrbYW6Nj0okZTUvJTs589W4CfgqlCE5PiWWUwNDQ3l5eUCbgO36rKzm38dxcX4MRCKnAaHc29qahL4I6yoPMG+fWDQIPwgC1kCDUokJSXhzTCh2zNjhliWkqH3q40OSjAYoEcPcOoUOjiiL7106RIUITkpKcnY2FhRUbGtrEAeNgxs2SJ6wNFbhCOnPX36tHPnzlJSUoLdb04kngBaSpaejt5VsZSePXu2c+fO4t1LWtQdf/ECUCigtFTU7WJory0OSpw/L4ylZBjA5i4yaNCggQMHKigoSEhIKCgoZGVlca/zt0uIbykZV+TGjx8/ePBgOTk5SUlJZWXl27dvc62CXUAknsDbWxhLybB3EkWyLQ5KODmJcSkZChcAAJZBCXThf6FU+EvJ+EOpqakpKChIWVlZVlaW9PtQUlI6ffo0f9r+mlpNTaBbNxAUhEODw8LCVFVV5eTkIDpkZGS2CPTFRfieQPhLyVpJW1ZWFplMbiszJWJjgZERqK1tJWjCqw4PSgivCRxp3r5d2EvJ+OhsWVlZhw4dlJSUoJsO9L+EhMS/v/z47NnmXckEupSMD/xZqtTW1vbo0YOFDhKJ5ODgwCLZmlPhe4Jx48Dq1a0xUQR1ly5d2iZmSkBLyS5dEgGkrWnC3t5++/btrdHwd9T99q15V7Jnz/BmbVFREZlMlpaWZvYEJBKpffv2eDNVkPbgYykZe4+qqqr09PTgtwGYFDU1NXZhvnOE7AkePxbBUjK+Ow9XhAYl7ty5A+f8m4kTJ0CvXoDBwHnvcnNzxbJtk6hhWbAAzJol6kaxtVdYWNi5c2d5eXn4vkMikaSkpH6JIxYbNpNbLbVpE06WkrH3pKKiol+/fgoKCsx0yMjIfBLcXkZC9gT9+oG/JM7txYsXxbWXNDvxQsmBlpI9eCAU5YJW6ufn5yrCnXMEbT4GfXhaSoZobl1d3cSJE5nvPsrKysnJyYjCf30mtJTs1SvcdoROp3t7ezP7ZhUVlYiICEEZLExPcOWKkHYlE1TnWfTY29vv2LGDJfPfOV23Dowd+7d0p7q62sjIKCYm5m8xmGc7R43C1VIyTvbv27cPHpeQk5P7Z6NQeHmBefM4gYCf/JMnT8LOQEpKasWKFYKyTWieAFpKFh0tKENFoAcalCgoKBBBW6JuAn9LybgicPXqVVNT01ocf9zm2gWOAvhbSsbRVADi4uIUFRUlJSVJJNLIkSNRJP/WIvwtJUNBMjk5WU1NrV27diQSqXv37iiSPBUJzRPs3YvDpWRcofHz8xvTEoPhzZs3e/bsmTFjxrBhwwYNGjR16lQ/P787d+40NjZy1YM7AQ8PsGQJ7qziZtDw4cM3/o7BwGAwnjx5snHjRnd3d0dHRycnp+nTp/v7+6enpzNw/9mDtZfQUrK/akbmq1evtLW127Vrp6mpCQBoaGi4ffu2r6/vlClTBg0aNGzYME9Pz7179+biadU6K+wo5y4uYOtWlHK8FRUUFLRv315GRkZWVrapqYlOpz98+HDt2rXTpk0bPHjw0KFDPTw8tm/f/vLlS+yW8+8JGAzGixcvoqKijh8/fubMmdjY2Ly8vP83jOOlZOjQ/Pr1y8DAwN/fv2vXrurq6jNmzDh8+PDVq1djY2NPnz7t6+vbuXNnCoWyZcsWvH06a2hoSE1NvXr16rFjx4KDg2/dulVUVPT/zuJ4KRk6HXl5eWpqatu2bTMwMDA0NFy8eHFAQEDU7yMgIGDRokVQ/qlTp/C2/PXXr18PHjwIDQ09duzYhQsXkpIRA5Q6AAAgAElEQVSS/lsRGhICOnUCf9vzRFlZma2trYSEhJ+fH5lMtrKy8vPzO336dGxsbERExKFDh6ZPn06lUm1sbGJjY9FpFX1pbW1tSkpKWFjYsWPHQkJCEhMTv3379n8zoKVk1dWit6o1LVZVVbm4uJBIJF9fX01NTXNz8+XLlwcGBsbExFy/fv3IkSNeXl5aWlodO3YMDQ3F8rTEjyfIz89fsGCBrq6uvr6+g4ODu7v75MmTBw4cqK6u3rFjx/Xr19fOmwfc3VvTT3HVLS0ttbW1NTU1vXz5Mqeby8uXL0eNGqWtrY2TMBVPnjyZMmWKmpqaubm5i4vLjBkz3Nzc+vbtq6Sk1KtXr0OHDjU5OIDdu8UFaWvaffPmjYmJia2tLcreKYmJib169bKysnr79m1r2hJU3ejo6BEjRigqKlpbW48cOXLmzJmjRo3q0aOHgoKCk5PTleDg5l3Jbt4UVHOi1JOQkEChUMaMGfOKw5dVOp1+6dIlExOTIUOG4CRO0b1798aNG6esrGxpaTl8+PCZM2e6urr27t1bQUFhwIABpwIDGTY2+FxKxpXZJ0+eaGpqOjk5PXnyBFG4qakpOjq6c+fOffr04bpeijdPUFNTs3TpUlVV1RUrVjx//pyleTqdnpSU5O7uPlpZ+eT69VgcEYsG8Z7m5OSYmJgsWrQIS/CJqKgoKpV65swZMdpcXFw8fvx4Go22c+dO5t3JIZNqamqio6OdnZwWqqtfDw0Vo538NX3nzh11dfXDhw9zrc5gMPbv36+hoYHiMLgqab1AVlbWgAEDzMzMTp48yR4grKKi4vz58z2srFYZGT1+/Lj1zYlYQ2BgIJVKxfK8X19fP2/evPbt24vXN79//97FxUVPT+/QoUOfP39mgauqqio8PLyfre1ybe1bf6FjjoiIoFAocEw6lt4xn9Lp9HXr1unq6j59+pQ5nyXNgyf48uVLz549R48ezdW9ZGZm2tjYjB8/vlpA71zMuyFy3fyTpYcYT0tLS42NjQ8cOIBRHgCQlZVFo9HENb/l2bNn+vr6S5curaysRLc5ISFBV1d39erVTQJaPCkCOjIzMykUChwLE72DUGlsbCyVSn39+jUWYYHLREVFUSiUAwcOoD9GNDU1nTlzhkKhnBPc7rgioOPatWuampo8Ybtnz5727duL683g/v37NBpt48aNNdx2Zo2IiNDQ0NizZ4+gLgkR0PHgwQMKhfLo0SPsNoeEhGhra6OsP8DqCcrKykxNTbHfTaqrq93c3JycnATyfZV5N0Sum39iRweWZDAY9vb2S3j/pnrv3j0qlfr+/XtYlWgSWVlZVCo1ODgYY3OFhYU9evTgo4OI+oVNR1VVlZGRER9RbgICAtq3by+o5w/EviNmRkVFaWho3L9/H7GUPfP58+f6+vp8dJBdFQBA2HTk5uZSKJSHDx8ito6SOX/+/KFDh6IICKkoOTmZQqFEYY6B/+7du44dO24V0EdjYdNRUlKiqakZGRnJK3r+/v4oGzVi8gSNjY12dnYLFy7kqe2GhgY7OztB3X14appX4WvXrnXs2JE/p7V69WoRR6ooKyszNjYODAzkqZvQS4+g7j48Nc2rsL+/PzyDi9e6w4cPF3GkipcvX1IoFOxuAOoRVIuP2yuvgLRefuzYsdAMLl5V1dfXm5qaYhlQ4lUzivzHjx+1tLSuXbuGIsNe9OHDBy0tLT5ur+yqhJ2zYMGCuXPn8tEKg8Ho1asXpzsAJk9w4sQJW1tbPm6UpaWlNBotLS2ND7tFWcXS0vLq1assLaanp8f/PhISEhoaGiorKxMSEuLj45/9GSjmx48fGhoaPE3YYmmI19MFCxZ4enryWgsA8Pz5czKZ/N+sCT5UCL/K9+/f1dTUcnJyWJrCSAe0ycFPEe760r9/f54GFeF+Xbx40cLCgo+fFaxBBImnT59qamqy44mRjtDQUGtraxHYCTcxbtw4Pz8/+BR74s6dOzo6OnibE8hi/8ePH9XU1P6bFthSjJGOe/fu6erqIl5y3D1BdXW1trY23w8vhw4dsrOzazFYDH+TkpIuXLiAMpiemZmpqanJPobe0NCwc+dOEol08eJFyO7du3evX7++vr6epRuLFy9et24dS6aQTt+9e4d4KWBsbvbs2eJ9SwsLC4uJiamrq+Nk8Pnz552cnNhLsdMxaNCgK1eusGsQRk50dLSZmRn6twFO7TIYDFtb25MnT3ISEHY+nU4PDAx88OAB+8UPN+3r67t8+XL4FE5gpINOp2toaLD7dViPYBNpaWk0Go3db2FsZdSoUYIaI8LYIotYUFDQrVu3EO/UkOS+ffumTp3KUgta4YHxZmVhYYE4sYK7J7hy5crAgQPZ22bOQfkqXV9fT6VSxbjkxMbGRkZGRlpaevDgwcHBwf9N627pwNatW728vFrOWP/OmzevR48edDr906dPa9asYS3+fX7nzh0rKyvEIoFnrl27dtGiRehqUeh4//69qqoquzNDVyjAUkVFRXl5eTk5OTc3t8jISPYlxBMmTDhy5AinFrHQsX//fsRfCyedrckfOXIk+q0chQsAQFRUVM+ePVtjQGvqfvnyRVJSUkFBQU1Nbc6cOUlJSewzpy0sLFAGvrDQ4enpuWvXrtbYib3unDlzNm/ejCKPTkdqaqqhoaG4Jj02NjaSSCR5eXlFRcWpU6fevHmT/QnDzs4O5SkHCx2rV6/29vZmh4i7J5g8efLBgwfZa8I5ZWVlNBqtqqoKzmFJTJ8+fbf45rP37NkTDuCnrKzcrl07GxubgwcPwvP8Jk+ejPJjrq6uNjc337hx44IFCzg9yVZWVkpLS6M8WLEA0ppTS0vLu3fvomjgSoe1tfVN8U2bU1ZWhuiQkJBQUVGRkZFxdHQMDg6Grx9LS8vU1FROHcRCx8OHD21sbDhpEGD+r1+/FBUVizlveMuVi7q6OhUVFfY5jgI0EkVVcXGxjIwMRIeUlJTi72P8+PHR0dHQPaixsVFKSgpl+g0WOo4dOyaajQ2ampq0tLQ4rXUAAHClg8Fg6OnpsQz/ogAo8CIJCQmIDklJSRUVFQUFhXHjxkVHR8OPbhoaGijzU7DQcfXq1SFDhrBbzt0TGBkZoQ+C79q1y8jIKCAggF07lBMcHCzGuJL9+vWDPQGcUFJSkpaW7tu37+nTp/v374/+USs1NVVSUvLGjRucOggAUFZWLikpQREQSBHkclBeHgEAXOlYvnz5hg0bBGIPH0rIZDLMApyQl5eXkZEZPnx4eHg4hUJBmesGAOBKx/v376GgCHyYx1OVhw8fdu3aFaUKVy4AAEOGDAkPD0dRIryisrIyKHwNTASJRJKQkJCXl1dSUnJ3dw8NDSWTyegGcKUjMjIScbgPXS0fpe/evUPnHQsd06dPP3r0KB+tC6SKlJQUMxcQHdBr9IQJE65fvy4pKcn+Gs3cNFc6UlNTEQcwuHgCBoMhKyvLPqICt02n0xctWhQYGGhpaQlnsiTu3bvXrVu3jN/HnTt3bv8+bt68GdZynD9/PrDl2L9//86WY82aNX6/D19fX6+Ww9PTc3zLMWLECMeWw9bWtnvLYWpqavL7MDQ0NDc3ZwEXPoU8sJGREfrOBBcvXhw6dKi1tTX7yxrcUxqNJoLQddnZ2QYGBnCj7AksdBw6dGjKlCkZGRlPnjyBuLh9+/aNGzda2AgLCgpqYSNwz549LWzshLjw8/Nbvnx5Cxte06dPb2FjvIuLSwsbjj179oTYsLGxgbgwMTHR09NTVVWF8WdJQHTIycmhf9PmSkdxcbGKigo7OALPuXz58ogRIzipxcIFAGD27Nnr1q3LyMh4/PgxTEd0dDRMx5kzZ2A6YC62bdsG07Fs2TKYjqlTp8J0ODs7Q3Q4ODi0/DK6d+nSBaZDS0sLiivHQgR0KvH70NLS4tRBKJ8rHQkJCf3790dXIpDSpKSkHj16cFKFkY61a9cuXLgwIyMjNTUVpiMmJgam49y5czAdu3fvhhjZvn07TIe3tzdMh7u7O0zH0KFD4V8HTIe1tTVMh66uLrtjhqmBfh1SUlLoYw9c6cjMzETccYiLJ6isrGzXrh0ncAEA4eHhiYmJ1dXVampqnKIvZGVlaWlpWVpawv0fNGgQDMq4ceMgsCZNmgQjuHjxYhjZTZs2wT+AgIAAiIaTJ0/C3Fy/fh3m7OHDh5DLycjIePPmTX5+vp2dHYwmnFBUVJSTkxs/fvzt27ddXV1Rluo9ffr00KFDNTU1ZmZm69evR4SioaGBq69GrMhrZnJyMvq4BxY6Ll261Llz5y5dusB02NvbQ3Q4OzvDF+7UqVNhOpYtWwbTsXXrVpgO+Cdx5swZmI7o6GiYjkePHsF0vHv3Lj8/n0ajwSxACQkJCSUlJVVV1fnz5z99+tTExATlHRQLHU+fPu3YsSOv2PIhHxAQgDLugYULAMDq1au7detmY2MD0dGzZ0/4p+Hi4gLTMX36dJiO5cuXw3Ts2LEDomPPnj0wHUFBQTAdN27cgOlIS0uD6Hj69Gl+fv6rV69YuIC2o1FQUNDR0Vm/fv2rV6+kpKTYPx7AWGGh49y5cxMmTICrCC9x7do1xHEPqEWMdBw8eNDGxqZr167wrwOmY+jQoTAd06ZNg+nw9vaG6di+fTtEx+7du2E6zp49C9MRExMD05Gamgr/OvJ/H/Cu0TAv0IccCoXi4+OTm5urpKSEMvaAhY74+HjE775cPAGDwZCRkfnx4wcn/iZOnPj49zF69Ojx48cjiiUlJYnxs9iwYcNgWBUUFGRkZKytrQMDA+GB6SVLlmzatAnR8pKSksWLF0NFycnJ0tLSiHECcnJy0F9LEZXzkZmdnW1oaIhSEQsdhw8fniW+rbJ0dXVhOpSVlWVkZOzt7cPCwuD3LTs7u+vXryP2ESMdYWFhohmOuHz5MkqUZixcAADmzJnD3yRURIh4yqyvr4e5IJFIKioq8vLyEyZMuH37NvzVlEKh/BdZ8k/tGOlYt26dj4/Pn1WFcoZ+n8FIx7p161aLb7ddRUVFmBHo1zFy5Mjo6GjYGXfq1InTZkEY6Th69CjifAoungAAYGBgwOkjzIsXL/z9/R/+PiIiIqSlpdknugIALly4MGrUKKGQj0HpqFGjJCUl5eXl9fX1d+zYwR4qIzo6ulevXuyawsPDTUxM/P39oV/Fixcv1NTUtLW12cNL7N27110kEfe+f/8uIyMDXxYsNmOkw9fXV2RzXlksBAAYGhpKS0vLyMhYWVkFBgayP2Rs3bp19uzZ7BWx0yGyGQr379/n9IqGkQsAgIuLC8psEHYcBJjDYDBIJJKcnJyMjMzgwYPDw8PZ50RMnDgRMfQTdjpENkMhNzdXW1sbER/sdEDhhxGViCBTRUVF+vfRu3fvkJAQ9sUNS5cuRZzBiJ2OoUOHBgUFsfeFuycYP348p08oS5YsYZ5XYGdnh3iLmTlzpoiXfTL389q1a3Pnzk1PT2fOZE7X1NQoKytzevBhluSU7tmzpwC3kePUCpTfoUOHBxx2oMRIR48ePdC/kKMb0MrS3bt3r1279t27d5z0vHr1SkNDg/m64iSJmP/r1y+RzVquqqpSVFQsLS1ltwQjFw0NDeLdsXnhwoX79+9HGXAIDQ3t27cvewcx5rx580Zks5ahtQtv3rxhtw0jHQAAY2NjTqE92dUKPGfNmjVbt25FmTFx7949MzMzTs+CXO35+vUrpyuWuye4cOGCo6Mjexvnz583MjKCZ1yVlJQ4OjoqKSldvnyZWbixsVFTU5PTWwWzpBjTfn5+iG9MWEy6fv26ubk5PLiBpUprZHx9fRGnA2Ok4/Pnz8rKyujTD1pjnkDquri47Ny5kz9VmzZtEuVEtaFDh7LHksPIBQAgPj5exEtweUUVihgRFxfHa0VI3s3NTZQT1WbMmMG+AS12Op49e6ajowOPjPHXZaHWglYjnj17lr9WFi5cyGntFHdP8PPnTw0NDZRnanSbTp48aWtriy4j9tLv37+rq6snJibyasn379/bt28vshcCAMDr168pFAricygW4xctWsTpUsBSXTQyUCBS9jjbXFvPzc0lk8nZ2dlcJQUlEBYWZmlpyfczmp2dHeLYi6DME4ieS5cudezYkY+Fu/Hx8YiRKgRiFaKSBw8e6Orq8h2CcOLEiYijGohtiSvz7t27urq6KK9xnAx78uSJmppaYWEhogB3TwAAOHDggJ2dHfrsJUTtlZWVOjo6KGsUEWuJJfPGjRsaGhoooxbsVtHpdBcXl5kzZ7IXCTXH09OT6zJjRANycnJQLgXEKuLK3L17t6WlJUqMEHbDvn//3qFDBxF/fWUwGD179kRZmchuJ5wTGRlpamoKLxqC83GYcHd3HzlyJE93gNzcXHV19Vu3bom4OyNGjEBfZszJnkePHtFoNJ4uOU6qhJ2/YsWKvn37sn/UQWm3qKhIT08PDpzDLonJE9TV1fXq1QvxSwW7RjiHTqdDmwTBOThPHDx4UEdHB2O8vB8/fri4uNjZ2fHEh0AQKCoq0tXVDeVx85kfP35YWFiI+EbZmv7OmjXL2tr648ePWJS8f//eysqKvxiNWPSjyDx58oRCoWRkZKDIsBe9e/dOQ0MjISGBvQiHObW1tQMGDBgxYgTGN4NHjx5pa2tz+r4o1A6+ffuWDw9UXFysr6+PcqMUqs28KqfT6a6urgMGDEBfeQOrzcrKMjEx4TQJHhLD5AkAAIWFhbq6utj3c6ivr/f09OzTp4/ob5Rw//lIhIaGUiiUrVu3or9gQnHHZsyYIa7epaWlUSgU7EF0y8vLBw0aNGPGDD4wEVcVBoOxZcsWTU3NM2fOoAy/NDY2BgYG0mi07du3i2uE98KFCzo6OvA3M66IvX371szMbN++fVwl8SNQW1vr7u7eoUMH9G8GVVVV/v7+FAolLCxMXMYnJCSoq6sjxllDNKmwsLBbt26+vr6IpfjMpNPpy5YtMzAwuHLlCsplX1dXt2/fPgqFcuLECfSOYPUEAIB3795ZWFhMnz6d6z5E+fn5AwYMcHZ2rqioQG8eh6XZ2dnQNsW+vr4pKSnwvZ7BYOTl5R06dKhPnz6mpqbimvkHI3b//n1NTU1/f3/YQriIJZGammpqajpv3jyRfdZmMaA1p/fv3+/Vq5eFhcW2bduysrLgSBsNDQ2ZmZlbtmzp0KFD7969+Y6V2xrbmOsGBwdDO5Gh/Cwh+atXr6qrq+/fv5+5+t+SDg0NNTEx6dev35EjR/Lz8+HO1tbWJicnr1y5UktLy9XVFXECjyj7GBMTQ6VSDxw4AF8wnFqHglGvWbOGp7EvTtpEnB8bG2tpadmtW7c9e/a8efMGfmCqr69PT09ft26doaGhg4MDetw9yGYePAEAoLKy0sPDg0qlbt++/cOHD+zdfvnyJbTR8fr167lywF4dPzlpaWk+Pj5QpAoNDQ09PT1paWkymTxx4sTQ0FCcjO0WFBQ4OTkZGhqePHmyrKyMBb2mpqbk5OQJEyZoaGhw2p6CpQo+TxkMRlxc3OzZs3V0dCQlJbV/H5KSkrq6unPmzLl58yZ8PxKv/ampqV26dOnWrVtERAT7O2VdXd2NGzcGDBjQvn170Y+eCxCZ+vr6S5cuTZgwQU1NTVpaWk9PT11dnUQidejQYcWKFWKcgsnSx9evX/fp06djx47nz59nX7bS2NiYmJg4bNgwXV1dccV9YjGYv1M6nX7t2jV3d3cNDQ0pKSkdHR1NTU0SiWRsbLxo0SLs32h58wSQrS9evJg0aZKKikrXrl0nTJiwbNmyxYsXu7q6mpiYaGlpLVy4UFyxFfmDEr1WfX39p0+fcnJy4DXJ6PKiL01ISHBxcVFQUOjTp8+0adOWL18+d+7cESNG0Gi09u3bb9y48a/4CIYRt5qamrzfB98LDjA2xJ9YU1NTUFBQ3759FRUV7e3tPTw8fH19PT09nZ2dlZWVu3fvfvTo0b/xzYwTGj9//szOzv706RNOno3Y7bx69aq9vb2CgsKAAQPc3d1XrFgxe/ZsFxcXCoViaWm5a9cudp/NruRvyamurs7NzS0oKOA6TsDeI348AaSlvr7+7t27586d27Jly65du0JCQp48efI3vmGxg/I35vz8+TMuLu7kyZP+/v4HDhwIDQ0V5WTKvxExodpcUlISGRl55MgRf3//w4cPX716FWW5kFAtIZQDAMrLy2NiYo4fP+7v73/w4MGwsLDWrCT9JyHl3xP8k3AQnSIQIBAgEGiDCBCeoA2STnSZQIBAgEDgDwQIT/AHHMQJgQCBAIFAG0SA8ARtkHSiywQCBAIEAn8gQHiCP+AgTggECAQIBNogAoQnaIOkE10mECAQIBD4AwHCE/wBB3FCIEAgQCDQBhEgPEEbJJ3oMoEAgQCBwB8IEJ7gDziIEwIBAgECgTaIAOEJ2iDpRJcJBAgECAT+QIDwBH/AQZwQCBAIEAi0QQQIT9AGSSe6TCBAIEAg8AcChCf4Aw7ihECAQIBAoA0iQHiCNkg60WUCAQIBAoE/ECA8wR9wECcEAgQCBAJtEIG/wxM0Njbic2eStnPFEBTgh2uCC/xwAQD4N+j4OzzBssVL5s6egyv625oxBAX4YZzgAj9cAAD+DTr+Ak9QX19vYWa+Z9duXNHfpowhKMAP3QQX+OECAPDP0PEXeIInaWmmhkYPHzzE1RXQpowhKMAP3QQX+OECAPDP0PEXeIKjh490MG1PfCcQ4w+AoECM4LM0TXDBAoh4T/8ZOvDrCR4/ejRn5sw5M2f26dnLqlMnKJ3+JF28xLep1gkK8EM3wQV+uAAA/Ht04NcTQMTX19d3Mu+wb89eXF0HbcoYggL80E1wgR8uoI8E/8zdCe+eIPXxY1NDo+SHySxXQF1dXVzsjdMnT95NTGxqamIpJU4FiAAnCqAmHqWkFBYWsjTX2NgYfyPu3JmzaampjY2NLKXEKd8IoHMBAECkA2oOpYhve9p4Rf7o+P79e+T166cCTybevkNvpOMEQ7x7goP797N/JPhaUuI6cmTincT6+vrYmJg5M2fW1dXhBNB/zwxECj5++LBj27ZdO3aYGZvcTUxk7nVjY6P7lKkPHzxoaGi4feuWxzT3qqoqZgEizTcCiFwAAFDoQCni2wyiIoQAH3RkvsjctmXry8yXeXl561avsR806MuXL3jAE++eYNL4CRPcxrEgNWn8+M3+/nDmbM+ZIUHB8CmRECwCiBQ0NjbW19cDAMxNTVk8waEDB7Zv3QbbsNnfP+DoUfiUSLQGAUQuoMVNnOhAYao1lhB1AQB80DF96tRPHz9C6DEYjJHDhs/0mIEHMHHtCerq6izMzPfv/eMjQUV5hamh0eVLoTB8Rw8fcXF2hk+JhAARQKSAWT+7JxjUf8D1q9dgmYjw8EH9+sOnRIJvBLhygeiY4ebYmYKLiAQfCPBHx4A+fbds2gQ3t37N2u5dreFTMSZw7QmgYbiU5P9/JMh9k0un03/9+tXeyPhK6GUYtSOHDlt26AifEgkBIoBIAbN+lvsL5KeT7t2DZe7cum1qaEQM38GA8J3gygXhCfjGlo+K/NHxtaSE+bcwferUsaNG89G6wKvg2hMcP3YM/khAp9P9VqyE+j/BbRzzkuN5c7xMDY3Ky8sFjg6hkBMFMDIsniA/P59lGWDSvXumhkZFRUVwFSLBHwJcuSA8AX/A8lerlXQAADJfZHYy7/AoJYU/AwRbC9eeYP/evYP6D4A6fPbMmZeZL6F0Xl7eyGHDs16+ZDAYcbE3/FasNDcxbWhoECw0hDYAACcKYHBYPMH79+9ZPEF8XJypodHnT5/gKkSCPwS4ckF4Av6A5a9WK+koLy8f4uh0PymJv9YFXgvXnuBDwYe+vW1vxMQe3L+fBbJfv35FXr9+9syZnJycY0eOOA22Fzg0hEIAAAoFED4snqCysrK9kXHi7TswemGXL5sZm1T/qoZziAR/CHDlgvAE/AHLX63W0FFWVjbDfXrmi0z+mhZGLVx7AgDAr1+/Xma+/PXrF3Pna2pqfv78CefMmTlz7+498CmRECwCiBTATbB4AgCAs73DpYsXYYEzp04NHzIUPiUSrUEAnQvCE7QGWz7q8kfHt2/fVvj4fP36FWrx+LFjfDQt8Cp49wSIHfZdvgKeevUqK6tvb1sWV4FYi8gUOAJNTU1mxia3b91i1nwhJGSFjw+cs2zxkrDL/33eh/OJhMARQKQDagWlSOBmEApRMP/69euk8ePDLl+OjYmJiY6+GhGxcN58PCD2V3qCGzGxG9aue/7s2dWIiLmz5+BkaQYe6BSZDd++fdu+dduyxUu6Wnae4DZu25atcLBYBoPhs2xZwNGjWS9fHj18ZNVKX5FZ1WYbQqEDpajNwiXsjqNg7mzvYGpoxPxv3eo1wrYHi/6/0hMAAL6WlDx88ABeo4Glq4SMKBHIz89/+OBBwfsCUTZKtEUgQCDAHwJ/qyfgr7dELQIBAgECAQIBdgQIT8COCZFDIEAgQCDQthAgPEHb4pvoLYEAgQCBADsChCdgx4TIIRAgECAQaFsIEJ6gbfFN9JZAgECAQIAdAcITsGNC5BAIEAgQCLQtBAhP0Lb4JnpLIEAgQCDAjsBf4Al+/vx5+fLlyZMnW1paUigUaWlpXV1dW1vb1atXp6amMhgM9l4ROcJDoKSk5OTJkyNGjOjYsaOSkpKcnJyRkdGgQYN27NiRk5MjvHYJzYgI5OXl7dmzx97e3sTERF5eXlFR0dzc3MXFJSAggFhxiYiYUDM/ffp05MiRIUOGmJmZKSgoyMvLm5qaOjo67t+///3790JtupXKce0Jampqdu/eTaVSBw8efPDgwdTU1C9fvlRUVOTk5Ny8eXPZsmWGhoa2trb3799vJQpEdSwIlJWVeXt7q6iojB49+syZM8+ePSsuLi4tLX316tXVq1dnzpxJpVJdXV2zs7OxaCNkWsGGTGMAACAASURBVIlAXl7epEmTyGSyu7v7lStXsrKyvn37VlJS8uLFi+DgYDc3NxUVlfnz5xcXF7eyIaI6FgQKCwvnzJmjqqo6YcKE8+fPZ2ZmlpSUfPv27eXLl6GhoVOmTFFTU5s2bVpBAU7XWuLXE+Tl5XXq1GnIkCEvXrzgxERjY2NgYKC2tra3tzedjpe9oTlZ+1fnP3jwQFNT09PT8xPn+NJVVVX+/v5qamrHjx//qzuLf+NDQkLIZPKaNWt+/PjBydqioqK5c+eqq6snJCRwkiHyBYJAbGwshUJZvHgxHFeOXW15efmKFSvIZPJlXIbhwqknePLkCY1G2/vnvpXs4EI5X79+7d+///Dhw4ktCjhB1Mr8K1euUKnUyMhILHpevXplamq6YsUKLMKEDB8IbNq0SV9f/9mzZ1jqJiQkqKurnz17FoswIcMHAsePH6fRaPeY9ulDUZKamqqjo7Nr1y4UGbEU4dETfP78WUdH59KlS9gRqa+vd3Jy8vLywl6FkMSIwOPHjykUSnp6OkZ5AEBpaamZmdlRYiN77JBhlgwKCjIwMCgsLMRcA7x69YpKpSYmJmKvQkhiRCAuLk5DQ+PNmzcY5QEAHz9+1NHRuXLlCvYqIpDEoycYMGDA+vXree18RUWFmZkZT/6D1ybaoHxVVZWurm54eDivfc/JyaFSqc+fP+e1IiGPgsCbN2/IZDIfqMbFxdFoNGKHVxRs+SgqKSnhz8WmpqaSyWRcfTPAnSe4du2aubk5f+M8CQkJhoaGzBtG88EuUYUZAX9//zFjxjDnYE/v2bPH2dkZuzwhyRUBNze3jRs3chVDFHB3dyeG7BCR4Ttz4cKFc+fO5a/6ypUrp02bxl9dYdTCnSfo3r07+3tTRkZG/O/j5s2b9+/fLy0t5YTF4MGDT506xamUyOcJgZqaGlVVVfa5QBjpqK2t1dPTS0tL46lRQpgTAtnZ2erq6sy79UGSGOn48OGDsrLy9+/fOekn8nlC4OvXr8rKyuzDdBjpqKioIJPJ+fn5PDUqPGF8eYIPHz6oqqrW19ezdJjBYLi4uIwdOzY7O/vevXuDBw/29vZmkYFOg4KCXFxcEIuITF4RiIqK6t27N3st7HT4+Pj4+fmxayBy+EBgy5Ytc+bMYa+InQ5HR8cLFy6wayBy+EDg1KlTI0eOZK+InY5p06ZhnBTD3orAc/DlCQICAiZMmIDYyblz5y5cuBAqKioqIpFIiKOlpaWl8vLytbW1iEqITJ4QmD9//tatWxGrYKTj3r17VlZWiBqITF4R6NevX3R0NGItjHQcPnx46tSpiBqITF4RcHNzO3nyJGItjHSEhYU5ODggahB9Jr48wYoVK/z9/RFRYAb32bNnEhISubm5iJJaWlp5eXmIRUQmTwg4Oztfu3YNsQpGOr59+6agoICogcjkFQGUCxsjHXfu3OnTpw+v7RLyiAhYW1snJycjFmGk49WrV8bGxogaRJ+JL08wdepUFDfbo0eP/fv3+/n56evrnzhxghNY3bt3f/DgAadSIh87AlZWVqmpqYjyc+fOxUIHg8GQlZVFWf2EqJzIZEeATqdLSUlVV1ezFwEAMNKRk5NjYGCAqIHI5BUBTU1NTgEkMNLx/ft3WVlZnMTLwZcncHd353SLh91sZWXltm3bqFQqp5U1NjY2nHw1r2S3cfmuXbs+evQIEQSMdDQ1NUlLS7N/5ETUSWSiINDU1NSuXbuqqipEGYx04OohFLEjf1GmtrY2p7EHjHSUlZXJy8vjpMv48gS+vr6cJsnB4ELAde7cmdP8LRqNxslX4wT0v8WMoUOHRkREIFqLkY6SkhIlJSVEDUQmrwjo6Oi8ffsWsRZGOm7dutWvXz9EDUQmrwh069aN09gDRjpevnxpamrKa7tCkseXJwgMDBw7dixiV728vOAvxlVVVTQabffu3eySJSUlCgoKxJICdmT4yFm4cCGnzzYY6bhz5461tTUfTRNV2BEYOHAgp882GOnYv3+/u7s7u2Yihw8EJkyYEBAQgFgRIx2XLl3Cz4IbfHmCL1++KCsrs8/8efr0aefOnbt06bJ58+atW7c6OTktW7assbGRnYZTp06NGjWKPZ/I4QOBuLi4bt26sVfETsfixYvXrVvHroHI4QOBnTt3zpgxg70idjoGDRrEvliHXSGRgwWBoKCgoUOHsktip2PixImHDh1i1yCWHHx5AgCAra3t+fPn+caiX79+QUFBfFcnKjIjUFdXR6FQUGLBMguzp3/9+qWlpcXpcw67PJGDjsDbt28pFArfS8PevXunoqJSWVmJ3gpRihGBsrIyFRWVjx8/YpRnEfv27Zuamhrf1Vm0tf4Ud54gLi7OyMiIv+GdyMhIExMT9oVprYepzWrYuXMn3yv1Nm/ePHr06DYLnTA6PnXqVL5X6o0fP56PcF7C6MU/o3P58uUeHh78dWfx4sWI6wT509b6WrjzBAAAJycnHx8fXvv29etXQ0NDTgOpvGoj5CEEampqjIyM+HjNevHiBYVCef36NYGkABF4//49hUJ5/PgxrzojIiJ0dHSIFwJecUOXLy8vp9FosbGx6GLspUlJSVQqFVebyuHRE0D3dJ7CB1VXVw8YMIBTCAp2Jogc7Ag8f/6cQqHwtDFcYWGhoaHhuXPnsLdCSGJEIDw8XFtbm6fZcenp6RQKhdOEYIztEmKICNy7d49KpWZmZiKWIma+ffuWRqPFxMQgloorE4+eAADw8uVLHR2dDRs2YFl28enTp27duk2cOJHYtkxIl1FMTAyFQsH4/SY9PV1PT2/Tpk1CMoZQu2/fPi0trYcPH2KB4urVqxQKBZ/7ZGGxH/8yISEhVCoV45tBYmIijUbD4dYdOPUEAIDPnz/36NGjb9++KMvEamtr9+zZQyaTN27ciMVn4P+qwq2FT58+1dfXd3NzQ9mUo7y83MfHR0VF5eLFi7jtyL9h2PXr1ykUysKFC1G2S3z//v3kyZNpNBrKL+jfQEPsvbh37x6NRvPw8ED5AlxUVOTl5UUmk2/cuCF2g9kNwK8nAADQ9+6tVFfX1dbu0aPHli1bEhMTs7OzCwsLMzIywsPDZ82apaGh4ejoqKCgMGzYsF+/frF3j8gRGAJ0eqO7+7v27VVVVe3t7Q8ePPjgwYN37959/vz50aNHwcHB48aNU1FRGTt2rKSkpI+PT1NTk8CaJhSxI/DzZ32vXvE2NsrKyq6urmfPnk1JSfn48WN+fv7Dhw+PHTvm7OysoqLi4eGhq6vLaWUyu1Yih08E6uoaXFzSLS1VVFSGDh16/Pjxhw8fvn///sOHD8nJyadPnx41apSysrK7uzuZTC4pKeGzFWFWw6snYDDA0qVASgpoatbW1t64ccPLy6tPnz56enoUCsXCwsLR0XH79u3QB8mOHTtKSUmZm5t/+PBBmFi1Yd01NWDIECApCRwdf/z4ERoaOmXKlO7du2tra2toaHTu3HnkyJFHjx799OkTnU6XlZWVkZGxt7cnvk8K64opKgIdOgAJCbB+fVFRUWBgoKurq5WVFY1G09LSsrGxmThxYkhICLRD2dixY319fYVlCaEXAPD9O+jVq5kOD4+ysrKgoKDx48dbW1traWlpamp26dJl7Nixp06dghzAggULpk+fjkPYcOkJ6uvB2LFAXh6QSMDenitq8+bNk5SUbNeunYqKCsZ9pbnqJAT+Q6C8HHTr1kyHlBRYu/a/fA4pGxsbEokkKyurp6eHMpTEoTaRzQ2Bd++Ajg6QkQEqKgDDrqKfPn1SU1N7+fIlN71EOV8IFBYCc3MgJ9f8AzlyhKuKyspKbW1tHN6m8OcJqqrAwIFAQaHZDUhJgTVruIIbEhKirKxM+n3IyckdPnyYaxVCACsCBQXAwKD5vkMiNd96MGzD7ePjIyUlRSKRpKSklJWV79y5g7UtQo4rAqmpzSxISTXToaAAcnK41gAA7Ny5c8CAAcSHNCxY8Sbz6hXQ0ADS0v//ddy7h6V6UFCQpaUlfxv0YtHPnwzOPAH02isn14wsdOsJDeXasTdv3sjJyUGegEQiycvLz5gxA29Ac+0FHgVevgRUKmjX7v90KCgADOsDwsLCVFRUYDrk5OS2bduGx979dTZFRjY/eEpI/J+Odu0AUsAV9m7V19dbWFgQu5WxI9OqnHv3gJJS85ApdLNq1w58+4ZFIYPBsLOzw89uZZDNePIEr183O1j4vkMiAUVFkJXFFVwGg6GgoADfekgkkoKCQt++fSsqKrjWJQQ4InDnTvNTJ3zfgV7RGho4yrcUfPjwQVpampkORUXF6dOnE2u/WxDi6+/Jk/8fL4XuOyQSMDHBruj+/ftaWlp8R6rA3lBbkYyIYKVDVRV731+9ekUmk4mVZUiIPX7c/NoLO1jocpeSAmx7GiNVbo5WxHzrgcapdXV1USZ1IeohMv+PQFBQ89AnfNOBEkZGGPFRVVVloUNeXr5nz56cNlrBqLaNijEYzWOk7HRwiNrLCaXJkycvWbKEUymRzwMC+/cj0NGrFw8aAPD29ua0Uy9PegQljI93gvr6/4+1sdx6MO+vtHr16nbt2jHffaSlpeXk5BD3OhYUdv+snqwsVh8A8YI5yOvgwYOZuYCG7FoTPe2fhRpLxy5eZH1CIpGav9xs346lNixTXFyMsr8TLEYkuCCQmIjw65CQAAsWcKn4Z/HPnz91dXXj4uL+zBbbGT48AQAgIACoqjYPBzE7gxEjMAITFRXFPDYtLy/v4OBAvBBgRI9VrK6ueY6QnByQlf2PDhkZwGF3e9bqAGzevFlWVhZyBpKSknJycvPmzSMmlbIDhSmntBS4uzdzwTxwqqICeA9XcODAgZ49exJLPTDBzkno50+waFHzrwOaRgHdr5SUwKlTnGpwyg8NDTUzM+Mv2iYnnXzn48YTAAB+/QI+Pv9BLC0NNm/G2LHi4mLonUBBQYFGow0ePJiYKYEROo5ihYVg+PDmyx2aqaKiAqKiOAr/WZCQkAA5ZkVFRUNDQ09Pzz/LiTPeEcjJAba2/30xlpMDBQW8aqHT6dbW1mfOnOG1IiHPisDHj8DOrtk9QwPaysqA97CAAIChQ4fiZD4FnjzBb2CAry+YNOn/D6TXr7MSwPlcQ0NDRkZm48aNv379srKyImZKcIYKW0l9PWjfHhw6BPr1a/50LC0N8vOx1QQVFRWSkpIqKipnz54lBiUwgsZF7MsXoKYGzpxpJkVBofkexGBwqYJUnJKSoq6uXlpailRI5GFG4Pt3oK4OTpwA1tbNIxlSUuDnT8yV/xN8+/YtmUzmKZ7gf5UFmsKTJ0hMBLq6oLq6uYPPnoGFC0F5OfbOvn79Ggb0wYMHxEwJ7NAhS+7dCwYN+n9RfHzz6xovASRSUlLguVuHDh0iBiWQQcae6+HRvOoegGYWTp8Ge/Zgr8oi6enpyWkPcBZJ4pQjAtADKwDN/jgsDLRiY77Vq1fjYRsP3HiCpqbmhazBwRyh57FgypQpxEwJHjFjEq+oaH7kSU9nyuI/SafTbWxsTp8+zb+KNl7zxQtAoQABPciXlZVpaGjwsclBGyfhv+4XFDRPdMzL+y+nFamamhpjY+Po6OhW6BBAVdx4gtOnm9+zeHnqRO99SUkJMVMCHSK00mXLmr9SCu548uQJMSjBP5yOjq15CWBv9/jx4926dSOiuLMjgyln8mSwYgUmSWxC169fNzAwEG8MTXx4gpoaoK8Pbt/GhhtWqYMHDxKDEljBYpbLz2+ex8XvBq3MmpjTM2fO9PLyYs4h0pgQiIkBRkagrg6TMDahpqam3r17Hzt2DJs4IcWEQFpa8/sZLwPXTJU5JkeMGCHevUXx4Qn8/cHIkRxB4rcAmilBDErwjJ+bG5ZwT7yqLSsro9FoxM5ZvOFGpwNLS4Ah5gpvagHIyMggk8lFRUW8Vmzr8gMGgIMHBQ7Chw8fyGSyGCM24sATlJQAMhm8eiVwcAEAxEwJnlF9/BjQaODHD54rYqhw4sQJYlACA05MIgEBzRGP+ZomxKQFOTl//ny+N2RH1vjP51671hzkQ6DvZzBm/v7+Tk5O8KmIEzjwBLNn87o8jyeMPD09iUEJrIgxGM1zRgMCsMrzKNfU1GRra4vDrft47IeoxKuqgJYWwLZLJR82VVRU0Gg0HEZI5qMvoqjS0NAcgPrqVSG1VVdX16FDh4iICCHpR1crbk+Qnd08S7q4GN3K1pQSMyV4QO/y5eYtUDCEmeNB55+ixKDEn3ignq1ZA9zcUCVaW3ju3DkcRkhuba+EVP/QIdCnj5DezyCTExIS9PX1xbLHnLg9wZAhQPghi4mZEph+GvX1wNSUjxgGmJQzCc2fPx+f2zYx2YiDJLSU7O1boZrCYDAGDRq0b98+obbyLyiHlpKlpAi7L2PHjl25cqWwW2HXL1ZPwLyUjN00weUQMyUwYblnT/MCeuEfP378wOe2TcLvOi8tTJ8Oli3jpQKfsllZWXiLkMxnT4RabeXK5tgHwj+gPeYyMzOF39QfLYjPEzQ1ARsbEBLyhzlCOyEGJbhACy0ly8jgIiagYmJQgguQz583T1UsK+Mixnvx+/fvExMTWeotW7Zs4sSJLJnE6X8ICHQp2X9qOaTEssec+DyBoJeSwagiXusAAGKmBAwRQmLpUiDCjbahbZuIQQkEIqAsR0ewdy/H0lYUPH/+/Ny5cywKoAjJ8fHxLPnE6f8RmDQJiHDEprGxUfSR08TkCWpqgJ6ewJeSQbQhXusANIdFI2ZKIP+2hbOUDLmtltxXr15RKBRcbdvUYpq4/0ZHA2NjIU1V5PTruHTpEn4iJIubgD/bT0tr3sNV0EvJ/myD9Uz0e8yJyRNs3Agwb3vCChK3c07XOgCAGJRABm/s2OYNCUR+eHt7E4MSrKhDS8kuX2bNb915YWHhu99HdHT0rl27oHT+n8FlHRwctvO4+03rjPpLag8Y0ByRV+SHiCOnicMTCGcpGZZrHZopsX//fpHTiuMGHz1qXkpWWSl6E4lBCQTMjx0DvXsLfKri1atXD/w+VqxYMXnyZCjNEm0CPxGSEWARV9bVq81LybDtoStYG0UcOU0cnmDWLGEsJcNyrQMAsrKyiEGJ/y5ZBgP07QuOH/8vR7QpXG3bJNquI7X286dQl5IBAFDemAEAq1atcnV1RbKsTeZBS8muXRNg58PDw7u2HCkpKSynLA2JMnKayD3B69fNS8lKSlj6LMBT9GsdAEDMlPgP7dBQ0LEjaGz8L0cQKebr29vbu+XK75qCNB3bwcEBJ9s2CaLrrdOxejUYN651KrjURv91VFdXGxkZxfC+LyaXVv/S4oMHBb6U7MuXL7dbjrKyMpZTFpxEGTlN5J5gyBBed+JmQYfrKfq1DgAgBiX+jyG0lCw2liukvAowX9+ZmZktV/7tMqRpkW/fvlVTU4N3GeK1rX9HXiRLybj+Oq5du2ZoaFgNbRj174DLe09EtZQM3bK0tDTRhHMXrScQyVIyrtc6AICYKdF8/e3eLZqlZOjXOjQogYdtm7jaKVwBd3fg7S3cJrBpHz58+IYNG7DJ/rtSK1aAyZPx0D3RRE4ToSeAlpKdP48HcAEA9vb2bXqmhGiXkqGTTgxKAKEtJUNHHrE0Ly9PVVVVjBGSEa0SaaZol5Khdw0K5y7sPeZE6AlOnRLsrmTo8HEtzc3NbdODEkuWAA8PriiJTKCtD0o4OAA8Bf/x9/d3dnYWGfu4a2jSJODrix+rRBDOXVSeoKoKaGuDO3fwAy4AwM/Pr43OlBDHUjKu1LfdQYmoKOEtJeMKO6JAXV2dubn51ZYIzJWVlW+FHAsP0QzxZIpjKRl6T6Fw7vCs39ra2tevX6NX4bVUVJ5AmEvJeO0zLN92ByXGjAHr1sE44CTRRgclGhubdyW7cgUnLMBmwBGSQ0NDyWSyjIxMgzDDlcPtij/Rvz84fFj8ZvxpARw57caNG9ra2hISEqWlpX+KtOpMJJ6gsLB5X1xBO7FW9bulclsclBDfUrIW1Dn+bYuDEkePCmMpGUeIeSlwdXXt0qWLgoICiURSVFR8+vQpL7X/TtmIiObY7OJYSsYVr9mzZ9va2kJ0qKio3Lhxg2sV7AIi8QSzZoGFC7HbJGLJ4cOHb9y4UcSNiq05aCnZiRNiMwC1YZZBCVTZf6JQ+EvJ+IOppqZm7dq1cnJyUlJSpN+HoqLicfGtQOSvFzzXamgAZmZAoEvJeLYBqUJDQ8O+ffsUFBRkZGQgOqSlpdevX48ky2ee8D1BZqawl5Lx2fWWatCgRG5ubkvGP/330iVhLCUTIGTwoIQAdeJX1apVYPx4vJlXXFysoaEBPXtC9x3o/8n4mFUpRLiEsJSs9dZWV1cbGBiw0zFgwIDWK4c1CN8TODuDHTvg9vCZ2LhxY5uYKQEtJRPoS6UwCB0zZoyfn58wNONL5+fPzaOm+PsSW1paamRkJC8vz+wGSCSSgYEBvgAUrDX4WErG3qfq6urOnTuzewIlJSV2Yb5zhOwJ4uObo0/jfr1iWxmU2LULDB7M97UisorQtk0vX74UWYviaWjaNODjI56mubX68+dPJycnRUVFZmcgJSVVKY5IhdyMFVD5ihVgyhQB6RKwmrq6ukmTJrE4Azk5OZZosq1pVZiegE4HVlYAN0vJ0GG6efOmuPaSRjdMYKUVFc1h1kW1K1krzd6xY8eAAQMYDEYr9eC3+vPnzXQghd/Aic10Ot3b25v5zUBZWfnu3bs4MU/AZrx/D1RUQF6egNUKVN2+ffvk5ORg36ysrBwaGiqoFoTpCU6ebN6fsqlJULYKW4+rq+u/PCixeDGYMUPYGApKf319vYWFxcWLFwWlEHd6HBzA3xAd/eLFi/Ly8hISEiQSSVZWdgfuR3r5JHriRFwtJePUi7i4OEVFRUlJSRKJJCkpuXjxYk6SvOYLzRMIcykZp/0pee08i/ynT5/IZHJ2djZL/r9wmpfXPCT96ZMw+iIkOkS/bZMwwEHWGRkppKVkwuDi8ePHZDJZWlqaRCINGTIEuUd/da7QlpIJg47c3Fw9PT1ZWVkSidSlSxdBAS80T7BhAxg9WlBWsujBEmOOpQrG0+3btw8cOJDBYDQ2Nt69e3fZsmUuLi5WVlYdO3YcOHDg9OnTz58/X1FRgVEbjsTGjAECnXPG3DXh0TFp0qSlS5cCAKqrqyMjI728vBwcHDp16mRpaeno6Ojl5RUVFVVTU8NszF+QbmwEnTqBsDBhmCokLj5//mxhYSEtLU2lUgEA5eXlwcHB7u7uAwcO7NChQ5cuXYYNG+bt7X3v3j06nS6MfglXp9CWkgmJjrKyMltbW1lZWRkZmcbGxsrKyitXrnh6etrZ2VlYWHTu3HnIkCELFy68efNmPeaFEfx7gurq6vj4+ICAgA0bNmzatOnMmTNJSUmNUKR7IS8lExK+AID6+voOHTrMmzdPR0fH0tJy9erVV69eTUlJefbsWWxs7OHDh6HPaPPnzy8uLhbu1cmj9rKysmvXrh0+fHjt2rU7duwIDg7OyMj4/zj7o0dAU1N4u5IJj47CwkI1NbVFixapqqr26dNn+/btUVFRT34fUVFR27Zt6927t6qq6ubNm6uqqngETLjiHz9+DA0NPXDgwKpVq/bt23fhwoV37979v8mjR4GtrcB3JYOUC4+L6urq0aNHS0hIeHh4KCoqDhky5MiRI7Gxsc+fP09JSYmIiFi1apWFhYWuru7Jkyf/fx8QLsY8aC8pKQkLCzt48OCaNWt27doVEhKSlZX1//rh4cJbSiY8OhoaGmbOnEkikTw9PZWUlOzs7Pbt2xcTE/P06dNHjx5dv359w4YNNjY26urq+/fvr6ur4woWP54gLS1tzJgxioqKvXr1cnd39/Pz8/b2njJlioWFBYVCmTVr1s8JE4SxKxmW/Sm5dhhdoKCgwMLCok+fPg8fPuQkWVxcPG/ePDU1tTDhPNZxapdTflRU1ODBgxUUFAYPHuzp6blmzZolS5aMGzdO//exys+vsVs3IISlZCKg49GjRzQabezYsTk5OZy6n52dPXr0aF1d3bS0NE4yIstvbGyEgoWpqKgMGzZs7ty5a9asWbBgwciRIykUiqWl5eGtWxkaGgBpx57WGCkCLqBY7srKygsXLizhvNNUUlJS7969bWxsPn782JoeCaRuU1PTxYsX+/btq6io6OzsPGvWrDVr1ixevHjMmDGampqmpqZbNmxoMjUV+FIy0dBx8+ZNMpns4eHx4cMHTnClp6c7ODiYmZlxjVPEmycoLy8fP348jUbbv38/4kPx27dvfX19bZWUNi5YIPAoJRj3p+QECtf8tLQ0TU3N7du3Y5my8ujRI21tbfHGtX779m2/fv3Mzc1DQkLYp/cxGIyMjAwPD4/hKipHDx7k2n1eBYRNx+XLlykUSnh4OBbDQkNDKRRKREQEFmEhydy/f79Dhw59+/aNjY1lfwprbGy8c+fOECen8TRadHS0YG0QNhcAgE2bNuno6Dx58oSr5QwGY/PmzVpaWhlinaj27NkzGxubrl27hoeHs2+809TUlJKS4ubm5qqmFhISwrVTPAmIgI6AgAB1dfXbt29jMSwgIIBKpd5BDQDKgyfIzs5u37793Llzf/78id7858+fHR0dBw0aJNgYSXCjwnjn+vDhg5aWFk+zsj59+mRoaBgUFAQbJsrE7du3NTQ0du3axdXjZmZmWlhYzJgxg/32JBCDhUHHgwcPKBQKlvsO3IXU1FQKhSLsMO5wcyyJwMBAKpV6BUMgufj4eOwPHCytcD0VBhcAgFOnThkZGX358oWrAbDAhQsXdHR0Pn/+DOeIMhEeHk6hUAIDA5u4zV1MSUkxNDT08fERxhcOIdERGRlJo9F42kDi5s2bVCoVZToMVk/w8eNHbW3to0ePYqSzsbFx/vz5PXr0EMYHPYHjS6fTu3fvvnXrVoy9g8WeP39OTmiOLAAAIABJREFUoVD+G3OEC4ScSE5OplAo8fHxGNuprKx0dnaeMmUKltcdjDphMYHTUVZWpqmpGRkZCTeBMREeHq6jo/P9+3eM8oISO3PmjL6+PvbLoKCgoFOnTsJ4oRQ4FwCAZ8+eUalUPhb6bdiwwdbWVhiXHDpxMTExGhoajx49QheDS79+/dq7d29obgKcKZCEMOgoKCigUCgPHjzg1cKAgABzc3NOj4OYPEFtba21tfWmTZt4apvBYIwdO3aKEJbtCRzfs2fPWltbc318QOz+jh07hg0bhlgkpMzPnz9raWnBseMxtlJVVdWlS5edO3dilMcuJnA6vL29PT09sRvALDl58uRVq1Yx5wg7nZKSQqFQXrx4wVNDBQUFmpqaAt87XuBcAAAcHR3387X0oampycbG5tKlSzwh00rh7OxsKpV67949nvSUlpYaGxufPXuWp1pchYVBx9SpU/le9oRCJSZPsHv3bicnJz58e1VVlb6+Pvr4FFc0hS3AYDCMjY1v3brF0lB6enr87yMhIaGhoaGysjIhISE+Pv7Zs2fMkjU1Nbq6uqmpqcyZQk1PmzbNh68oBVCsPTx8ykPB5+vXryoqKuxGYqQjPz9fVVW1vLwcpQkBFjU1NVlbW/M3QhgXF2doaFhbWytAewSu6uHDhwYGBuwPkhjpuHHjhpmZmcCtQlHo7OzM3+NOeno6lUrF+Rzx3NxcCoXCbiRGOjIyMtTV1dnZBABw9wQ/fvygUqnPnz9HQR8lcHlQUFD37t1R6gIA6HQ6f8/j6GoxlqalpRkaGrL7uYaGhp07d5JIJHil6+7du9evX88+RXflypUrVqzA2FwrxTIzM7leryh0+Pj4cH3c5vrhoZVdQK9+6tSpkSNHsstgp2PIkCHBwcHsGoSRc/Hixa5du6JcvShcAACcnJy4Pm6Ll44lS5asXbuWHTqMdDAYDD09PfS7B7tyvnMSExMNDAxQnCs6HdOmTeP6uC1eOrZt2zZr1ix2fDDSAQCwsbFBHFXm7gmCg4PRFxZCGy5zmtDd1NSkra2dmZnJbj0A4PXr1z4+PmQyedKkSYgCIsjcsGEDyqLtefPm9ejRg06nf/r0ac2aNYj2JCcnd+jQAbFI4JnLly9fuXIlilp0OoqKipSUlNinUgAAGAxGcnLy9OnT5eXlDxw4gNKEUItcXV1PnTrFqQksdAQEBIwXVahnJyen85wja6FzAQC4ffu2lZUVYmcbGxtjYmKGDRsmKyuLcYoIop5WZpqYmKBMz8VCx7x587Zs2dJKMzBWd3d337NnDydhrnS8fPlSS0sL0a83NTXduXNn3LhxsrKyIh7vYu5O3759o6KimHOY01jo8Pf3X4i0Wwx3T+Dq6noCdTb6rl27jIyMAgICmG1iTnt5eW3evJk5p7S09PDhw506dZKXl4diKvXq1YtZQJTpiRMnnjlzhlOL1dXV5ubmGzduXLBgAeJbFQDg169fUlJSwph7wG6VmZkZ+qcwrnTY2tqyfIwtKCjYuHGjjo6OkpJSu3btSCQSimtkN0mwORYWFunp6Zx0YqHj0aNHXbt25aRBgPk/fvxQUFBgf1WHm+DKRUNDA5lMZtki+Pnz59BiOhUVFUlJSQUFBf5Gn2Az+E40NDRISkqiPGJjoePEiRPu7u5824C9YmNjIzuYzNW50gEAYP995eTk+Pn5qaurKysrS0lJtWvXjr/RJ2ZL+E5TqVT2gVNYGxY6IiMjnZyc4Cpwgrsn0NfXR5l7RKfTFy1aFBgYaGlpCStlSVy8eBF636fT6bdv3x4+fLi0tDRLhFUbGxuWWgI8/fXrV0XLUVBQkP/7ePfuXcbvo0+fPoivS7ABqampkpKS6HvFqaqqFhUVwVWElKioqJCVlUV8ZoFaxELHqlWroPf9mpqasLCwPn36SEtLM8c4JJFI8+bNE1IXAACVlZUQG+Xl5RAX+fn5b968gehQVVUtLCxEaZ0rHR8+fNDQ0EDRIKiipKQklJFPLFwAAIYPH3758mUohMOJEyfMzc1lZWWhID9Q1EklJSWUl6TW96Xll1Hx7ds3mI7Xr19nZGTcuHEDCi+B0gpXOqKjox0cHFA0CKrozZs3urq6nLRhpGPmzJmHDh0CAHz//j04OLhXr16yvw84Ami7du2E+orz/ft3iJHS0lKYjpycnIyMjMePH0tKSrKPTjN3mSsdT548QbxXc/EETU1N0tLSKAsIwsPDExMTq6ur1dTUkpKSmG2C0/fv37eyspo7d66ysrKKigoU1xBGFkqYmZmtWrXK7/excuVKr5ZjxowZ41uO4cOHO7YcvXv37t5ymLQcBgYG5JaDOZou1ISsrGxLIVlPT6+lkom5uTn62/fFixeHDh1qbW2NMkSorq6O4qthKFqZePXqlbGxMYoSLHQcOXJk9OjRbm5usrKyysrKLERAp0OHDoW48PPz8/HxaWHDy93dvYWN8UOHDm1hw7GFiu7W1tYwsLq6ujDg8K57cHMKCgpwqaGhIVTL1NRUQUHh69evKH3kSgcUowJFg6CKLl26NJpzcC0sXAAA5s6d6+XlZWdnJyMjw7IfAISVoqLizJkzYTqWLl0K0zFlyhSYDicnJ4iOwYMHw3RYWVnBdGhpacGAw3tSwnSoqKjApXAVY2NjGo2GDhdXOuLj4wW7uxYne+7evdu7d29OpRjp2LBhw7Rp04YNG8aJDklJyUmTJsF0LFu2DKZj6tSpMB1DhgyB6HBwcIDp6NKlC4ytjo4ODDiz44cYUVJSgkuNjY3hXwfXsQeudDx//tzc3JwdJS6eoLKysl27duzV4JyJEyc+/n2MHj2a0+BsVlaWlpaWjIyMrKwsohsgkUhGRkYQuFu2bNnZchw/fjzw93Hq1KmwliMyMvJ2y5GSkgI9SGZkZOTm5sIuFH7MQfFhcBfc3NxQPjA+ffr00KFDNTU1ZmZmnDYOra2t5eqr4eZak0hOTkZ/ecJCx6VLl6ysrCQlJVneA+CbAolEGjx4METH9u3bITZ27doFcREYGHj27NkWNsJiYmJa2LidmpoK05GXlwfR8eHDB5gOxO8TLICYmZmhfGDEQseTJ086derEolYYpwEBAR4eHpw0Y+ECALB69equXbuSSCROdMjLy0+ZMsXPz2/VqlUtv4yd+/btg+kIDg6G6YiLi4PpSE9Ph+h49uwZ/NP4/PkzTAen0U64R9CFjfIAhIWO06dPi+Yr4LVr11C+aGKk4+DBg9bW1hISEpzoIJFI0J56fn5+O3bsgBjZs2cPTEdQUBBMR2xsLExHWloaRMfTp09hOj59+gTTgWXpFfobMxY6YmNj7ezsYIrhBBdPwGAw5OTkOM3Je/Hihb+//8PfR0REhLS0NOIISWJioq2tbW1tbXR0tJubm5ycnLKyMhRiG777tG/fHrZJxInly5cjzo4AAJSUlMAj5snJydLS0ohLWDMzM/X09ERg9ps3b1AawkjHgQMHvLy8KioqgoOD7e3tpaWlVVRUYCKgxIQJE0TQHcQmnJycoNES9lKMdJw/f140KzzCwsI4NYSRCwDAzJkzDx8+/OnTp4MHD9rY2EhLS7O8GcjJyXGdX8SOlaByNDU1OQ0OY6TD19eX64QcgVj74MGDbt26IarCTsfq1avXrVtXVlYWHBw8aNAgGRkZJSUlll8H+pQNRAMEldm1a1dOmwVhpGP//v2Ijy9cPAEAwNjYmNOqmSVLljD7MTs7u3Xr1rH3OSgoaMyYMXB+TU3NtWvX3Nzc5OXl1dTUIJdgaGgIC4g4cfv2bcQw3+Hh4SYmJv7+/tAE0xcvXqipqWlra7OvBtq6deucOXNEYPbPnz+lpaU5DRRipMPHx2fjxo2wtRUVFefOnRs8eLCMjIyamhr00ubq6goLiDixb9++adOmsTeKnY4JEyYcOXKEXYPAc5KTkznN/MHIBTSRlDlc0ufPnw8ePNitWzdpaWnoHiQjI7N7926BG49RoYeHB2Lr2Ono2LHj/fv3MTbXGrG8vDxO34ew0zFt2rRjx47BZnz9+vXEiRPQtzTYJSxZsgQWEHECGq1lbxQ7HXZ2dogxUbh7And3971797K3ff78eSMjI3iZVUlJiaOjo5KSEvsD3ZQpUxAfampra6OiosaNGycvLy+ayR7svQAANDQ0UCgUPhbTQ9qamposLS3RvycjtstfZteuXdkXwQEAsNPRuXNnxLV+P378CAkJcXBwaNeu3fTp0/kzr/W18vLyyGTyjx8/+FNVXl6uqqoqgm82AICamholJSX2aDzYuYA0IL5JFxYWHjlyxMbGRkJC4vjx4/yh0fpakZGR1tbW7KttMGp++vSphoaGaIJUQ2sX2B9bsdMBTXlHvBWUlpaePHmyb9++kpKSnIYQMGLSGrHU1FR9fX1Oz4JcNX/8+FFJSYk9WiWmlWURERF9+/bl2gYngdraWjKZnIe6QWhdXR2n5Qic1Ao2f9u2bYirmbC0EhwcjL62CIsS7DIbNmxozcSet2/fkslklJFfaG4PugB2a/mTnDhxIt8/tuXLl4vSjbm6uqLMn+ba/WvXrtna2qKLlYl1r2NoETX74x26zXCpk5MT4nMkLCDYxLx58zZs2MC3zpSUFBMTE/TqFRUVKJP30OsKpNTBweEgv6GF3d3dOa2B5f5OUFNTo6enx2lwimvf9u7dizh9lWtFUQpUV1fr6elhDIDMbFhRUZGuri761CNm+dan379/r6qqyneIx+nTpy9fvrz1ZghVA/RagPLdmFPr6enpZDIZJVw7p4p858fHxxsbG/P3jMZgMLp37y6utQLYu3zjxg0DAwP0CV2I2i5evGhkZISyHAGxVmsynz17pq6uzncIQhcXl127drXGABHUTU9PV1dXz8/P57WtW7duqaurc/roy90TAADOnDnTvXt3Pi73kpISdXV1eASJV9NFKf/o0SMKhYK+GJ3FnpqaGltbWxHHOwMALF26dOrUqSzGYDl98uQJlUrldClg0SAymXPnzhkYGCDugcHJhsLCQj09PTg0CCcxgefb29vzd/s4d+5cly5dxPuAiRENb2/v/v3783RPT0tL4zWuOEZj0MWmTJni7e2NLoNYGhcXp6+vz/zhE1EMD5m7d++2tLTkaQQ1NzdXQ0Pj5s2bnOzH5AnodLqzs/Ps2bM5aUHMr6ur69u3rxi/syNahZJ58eJFKpWKccT/y5cvPXv2HDdunOh/yd+/fzc3Nz98+DBKX9iLiouL9fX1UUIjsFcRb866deuMjIw4xSlhse3Zs2cGBgb+/v4s+SI4zcnJ4boNCLsZT58+pVAoKIEc2KuIMYdOp48ZM8bW1hbxkwa7YVFRURQKBfHLJLuwYHMKCwt1dHR42mgEAAB9bY6LixOsMcLTNnfuXEtLS4xvBvfv39fU1ETfUwCTJ4BW3HXo0MHb2xtjTIWfP38OHz582LBhGOWFBxlPmu/evUuj0RYsWICyP19jY2NgYKCmpuaaNWtE7wag7rx580ZdXR09Cghzxz9+/Ni1a9e/yCtDxp8+fZpCoWzZsuXXr1/M3WFOV1VV+fv7k8lkMQ6zxMfHU6lUxC/5zKbC6bS0NB0dHYFvlQXrF0aiqanJz89PW1v79OnTKD/qoqKiuXPn0mg0TutMhWEbi860tDQymYzdD2VnZ5uamqIELGLRj5PT3bt3q6urHzhwAGW0pry8fMWKFRQKhSXADHsXsHoCaHJ9v379hgwZ8v79e3ZFzDmpqamWlpbTpk3j6XWSWYMY08XFxXPnzlVTU5s2bVp4eHhBQUFdXR2DwSguLn748KGfn5+pqamtrS0fO0UItlNZWVkmJiZeXl5cR3uuX7+uqam5efNmvmeACNZynrRB2xRramouWLDg5s2bX758afx9fPnyJT4+fv78+TQabcyYMSgbHfPUHN/CN2/eVFdX37ZtG/o139jYePToUTKZzOtDK9+GCbZiUlJSr1692rdvv3r16uTk5OLiYgaDUVdX9/79+7CwsKlTp6qpqc2fPx/lQUqw9nDS9vjxYx0dnZUrV6JPRWlqagoJCaFSqejPy5xaEXt+enq6vb29vr6+j4/P3bt3i4qKmpqa6uvrP378GBkZOWvWLAqF4u7ujuXLGQ+eAABQX1+/evVqVVXVRYsWPX78mOWJuL6+PiEhYdy4cRoaGmKc9yYQegoKCvbu3Ttw4EBNTU0SidSuXTtFRcXOnTt7e3vfv38fJ7fUsrIyDw8PCoXi7+/PvmP1z58/w8LC+vfvb2ZmFhsbKxBYxKXkxYsXGzZs6N69O5lMlvx9kMnkHj16bNy4EePwkQgsz83NdXZ2NjAwOHz4MPsn/a9fv548ebJjx459+vT5K76ccUKMwWAkJSUtW7bM0tJSUVERClmoqak5aNCgffv2YbnpcNIs2PzPnz+7ublpamru2rWLfe5iRUXF+fPnu3Xr1qVLF9EsdxBs75i1paam+vn5de36v/auBK6G7Y/f0nrbbvfWrShSWqSkF8XDsxOFZEs84T3Jln3pIVkTHrJE9mcnQpbQi0elImSJsqZSpNCq5XbP/5Nh/te9M3Pnzl2a6szHR2fO+f1+53e+35n7mzlzFkddXV0VFRUlJSUDA4MuXbqEhIRkZmYKShKkJYsEiKGcnJy5c+daWFhwudxu3bqNHj0a6UPU0dFxcnJas2YN5nhVAidoXlRVVUX8ZFG//j98+PCPP/7gcrnm5uY9e/b08fEZPHjwL7/8wmQye/ToERERUb9DQmUOTsW3Q+ZmZWUwNjZ2xIgROjo6tra2yI6hgwYNQn40Bw8eHBUVRZPHCFm1t7S0lKB3Qla1ULaTlJQ0btw4fX39Nm3a9OnTx8fHx93d3dHRkclkIiuKCz3OUq6IJorl5eViFxHBdJVKJEANZWRkxMTEHDhw4NChQ3FxcdnZ2WgRTCgYAR6Pl5aWduHChb179x4/fvzWrVsfP35UsA+wOhSBr1+/Jicnnzt3LiIi4syZM4mJiQSfOlAtmJATAjU1NampqdHR0cgKZgkJCRINvJGTV7QyK1UkoFVLoDMQAYgARAAiQA0BGAmo4Qa1IAIQAYhA40EARoLGwyVsCUQAIgARoIYAjATUcINaEAGIAESg8SAAI0Hj4RK2BCIAEYAIUEMARgJquEEtiABEACLQeBCAkaDxcAlbAhGACEAEqCEAIwE13KAWRAAiABFoPAjASNB4uIQtgQhABCAC1BCAkYAablALIgARgAg0HgRgJGg8XMKWQAQgAhABagjASEANN6gFEYAIQAQaDwIwEjQeLmFLIAIQAYgANQRgJKCGG9SCCEAEIAKNBwEYCRoPl7AlEAGIAESAGgL0jQQ1NTUVFRXUWgW1ZI4ApEPmkFI2CLmgDJ08FBsHHfSNBLNnBkz5c7I8mIM2KSAA6aAAmpxUIBdyApaa2cZBB00jQVVVVVsr6w2h66lxA7VkiwCkQ7Z4SmMNciENejLXbTR00DQS3ElJsWxlHn8rXubMQYMUEIB0UABNTiqQCzkBS81so6GDppFg+9ZtNpZt4HcCalenzLUgHTKHlLJByAVl6OSh2GjooFckSLp9e/KkSZMnTerSycXBzg5J371zVx4UQptiEYB0iIVIYQKQC4VBTaaixkcHvSIBwkFVVZWdtc3fGzaSoQTKyBsBSIe8ESZvH3JBHisFSDYmOugYCZKTkixbmSfEJ2ByeTsx8d27d0JFX758OXP69J6I3ZcuXIR9SkLgSHlKgQ60xqw3WefPnUNPYUJKBIi5AACI3h3V1dXnos7m5eXV1NR8+PAhLvbf9/n5UroB1REEKNCBKFZUVNy6eXP/3r03rl+nCZh0jARbNm0S/UjwNisrZM2a0JAQq9YW1+PiBOF78vjx4gUL8/LyKisrjxw61KWTy+vXrwUFYFoaBCSlA62rurp68CD3wEWL0ByYkBIBTC4AAAR3R25urmUrc+SfjWWbkDVreDyelG5AdQQBCnQAAB4/ejRxvO+dlBReDS9s8+a9u3fTAU86RgLvkaNGDR8hhE5NTU1VVRUAwNrSUigSBAcF9e7RA5V3bGe/asUK9BQmpERAUjrQ6nZs2zZujA+MBCgg0icwuQAAENwdubm5wUFBFy9cuB4XV1BQIL0P0AKKAAU6CgsLO3fslJeXhxgJmD5j/bp1qMF6TNAuElRWVra1st60EfcjgWgkePP6TfytWwiIZWVlVq0taBJm65FXWVVNgQ6k6vhb8TGXLy+cNx9GAoVxgfmclJubC28HWVEgaEfsrYFJR+CiRdOm+AvaoUmadpEA6XpLTPj+kSAzI1PoZVY0EqBQ8vn8FcuXe48cCT8VoJhImaBGR1FR0ea//wYAwEggJf6C6mK5wPzpyc3N3Rkefi7q7N7du/85cPDzp0+CNmGaMgLU6OjWuUvEzl2XL17at2fPjm3bXr16RdkB2SrSLhLs3LED/UjA4/EWzV8g1GC8SBB1+szc2bM9Bw+GHwmEEJPmlBoda1evQYIxjATSgC+kK5YLzEiQn5c/ZtTonJwcAMDT9PT+vfvkZGcLWYanFBCgQEdJSYllK/M/J07KzMgEAHwq+jSwf/+U5GQKtctchXaRYNPGjT26dUfauX/fvkcPHwm1GS8SIGKZGZlODu2vxMQIacFTaghQoOP40WPpT54g1cFIQA12TC2xXGBGAiFTs2cGTJ86VSgTnlJAgAId+Xn5lq3Mg5YsRasL27zFrV9/9LQeE7SLBFlvsn517XzpwsUtmzbd/O8/UWhEIwGfzxcUmzbF39mxQ21trWAmTFNDQFI6Xjx/vnb1mlc/jql+U6ZPnfrq1avS0lJqDkAtFAGxXGBGguSkpKKiItRIaEhIJ6df0FOYoIwABTq+fv1q1dpi3549aKVHjxyxbGVeUlKC5tRXgnaRAABQVlb26OGjsrIyTFCEIkFFRYXLL84H9x9AhRcvXNTGvDX86UEBkTIhER0vX748dvQo+q9/7z6jho84dvTom9dvpHQDqou9NTAjgWM7+13hO1H0VixfPqBvP/QUJqRBgPjWwKTDc/DgsM2b0UoPHfzH3rat0KdQtFSRCTpGAoL219bWWrW2iL12DZXh1fC6de5yLzUVyeHz+e4D3H73GYsKwIT8EBClQ6gun9HeC+fNF8qEp3JCAJOOeXPmoO8EtbW1fXr2FHwmlZMn0CwAAJOOKzExo0f8f4j83FmzFy+kxYSbBhMJCgoK1q5eM3tmgGM7+1HDR6xZtRpdqTQhPmHenDlXYmJS795dGviX77jfP378CK9FuSJAQAdS752UlJXBwZ07durZ/bfVK1Yin8jk6lJTNk5Ax7t375YEBkadPhN/69b0qVP/3rBRqDe1KeMmp7YT0AEA2LAuNGjJ0uSkpK1bwgKmz8Dr/JCTb3hmG0wkwGsAks+r4T15/Dj+VjwyRoJYGJZCBJoUAjwe7+nTp8lJSZ8/f25SDadtY/Pz8hMTEnJzc+njYSOJBPQBFHoCEYAIQAQaHAIwEjQ4yqDDEAGIAERAxgjASCBjQKE5iABEACLQ4BCAkaDBUQYdhghABCACMkYARgIZAwrNQQQgAhCBBocAjAQNjjLoMEQAIgARkDECDSwSfP369ePHj3BAtIyvAqrmysrK0FlLVG1APZkh8OnTJzqsWyCz9jRwQ8XFxQ1o2G4DiATZ2dmbNm3q2bOnvr6+kpKSlpaWiopKy5YtfX19o6KiqqurG/gF08Dcf/LkSXBwcMeOHREiNDQ01NXVra2tZ86cef36dRikFUxnfHz83Llz27ZtixChqqrKZDKdnJyWLFny4MEDBTsDq0tNTQ0MDHR0dGQymWpqaurq6pqamnZ2dvPnz799+zad8aF1JPj48ePs2bP19PR8fHxOnTqVk5OD/O6XlpY+fPgwNDS0U6dOlpaWx48fhz9ACrjIXr58OXr0aAMDA39//ytXruTn5yPL/BUVFSUnJy9ZsqRNmzaurq7/Ya0bqAD3mloVycnJv/32m7m5+aJFixISEpB59Xw+//379//+++/MmTONjIyGDh369OnTpoZMvbT38ePH7u7uJiYms2bNun79+vv37xE3CgoKbt26tWDBAjMzs969e9+9e7de3BNbKX0jwd27d01NTSdOnEg8bfjChQu2trbe3t5wdxqxZEsjcObMGTabvWTJki9fvuDZqamp2b17t7Gx8bJly2BsxkNJJvmhoaGGhobbt28neCcuKytbsWKFvr7+4cOHZVIpNIKHwN69e9lsdkhISHl5OZ5MZWXlpk2bOBzOZoEV6PCEFZ9P00hw7do1Npt99OhRMoiUlpYOGzbM1dWVJit4kPG5Ycls377d2Ng4MTGRjNs5OTnOzs5jx46FwYAMXBRk/P397e3tSe7IlJqaamZmFhISQqEiqEIGgeXLl5ubmz96JLyTCqZuZmamjY3N7NmzMUvrMZOOkeDZs2cGBgbXBBYcFQsQn8/39vb28vKCvz5isZJU4PLly4aGhs+fPyevWF5e7uzsvHz5cvIqUJIkAhs2bLCzsyN4MxO18/btWxMTk8jISNEimCMlAocPHzYzM0N3qCdjraioyMrKavv27WSEFSZDu0hQW1vr6OgYFhYmKQQVFRVOTk7h4eGSKkJ5AgSKioo4HE5cXByBDGZRTk6OkZFRfHw8ZinMpIbAvXv3OBzOy5cvJVW/ffu2vr6+RD9YklbRBOWzsrJYLNa9e/ckbfvTp0/19fXT09MlVZSfPO0iwcGDBx0dHantOJaSksLlcouLi+WHV1OzPG/ePF9fX2qtjoiIcHFxgW9p1NDD1OrXr9/GjRsxi8RmTp8+3c/PT6wYFCCPwO+//75ggfBG6yTVV61aNWTIEJLCChCjXSSws7O7dOmSUMtTU1Njvh1Xrly5efMmwfYDgwcPpvA+IVQdPEUQKCkp0dbWzsrKEgKEJB01NTVt2rS5ceOGkDo8pYbAvXv3mjdv/vXrVyF1knTcrP2jAAAgAElEQVR8+PBBW1v7w4cPQurwlBoCOTk5urq6ovNpSNJRVlZmaGhIn9cCekWC58+fczicmpoaIW74fP7AgQO9vLyePn1648aNXr16zZkzR0gGOT1x4kSvXr0wi2CmpAicPHmyR48eolrk6fjrr79mzZolagHmUEBg6dKlM2fOFFUkT4eHh8fevXtFLcAcCghs27Zt5MiRoork6fjzzz9Xr14taqFecugVCcLCwsaNG4cJxJQpU6ZPn44U5eXlMRgMzIkzxcXF6urqcBARJoaSZv7xxx/r16/H1CJJx+3bt21sbDAtwExJEejUqdOVK1cwtUjSsWvXLswfL0ybMJMYgcGDBx88eBBThiQd586d6969O6YFxWfSKxLMmTNn1apVmCgIgnv//n0lJaXMzExMyRYtWuAVYcrDTDwE+vTpc/78ecxSknQUFRVpaGjATwWYGEqaaWho+ObNG0wtknTcuHHDxcUF0wLMlBQBBweHpKQkTC2SdDx79qxly5aYFhSfSa9I4OPjs2fPHkwUpkyZ0rFjx02bNi1atMjMzGzXrl2YYgCATp06wWmueOBIlG9vb5+SkoKpQpIOPp+voaEh2peKaRNmEiBQU1OjrKws+pEAUSFJR2ZmpqmpKUEtsIg8AlwulyAwk/mxKi4uVlVVpclzEr0iga+v744dOzDJQMNscXHxmjVrOBzO/fv3MSXbt29P8yU+MN2mYaaTkxPeMFCSdPB4PBUVFdhZJz25fD5fTU0Nb1wcSToePXpkaWkpvTPQAgCAoO+BJB0FBQVMJpMmYNIrEgQGBi5duhQTGhRcpNTe3n7KlCmYkhwOR3S4C6YkzCRGwN3d/eTJk5gyJOl49+6dnp4epgWYKSkCZmZmz549w9QiSUdMTAx9OqYxG9KAMjt16oQ3Lo4kHQ8ePLCysqJJk+kVCQ4cOODu7o4JjZ+fH/rFuLS0lMvlYn7MzM7O1tXVJViMBdM4zMREYO7cuYGBgZhFJOm4dOkS7JjGBJBCZt++fY8fP46pSJKOkJCQP//8E9MCzJQUgXHjxuGtIESSjgMHDnh4eEhar5zk6RUJCgsLtbS0RNdYv3fvnr29ffv27VeuXLl69ep+/frNnj1bdLApAGDbtm2jRo2SE1hNzeyNGzfs7OxEW02ejsmTJ9NnnJxoQxpWTlhYmLe3t6jP5OlwdXWNjo4WtQBzKCBw8uTJnj17iiqSp2Po0KG7d+8WtVAvOfSKBACAPn36UF4xora2tkOHDnB9FVldSTU1NSYmJgkJCdQMfvr0icPh4HVoULPZlLWys7NZLFZ+fj41ENLS0thsNlyylxp6olrFxcUsFovy5Z2dna2np0eZTVF/pMyhXSRITk7mcrmirwVk2nno0CHKK1WQsd8EZcLDw11dXakNb5g/f/7vv//eBEGTX5Onfjuo2e/fvz9mhyo1a1ALABAcHDxs2DBqUIwfP37evHnUdOWhRbtIAAAYNWrU+PHjJW3tmzdvjIyMKKyVJmlFTUq+urrawcFhw4YNkrb6v//+g5/uJQVNrHx+fr6hoeHly5fFSgoJ7Ny5s02bNniDUIWE4SlJBEpLS1u2bPnPP/+QlEfFoqKijI2NCwsL0Zx6T9AxEpSUlNjb269cuZI8Oh8/fmzfvj1chJ08YuQlX758yeVyz5w5Q17l2bNnRkZGsEuaPGLkJePi4gwMDDAn2OMZuXLlCofDefLkCZ4AzKeMwP3799ls9vXr18lbSElJ4XA4lDtdyVckkSQdIwEA4M2bNzY2Nn/++WdVVZXY9jx69MjCwmLWrFnUOjHE2ocCiYmJeIO1RMG5fPmygYFBRESEaBHMkQkCR44cYbPZUVFRZKxt376dw+H8+++/ZIShDAUELl++zOFwSC7odPz4cTabferUKQoVyVWFppEAAPD58+dBgwbZt2lz6tQpvJ/4wsLCOXPm6Ojo4M1Hkyt2Tcr4q1evOjg4dO/cGW+uGQDg1atX3t7ebDY7Nja2SYGj+MYmJCSYm5h4eXkRfLFMSUnp0aNH69at4VbG8ibo0aNHthYW/fv2Jdir4MmTJx4eHsbGxnjz9uXtJLF9+kYCwOeDuXOrdHQc2rVr0aKFv7//oUOH4uLiUlJSoqOjw8LCBg4cyGQyx48fr6Gh4ezsXFBQQNxUWCoVAhUV/AED3ltaNm/e3NbWdtGiRceOHbt169bt27ejoqLWrl3btWtXHR0df39/BoMxatQo2CUtFdpilfPza62t77i46Onpubi4rFq16vTp04mJifHx8SdOnFiyZIm9vT2Xy12wYIGhoSGt+qPFtqxBCnz5wndxeWFvz+FwHB0dly1bdvLkyYSEhMTExMjIyBUrVnTs2JHFYs2bN09PT4/ktqMKxoGukaCqCowcCVRUQIsWAIAHDx6sWLHC09OzS5cubdu27dWrl6+v78GDB5FLvH379srKylwu9+HDhwqGr6lUV1QEnJyAsjIYOJDH4928eXP+/PmDBw92dna2t7d3c3Pz8/OLiooqLy/n8/mampqqqqoODg5whyx5XR4ZGcDYuI6OlSsrKiqio6OnTp06aNAgBwcHJycnDw+P2bNn//vvv8iEm0mTJsENauRFBGI3NxdYWgIlJTB5cnV19bVr1wICAtzd3Tt06NC+fftBgwZNnz790qVLyLPRX3/9NXDgQPn6Q8k6LSNBaSn47TfAZAIGA7i5iW1XQECAsrKykpKShoaGRB82xVqGAnUIvHkDWrUC6up1gTk4WCwmLi4uDAZDVVWVzWbfuXNHrDwUkAyBlBSgqwuaNav7/+xZsbqFhYVcLheuxCUWKIoC6enA0LDu1tDSAjt3ijVSUVHRunVrGg6moF8kyMsDNjZAQ6MuDKiogKAgseCeOHFCR0eH8e3Q0NCYN28etc0vxVbUFAUePQIGBnVEMBh1Pz0kRhAtXrxYRUWFwWAgsZnCGLumiDPJNp8/X/eEpKRUR4emJnjxgozerl27fvnlFx6PR0YYykiAwO3bdTeFsvL3u4Pcrt3nzp1r2bIl3ZZlpFkkePoUGBkBNbU6ZJGfnshIscS8fv1aXV0diQQMBoPJZLq7u5eXl4tVhAJiEIiL+//vDvLTg7MnhKCdc+fO6erqCtIxd+5cGJsFIaKY3rOn7tcfuTUYjLrbpLaWjKna2trOnTtv376djDCUIYvAmTPfH1gRRpo1A0VFJHU9PDzwltokaUHmYnSKBElJ31970WudyQQ4iy8KASH408NgMDQ0NKysrOCKpEIoSXZ66NBPFzryikbiuTI/Px95JxAMBr169fry5YtkDkBpFAE+HyxZ8lMYYDCAtTVaLjaRmpqqr68Pv9yIBYqswObNwncHm01WF4CsrCx9ff2MjAzyKvKWpE0kOHtW+EJHfnpE9jTGROS3335Df3eQhIqKip6eHty8DBMu8Zl//41BR5s24hW/SXA4HCE61NXVLSwsqC0iQrLSRitWUwPGj//+2Qx9SGIwwOjREjV56tSpFKbuS1RFkxDm88Fff2HQ8euvEjV/xYoV/fr1k0hFrsL0iARVVd/72gQvdAYDWFiQbPzy5cvV1NQEf300NTVZLBYcSU0SwJ/EHjz4fxeEICMjRvwkhn8yYMAAQS6QLrvWrVvDSICPGX7JwYMYd4eGBpBwCZAvX76YmJjgLamPXz0s+RmBK1e+f6cRvDWUlMDs2T/LiTmrrKy0sbGhz3KZ9IgEAIDz54GZWd33d0F8vbzEwPmj+PLly2gHkZKSkpqa2oQJE2B3xA94JPzL49WNgtDT+4kOdXWAs7u9qPWQkBANDQ0kGKiqqmpoaCxdupTMdHFRUzAHlJXVdQ1paNQN30LvDl1dEBMjKTgHDx5s164d3L1DUtx+kq+sBKGhdbeG4DcbHR1w4MBPYiROrl27ZmpqWlpaSkJW7iK0iQQAgJoasHQp0Nb+/ualpgZCQkgCUFhYiPRNM5lMa2trFxcXOFKCJHS4YmVlYOLEuh8g5AO+ri4gvfDZjRs3kNFcyKS/0RL2Y+C61JQL3r0DPXrUcdGsWV08UFMDubmS4sHn83v27Pn3339LqgjlhREoKgJDhvz/7tDWBqmpwjIkzocPH75gwQISgnIXoVMkAAB061b3zjtv3neIL14kD0Dz5s21tbX37t3L4/HgSAnyuOFKlpYCExNw/Djw9q6jQ0UFvH2LK/xzQUlJibKycosWLa5evVpcXGxiYiLREl0/G4Nn3xB4+bLuLe3q1bp7REOj7mmJ0vHkyRM2m50reRShVFvjVfrwAejrg0uXwKBBdS8HzZoBSoMVc3JyWCwWHabE0ikSREbWDYeorq67fN6+rXsFk+S96f3790U/RnHBkRIyuAWDgsDQod/t3L8PtmypW/+D9PHq1avKykpEHHZKkIYNX9DTEyxb9r04JgYcPYovKqZkzpw5cF8/MRiJLZ4yBfj5fZdKSABSbD0WGhrarVs3vKXVxDoiKwHaRIKqKmBlBc6dk1XD4EgJqZB8967uCTQ9XSojP5SRTomNGzf+yIB/JUTg9u26eTbFxRKqYYuXlJS0aNGCwiYH2OaaYO6zZ4DFAnl5Mml6TU2Ng4PD4cOHZWKNshHaRIJNm+pWmJDdAUdKSIXlpElgxgypLPys/OTJE319fdgp8TMq5M74fNClC5DpKt/Hjx+3srJCX9rI+QGlfiDg7g4k2T3lhxru31u3bhkbG3/+/BlXQv4F9IgEnz7VLWkg6zVqYKcExevn4cO6R5737ymq46jNnTsXdkrgYEOYffQoaNu2bjyFTA83N7c1a9bI1GTTMHb9OmjevG5Al0wPHx+fmTNnytSkZMboEQnmzgVjx0rmOAlpOFKCBEhYIv37g3XrsAqkyoOdElTg+/q1bvk/0qO2yFfx/PlzfX19eq6QTL4VipasrQXOzhQGjIr18/379xwO5/79+2Il5SRAg0jw+nVdl3RWljxaCEdKSIzq5cvA1JTaQAixdZ04cQJ2SohF6SeBdetAr14/5cjuJDAwcCg6KEB2ZhuzpQMHgKMjyeWeJMUhLCysU6dO9bVCFw0iwciRYPFiSVEjLz9nzhw4np0sXDwecHCQZlyK2Irc3NxWr14tVgwK1CHw8WPdUMV79+SEBrJC8oULF+Rkv7GZragALVuCa9fk1C4ej+fk5ERyF0yZ+1DfkSA5GXC5QJ5rk8FOCQkumoiIuh1pyK1wKYFZAdHnz5+zWCzYKSEACX5yxgwwaRJ+sQxKzp4926pVK7qtkCyDhsnDxMqVdbMH5HncuXPHwMDg48eP8qwE23Z9R4KuXYH8F8uFIyWwyRfKRaaSxcUJZcv8NDAwcMiQITI329gMZmbWLc2bnS3vdnl4eCxDZyrIu7KGax+ZSvb4sbxbMGnSpMmTJ8u7FlH79RoJTp2q25QGmUom6ppMc/r06QNHSohBdNky4OkpRkYWxbTdtkkWjZOdjaFDyWzTJH19L1++1NPTo9UKydI3SvYWpkwBU6bI3qyIxfraY67+IoGsp5KJQPpTBuyU+AkO0ROZTiUTNS+Uc/bsWRpu2yTkZH2e3rwpw6lkgg15/fp1nMhrX3BwMK1WSBZ0mBbpp09lOJVMbIvqZY+5+osEf/9dt6KWHA7Max0AsHjxYjhSAhfviROBYoczw04JXC74fNCpkzQLGOBaBuDBgwcHRFbNrKystLa2Pn36NIFiky4aNAisWqUwBOplj7l6igTIVLK7d+UBLua1DgAoLy83NzeHIyUwME9Lk8dUMoyKBLJouG2TgHf1mjxyRB5TyZAm4d0dV69eNTMzo8kKyfWKvkjl16+DFi1kPpVMpJqfMhS/clo9RYI5c8C4cT81XXYneNc6ACAqKqpVq1Zwi2NhsPv1q1vvT+EH7JTAgByZSib53gMYpgSy3r179+LbER0dHRoaiqRfvXolIAK8vLwWLlwomAPTdePo5DOVTCy206ZNU+Qec/URCeQzlYzMtQ4A8PDwCAoKEktDExK4dKluKllFheKbjGzbBDslfkI+JAT07v1TjixOzpw5s/nbMX/+/DFjxiDpHTt2CNrOzs5msViPHj0SzGzq6f375TeVjBhbZDl3he0xVx+RYORIEBhIjAKFUjLXOgAAjpT4CVseD9jby3Uq2U/ViZzATomfICkokOtUMoDznQD1Yd26dd27d6/3FZJRf+o5UVFRt5GiTKeSRUZGOv44EhMThU6F2qvIldMUHgmSkuQ9lYygdwgBOjg4uH///kKgN9HTXbvkMZVM8PqeM2fOjyvfMTExURRn2Cnxf0ymT5f3VDLiu6Oqqqpt27ZHjhz5v0tNObVyJXB3ly0Aubm5sT+OwsJCoVOhuhS5nLvCI0HXruDnd1Khxkt/SnytAwCQkRJnzpyRvq6GbQGZSnbrlsxbIXh9P3z48MeVH1tYWChaF+yU+I5JRoYCppKJvTtu3rxZ7yski14k9ZCjqKlkxE1T2HLuio0EJ08qYCqZ2GsdAAA7Jequv6VLwbBhxBeiYkphp0QdzkOGgOXLFQM4cS1jxowJCAgglmn8pX5+wN+fDs1UzB5zCowEVVWgTRtw/jwdwAUADBs2rEmPlMjNrRs5mplJBzpgpwT477+6qWQlJXSgIz8/v35XSK5/EJCpZPn59e8JAIpZOU2BkUBuU8mosdXUOyUmTAB0eu5r0p0SfD7o2BHs2UPtSpaH1ubNm+txhWR5tEgymwMHKnIqmVjfFLBymqIigTynkonFEU8gJCSkiY6USEsDbHbdosd0Oppup8Thw/KbSkaNYR6P16FDh3379iHqubm58fHx1Ew1PK36mEomFiXBPeYKCwtjY2PFqkgkoKhIMGcO+P13iTxTgDDSKXH06FEF1EWvKvr1A+vX08slAJpopwQylezKFbrRkZiYaGBgkJ+fv2HDBiaTqaKi8vXrV7o5KXt/amvBL7+Agwdlb1k6i8gecy9fvty9e7eOjo6ysnJeXp50Jn/SVkgkePVKfruS/dQayU+aYqfExYvA3BzQ8q5uip0Sa9fKYyqZ5LcChoaPj0+LFi2YTCaDwdDW1k5KSsIQamRZ9TeVTCyQAQEBFhYWWlpaDAZDV1f33LlzYlXICygkEowYIY+pZOQbSSzp7e09a9YsYpnGU4pMJTt2jJ4tEuqUoKeTsvQKmUpWf7vX4rWlqKjIz89PU1NTSUmJ8e3Q1NQMCwvDk28k+XKYSiYTZL58+eLv76+mpqasrIzQoaKismjRIpkYR4zIPxLIfyqZlHAgnRIPHjyQ0k7DUN+5E7i4AD6ftt4mJCTU17ZN9YDJtGngjz/qoV7CKrOzs5lMprq6OvKjg/7v5eVFqNfwC1esAB4edGtGaWmpvr6+hoYGSgSScHV1laGr8o8E8p9KJj0cmzdvdnFxqa+9pKX3n6wFuU0lI+sAObmJEydOUciuIOTckZsUMpUsJ0duFVA0/OXLl19++QXphRD89WnevDlFiw1CDZlK9uQJ3ZytrKzs3bu3KB2ampoyXBdEzpFAIVPJpGcO6ZTYv3+/9KZobWHJEtAQHusKCwsNDQ0bf6/04ME0mUometFWVVWNHTtWU1NTMBI0a9YMc5a4qHqDzJk8mSZTyUTR4/P5gYGBQnRoamo+e/ZMVJhajjwjATKVLDqammcK1mr8nRJ0mkomltydO3c6OzvzeDyxkg1VgE5TyfAw3Llzp2CnhK6u7tWrV/GEG3Y+naaS4SF59OhRwS83Ojo6//zzD56wpPnyjAQbN8ppVzJJG0lSfsKECf70mF9O0mHJxHx9QcP5MF5bW+vq6hoeHi5ZGxuKNDKVbO9e+vt79epVbW3tZs2aMRgMVVXVlStX0t9nKh4OHAhWr6aiqFidpKQkfX19VVVVBoOhpKTk5+cnq/rlFgloOZWMGLXG3ClBy6lkxHQoftsmYn9kWXroELCzAzU1srQpN1svXrxo1aoV8nLQs2dPudVTf4bj4up2JSsvrz8PJKj53bt37dq1Q3qKbG1tJdAkFJVbJJg9m4ZTyQihqCsMDw9HOiU+f/585MiR0aNHOzg4cLlcLS0ta2vrPn36hIaGZtJjrR6xbflJoG9fsGHDTzkN4cTf39/X1xcAkJubGx4e7u7ubmdnx2Kx9PX17ezsPDw8du7c+e7du4bQFAEfv34FLVsC+k0lE3BROPn58+fffvtNVVVVV1cXAPDs2bN169b17t3b2tpaS0vLyMjIwcHB29v72LFjX758EVam+TkylUx23SwKaG55ebmnp6e6urqKikplZeXr1683b948YMAAW1tbHR0dAwMDe3t7Ly+v/fv3fyS9jgD1SJCTk7Nnz55ly5ZNmjTJ398/ODj4+PHjnz59qgMCmUr29q0CQJFtFbW1tU5OTiNHjmSxWH379t2+fXtiYuLbt2/fv3+flpZ26tSpCRMmcDicoUOHpqeny7ZqKa2lp6dv27Zt8eLFvr6+M2fOXL169YULFyqQncguXKibSlZZKWUVilf/9OmToaHh6NGjdXV1hw8f/s8//9y5c+fdt+POnTsHDx708vLS1dX19/eX7XxLKVtaW1ublJS0adOmuXPn+vr6zp49e/369f/999/3zx5r1gA3NymrULw6j8ebNm2aiorKgAEDOBzOxIkTIyMj09LS3r9/n5WVlZiYuHXr1j59+rBYrODgYLrth3z//v0tW7YsWLDA19c3ICAgJCTk6tWrVVVVdTDu21dfu5JJQyKfz1++fLmysrK7uzuLxfLx8Tl27Ni9e/fy8vJycnKSkpIiIiIGDRqkq6s7f/78oqIisXVRiQRRUVEuLi46OjrDhg0LDAwMCwtDLvp+/foxmUw3N7ePAwbQeSoZASgPHjwwNTUdMWJERkYGnlhZWdnKlStZLBYdJtpUV1eHh4dbW1sbGhqOHTs2KCho+/btoaGhs2bNcnV11dbW/n3cuCobG3D8OF5z6JwfHR2tr68/Y8aMDx8+4PmZn58/depUNpt96dIlPBmF5ZeUlCxbtszExKR169aTJ09esWLFzp07V61aNXXq1LZt23I4nMBp0/gsFmiYO0Ru2rRJX19/zZo1BDuBP3361NPT09zc/OHDhwqDHa+ir1+/rl+/vlWrVi1atJgwYcLy5cvDw8PXrl07Y8aMDh066OnpTf3zT56JCYiLw7NA5/x//vmHxWItXrz48+fPeH5mZWX9/vvvRkZGYpeNkiwSZGVlde3a1cbG5uTJk5iLkHz+/Hnr1q3tDQwmjhhRQo8ldvEwEs2PiYlhs9kHyS05kpGRYW1tPWPGDFE7CstJTk62srLq1q1bXFwc5jCbd+/e/fXXX846OosXLcIUUJirFCraunUrl8u9efMmGd24uDgul7tz504ywnKSiYyM5HK5I0eOxJulmJGRMXHixE66uhEREXLyQU5m+Xz+lClTbG1tnz9/TqaKvXv3stlsma+SRqZqVCY2NtbMzMzNze327duY4+6zsrICAgI66uiEhIRgCqCmaJgICgoyMzO7T252elRUFJvNPnnyJEFDJIgEiYmJxsbGK1eurBH3paukpGTs2LH29vZv3rwhqFuiIsENEcXu/ymRZUT48ePHHA7n33//Ja/76dMnOzu7DfXU/3706FE2m01mo8Hc3Nxu3bq5ubkVFxeTbx2xpLzpOH/+PJfLJfm7g7iakZFhaGh4+fJlYs/lVLp8+XITExOxT17ITsKWlpbTp0+XYWwWpEPsdqEUEFizZo2DgwPBs6eozatXrxoYGMhwwLtoFQQ527ZtMzAwuHDhAoEMUvTixQtHR0dvb2/MR1ux6pgCgnTI48dq3759rVq1kugL2Z07d9hsNsEcHbKRID09ncPhnD59GrPlmJkrV660trb+/uUAU0KSTMENEcXu/ymJ4TrZqqoqKysrCk9qL1++rJc5UBcuXDA0NLx79y7JllZVVfn4+AwYMEBWvz5ypSM3N5fNZpN8GxBEIC4ujsPhvH//XjBTAel169bZ2dnlkJ4tXFhY2KVLlzlz5sjKN0E6xG4XKmmlN2/eNDIyovBUt23bNjs7O7EPjpL6I1b+wIEDZmZm5INQaWnpwIEDfXx8ZPVmIEiHzH+s0tPT2Ww2hc63U6dOtWjRAu8TDqlIUFxcbGlpSeHV28/Pz83NTVb4ir0CKAts2bLlt99+o6a+Y8eOzp07K7KNGRkZHA7nxo0bEjlcVVXVvXv3BQsWSKRVL8J//PEH5TUBp0yZMm3aNEW6ffnyZSMjo9evX0tUaUFBgbm5+aFDhyTSUrwwn8/v0qXLXqpTH7p27bpr1y5Fup2SksJms/E66PA8KS0tbd++fX293+N5hZk/ePDg1VSnPgwbNiw4OBjTLKlIsHTp0hEjRmDqE2dWVVXZ2NhERUURi9VvKY/HMzY2Fn1vunv3bsy34+rVq9XV1cXFxVevXo2JiRHqm6uurra0tLx+/brCWjFkyBBqE3zy8vJYLBb5ZyWFtUiwopycHD09PdFPxCTpyMvL09XVzVfUvoPV1dVWVlbU1gdOTEw0MjKi+ee0q1ev2tjYiL5KkqTj1q1bpqamClvRC4lb1GJPRkYGi8Wi1SA0wfsCSaelpRkZGZWVlQkVkaTj2bNnenp6mB/8xUeCgoICFotF3GN77949Ic/Q06ioKFtbW+JH5pKSEhl20qFVk0zcvHnTyspKVLi6unrdunUMBgPdymb9+vXLli37PvhMQGHZsmUK+3R8+/ZtExMT0UtBwB1AQEdwcLDYoP7x40divgTrknl627ZtI0eOFDVLno6hQ4dS6OgTrZFMTkRERLdu3QgkCbgAAAwfPnzFihUE6gCAgoICYgG5lvr5+a1atUq0CvJ0WFhYiD5miRqUSc758+dtbW0J+qOI6Zj27SD2pH7pCAoKmj59uqiH5Ono0qXL2bNnRS2IjwQRERGenp6immhOYWEhl8vF637i8/nm5uYpKSmoPJqora2NjY0dMWKEmpraoEGD0HwFJxYvXlJWLNUAABEYSURBVDx//ny8Sv39/Tt27Mjj8bKzs//66y9Msbt377Zu3RqzSOaZ06dPDwoKIjBLTEdhYSGTycT8dPz169dTp0717NlTWVmZ2jsHgVfkiwYNGkTQZ0KGjn379g0dOpR8jdJIdu/eneDjGTEXAID4+HjMpxAAwOfPnyMiItq3b6+kpBRdf4t3mZqapqWl4UFEho5Zs2YtW7YMz4Js80eOHLl9+3Y8m2LpeP78OZvNxgwkZWVlhw4dcnV1VVJS2r17N14V8s7v2LHjFfw5iWToCAkJmTx5sqif4iPBoEGDDhw4IKqJ5oSGhpqbmxMsERMQECD0G5qRkbF06VIjIyNkGzYGg9GpUyfUoIITI0aMIGhgeXm5tbX18uXLp02bVokzOauioqJZs2aYF5Bs28Ln801NTYmfa8TS0bNnzxMnTgg6lpqa6u/vr6Ojo6uri+xMElB/m91bW1sTNJAMHcnJyfb29oINlFO6oKBAS0sL7xkIACCWi9raWi6XKzhLEXk8Gj58uLq6uo6ODoPB0NLSIrg+5dQ0xGxlZaWysrLoSzBaKRk6du/e7ePjg6rIL1FZWamrq5udnY1XhVg6AADt2rUT7Omtra2Nj4/39fXV1NTU1dVFFl8KCQnBq0Le+SwWi2BgAhk6oqOje/fuLeqn+EjQvHlzgvUVeDzejBkzIiIi2rVrJ2odyTl58iTyyI885jg6OqqrqwuucchgMDp06ICnLml+ZWXlpx9HTk7Oqx/H/fv3U78dd+/ejf1xXL582dnZmXiFxeTkZGVlZeKJS/r6+gQMSdoEPPmPHz8SL0pOho4lS5YsXrwYWcJh7dq1pqamTCYTWdMKXYJYhtsDlJeX/2DjU1ZWFsLGy5cvES5SU1OTk5N/sBF74cIFbW1t4l5+sXTk5OSw2Ww8DGWYHxcX5+LigmeQDBcAgCFDhiDdj+np6fPmzWOxWOjjEUKHtrb2nj178GqRNL+kpASl48ed8SozMxOlIyEhAaVj9+7dXC6XuAqxdFy6dEkxqxWlp6e3bNkSz1uSdEyePHnTpk0AgLdv365evdrY2JjJZKI7hTEYDBUVFczuMrx6ifNLS0tROl6/fo0w8uLFC5SO27dvo3RERkaKfeIUS8e9e/cwVysSEwl4PJ6KigpBr3RkZGRcXFx5eTmLxfrvv/8wm52QkGBnZzdo0CA1NTXR/RaQy93CwsLPz+/PP/8c+eMYOnRo3x9H165dnX8c1tbWFj8O/R8H8vSE/pAxGIxmzZr9KNQ3Njb+oWHh4ODww5Jzr169+vbt27ZtW4IXLgDA0aNH3dzcOnToUF1djdlAAACLxcrNzcUrlVX+w4cPLS0tCayRoSM8PNzNzc3V1VVdXV1oxXMUwN69e/v5+U2cOPEHGyM9PDx+sNG3c+fOKIaWlpYItq1atUIBR3a+Ra0xGAw1NTW0tEWLFigdHTp0QE0h9rW1tYm/2omlIzs7m8PhEKAkq6LDhw8PGzYMzxoZLgAAU6dO9fHxsbKy0tTUVFNTEwQNSTOZzJEjR/r5+Y0fPx6lY+DAgSgdHTt2RDB0cnJCgTU1NUUBF919TFNTEy1t2bIlqoVy4erq2rdv327duhkYGOA1EMkXS8fFixd79epFbEQmpbGxsV26dMEzRZKO4ODg4cOHt2/fXvRpFaFDWVl56NChfn5+vr6+KB3u7u4oHS4uLgiMv/zyCwpsy5YtUcBFbzoNDQ201MzMDNVycnJCTHXq1Klv3769e/dWVlYm+BUi82OVmpratm1bUZTERIKSkhIVFRWC74ejR49O+nYMHToU80MfAODx48fNmzfncDgaGhpCz57odd+6dett27ZF/DhOnDhx6ttx+vRpNCTevHkTDZXp6enoE01BQQEaV0VbKDZn1KhRBHvU3Lt3LywsrKKiwsrKCq+7s7y8XGysFusGGYGEhAQnJycCSTJ0HD161MnJiclkamlpCT7soFwwGIx+/fqFh4cjbOzevRvh4tSpU2fPnkXpSEhIQOnIyMhA6SgqKkLowPwaQeA8UmRra5uamoonRoaOpKQkBwcHPAsyzA8PDx8/fjyeQTJcAAAWL17cuXNnVVVVbW1tQQrQtKam5qRJk37cGRH79u1D6YiOjkbpSEpKQul48eIFQsebN2/QW4PgeQ6vCVVVVcrKynidogDUjU0Qe3dERESMHTsWrwoZ5kdFRfXv3x/PIEk6Nm/ejDwkaWtro3s4o1wgidGjR+/atQthZO/evSgd586dQ+lITExE6Xj+/Dl6d6B0UBszxmazCbq/yNBx/vz5Pn36iKIkJhIAAJhMJt6CdmlpacHBwfHfjtOnT6uqqmI+zV27du3XX38FADx58mTJkiUmJiZaWlpCjz9t2rQRdU4xOQRfjN+/fz9z5kzEjYSEBFVVVcxREAr7YvzixQuCHQRJ0rFx40Z/f38ejxcfH+/n56enp6ejo4MsQI9e8aNGjVIM+KK1EHwxJkmHwr4Ynzlzxg1nLTmSXAAAfH19d+zYUVFRER0d7eXlpaGhIfQbpKGhgfRXiGKlgByCL8Yk6VDYF+PExES8TmbydCxcuDAoKOjr16/R0dGjRo3S1NQU6qxjMBgEA0zkzQjBF2OSdFD/YtymTRu8uawBAQHfV7v8BkDPnj2XLl0qisWePXsEXxf4fH5ycvLs2bO5XC6TyURCQqtWrUQVFZMTHx+PGYciIyMtLCyCg4ORV6K0tDQWi2ViYiI6hX3p0qVowJCrz2VlZaqqqoKYC1ZHko6ZM2cKdnTW1NRcvXp1/PjxOt8OJCQQjxYTrFTm6R07dmCOcyVPx5AhQ2TYsU7QwOTkZMwuVwAASS4AAD179hScjlBWVnbq1CkPDw/ki7GSkpKqqmpoaCiBG3ItmjJlCuY4V/J0tG7dGnPooMzdzsrKYrPZmHMXyNMxevRowSHIlZWV0dHRo0ePZjKZenp6yN2hmJsdEx9k6IpoEXk6OnfufP78eVEL4t8JJk+ejDml7fDhw+bm5ug0q/fv3/ft21dbW1toXAoAwMvLC29k0d27d+fNm2dsbNy1a1dR5xSTw+PxTExMbt++Ta06ZGaZpDN+qdUFAHB1dcUcU0ieDmtr64SEBFEHeDzev//+O3HiRF1dXYVNjxB1Izc3F3NmmagkZo4iZ5ZVV1fr6+uLzi4mz0VxcTHeO3dFRcXp06eHDBmioaFx+PBhzMYqIPPatWvW1taUx8XdvHnTzMwM89dZHs5bWFgkJycLWSZPB4/HMzAwwBwgU1VVdfHiRW9vbyaTuW7dOqEqFHb68OFDzJllJB2QambZxYsX8d65yFRfUlKio6Mj9msq5UuNjA9iZbZt29a9e3exYpgC0uhiGiTOXLt2LUHfNLEuACAtLY3L5YpOGRVU5PF4BF+GBCXllPbz86P82DV58mRFhjFvb++NGzdSxuHw4cNix9XU760BAPj1118pj6CXRpcCqrNnz5am6+batWuYX1MFPal3Ojw9PSlP9xk6dCiervh3Ah6P17ZtW8EXWEFcxKaXLVuG+bIvVlGRAtXV1TY2NhQWVnrx4oWBgYFiXn4RQD58+KCvr//06VNq+BBcCtQMykPr3bt3bDYbbygaQY2xsbEGBgaiK1UQqEhZlJycTHnFCOTOwpzwKaVXslWPj4/ncrmirz5iawkLC7O3t1fkT2dmZiaLxSIehUzgtuJXSSJwBq/o6dOnbDabYLofnuKJEydMTU3xBg6IjwQAgMjISBsbG4IZNHh1v3z5ksViYb5t4anUVz6y2KpEK6oXFRW1bdtWmkdCao0NCgpyd3en8Nh+7do1ExMTCjxS81MarejoaElXpX727JmhoWFMTIw09VLQ9fT0XLRoEQXFv//++9dff6XAI4W6pFQJCQmRdFXqmJgYAwMDgh2fpHQJTx3d8RRPAC//yJEjNjY2ioxbeJ6IzT9w4ICkq1IjC/OJdp2hdZGKBHw+f8yYMZ6enhL195WUlLRr1279+vVoZTRPXLlyhc1m79u3j4yfT58+bdOmDeVODDJV4MlUVFR07NgRb0grnhaygDbx/Dg83XrJ3759O5fLFZzwSeBGbGysoaEhhbc6Apski3JyckxMTIi3ARE1df36dQ6HQ/ndTtSgXHP4fP7UqVNtbGxIPtVFRESw2WyJdvuQlf+fPn2ysrLaunWrRAYfPHhAvHy/RNYUIBwcHGxmZkYw3lrQh8jISDabferUKcFMoTSpSAAAqKiocHFxGTNmDN7AFSG7eXl5nTt3lqZHW8igYk7T0tLMzc09PT0JFuwsLS1dvnw5i8UiWOFE3t7m5uaampoGBQWRfKJ8+PChubl5g1h0VxC6ixcvcjicqVOnErzv5+Xl+fn5cTgcxb8NoK4mJSXp6+uT2TUIUbl06RKHw6mvTXVQtyVNhIWF6evrr1y5Eq+HAQCQnp7u4eFhYWHx+PFjSe3LSh55O9yyZQtJgwkJCcbGxiQ3KyRpUwFiR44cYbFYCxYsINgD5vXr12PGjDExMUlMTCR2iWwkAACUlpZ6eno6OzuL7RY/e/asqanpwoULJXqHIHZUYaVlZWUrVqxgsVh9+vTZunVrQkJCVlZWfn7+/fv3T548OX78eDab7eXlpfjXXiEEcnJynJ2dBw8e/OrVK6EiwdOamprw8HA2m015iXlBa4pP5+fn+/v76+rqDhs27MCBAykpKbnfjuTk5P3793t6eurq6k6bNk3xu9MIQZGammpqajp9+vTCwkKhIsHTkpKSwMBAQ0PDuIa5dy6yTTGbzfb19T158uSDBw/y8/PfvHmTkJCwZcuW3r17s1isVatWEYQKQTTkl87MzLSxsRk7dizxxl5fv35dt24dm80mWEZQfk5KbzkrK2vcuHF6enre3t5Hjx5NTU3Ny8vLzs5OTEzctWuXm5ubnp7ewoULyWw2J0EkAADw+fxt27ZxuVwvL68zZ84I8f3x48f9+/d37dqV8ort0kMjKwtfvnw5duzYmDFj2rdvb2RkpKWlZWtr269fvw0bNrx48UJWtUhpp7y8PDAwUE9Pz8/PLzY2Vmga+ps3b7Zs2WJjY/Prr7/euXNHyrrqVz0vL2/Xrl1Dhgxp164dMi+/Xbt2yOrTBK8LCvY5Pz9/woQJbDZ78eLFd+7cEXpde/jw4YoVK4yMjLy8vCh8fVVwW4iry8zMDA0N7du3r42NjZaWlpGRkaOjo4+Pz4kTJ6hNLCeujlrp58+fZ86cyWKxZs2adevWLaHxckgTWrZs2a9fvydPnlCrgiZaWVlZYWFhAwcObNu2ra6uroGBgb29/ciRIw8ePEj8XCLov2SRANEsLi7euHFj165dNTQ0LCwsunXr1qVLF2QhM2ThUqGfJMH6YFrmCOTk5CxdutTBwUFTU9PW1rZHjx7Ozs4mJibIk4LoPDiZOwANCiLw6NGjgICAVq1a6enptWvXrnfv3g4ODhwOx8TEZMqUKQSf7ASNwLSsEHjx4sXChQutra21tbXt7Ox69erVoUMHLpfL4XB8fX0b6JuZrMARtEMlEqD6X758efz4cUxMTFxc3NOnT0l+QkDVYUK2CBQUFNy/f//ixYu3bt168eIFjMeyhVdSa7m5uUlJSRcvXkxMTHz79m1D7CmVtMl0ls/Pz7979+7FixcTEhJev34t9IpAZ88V45tUkUAxLsJaIAIQAYgARECuCMBIIFd4oXGIAEQAItAAEICRoAGQBF2ECEAEIAJyRQBGArnCC41DBCACEIEGgACMBA2AJOgiRAAiABGQKwIwEsgVXmgcIgARgAg0AARgJGgAJEEXIQIQAYiAXBGAkUCu8ELjEAGIAESgASAAI0EDIAm6CBGACEAE5IrA/wBSZk4fjUAUbwAAAABJRU5ErkJggg=="
    }
   },
   "cell_type": "markdown",
   "metadata": {},
   "source": [
    "One of the findings of the paper is that in the setting of contextualized links, most triadic types are consistent with status theory. As we are interested in the notion of status, we will reproduce the conditions in which status theory is dominant, and in which we can interpret a positive link from A to B as B having a higher status than A.\n",
    "\n",
    "A contextualized link (A,B:X) is a link forms between A and B *after* both A and B have formed a link with X. These are the red edges in the figure below, and they are the only one we will keep in our analysis. \n",
    "\n",
    "![image.png](attachment:3937593e-204d-4327-a99b-13dc6e1d5eb1.png)"
   ]
  },
  {
   "cell_type": "markdown",
   "metadata": {},
   "source": [
    "We modified the source code of the triadic_census function of networkx for it to return a dataframe containing all the AB edges for all the triads, associated with the triad type (see image above). As this method is heavy in computation, we save the result in a pkl file.\n",
    "**TODO: remove the print at the end**"
   ]
  },
  {
   "cell_type": "code",
   "execution_count": 10,
   "metadata": {},
   "outputs": [
    {
     "name": "stdout",
     "output_type": "stream",
     "text": [
      "Counting Tridads of Epinions took 00:38:58\n"
     ]
    }
   ],
   "source": [
    "# Only run this cell the first time, then load from pkl\n",
    "\n",
    "from triadic_census_modified import nodes_by_type\n",
    "\n",
    "# we need to transform the user ratings dataset to have all the edges attributes in the column 'data'\n",
    "ur_copy = user_ratings.copy()\n",
    "ur_copy['data'] = ur_copy.apply(lambda x: (x['Creation'],x['Sign']),axis=1)\n",
    "\n",
    "edge_types = nodes_by_type(ur_copy[['FromId','ToId','data']].to_records(index=False))\n",
    "edge_types_counter = pd.DataFrame(edge_types.groupby(['NodeA','NodeB'])['type'].apply(list)).reset_index()\n",
    "edge_types_counter.to_pickle('data/edge_types.pkl')\n",
    "print(\"Counting Tridads of Epinions took 00:38:58\")"
   ]
  },
  {
   "cell_type": "code",
   "execution_count": 7,
   "metadata": {},
   "outputs": [
    {
     "name": "stdout",
     "output_type": "stream",
     "text": [
      "(526410, 5)\n"
     ]
    }
   ],
   "source": [
    "status_dataset = user_ratings.copy()\n",
    "edge_types_counter = pd.read_pickle('data/edge_types.pkl')\n",
    "edge_types_counter = edge_types_counter.rename(columns={'NodeA':'FromNodeId','NodeB':'ToNodeId'})\n",
    "status_dataset = status_dataset.merge(edge_types_counter)\n",
    "print(status_dataset.shape)"
   ]
  },
  {
   "cell_type": "markdown",
   "metadata": {},
   "source": [
    "### 1.3 Combining the datasets"
   ]
  },
  {
   "cell_type": "markdown",
   "metadata": {},
   "source": [
    "#### 1.3.1 Computing user-centered features\n",
    "\n",
    "We want to extract from the other datasets user-centric features.\n",
    "We first use the ``ratings`` dataset to compute the average rating, the anonymity frequency, sensionalism and the number of reviews written by the users. We will also use the ``mc`` dataset to compute the number of articles written by each users.\n",
    "\n",
    "The anonymity feature is a bit tricky. As we are considering the ratings from a node 1 to a node 2, we will keep all the features that are **known to A**. This means that we will use its number of ratings, average ratings etc as is without looking if the reviews were made anonymously or not. We will also have an 'anonymity score' that represents the frequency at which A rated anonymously as we expect users who use the anonymity feature to have a different behaviour as the one who don't. These informations will be gathered in the ``members`` dataframe.\n",
    "Concerning node 2's feature, we will only keep the ratings that were done non-anonymously, because these are the ones node 1 will have access to and will be able to use in its decision. These information will be gathered in the ``members2`` dataframe."
   ]
  },
  {
   "cell_type": "code",
   "execution_count": 8,
   "metadata": {},
   "outputs": [],
   "source": [
    "members = pd.DataFrame(index = ratings['member_id'].unique())\n",
    "ratings_not_anonym = ratings[ratings['anonymity'] == 0]\n",
    "members2 = pd.DataFrame(index = ratings_not_anonym['member_id'].unique())\n",
    "dfs = [(members, ratings), (members2, ratings_not_anonym)]\n",
    "\n",
    "for m, r in dfs:\n",
    "    # number of articles written. If a user is not in this list, it means that they haven't written any articles. \n",
    "    # In this case, we set nbr_articles = 0 \n",
    "    m['nbr_articles'] = mc[['author_id', 'content_id']].set_index('author_id').groupby('author_id').count()\n",
    "    m.fillna(0, inplace = True)\n",
    "    \n",
    "    # average ratings\n",
    "    m['avg_ratings'] = r[['member_id', 'rating']].groupby('member_id').mean()\n",
    "\n",
    "    # anonymity frequency (we only need this for members dataset)\n",
    "    members['anonymity_freq'] = ratings[['member_id', 'anonymity']].groupby('member_id').mean()\n",
    "\n",
    "    # sensionalism: average of how much the review differs from the mean rating of the object\n",
    "    mean_rating = r[['object_id', 'rating']].groupby('object_id').mean()\n",
    "    mean_rating = mean_rating.rename(columns = {'rating': 'mean_rating'})\n",
    "    rates = pd.merge(r, mean_rating.reset_index(), on = 'object_id')\n",
    "    rates['diff_from_mean'] = np.absolute(rates['rating'] - rates['mean_rating'])\n",
    "    m['sensationalism'] = rates[['member_id', 'diff_from_mean']].groupby('member_id').mean()\n",
    "\n",
    "    # number of reviews made\n",
    "    m['nbr_reviews'] = r.groupby('member_id').size()"
   ]
  },
  {
   "cell_type": "markdown",
   "metadata": {},
   "source": [
    "#### 1.3.2 merging the member's features with the edges' dataframe (status_dataset)"
   ]
  },
  {
   "cell_type": "markdown",
   "metadata": {},
   "source": [
    "We rename the nodes of each edge as node1 (source) and node2 (target) and all their features as {feature}{number} for simplicity. For example, the average rate of the source vertex becomes avg_rate1"
   ]
  },
  {
   "cell_type": "code",
   "execution_count": 9,
   "metadata": {},
   "outputs": [],
   "source": [
    "status_dataset = status_dataset.rename(columns = {'FromNodeId': 'node1', 'ToNodeId': 'node2'})\n",
    "\n",
    "# merge for the source node (node1)\n",
    "status_dataset = pd.merge(status_dataset, members, left_on = 'node1', right_index = True)\n",
    "status_dataset = status_dataset.rename(columns = {'avg_ratings': 'avg_ratings1', \n",
    "                                                  'anonymity_freq': 'anonymity_freq1',\n",
    "                                                  'nbr_reviews': 'nbr_reviews1',\n",
    "                                                  'nbr_articles': 'nbr_articles1',\n",
    "                                                  'sensationalism': 'sensationalism1'})\n",
    "\n",
    "# merge for the target node (node2)\n",
    "status_dataset = pd.merge(status_dataset, members2, left_on = 'node2', right_index = True)\n",
    "status_dataset = status_dataset.rename(columns = {'avg_ratings': 'avg_ratings2', \n",
    "                                                  'nbr_reviews': 'nbr_reviews2',\n",
    "                                                  'nbr_articles': 'nbr_articles2',\n",
    "                                                  'sensationalism': 'sensationalism2'})\n",
    "\n",
    "status_dataset.reset_index(drop = True, inplace = True)"
   ]
  },
  {
   "cell_type": "code",
   "execution_count": 47,
   "metadata": {},
   "outputs": [
    {
     "name": "stdout",
     "output_type": "stream",
     "text": [
      "(461536, 14)\n",
      "(841372, 4)\n"
     ]
    },
    {
     "data": {
      "text/html": [
       "<div>\n",
       "<style scoped>\n",
       "    .dataframe tbody tr th:only-of-type {\n",
       "        vertical-align: middle;\n",
       "    }\n",
       "\n",
       "    .dataframe tbody tr th {\n",
       "        vertical-align: top;\n",
       "    }\n",
       "\n",
       "    .dataframe thead th {\n",
       "        text-align: right;\n",
       "    }\n",
       "</style>\n",
       "<table border=\"1\" class=\"dataframe\">\n",
       "  <thead>\n",
       "    <tr style=\"text-align: right;\">\n",
       "      <th></th>\n",
       "      <th>node1</th>\n",
       "      <th>node2</th>\n",
       "      <th>Sign</th>\n",
       "      <th>Creation</th>\n",
       "      <th>type</th>\n",
       "      <th>nbr_articles1</th>\n",
       "      <th>avg_ratings1</th>\n",
       "      <th>anonymity_freq1</th>\n",
       "      <th>sensationalism1</th>\n",
       "      <th>nbr_reviews1</th>\n",
       "      <th>nbr_articles2</th>\n",
       "      <th>avg_ratings2</th>\n",
       "      <th>sensationalism2</th>\n",
       "      <th>nbr_reviews2</th>\n",
       "    </tr>\n",
       "  </thead>\n",
       "  <tbody>\n",
       "    <tr>\n",
       "      <th>0</th>\n",
       "      <td>209227652</td>\n",
       "      <td>482665</td>\n",
       "      <td>1</td>\n",
       "      <td>2001/01/10</td>\n",
       "      <td>[3, 1, 11, 9]</td>\n",
       "      <td>3.0</td>\n",
       "      <td>5.000000</td>\n",
       "      <td>0.000000</td>\n",
       "      <td>0.191199</td>\n",
       "      <td>16</td>\n",
       "      <td>34.0</td>\n",
       "      <td>4.449219</td>\n",
       "      <td>0.324221</td>\n",
       "      <td>256</td>\n",
       "    </tr>\n",
       "    <tr>\n",
       "      <th>1</th>\n",
       "      <td>209424260</td>\n",
       "      <td>482665</td>\n",
       "      <td>1</td>\n",
       "      <td>2001/01/10</td>\n",
       "      <td>[9, 11, 11, 3, 9, 1]</td>\n",
       "      <td>3.0</td>\n",
       "      <td>4.250000</td>\n",
       "      <td>0.000000</td>\n",
       "      <td>0.570238</td>\n",
       "      <td>4</td>\n",
       "      <td>34.0</td>\n",
       "      <td>4.449219</td>\n",
       "      <td>0.324221</td>\n",
       "      <td>256</td>\n",
       "    </tr>\n",
       "    <tr>\n",
       "      <th>2</th>\n",
       "      <td>511995</td>\n",
       "      <td>482665</td>\n",
       "      <td>1</td>\n",
       "      <td>2001/01/10</td>\n",
       "      <td>[10, 3]</td>\n",
       "      <td>63.0</td>\n",
       "      <td>4.000000</td>\n",
       "      <td>0.375000</td>\n",
       "      <td>1.124566</td>\n",
       "      <td>16</td>\n",
       "      <td>34.0</td>\n",
       "      <td>4.449219</td>\n",
       "      <td>0.324221</td>\n",
       "      <td>256</td>\n",
       "    </tr>\n",
       "    <tr>\n",
       "      <th>3</th>\n",
       "      <td>533639</td>\n",
       "      <td>482665</td>\n",
       "      <td>1</td>\n",
       "      <td>2001/01/10</td>\n",
       "      <td>[3, 9]</td>\n",
       "      <td>59.0</td>\n",
       "      <td>4.941574</td>\n",
       "      <td>0.000000</td>\n",
       "      <td>0.112702</td>\n",
       "      <td>3851</td>\n",
       "      <td>34.0</td>\n",
       "      <td>4.449219</td>\n",
       "      <td>0.324221</td>\n",
       "      <td>256</td>\n",
       "    </tr>\n",
       "    <tr>\n",
       "      <th>4</th>\n",
       "      <td>508183</td>\n",
       "      <td>482665</td>\n",
       "      <td>1</td>\n",
       "      <td>2001/01/10</td>\n",
       "      <td>[3, 15, 3, 11, 3, 9, 1]</td>\n",
       "      <td>35.0</td>\n",
       "      <td>4.854749</td>\n",
       "      <td>0.106145</td>\n",
       "      <td>0.821581</td>\n",
       "      <td>179</td>\n",
       "      <td>34.0</td>\n",
       "      <td>4.449219</td>\n",
       "      <td>0.324221</td>\n",
       "      <td>256</td>\n",
       "    </tr>\n",
       "  </tbody>\n",
       "</table>\n",
       "</div>"
      ],
      "text/plain": [
       "       node1   node2  Sign    Creation                     type  \\\n",
       "0  209227652  482665     1  2001/01/10            [3, 1, 11, 9]   \n",
       "1  209424260  482665     1  2001/01/10     [9, 11, 11, 3, 9, 1]   \n",
       "2     511995  482665     1  2001/01/10                  [10, 3]   \n",
       "3     533639  482665     1  2001/01/10                   [3, 9]   \n",
       "4     508183  482665     1  2001/01/10  [3, 15, 3, 11, 3, 9, 1]   \n",
       "\n",
       "   nbr_articles1  avg_ratings1  anonymity_freq1  sensationalism1  \\\n",
       "0            3.0      5.000000         0.000000         0.191199   \n",
       "1            3.0      4.250000         0.000000         0.570238   \n",
       "2           63.0      4.000000         0.375000         1.124566   \n",
       "3           59.0      4.941574         0.000000         0.112702   \n",
       "4           35.0      4.854749         0.106145         0.821581   \n",
       "\n",
       "   nbr_reviews1  nbr_articles2  avg_ratings2  sensationalism2  nbr_reviews2  \n",
       "0            16           34.0      4.449219         0.324221           256  \n",
       "1             4           34.0      4.449219         0.324221           256  \n",
       "2            16           34.0      4.449219         0.324221           256  \n",
       "3          3851           34.0      4.449219         0.324221           256  \n",
       "4           179           34.0      4.449219         0.324221           256  "
      ]
     },
     "execution_count": 47,
     "metadata": {},
     "output_type": "execute_result"
    }
   ],
   "source": [
    "print(status_dataset.shape)\n",
    "print(user_ratings.shape)\n",
    "status_dataset.head()"
   ]
  },
  {
   "cell_type": "markdown",
   "metadata": {},
   "source": [
    "This merging of datasets makes us use 54% of the original (filtered) dataset."
   ]
  },
  {
   "cell_type": "markdown",
   "metadata": {},
   "source": [
    "------------------------\n",
    "## 2. Data Analysis"
   ]
  },
  {
   "cell_type": "markdown",
   "metadata": {},
   "source": [
    "Let's have a look at the distribution of the different features we pre-selected and apply an independent t-test on the two study groups (positive and negative edge)"
   ]
  },
  {
   "cell_type": "code",
   "execution_count": 50,
   "metadata": {},
   "outputs": [
    {
     "data": {
      "image/png": "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\n",
      "text/plain": [
       "<Figure size 432x288 with 1 Axes>"
      ]
     },
     "metadata": {},
     "output_type": "display_data"
    },
    {
     "name": "stdout",
     "output_type": "stream",
     "text": [
      "=========== T-testing feature t between the two study groups ==========\n",
      "Ttest_indResult(statistic=-101.71557182819538, pvalue=0.0)\n",
      "variance ratio = 0.2279183240524146\n"
     ]
    }
   ],
   "source": [
    "# number of articles\n",
    "ax = sns.distplot(members['nbr_articles'], bins=40, kde=False);\n",
    "ax.set_yscale('log')\n",
    "\n",
    "ax.set(title='Distribution of the number of articles by users (log scale)', xlabel='number of articles', ylabel='number of users')\n",
    "plt.show()\n",
    "\n",
    "pos_edge = status_dataset['nbr_articles1'][status_dataset['Sign']==1]\n",
    "neg_edge = status_dataset['nbr_articles1'][status_dataset['Sign']==-1]\n",
    "\n",
    "print('=========== T-testing feature t between the two study groups ==========')\n",
    "F = np.var(pos_edge)/np.var(neg_edge)\n",
    "print(scipy.stats.ttest_ind(pos_edge, neg_edge, equal_var = False))\n",
    "print(f'variance ratio = {F}')"
   ]
  },
  {
   "cell_type": "code",
   "execution_count": 51,
   "metadata": {},
   "outputs": [
    {
     "data": {
      "image/png": "iVBORw0KGgoAAAANSUhEUgAAAZIAAAEcCAYAAADtODJSAAAAOXRFWHRTb2Z0d2FyZQBNYXRwbG90bGliIHZlcnNpb24zLjMuMSwgaHR0cHM6Ly9tYXRwbG90bGliLm9yZy/d3fzzAAAACXBIWXMAAAsTAAALEwEAmpwYAAA4EUlEQVR4nO3deVxU9d4H8A8MsonEIuAApkmF5M0kBnCXRSQV1K5XMVITu26JWupNVBISU6muWpqi5cOTaWWaogIFrtelInG56FXDXYORYXFhkW04zx9c5mGEwYFhFvTzfr16Jec355zPnDlzvuf8zplzjARBEEBERNRCxvoOQEREbRsLCRERaYSFhIiINMJCQkREGmEhISIijbCQEBGRRp6aQrJkyRJ88cUXrTKt3NxceHp6Qi6XAwAmTJiAHTt2tMq0AeDvf/87du/e3WrTU9fq1avh6+uLfv36qfX6tWvXYv78+VpO1fqioqKwevVqvcxbEAQsXLgQ3t7e+Nvf/qbVeT26nupSRkYGBg4cqPP56tLcuXNx4MABAMCuXbvwxhtv6DmRegICAvDLL7889nUFBQUYOnQoKisrH/vaJ6KQBAQEoGfPnvD09IREIsG4cePw3XffoaamRvGapUuXYubMmWpN63EL2dnZGWfOnIFIJNI4e2Mb46+++gqvv/66xtNuDqlUisTERKSmpuLEiRMN2p+GDYMunDp1CidOnMC//vUv7Ny5U6vzas31lJRdunQJly5dQmBgoL6jaE3Hjh3h6+uL7du3P/a1T0QhAYCEhAScOXMGhw8fxpQpU/Dll19i8eLFrT6f6urqVp+mIcjJyYGNjQ3s7e31HaVNae7efk5ODlxcXGBpaanW65/U9c3QNHc5b9++HaGhoTAyMtJSIsMQGhr6dBWSOh06dEBgYCDWrFmD3bt3Izs7G4Byd0ZRURGmTZsGiUQCHx8fhIeHo6amBv/4xz+Qm5uL6dOnw9PTE19++SX+/PNPuLu7Y8eOHfDz88Nbb72lGFZ/5bt16xb+9re/wcvLCzNmzMC9e/cANL4nX3fUc/ToUWzcuBE//fQTPD09MWLECADKXWU1NTVYv349/P390adPH7z//vsoLi4GAEWO3bt3w8/PD76+vtiwYYPKZVNcXIz3338fvXv3hr+/P9avX4+amhr88ssvmDx5MmQyGTw9PREVFaU0XllZGaZMmaJo9/T0RF5eHgCgqqoK77//Pjw9PTF8+HCcO3dOMV5eXh5mzZqF3r17IyAgAFu2bFGZLSoqCh9++CGmTp0KT09PjBkzBrdu3VJ6n/WXd/1ltGvXLowbNw7Lly+HRCJBYGAgTp8+jV27dmHQoEHo06dPg67Cu3fvIiIiAp6enhg/fjxycnIUbVevXkVERAR8fHwQHByM1NRUpZwxMTGYMmUKevXqhYyMjAbvJS8vD9OnT4ePjw+CgoLwww8/AAB27NiB6OhonD17Fp6envj8888bjFv/vfj4+GDt2rWorKxEfHw8/Pz80LdvXyxZsgTl5eUAgKFDh+Lw4cOK8aurq+Hr64v//Oc/DZZbcXExFi1ahP79+2PAgAFYvXq1ohD6+/vj/PnzAIA9e/bA3d0dV65cUeR+5513AABZWVn461//ildffRV9+/bFihUrVH6mQO0Onq+vLwICArB3717FNPr27av0eaalpWHkyJGNTuPRruP63UiCIGD58uXo06cPvLy8EBoaqvjON7Xc6r6XmzZtQr9+/bBw4UKV24XGHD16FN7e3irf9+nTpzF69Gh4eXlh9OjROH36tKLt9u3bePPNN+Hp6YlJkybhww8/VNlF3FQmqVSKyMhI9O7dG76+vli6dCmA2m3RxIkT4evrC19fX8ybNw8PHjxodPo1NTXYtGkTBg8eDF9fX8yZM0ex7QKAV155Bbdv31b6fjTmiSskdXr27IlOnTohMzOzQVtiYiKcnJzw66+/4sSJE5g7dy6MjIzwySefwNnZWXF0M2XKFMU4J0+eRGpqKjZv3tzo/JKSkrB8+XIcO3YMJiYmWLZs2WMzDhw4ENOmTcPQoUNx5swZxRetvl27dmH37t3YsmULDhw4gLKyMsUKU+fUqVP4+eef8fXXX+OLL77A1atXG51fXFwciouLceDAAXzzzTfYs2cPfvzxR/Tt2xdffvklHB0dcebMGaxcuVJpPEtLS6X2M2fOwMnJCQBw6NAhDB8+HJmZmQgICEBcXByA2hV0xowZcHd3x9GjR/H111/j66+/xrFjx1Quj5SUFERGRuLkyZN49tlnm3UeIysrC+7u7sjIyEBISAjmzp2Lc+fOYf/+/fjkk0+wdOlSlJaWKl6/b98+vPPOO8jIyED37t0VX+SysjJMnjwZISEh+OWXX7Bq1Sp8+OGHuHz5smLc5ORkTJ8+HadPn4aXl1eDLPPmzUOnTp1w7NgxfP7551i1ahV+/fVXjBkzBh9++CF69eqFM2fOYPbs2SrfS+fOnfHLL79gxowZ+OSTT3D9+nUkJSUhPT0dMplMcb5v+PDhSE5OVox7/Phx2NraokePHg2mu2DBApiYmCA9PR1JSUk4ceKEYgPt7e2N33//HQCQmZmJzp07K/4+efIkfHx8AAAfffQRJk6ciNOnT2P//v0YOnSoys+koKAAd+/exbFjx7By5UosWbIE165dQ8+ePWFjY6PUhbp3716VhaQpx48fR2ZmJtLS0pCZmYk1a9bAxsYGAJpcbnX57t+/j8OHDyMuLk7lduFRZWVl+PPPP9GtW7dGM927dw/Tpk3DhAkTkJGRgYiICEybNg13794FAMyfPx89e/ZERkYGIiMjsWfPHpXvT1UmuVyOadOmwdnZGYcOHcLRo0cxbNgwALXFddq0aTh27Bh++ukn3LlzB2vXrm10+nXbla1bt+LYsWN45plnlLYvJiYmePbZZ3Hp0qUmP4cntpAAgKOjI+7fv99guImJCfLz85Gbm4t27dpBIpE89hB11qxZsLS0hLm5eaPtI0eOxIsvvghLS0vMmTMHP//8c6uc5Ny3bx8mTZqEzp07o3379pg7dy5SU1OV9uYiIyNhbm6O7t27o3v37o1+6HK5HKmpqZg3bx6srKzg6uqKiIiIRotXc3h5eWHQoEEQiUQYOXKkYt7nzp1DUVERIiMjYWpqis6dO2Ps2LFKe/ePCgoKQs+ePWFiYoIRI0bg4sWLaudwdXXF6NGjIRKJMGzYMEilUsycOROmpqbo378/TE1NFUc4AODn5wdvb2+Ymprivffew9mzZyGVSnHkyBG4uLhg9OjRMDExQY8ePRAcHIy0tDTFuIGBgfDy8oKxsTHMzMyUckilUpw6dQrz58+HmZkZPDw8MGbMmCY3Fo9ydHTEhAkTYGJiAjMzM+zYsQOLFi2CjY0NrKysMG3aNKSkpACo7Xo4dOgQHj58CKB2fQkJCWkwzYKCAhw9ehSLFi2CpaUl7O3tMWnSJMV0Hi0k06ZNw8mTJwHUFpK6vW8TExPcunULRUVFaN++PXr16tXke5kzZw5MTU3h4+ODQYMG4aeffgIAjBo1SrHu3bt3D8ePH2809+OYmJigtLQU165dgyAIcHNzg6OjIwRBaHK5AYCxsTFmz54NU1NTmJubq71dqOsRaN++faOZjhw5gi5dumDUqFEwMTFBSEgIunXrhsOHDyM3Nxfnzp1TzFcikSAgIKDJ99dYpqysLMhkMrz//vuwtLSEmZkZJBIJAKBLly7o168fTE1NYWdnh4iICMVn+ajt27fjvffeQ6dOnWBqaorIyEikpaUpbV/at2+veM8qczbZ2sbl5eXhmWeeaTD87bffxrp16zB58mQAQFhYGKZOndrktDp16tRku1gsVvzb2dkZVVVVij0QTchkMri4uCj+dnFxQXV1NQoLCxXDOnbsqPi3hYUFysrKGkzn7t27qKqqgrOzs1LOui6qlqo/b3Nzc1RUVKC6uho5OTmQyWSKlRuoLWb1/37ctBp7H6rUP7dTV+zrT8/MzEzpiKT+59m+fXs888wzkMlkyMnJQVZWVoPcdd2OgPJn/SiZTIZnnnkGVlZWimHOzs6KbiN11M9WVFSEhw8f4q9//atimCAIiu6NLl26wM3NDYcPH4a/vz8OHTqEpKSkBtPMzc1FdXU1+vfvrxhWU1OjeC8+Pj74+OOPkZ+fj5qaGgwdOhTr1q3Dn3/+ieLiYnh4eACoPSL5/PPPMXToULi6uiIyMhL+/v6Nvg9ra2ulc0HOzs6QyWQAane8hg4ditLSUvz000+QSCRwdHRUexnV6dOnD958800sXboUubm5CAoKwoIFC1BRUdHkcgMAW1tbpR0BdbcLHTp0AACUlpY22JEAateB+t+zuveel5enWD8sLCwUbWKxGFKptNH3pyqTVCqFs7MzTEwabsILCwuxbNkyZGZmorS0FIIgwNrautHp5+bmYubMmTA2/v9jCmNjYxQWFip6HUpLSxXvWZUntpBkZWUhLy+v0a4HKysrREVFISoqCpcvX8bEiRPx8ssvo0+fPiqn97gjlvorglQqRbt27WBrawsLCwtFvyxQu1EqKipSe7qOjo5K/ZO5ubkwMTGBvb097ty50+S49dna2qJdu3bIzc3F888/r8hZt7I8TnNPKorFYri6uiI9Pb1Z4zWmbmNUXl6u2EDn5+drNM36y660tBT379+Ho6MjxGIxvL29kZiY2KLp1h0Fl5SUKLI2ZzkDysva1tYW5ubmSElJUTmNkJAQJCcno6amBs8//zy6dOnS4DV1e5y//fZboxufLl26wNzcHN988w0kEgmsrKzQsWNH/PDDD4qjLwDo2rUrVq1ahZqaGqSnp2P27NnIyMho9OKBBw8eoKysTNEmlUrxwgsvAACcnJzg6emJ/fv3Y8+ePU1eOmthYaE44gJqj67qmzhxIiZOnIjCwkK8++67+OqrrzB79uzHLrdH12l1twuWlpZ49tlncf36ddjZ2TWYrqOjI3Jzc5WGSaVSDBgwAA4ODrh//z4ePnyoKCaqikhTmeqKT3V1dYPP85///CeMjIywd+9e2Nra4sCBAw26w+t06tQJy5cvb3Q7CdSec7t16xa6d++uMiPwBHZtlZSU4PDhw5g7dy5GjBgBd3f3Bq85fPgwbt68CUEQYGVlBZFIpPiidOzYEbdv3272fPfu3YsrV67g4cOH+OyzzxAcHAyRSITnnnsOFRUVOHLkCKqqqrBhwwal67Lt7e2Rk5Oj8qReSEgIvv76a9y+fRulpaVYvXo1hg4d2ujGoCkikQivvfYaVq9ejZKSEuTk5CAxMVFpT7sp9vb2uHfv3mMPcev07NkTVlZW2LRpE8rLyyGXy5GdnY2srKxm5QYAOzs7ODk5Yc+ePZDL5di5c2eLPqP6/vWvfyEzMxOVlZX47LPP8Morr0AsFsPPzw83btxAUlISqqqqUFVVhaysLJXnnR4lFovh6emJVatWoaKiApcuXcLOnTsRGhraopzGxsYYM2YMli9frjgKzcvLUzrXNGzYMJw4cQLfffedyu4hR0dH9OvXDytXrkRJSQlqampw69YtRXcWUHtUsnXrVkU31qN/A7Un4ouKimBsbKzYy23q8uK6iwUyMzNx5MgRvPbaa4q2kSNHYvPmzcjOzkZQUJDKaXh4eGD//v14+PAhbt68qXTZdFZWFv7973+jqqoKFhYWMDU1VXyfH7fcHtXUduFRgwYNUtldNGjQINy4cQP79u1DdXU1UlNTceXKFfj5+cHFxQV/+ctfFMul7krT5mbq2bMnHBwc8M9//hNlZWWoqKjAqVOnANTuGFlaWsLa2hp5eXn46quvVE7/jTfewJo1axQ7q0VFRYrfxtQtXxcXF6VekcY8MYWk7kqrQYMGISEhARERESqvKLl586biip2wsDC88cYb8PX1BQBMnToVGzZsgEQiUXlivTEjR45EVFQU+vXrh8rKSsWlxx06dEBMTAyio6MxcOBAWFhYKHVd1H2xfH19G/3tyOjRozFixAiMHz8egYGBMDU1xQcffKB2rvo++OADWFhYYPDgwQgPD0dISAhGjx6t1rhubm4YPnw4Bg8eDIlE8tguMZFIhA0bNiiute/duzeio6NRUlLSouxxcXHYvHkzfH19ceXKFXh6erZoOnVCQkLwxRdfKK5w+uSTTwDU7gFu3rwZqampGDBgAPr3749PP/1UrR9l1Vm1ahVycnIwYMAAREZGYtasWWr/yLMx//jHP9ClSxeMHTsWr776KiZNmoTr168r2h0dHRUn8OtOuDbm448/RlVVFYYNGwZvb2/Mnj1b6cjO29sbpaWlSoWk/t8AcOzYMQwfPhyenp746KOPsHr16ka7d4DanTJra2sMGDAA8+fPR2xsLNzc3BTtQUFByMnJQVBQUJOXQ7/11lto164d+vbtiwULFigV5dLSUkRHR8PHxwf+/v6wsbFRdAM9brk9qqntwqPGjh2Lffv2obHHOdna2iIhIQGJiYnw9fXFV199hYSEBMXRy6effoqzZ8/C19cXa9aswbBhw2BqatqsTCKRCAkJCbh58yb8/f0xcOBAxfmnyMhIXLhwARKJBFOnTsWQIUNUvueJEyciICAAkydPhqenJ8aOHau0s7dv3z6MGzdO5fh1jPhgKyLSl8GDB2Pp0qXo27evvqM027x58zB06FAMHjxYo+m8++676Natm8qr+PSlsLAQ48ePR1JSksqdhTosJESkF2lpafj000+RlpamsgvpSZSVlQUbGxu4urri+PHjmDlzJrZv346XXnpJ39Fa7Ik92U5EhmvChAm4cuUKPv7446eqiAC1FwvMmjUL9+7dQ6dOnRAbG9umiwjAIxIiItLQ07UrQERErY6FhIiINMJCQkREGnmiT7bfvVuKmprmnwKyt7dCYWHLfu+gTYaYyxAzAczVHIaYCTDMXIaYCWi9XMbGRrC1bfweYk15ogtJTY3QokJSN64hMsRchpgJYK7mMMRMgGHmMsRMgH5zsWuLiIg0wkJCREQaYSEhIiKNsJAQEZFGWEiIiEgjLCRERKQRg778988//8SUKVPg7e0Ne3t7zJkzR9+RiIjoETo7IomPj0dAQADc3d2RnZ2tGH79+nWEhYUhODgYYWFhuHHjhtJ47du3R1VVFTp37qyrqCguq0RpRbXK/6obf5ghEdFTSWdHJIGBgZg4cSLefPNNpeExMTEIDw/HyJEjsWfPHixZsgRbtmwBALi4uGDnzp0QBAFz5syBj48PXF1dtZ71YXk1Tl5U/QRAbw8nmJgZ9MEcEZHO6OyIRCKRQCwWKw0rLCzEhQsXFM+ZDgkJwYULF1BUVAQAMDIyUvzfzs4OpaWluopLRERq0ututVQqhZOTE0QiEYDa53w7OjpCKpXCzs4OGRkZSEpKgkgkQvv27eHu7t6s6dvbW7Uol6yoDB2szFW2W1qawcFO9TOmtcnBoYNe5tsUQ8wEMFdzGGImwDBzGWImQL+5DLp/xtfXF76+vi0ev7CwpGX3nxGJUFxSrrK5rKwC+XJ5i3O1lINDB+TnF+t8vk0xxEwAczWHIWYCDDOXIWYCWi+XsbFRi3bA9Xr5r1gsRl5eHuT/3SjL5XLIZLIGXWBERGS49FpI7O3t4eHhgeTkZABAcnIyPDw8YGdnp89YRETUDDrr2lq2bBnS09NRUFCAiIgI2NjYICUlBbGxsYiKisL69ethbW2N+Ph4XUUiIqJWoLNCEh0djejo6AbD3dzcsGPHDl3FICKiVsZbpBARkUZYSIiISCMsJEREpBEWEiIi0ggLCRERaYSFhIiINMJCQkREGmEhISIijbCQEBGRRlhIiIhIIywkRESkERYSIiLSCAsJERFphIWEiIg0wkJCREQaYSEhIiKNsJAQEZFGWEiIiEgjLCRERKQRFhIiItIICwkREWmEhYSIiDTCQkJERBphISEiIo2wkBARkUZYSIiISCMsJEREpBEWEiIi0ggLCRERaaRNFJIFCxZg8eLF+o5BRESN0FkhiY+PR0BAANzd3ZGdna0Yfv36dYSFhSE4OBhhYWG4ceOG0nhbt25F//79dRWTiIiaSWeFJDAwENu2bYOLi4vS8JiYGISHhyMtLQ3h4eFYsmSJou38+fN4+PAhPD09dRWTiIiaSWeFRCKRQCwWKw0rLCzEhQsXEBISAgAICQnBhQsXUFRUBAA4cuQIbt68idWrV+P06dPIzMzUVVwiIlKTiT5nLpVK4eTkBJFIBAAQiURwdHSEVCqFnZ0dIiMjAQB//vknNmzYAIlE0qzp29tbtSiXrKgMHazMVbZbWprBwc6yRdPWlINDB73MtymGmAlgruYwxEyAYeYyxEyAfnPptZCoy9XVFR999FGzxyssLEFNjdD8GYpEKC4pV9lcVlaBfLm8+dPVkINDB+TnF+t8vk0xxEwAczWHIWYCDDOXIWYCWi+XsbFRi3bA9XrVllgsRl5eHuT/3SjL5XLIZLIGXWBERGS49FpI7O3t4eHhgeTkZABAcnIyPDw8YGdnp89YRETUDDrr2lq2bBnS09NRUFCAiIgI2NjYICUlBbGxsYiKisL69ethbW2N+Ph4XUUiIqJWoLNCEh0djejo6AbD3dzcsGPHDl3FICKiVtYmftlORESGi4WEiIg00qJC8ttvv+HkyZOtnYWIiNogtQrJ+PHjcerUKQDApk2bMHfuXMydOxcJCQlaDUdERIZPrUJy+fJl9OrVCwCwY8cOfPPNN/jhhx/w/fffazMbERG1AWpdtVVTUwMjIyPcunULgiDAzc0NAHD//n2thiMiIsOnViHx8vLC0qVLkZ+fj6CgIADArVu3YGtrq9VwRERk+NTq2lqxYgWsra3h7u6OWbNmAQCuXbuGiRMnajUcEREZvscekcjlcqxcuRJxcXEwNTVVDPfz89NmLiIiaiMee0QiEolw4sQJGBkZ6SIPERG1MWp1bb311ltYu3YtqqqqtJ2HiIjaGLVOtm/duhUFBQVITEyEnZ2d0tHJkSNHtJWNiIjaALUKySeffKLtHERE1EapVUh8fHy0nYOIiNootc6RVFZWYvXq1QgMDISXlxcA4Pjx49i6datWwxERkeFTq5AsX74c2dnZ+PTTTxXnR1544QV89913Wg1HRESGT62urQMHDiA9PR2WlpYwNq6tPU5OTsjLy9NqOCIiMnxqHZG0a9cOcrlcaVhRURFsbGy0kYmIiNoQtQrJa6+9hgULFuD27dsAAJlMhqVLl2L48OFaDUdERIZPrULy3nvvwcXFBSNGjMCDBw8QHBwMR0dHzJw5U9v5iIjIwKl1jsTU1BSLFy/G4sWLUVRUBFtbW94yhYiIAKh5RHLlyhUUFBQAAMzMzLB27VqsW7cODx8+1Go4IiIyfGoVknnz5uHBgwcAgPj4eJw8eRJnz57FkiVLtBqOiIgMn1pdWzk5OejWrRsEQcCBAweQnJwMc3NzBAYGajsfEREZOLXPkZSUlODq1avo1KkT7OzsUF1djYqKCm3nIyIiA6dWIQkJCcFbb72F0tJSjB8/HgBw4cIFuLq6ajUcEREZPrUKyaJFi3D8+HGYmJigd+/eAAAjIyMsXLhQq+GIiMjwqVVIAKB///5Kf7/88sutHoaIiNoetQpJeHi4yt+NbNu2rVUDERFR26JWIRkzZozS3/n5+fjxxx8RGhqqlVB1rly5gi1btkAul0Mul2PFihX8ISQRkYFRq5C8/vrrDYYFBwdj4cKFiIyMVGtG8fHxSEtLQ05ODvbt24cXX3wRAHD9+nVERUXh3r17sLGxQXx8PLp27QoAeP7557F06VIAwOzZs1FWVob27durNT8iItINtX6Q2BgnJyf88ccfar8+MDAQ27Ztg4uLi9LwmJgYhIeHIy0tDeHh4Q1+5Pjbb79h3rx5sLW1hYWFRUvjEhGRlqh1RLJz506lv8vLy5Geno5evXqpPSOJRNJgWGFhIS5cuIDExEQAtZcZx8XFoaioCHZ2dgCA3r17o3fv3oiLi8PFixfRo0cPtedJRETap1Yh2bNnj9LflpaW8PT0xKRJkzSauVQqhZOTE0QiEQBAJBLB0dERUqkUdnZ2yMjIQFpaGgRBQHV1NV544YVmTd/e3qpFuWRFZehgZa6y3dLSDA52li2atqYcHDroZb5NMcRMAHM1hyFmAgwzlyFmAvSbS61C8s0332g7R6N8fX3h6+vb4vELC0tQUyM0f0SRCMUl5Sqby8oqkP/Ig750wcGhA/Lzi3U+36YYYiaAuZrDEDMBhpnLEDMBrZfL2NioRTvgLT5H0hrEYjHy8vIUT1+Uy+WQyWQQi8X6jEVERM2g10Jib28PDw8PJCcnAwCSk5Ph4eGhOD9CRESGT+1ftmtq2bJlSE9PR0FBASIiImBjY4OUlBTExsYiKioK69evh7W1NeLj43UViYiIWoHKQhIfH48FCxYAAH799Vf06dNHoxlFR0cjOjq6wXA3Nzfs2LFDo2kTEZH+qOza+uGHHxT/5rPZiYhIFZVHJN27d8fs2bPh5uaGyspKfPbZZ42+bs6cOVoLR0REhk9lIfn888+xfft25ObmAgDu3Lmjs1BERNR2qCwk9vb2eOeddwBAccNEIiKiR6l11daKFStw//59HD58GHl5eXBycoKfnx9sbGy0HI+IiAydWr8jOXPmDIKCgvD999/jjz/+wPfff48hQ4bgzJkz2s5HREQGTq0jkuXLlyMmJgbDhw9XDEtNTcWyZcvw448/ai0cEREZPrWOSG7cuIGhQ4cqDQsODsatW7e0EoqIiNoOtQpJly5dkJKSojTs559/RufOnbUSytAZGRuhtKJa5X/VNfpOSESkO2p1bS1atAjTp0/HN998A2dnZ+Tk5ODmzZtISEjQdj6DVFElx7+z81W2e3s4wcRMZ3efISLSK7W2dq+++ir279+PI0eOQCaTwd/fH4MGDeJVW0REpP5NG5955hmMHDlSm1mIiKgN0utt5ImIqO1jISEiIo2oVUhqangZEhERNe6xhUQul6NXr16orKzURR4iImpjHltIRCIRunbtirt37+oiDxERtTFqXbUVGhqK6dOnY+LEiejUqZNSm6ZPTiQiorZNrULy3XffAQDWrl2rNNzIyAgHDx5s/VRERNRmqFVIDh06pO0cRETURql9+W9VVRUyMzORmpoKACgrK0NZWZnWghERUdug1hHJH3/8gRkzZsDU1BR5eXkYNmwYTp48id27d2PNmjVajkhERIZMrSOS2NhYzJ49Gz///DNMTGprj7e3N06dOqXVcEREZPjUKiRXrlxR3GfLyMgIAGBpaYmKigrtJSMiojZBrULi4uKC8+fPKw3LysrCs88+q5VQRETUdqh1jmTOnDmYNm0axo0bh6qqKmzcuBHff/894uLitJ2PiIgMnFpHJP7+/vjyyy9RVFQEb29v5OTkYO3atejfv7+28xERkYFT+3kkPXr0QI8ePbSZ5YlR9yjexpi1M4EJ77lMRE8QtQpJZWUlNmzYgJSUFMhkMjg6OmLYsGGYMWMGzMzMtJ2xzWnqUbx8DC8RPWnU2qLFxsbi+vXrWLx4MVxcXJCTk4NNmzYhLy8PK1as0Fq4zMxM7Nq1C5WVlbC2tsaSJUu0Ni8iImoZtQrJwYMHsX//flhbWwMAnn/+ebzyyisYMmSI2jOKj49HWloacnJysG/fPrz44osAgOvXryMqKgr37t2DjY0N4uPj0bVrVwCARCKBRCIBAMyYMQOlpaVo3759c94fERFpmVq99R07dsTDhw+VhlVUVMDBwUHtGQUGBmLbtm1wcXFRGh4TE4Pw8HCkpaUhPDy80aOOI0eOwM3NjUWEiMgAqTwi+fXXXxX/HjlyJP7+979jwoQJcHJywp07d7Bt2zbFjxTVUXdkUV9hYSEuXLiAxMREAEBISAji4uJQVFQEOzs7AMCuXbuQk5OD+fPnqz0vIiLSHZWFZPHixQ2GJSQkKP29fft2TJ06tcUzl0qlcHJygkgkAlD7EC1HR0dIpVLY2dnh8OHDWLNmDfz8/LBkyRK8++67igKjDnt7qxblkhWVoYOVucr2du1MWtxuaWkGBzvLFuUCAAeHDi0eV1sMMRPAXM1hiJkAw8xliJkA/eZSWUgM4dbx/v7+8Pf3b/H4hYUlqKkRmj+iSITiknKVzVVV1S1uLyurQL5c3vxMqF1R8vOLWzSuthhiJoC5msMQMwGGmcsQMwGtl8vY2KhFO+B6/UWDWCxGXl4e5P/dsMrlcshkMojFYn3GIiKiZlDrqq1Lly5h+fLluHTpkuIZJIIgwMjIqME9uJrD3t4eHh4eSE5OxsiRI5GcnAwPD49mdV8REZF+qVVI5s6diyFDhiA6Ohrm5qrPDTRl2bJlSE9PR0FBASIiImBjY4OUlBTExsYiKioK69evh7W1NeLj41s0fSIi0g+1CklBQQHmzJmjuIV8S0RHRyM6OrrBcDc3N+zYsaPF0yUiIv1S6xzJqFGjsG/fPm1nISKiNkitI5KpU6ciLCwMGzduhL29vVLbli1btBKMiIjaBrUKyezZs+Hq6oqgoCDepFFDTd0ZGODdgYmo7VGrkFy8eBEZGRkwNTXVdp4nXlN3BgZ4d2AianvU2veVSCS4evWqtrMQEVEbpNaur6urKyZPnoygoKAG50jmzJmjlWBERNQ2qFVIysvL4efnh6qqKty5c0fbmYiIqA1Rq5Bo8+FVRETUtqlVSG7fvq2yrXPnzq0WhoiI2h61CklQUBCMjIwgCP9/J926X7lfvHhRO8mIiKhNUPumjfXl5+dj3bp1jT6sioiIni4t+umbg4MDFi9ejFWrVrV2HiIiamNa/Bvqa9euNXiOOxERPX3U6toKDw9XuvPvw4cPceXKFcycOVNrwYiIqG1Qq5CMGTNG6W8LCwt0794dXbt21Uamp1pT9+IyL6vUcRoiosdTq5C8/vrr2s5B/9XUvbgGeT2Llj8RhohIO9QqJJWVldi9ezcuXryoeNRunY8//lgrwYiIqG1Qq5BERUXh0qVL8Pf3R8eOHbWdiYiI2hC1CsmxY8dw8OBBWFtbazsPERG1MWpd/isWi1FZyRO9RETUkFpHJKNGjcI777yDiRMnNriNfJ8+fbQSjBqqltegkk9XJCIDo1Yh2bp1KwA0+CW7kZERDh482PqpqFEVVXJkXsxT2c6nKxKRPqi11Tl06JC2cxARURvFjhAiItII+0GeIE39Kh7gORQi0g4WkidIU7+KB3gOhYi0g/unRESkERYSIiLSCAsJERFpxKALSXFxMRYuXIhBgwbpOwoREamgs0ISHx+PgIAAuLu7Izs7WzH8+vXrCAsLQ3BwMMLCwnDjxg1FW4cOHbBixQo899xzuopJRETNpLNCEhgYiG3btsHFxUVpeExMDMLDw5GWlobw8HAsWbJEV5GIiKgV6OxaUIlE0mBYYWEhLly4gMTERABASEgI4uLiUFRUBDs7O43naW9v1aLxZEVl6GBlrrK9XTuTFrdrMi4Ajca1tDSDg52lyvaWcnDo0OrTbA3MpT5DzAQYZi5DzAToN5def1QglUrh5OQEkUgEABCJRHB0dIRUKlUUkg8//BDXrl3DkiVLMGXKFHTu3Fnt6RcWlqCmRmh+MJEIxSXlKpurqqpb3K7JuAA0GresrAL5crnK9pZwcOiA/PziVp1ma2Au9RliJsAwcxliJqD1chkbG7VoB9zgf50WExODmJgYfccgIiIV9HrVllgsRl5eHuT/3UuWy+WQyWQQi8X6jEVERM2g10Jib28PDw8PJCcnAwCSk5Ph4eHRKudHiIhIN3TWtbVs2TKkp6ejoKAAERERsLGxQUpKCmJjYxEVFYX169fD2toa8fHxuopEREStQGeFJDo6GtHR0Q2Gu7m5YceOHbqKQURErczgT7aTblTXABVVvAU9ETUfCwkBqC0iJ/kYXyJqAW4ZniJNPfiqJT+3ISICWEieKk09+OqVFx10nIaInhTs9SYiIo3wiITUoqpbTCgqQ1lFNU/GEz3FWEhILaq6xTpYmaO4pJwn44meYtyHJCIijbCQEBGRRlhIiIhIIywkRESkERYSIiLSCAsJERFphIWEiIg0wkJCREQaYSEhIiKNsJAQEZFGWEiIiEgjLCRERKQRFhIiItIICwkREWmE9/2mVtHUY3z5rBKiJxsLCbWKph7jy2eVED3ZuJ9IREQaYSEhIiKNsJAQEZFGWEiIiEgjLCRERKQRFhIiItKIQV+TWVFRgZiYGFhZWcHIyAiLFy/WdyQiInqEzo5I4uPjERAQAHd3d2RnZyuGX79+HWFhYQgODkZYWBhu3LihaEtPT4e3tzeio6NhYWGBc+fO6SouERGpSWeFJDAwENu2bYOLi4vS8JiYGISHhyMtLQ3h4eFYsmSJoi03N1fxeldXV+Tk5OgqLhERqUlnXVsSiaTBsMLCQly4cAGJiYkAgJCQEMTFxaGoqAh2dnYQi8XIzc0FAOTk5KB79+7Nmqe9vVWLssqKytDBylxle7t2Ji1u12RcAAaZq4OVeZPtpmbtIIhU77NYmJugg6Vpo23FZZV4WN74rVceN66DQweV4+mTIeYyxEyAYeYyhEyPfi9kRWWASKT4u6nvhTbo9RyJVCqFk5MTRP9dACKRCI6OjpBKpbCzs8OQIUMQGxuLP/74A3K5HD179mzW9AsLS1BTIzQ/mEiE4pJylc1VVdUtbtdkXAAGl6uDlTmKS8qbHL+krELl7VOA2luolJdWNNpWWlGNkxfzmj2ug0MH5OcXqxxPXwwxlyFmAgwzl6FkevR7Ufc9rNPUd6opxsZGLdoBN+iT7ebm5li5cqW+YxARURP0evmvWCxGXl4e5HI5AEAul0Mmk0EsFuszFhERNYNeC4m9vT08PDyQnJwMAEhOToaHhwfs7Oz0GYuIiJpBZ11by5YtQ3p6OgoKChAREQEbGxukpKQgNjYWUVFRWL9+PaytrREfH6+rSERE1Ap0Vkiio6MRHR3dYLibmxt27NihqxhERNTKeIsUIiLSCAsJERFpxKAv/9WUsbFRi8YTjI1gad5OZbuJyLjF7ZqNa3i5LMxMIK9up/G0VX1Wmozb0s9f2wwxlyFmAgwzlyFkevR7Ufc9rN/ekpwtfW9GgiC04Bd7REREtdi1RUREGmEhISIijbCQEBGRRlhIiIhIIywkRESkERYSIiLSCAsJERFphIWEiIg0wkJCREQaYSF5xPXr1xEWFobg4GCEhYXhxo0brTLdu3fvYsqUKQgODkZoaCgiIyNRVFT02Hlqo60x69atg7u7O7Kzsw0iU0VFBWJiYjBkyBCEhobigw8+MIhchw8fxqhRozBy5EiEhoYiPT1d57ni4+MREBCg9HnpY9k82rZo0aIGuZpa73WRq3///hg4cGCDZVXn0fVen8sKUL3e6+PzbRaBlEyYMEFISkoSBEEQkpKShAkTJrTKdO/evSv89ttvir9XrlwpLFy48LHz1Ebbo86fPy+8/fbbgp+fn/DHH38YRKa4uDjho48+EmpqagRBEIT8/Hy956qpqREkEoliGV28eFHo1auXIJfLdZrr5MmTQm5uruDv76/Ioo9l82jbqFGjGuRqar3XRa7Vq1cLY8eObbCsBKHx9V6fy0oQVK/3usrV0u0dC0k9BQUFgpeXl1BdXS0IgiBUV1cLXl5eQmFhYavP6+effxbeeuutJuepjbZHVVRUCGPHjhVu3bqlWKn1namkpETw8vISSkpKlIbrO1dNTY3g4+MjZGZmCoIgCL///rswZMgQveWqvxHSdYam2hrbaNepW+91nXngwIFKmRpb7/WxHOvPW9V6r49czfVE3/23uaRSKZycnCASiQAAIpEIjo6OkEqlrfr435qaGnz33XcICAhocp6CILR626Pv47PPPsOIESPQuXNntZaDLjLdvn0bNjY2WLduHTIyMtC+fXvMmTMH5ubmes1lZGSENWvW4J133oGlpSVKS0uxceNGvS8vfXxmTbWpUn+913XmBw8eKGVpbL3Xx3KsT9V6L5FIDGIdawrPkehBXFwcLC0tMX78eL3mOHPmDM6dO4fw8HC95nhUdXU1bt++jZdeegm7du3C/PnzMWvWLJSVlek918aNG7F+/XocPnwYGzZswHvvvaf3XG0F1/umqVrvS0pK9B3tsXhEUo9YLEZeXh7kcjlEIhHkcjlkMhnEYnGrzSM+Ph43b95EQkICjI2Nm5ynIAit3lbfyZMnce3aNQQGBgIA7ty5g7fffhsLFy7UWyYAcHZ2homJCUJCQgAAr7zyCmxtbWFubq7XXBcvXoRMJoOXlxcAwMvLCxYWFjAzM9NrLqDpdVcbGZqb79H1XteZ27dv/9j1fsWKFfDw8NDbslK13l+/fh3Ozs56/wybwiOSeuzt7eHh4YHk5GQAQHJyMjw8PFqtW2v16tU4f/48vvjiC5iamj52ntpoq2/q1Kk4fvw4Dh06hEOHDqFTp07YvHkzhg0bprdMAGBnZwdfX1+cOHECQO2VJYWFhejatatec3Xq1Al37tzBtWvXAABXr15FQUEBunTpotdc+liPmpOvsfVe15nrum8A1et9//799bqsVK33Xbp00ftn+Dh8sNUjrl69iqioKDx48ADW1taIj49Ht27dNJ7u5cuXERISgq5du8Lc3BwA4Orqii+++KLJeWqjTZWAgAAkJCTgxRdf1Hum27dvY9GiRbh37x5MTEzw7rvvYtCgQXrPtXfvXnz55ZcwMqp9ktzs2bMxePBgneZatmwZ0tPTUVBQAFtbW9jY2CAlJUXny+bRtq5duyIjI0Mp15o1a1Su97rIVVxcDAC4d++e0rJStd7rc1mlpKSoXO91laul2zsWEiIi0gi7toiISCMsJEREpBEWEiIi0ggLCRERaYSFhIiINMJCQk+9gIAA/PLLL3qZd0FBAd588014enpi5cqVWp3X3r17MXnyZK3Og55O/GU7kR5t374dtra2OH36tOK3KdoyYsQIjBgxQqvzoKcTj0iIWkl1dXWzx8nNzYWbm5vaRUQulzd7HkTaxkJCBikgIACbN29GaGgovLy88O6776KiogIAsGvXLrzxxhtKr3d3d8fNmzcBAFFRUYiNjcXf//53eHp6Yty4ccjPz8dHH30Eb29vvPbaa7hw4YLS+OfOncOwYcPg7e2NhQsXKuYF1D7MauTIkZBIJBg3bhwuXbqklHPTpk0IDQ1Fr169Gi0mp0+fxujRo+Hl5YXRo0fj9OnTipxJSUnYvHkzPD09G+1ei4qKQkxMDKZMmYJevXohIyMDeXl5mDVrFnr37o2AgABs2bIFAJCXl4eePXvi3r17ivEvXLgAX19fVFVVNVhuV69eRUREBHx8fBAcHIzU1FQAtXcVkEgkqKmpAQAsXrwYffr0UYw3f/58/O///q/iswgMDISnpycCAgKwd+/exj5OetI1+8bzRDrg7+8vjB49Wrhz545w9+5d4bXXXhO+/fZbQRAE4ccffxTGjRun9PoXX3xRuHHjhiAIgrBgwQLBx8dHOHfunFBeXi5MmDBB8Pf3F3bv3i1UV1cLq1atEsaPH680r+HDhwu5ubnC3bt3hbCwMGHVqlWCINQ+/Kh3797C2bNnherqamHXrl2Cv7+/UFFRoRh3xIgRQm5urvDw4cMG7+Pu3buCRCIRdu/eLVRVVQn79u0TJBKJUFRUpMhaN6/GLFiwQHj11VeFzMxMQS6XC2VlZcLrr78urF27VqioqBBu3bolBAQECEePHhUEofZBRdu3b1eMv3LlSuGDDz5osNxKS0uFgQMHCjt37hSqqqqE8+fPCz4+PkJ2drYgCIIwaNAg4dy5c4IgCMKQIUOEgIAA4cqVK4q2//znP0Jpaang6ekpXL16VRAEQcjLy1OMT08XHpGQwZowYQKcnJxgY2MDf39/XLx4Ue1xg4KC8Je//AVmZmYICgqCmZkZRo0aBZFIhGHDhjWY1ptvvgmxWAwbGxvMmDFDcT+mH374AWFhYXjllVcgEonw+uuvo127djh79qxSTrFYrLiXVH1HjhxBly5dMGrUKMWdXbt164bDhw+r/V4CAwPh5eUFY2NjZGdno6ioCJGRkTA1NUXnzp0xduxYxdFEaGio4iZ8giAgNTUVoaGhjeZycXHB6NGjYWJigh49eiA4OBhpaWkAAG9vb5w8eRL5+fkAgODgYPz++++4ffs2SkpK0L17dwCAsbExLl++jPLycjg6OuKFF15Q+33Rk4Mn28lgOTg4KP5tYWEBmUym9rj29vaKf5ubm6Njx45Kfz/6DJH6t852dnZWzCs3NxdJSUnYunWror2qqkopS1O33ZbJZHB2dlYaVndLcHXVn35OTg5kMhkkEolimFwuV/wdHByMuLg45OXl4ebNmzAyMlJ6bf3pZGVlNZhO3cl4Hx8fHDx4EE5OTvD29oavry/27NkDMzMzSCQSGBsbw9LSEqtXr8b//M//YPHixXj11VexYMECuLm5qf3e6MnAQkJtjoWFBcrLyxV/1+01a6L+0+pyc3Ph6OgIoHYjPn36dMyYMUPluE2dKHd0dERubm6DeQ0YMKBFOcViMVxdXZGent5ou7W1Nfr164effvoJ165dw/DhwxvNJxaL4e3tjcTExEan4+3tjY8//hidOnWCt7c3vLy8EBMTAzMzM3h7eyteN2DAAAwYMADl5eVYs2YNPvjgA3z77bctem/UdrFri9qc7t274/Lly7h48SIqKiqwdu1ajaf57bff4s6dO7h37x42btyIYcOGAQDGjBmD77//Hv/+978hCALKyspw5MgRtZ9aN2jQINy4cQP79u1DdXU1UlNTceXKFfj5+bUoZ8+ePWFlZYVNmzahvLwccrkc2dnZyMrKUrwmNDQUe/bsQVpaWqPdWgDg5+eHGzduICkpCVVVVaiqqkJWVhauXr0KAOjatSvMzMywd+9eeHt7w8rKCvb29khLS1MUkoKCAhw8eBBlZWUwNTWFpaWl0nM/6OnBQkJtznPPPYeZM2di0qRJGDJkiOKJhZoICQnB5MmTMXjwYHTu3FlxBPLyyy8jLi4OS5cuhbe3N4YMGYJdu3apPV1bW1skJCQgMTERvr6++Oqrr5CQkNDih6WJRCJs2LABly5dQmBgIHr37o3o6GilwhYQEIAbN26gY8eOinMZj7KyssLmzZuRmpqKAQMGoH///vj0009RWVmpeI2Pjw9sbGwUXXM+Pj4QBAEvvfQSgNpnsCcmJmLAgAHw8fHByZMnERMT06L3RW0bn0dCREQa4REJERFphIWEiIg0wkJCREQaYSEhIiKNsJAQEZFGWEiIiEgjLCRERKQRFhIiItIICwkREWnk/wDoFYOF2x4wLAAAAABJRU5ErkJggg==\n",
      "text/plain": [
       "<Figure size 432x288 with 1 Axes>"
      ]
     },
     "metadata": {},
     "output_type": "display_data"
    },
    {
     "name": "stdout",
     "output_type": "stream",
     "text": [
      "=========== T-testing feature t between the two study groups ==========\n",
      "Ttest_indResult(statistic=-108.61634472617517, pvalue=0.0)\n",
      "variance ratio = 0.21144583355756907\n"
     ]
    }
   ],
   "source": [
    "# number of reviews\n",
    "ax = sns.distplot(members['nbr_reviews'], bins=40, kde=False);\n",
    "ax.set_yscale('log')\n",
    "ax.set(title='Distribution of the number of reviews by users (log scale)', xlabel='number of reviews', ylabel='number of users')\n",
    "plt.show()\n",
    "\n",
    "\n",
    "# get the feature of source nodes in different signs of edges\n",
    "pos_edge = status_dataset['nbr_reviews1'][status_dataset['Sign']==1]\n",
    "neg_edge = status_dataset['nbr_reviews1'][status_dataset['Sign']==-1]\n",
    "\n",
    "\n",
    "print('=========== T-testing feature t between the two study groups ==========')\n",
    "F = np.var(pos_edge)/np.var(neg_edge)\n",
    "print(scipy.stats.ttest_ind(pos_edge, neg_edge, equal_var = False))\n",
    "print(f'variance ratio = {F}')"
   ]
  },
  {
   "cell_type": "code",
   "execution_count": 53,
   "metadata": {},
   "outputs": [
    {
     "data": {
      "image/png": "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\n",
      "text/plain": [
       "<Figure size 432x288 with 1 Axes>"
      ]
     },
     "metadata": {},
     "output_type": "display_data"
    },
    {
     "name": "stdout",
     "output_type": "stream",
     "text": [
      "=========== T-testing feature t between the two study groups ==========\n",
      "Ttest_indResult(statistic=70.6487303866129, pvalue=0.0)\n",
      "variance ratio = 0.8213747874997375\n"
     ]
    }
   ],
   "source": [
    "# average ratings\n",
    "ax = sns.distplot(members['avg_ratings'], bins=40, kde=False);\n",
    "ax.set(title='Distribution of mean rating', xlabel='mean rating', ylabel='number of users')\n",
    "plt.show()\n",
    "\n",
    "pos_edge = status_dataset['avg_ratings1'][status_dataset['Sign']==1]\n",
    "neg_edge = status_dataset['avg_ratings1'][status_dataset['Sign']==-1]\n",
    "\n",
    "print('=========== T-testing feature t between the two study groups ==========')\n",
    "F = np.var(pos_edge)/np.var(neg_edge)\n",
    "print(scipy.stats.ttest_ind(pos_edge, neg_edge, equal_var = False))\n",
    "print(f'variance ratio = {F}')"
   ]
  },
  {
   "cell_type": "code",
   "execution_count": 54,
   "metadata": {},
   "outputs": [
    {
     "data": {
      "image/png": "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\n",
      "text/plain": [
       "<Figure size 432x288 with 1 Axes>"
      ]
     },
     "metadata": {},
     "output_type": "display_data"
    },
    {
     "name": "stdout",
     "output_type": "stream",
     "text": [
      "=========== T-testing feature t between the two study groups ==========\n",
      "Ttest_indResult(statistic=16.587521007361445, pvalue=1.3423187497541838e-61)\n",
      "variance ratio = 1.7553608580923625\n"
     ]
    }
   ],
   "source": [
    "# anonymity frequency\n",
    "ax = sns.distplot(members['anonymity_freq'], bins=40, kde=False);\n",
    "ax.set_yscale('log')\n",
    "ax.set(title='Distribution of anonymity frequency (log scale)', xlabel='anonymity frequency', ylabel='number of users')\n",
    "plt.show()\n",
    "\n",
    "pos_edge = status_dataset['anonymity_freq1'][status_dataset['Sign']==1]\n",
    "neg_edge = status_dataset['anonymity_freq1'][status_dataset['Sign']==-1]\n",
    "\n",
    "print('=========== T-testing feature t between the two study groups ==========')\n",
    "F = np.var(pos_edge)/np.var(neg_edge)\n",
    "print(scipy.stats.ttest_ind(pos_edge, neg_edge, equal_var = False))\n",
    "print(f'variance ratio = {F}')"
   ]
  },
  {
   "cell_type": "code",
   "execution_count": 55,
   "metadata": {},
   "outputs": [
    {
     "data": {
      "image/png": "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\n",
      "text/plain": [
       "<Figure size 432x288 with 1 Axes>"
      ]
     },
     "metadata": {},
     "output_type": "display_data"
    },
    {
     "name": "stdout",
     "output_type": "stream",
     "text": [
      "=========== T-testing feature t between the two study groups ==========\n",
      "Ttest_indResult(statistic=53.727755547059466, pvalue=0.0)\n",
      "variance ratio = 0.9639076043166506\n"
     ]
    }
   ],
   "source": [
    "# sensationalism\n",
    "ax = sns.distplot(members['sensationalism'], bins=20, kde=False);\n",
    "ax.set(title='Distribution of sensationalism', xlabel='sensationalism', ylabel='number of users')\n",
    "plt.show()\n",
    "\n",
    "pos_edge = status_dataset['sensationalism1'][status_dataset['Sign']==1]\n",
    "neg_edge = status_dataset['sensationalism1'][status_dataset['Sign']==-1]\n",
    "\n",
    "print('=========== T-testing feature t between the two study groups ==========')\n",
    "F = np.var(pos_edge)/np.var(neg_edge)\n",
    "print(scipy.stats.ttest_ind(pos_edge, neg_edge, equal_var = False))\n",
    "print(f'variance ratio = {F}')"
   ]
  },
  {
   "cell_type": "markdown",
   "metadata": {},
   "source": [
    "At first glance, the features nbr_reviews, nbr_articles and sensationalism seem to follow a power-law decay. Let's plot their log log plot to see if it is the case and if we will use their log distribution in the model later on."
   ]
  },
  {
   "cell_type": "code",
   "execution_count": 57,
   "metadata": {},
   "outputs": [
    {
     "data": {
      "image/png": "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\n",
      "text/plain": [
       "<Figure size 1440x360 with 3 Axes>"
      ]
     },
     "metadata": {},
     "output_type": "display_data"
    }
   ],
   "source": [
    "# verify if nbr_reviews and nbr_articles are showing power law distribution\n",
    "fig = plt.figure(figsize=(20, 5))\n",
    "\n",
    "# number of reviews\n",
    "ax1 =  plt.subplot(131)\n",
    "ax1 = sns.distplot(members['nbr_reviews'], bins=40, kde=False);\n",
    "ax1.set_yscale('log')\n",
    "ax1.set_xscale('log')\n",
    "ax1.set(title='Distribution of the number of reviews by users', xlabel='number of reviews(log)', ylabel='number of users(log)')\n",
    "\n",
    "# number of articles\n",
    "ax2 =  plt.subplot(132)\n",
    "ax2 = sns.distplot(members['nbr_articles'], bins=40, kde=False);\n",
    "ax2.set_yscale('log')\n",
    "ax2.set_xscale('log')\n",
    "ax2.set(title='Distribution of the number of articles by users', xlabel='number of articles(log)', ylabel='number of users(log)')\n",
    "\n",
    "# sensationalism\n",
    "ax2 =  plt.subplot(133)\n",
    "ax2 = sns.distplot(members['sensationalism'], bins=40, kde=False);\n",
    "ax2.set_yscale('log')\n",
    "ax2.set_xscale('log')\n",
    "ax2.set(title='Distribution of sensationalism by users', xlabel='sensationalism score (log)', ylabel='number of users(log)')\n",
    "fig.suptitle('log-log analysis')\n",
    "plt.show()"
   ]
  },
  {
   "cell_type": "markdown",
   "metadata": {},
   "source": [
    "We can observe a straight line on the highest values for the three plots, which motivates our log trans"
   ]
  },
  {
   "cell_type": "markdown",
   "metadata": {},
   "source": [
    "## 3. Building the model"
   ]
  },
  {
   "cell_type": "code",
   "execution_count": 58,
   "metadata": {},
   "outputs": [],
   "source": [
    "from statsmodels.stats import diagnostic\n",
    "import statsmodels.formula.api as smf\n",
    "from sklearn import preprocessing\n",
    "from sklearn.preprocessing import PowerTransformer\n",
    "from sklearn.model_selection import train_test_split\n",
    "from sklearn.metrics import (confusion_matrix,  accuracy_score) \n",
    "from sklearn.linear_model import LogisticRegression\n",
    "from sklearn.metrics import precision_recall_fscore_support\n",
    "from sklearn.metrics import plot_confusion_matrix"
   ]
  },
  {
   "cell_type": "code",
   "execution_count": 22,
   "metadata": {},
   "outputs": [],
   "source": [
    "### function to measure mean performance and confidence intervals\n",
    "def get_mean_ci(scores, N, gamma=0.8):\n",
    "    \n",
    "    mean_val = np.mean(scores)\n",
    "    sorted_devs = [np.absolute(x-mean_val) for x in scores]\n",
    "    sorted_devs.sort()\n",
    "    \n",
    "    ci = sorted_devs[int(gamma*N)]\n",
    "    return mean_val, ci\n",
    "    \n",
    "\n",
    "# function for cross-validation\n",
    "def cross_validate_data(dataset, N, features):\n",
    "    X = dataset\n",
    "    \n",
    "    ### perform the k-crossval split\n",
    "    kf = KFold(n_splits=N, shuffle = True, random_state=10)\n",
    "    kf.get_n_splits(X)\n",
    "    f1_scores = []\n",
    "    \n",
    "    ### save the model with the best f1 score\n",
    "    best_f1 = 0\n",
    "    best_model = None\n",
    "    test_set = None\n",
    "    \n",
    "    for train_index, test_index in kf.split(X):\n",
    "        X_train, X_test = X.iloc[train_index], X.iloc[test_index]\n",
    "        \n",
    "        ### train the model with weighted loss due to class imbalance (-> show this in a cell before)\n",
    "        log_reg = LogisticRegression(random_state=0, class_weight={0: 3, 1: 1}).fit(X_train[features], X_train[\"Sign\"])\n",
    "        \n",
    "        \n",
    "        ### prediction and calculate precision, recall and f1_score\n",
    "        pred_rand = log_reg.predict(X_test[features])\n",
    "        pred_rand = list(map(round, pred_rand)) \n",
    "        p_r_f = precision_recall_fscore_support(X_test['Sign'], predic, average='weighted')\n",
    "        \n",
    "        f1_score = p_r_f[2]\n",
    "        \n",
    "        if(f1_score > best_f1):\n",
    "            best_f1 = f1_score\n",
    "            best_model = log_reg\n",
    "            test_set = X_test.copy()\n",
    "        \n",
    "        f1_scores.append(f1_score)\n",
    "    \n",
    "    ### calculate mean f1_score and confidence intervals\n",
    "    mean_f1, ci_f1 = get_mean_ci(f1_scores, N)\n",
    "    \n",
    "    return best_model, test_set, best_f1, mean_f1, ci_f1"
   ]
  },
  {
   "cell_type": "code",
   "execution_count": 19,
   "metadata": {},
   "outputs": [
    {
     "data": {
      "text/html": [
       "<div>\n",
       "<style scoped>\n",
       "    .dataframe tbody tr th:only-of-type {\n",
       "        vertical-align: middle;\n",
       "    }\n",
       "\n",
       "    .dataframe tbody tr th {\n",
       "        vertical-align: top;\n",
       "    }\n",
       "\n",
       "    .dataframe thead th {\n",
       "        text-align: right;\n",
       "    }\n",
       "</style>\n",
       "<table border=\"1\" class=\"dataframe\">\n",
       "  <thead>\n",
       "    <tr style=\"text-align: right;\">\n",
       "      <th></th>\n",
       "      <th>node1</th>\n",
       "      <th>node2</th>\n",
       "      <th>Sign</th>\n",
       "      <th>Creation</th>\n",
       "      <th>type</th>\n",
       "      <th>nbr_articles1</th>\n",
       "      <th>avg_ratings1</th>\n",
       "      <th>anonymity_freq1</th>\n",
       "      <th>sensationalism1</th>\n",
       "      <th>nbr_reviews1</th>\n",
       "      <th>nbr_articles2</th>\n",
       "      <th>avg_ratings2</th>\n",
       "      <th>sensationalism2</th>\n",
       "      <th>nbr_reviews2</th>\n",
       "    </tr>\n",
       "  </thead>\n",
       "  <tbody>\n",
       "    <tr>\n",
       "      <th>0</th>\n",
       "      <td>209227652</td>\n",
       "      <td>482665</td>\n",
       "      <td>1.0</td>\n",
       "      <td>2001/01/10</td>\n",
       "      <td>[3, 1, 11, 9]</td>\n",
       "      <td>1.386294</td>\n",
       "      <td>5.0</td>\n",
       "      <td>0.0</td>\n",
       "      <td>0.174961</td>\n",
       "      <td>2.833213</td>\n",
       "      <td>3.555348</td>\n",
       "      <td>4.449219</td>\n",
       "      <td>0.280825</td>\n",
       "      <td>5.549076</td>\n",
       "    </tr>\n",
       "  </tbody>\n",
       "</table>\n",
       "</div>"
      ],
      "text/plain": [
       "       node1   node2  Sign    Creation           type  nbr_articles1  \\\n",
       "0  209227652  482665   1.0  2001/01/10  [3, 1, 11, 9]       1.386294   \n",
       "\n",
       "   avg_ratings1  anonymity_freq1  sensationalism1  nbr_reviews1  \\\n",
       "0           5.0              0.0         0.174961      2.833213   \n",
       "\n",
       "   nbr_articles2  avg_ratings2  sensationalism2  nbr_reviews2  \n",
       "0       3.555348      4.449219         0.280825      5.549076  "
      ]
     },
     "execution_count": 19,
     "metadata": {},
     "output_type": "execute_result"
    }
   ],
   "source": [
    "### log_transformation for power-law features\n",
    "\n",
    "features_log_scale = ['nbr_articles1', 'nbr_articles2', 'nbr_reviews1', 'nbr_reviews2', 'sensationalism1', 'sensationalism2']\n",
    "\n",
    "status_dataset_norm = status_dataset.copy()\n",
    "for f in features_log_scale:\n",
    "    status_dataset_norm[f] = np.log(status_dataset_norm[f] + 1)\n",
    "status_dataset_norm['Sign'] = (status_dataset['Sign'] + 1)/2\n",
    "\n",
    "status_dataset_norm.head(1)"
   ]
  },
  {
   "cell_type": "code",
   "execution_count": 20,
   "metadata": {},
   "outputs": [],
   "source": [
    "### normalizing the data to (mean=0, std=1)\n",
    "\n",
    "features = ['nbr_articles1', 'nbr_articles2', 'nbr_reviews1', 'nbr_reviews2', 'avg_ratings1', 'avg_ratings2', 'sensationalism1', 'sensationalism2', 'anonymity_freq1']\n",
    "\n",
    "scaler = preprocessing.StandardScaler()\n",
    "scaled_df = scaler.fit_transform(status_dataset_norm[features])\n",
    "status_dataset_norm[features] = pd.DataFrame(scaled_df, columns=features)"
   ]
  },
  {
   "cell_type": "code",
   "execution_count": 24,
   "metadata": {},
   "outputs": [
    {
     "name": "stdout",
     "output_type": "stream",
     "text": [
      "Average Weighted F1-Score:  0.945 +/- 0.00048\n"
     ]
    }
   ],
   "source": [
    "### getting the best model using 5-fold cross validation function\n",
    "\n",
    "best_model, test_set, best_f1, mean_f1, ci_f1 = cross_validate_data(status_dataset_norm, 10, features)\n",
    "print(\"Average Weighted F1-Score: \", np.round(mean_f1, 3), \"+/-\", np.round(ci_f1, 5))"
   ]
  },
  {
   "cell_type": "code",
   "execution_count": 25,
   "metadata": {},
   "outputs": [
    {
     "name": "stdout",
     "output_type": "stream",
     "text": [
      "nbr_articles1 : -0.245\n",
      "nbr_articles2 : -0.073\n",
      "nbr_reviews1 : -0.979\n",
      "nbr_reviews2 : 0.48\n",
      "avg_ratings1 : 1.369\n",
      "avg_ratings2 : -0.119\n",
      "sensationalism1 : 1.316\n",
      "sensationalism2 : -0.71\n",
      "anonymity_freq1 : -0.101\n"
     ]
    }
   ],
   "source": [
    "### interpreting model coefficients\n",
    "\n",
    "for i in range(len(features)):\n",
    "    print(features[i],\":\", np.round(best_model.coef_[0][i], 3))"
   ]
  },
  {
   "cell_type": "code",
   "execution_count": 26,
   "metadata": {},
   "outputs": [],
   "source": [
    "### evaluating best model performance\n",
    "\n",
    "pred_rand = best_model.predict(test_set[features])\n",
    "pred_rand = list(map(round, pred_rand)) \n",
    "p_r_f = precision_recall_fscore_support(test_set['Sign'], pred_rand, average=None)[:3]"
   ]
  },
  {
   "cell_type": "code",
   "execution_count": 27,
   "metadata": {},
   "outputs": [
    {
     "name": "stdout",
     "output_type": "stream",
     "text": [
      "Precision\n",
      "Class 0:  0.6645894428152492\n",
      "Class 1:  0.9653203150186525\n"
     ]
    }
   ],
   "source": [
    "### precision values\n",
    "print(\"Precision\")\n",
    "print(\"Class 0: \", p_r_f[0][0])\n",
    "print(\"Class 1: \", p_r_f[0][1])"
   ]
  },
  {
   "cell_type": "code",
   "execution_count": 28,
   "metadata": {},
   "outputs": [
    {
     "name": "stdout",
     "output_type": "stream",
     "text": [
      "Recall\n",
      "Class 0:  0.5462488701416089\n",
      "Class 1:  0.9786389634644567\n"
     ]
    }
   ],
   "source": [
    "### recall values\n",
    "\n",
    "print(\"Recall\")\n",
    "print(\"Class 0: \", p_r_f[1][0])\n",
    "print(\"Class 1: \", p_r_f[1][1])"
   ]
  },
  {
   "cell_type": "code",
   "execution_count": 29,
   "metadata": {},
   "outputs": [
    {
     "name": "stdout",
     "output_type": "stream",
     "text": [
      "F1_scores\n",
      "Class 0:  0.5996361832313544\n",
      "Class 1:  0.9719340142126802\n"
     ]
    }
   ],
   "source": [
    "### f1_score values\n",
    "\n",
    "print(\"F1_scores\")\n",
    "print(\"Class 0: \", p_r_f[2][0])\n",
    "print(\"Class 1: \", p_r_f[2][1])"
   ]
  },
  {
   "cell_type": "code",
   "execution_count": 32,
   "metadata": {},
   "outputs": [
    {
     "data": {
      "image/png": "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\n",
      "text/plain": [
       "<Figure size 432x288 with 2 Axes>"
      ]
     },
     "metadata": {},
     "output_type": "display_data"
    }
   ],
   "source": [
    "### confusion matrix\n",
    "plt.rcParams.update({'font.size': 3})\n",
    "sns.set(font_scale=1.0)\n",
    "titles_options = [(\"Normalized confusion matrix\", 'true')]\n",
    "for title, normalize in titles_options:\n",
    "    disp = plot_confusion_matrix(best_model, test_set[features], test_set[\"Sign\"],\n",
    "                                 display_labels=[\"-ve edge\",\"+ve edge\"],\n",
    "                                 cmap=plt.cm.Blues,\n",
    "                                 normalize=normalize,  )\n",
    "    disp.ax_.set_title(title)"
   ]
  }
 ],
 "metadata": {
  "kernelspec": {
   "display_name": "Python 3",
   "language": "python",
   "name": "python3"
  },
  "language_info": {
   "codemirror_mode": {
    "name": "ipython",
    "version": 3
   },
   "file_extension": ".py",
   "mimetype": "text/x-python",
   "name": "python",
   "nbconvert_exporter": "python",
   "pygments_lexer": "ipython3",
   "version": "3.8.5"
  }
 },
 "nbformat": 4,
 "nbformat_minor": 4
}
